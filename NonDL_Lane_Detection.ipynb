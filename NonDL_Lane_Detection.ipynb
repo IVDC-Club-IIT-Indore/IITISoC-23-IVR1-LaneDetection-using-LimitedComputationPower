{
  "nbformat": 4,
  "nbformat_minor": 0,
  "metadata": {
    "colab": {
      "provenance": [],
      "include_colab_link": true
    },
    "kernelspec": {
      "name": "python3",
      "display_name": "Python 3"
    },
    "language_info": {
      "name": "python"
    }
  },
  "cells": [
    {
      "cell_type": "markdown",
      "metadata": {
        "id": "view-in-github",
        "colab_type": "text"
      },
      "source": [
        "<a href=\"https://colab.research.google.com/github/arjun-593/IITISoC-23-IVR1-LaneDetection-using-LimitedComputationPower/blob/main/NonDL_Lane_Detection.ipynb\" target=\"_parent\"><img src=\"https://colab.research.google.com/assets/colab-badge.svg\" alt=\"Open In Colab\"/></a>"
      ]
    },
    {
      "cell_type": "code",
      "source": [
        "!pip install moviepy"
      ],
      "metadata": {
        "id": "JedJf-avPWdl"
      },
      "execution_count": 27,
      "outputs": []
    },
    {
      "cell_type": "code",
      "source": [
        "import matplotlib.pyplot as plt\n",
        "import matplotlib.image as mpimg\n",
        "import numpy as np\n",
        "import cv2\n",
        "import math"
      ],
      "metadata": {
        "id": "ClHfpFvQDrWs"
      },
      "execution_count": null,
      "outputs": []
    },
    {
      "cell_type": "code",
      "source": [
        "def convert_to_gray(img):\n",
        "    return cv2.cvtColor(img, cv2.COLOR_RGB2GRAY)\n",
        "\n",
        "\n",
        "def edge_detection(img, low_threshold, high_threshold):\n",
        "    \"\"\"Applies the Canny transform\"\"\"\n",
        "    return cv2.Canny(img, low_threshold, high_threshold)\n",
        "\n",
        "\n",
        "def gaussian_blur(img, kernel_size):\n",
        "    \"\"\"Applies a Gaussian Noise kernel\"\"\"\n",
        "    return cv2.GaussianBlur(img, (kernel_size, kernel_size), 0)\n",
        "\n",
        "\n",
        "\n",
        "def region_of_interest(img, vertices):\n",
        "\n",
        "    #defining a blank mask to start with\n",
        "    mask = np.zeros_like(img)\n",
        "\n",
        "    #defining a 3 channel or 1 channel color to fill the mask with depending on the input image\n",
        "    if len(img.shape) > 2:\n",
        "        channel_count = img.shape[2]\n",
        "        ignore_mask_color = (255,) * channel_count\n",
        "    else:\n",
        "        ignore_mask_color = 255\n",
        "\n",
        "\n",
        "    cv2.fillPoly(mask, vertices, ignore_mask_color)\n",
        "\n",
        "    #returning the image only where mask pixels are nonzero\n",
        "    masked_image = cv2.bitwise_and(img, mask)\n",
        "    return masked_image"
      ],
      "metadata": {
        "id": "B8htuuevPWgE"
      },
      "execution_count": 28,
      "outputs": []
    },
    {
      "cell_type": "code",
      "source": [
        "def draw_lines(img, lines, color=[255, 0, 0], thickness=10):\n",
        "  for line in lines:\n",
        "        for x1,y1,x2,y2 in line:\n",
        "            cv2.line(img, (x1, y1), (x2, y2), color, thickness)\n",
        "\n",
        "\n",
        "def assign_slopes_intercepts(image,lines):\n",
        "\n",
        "    img = image.copy()\n",
        "    poly_vertices = []\n",
        "    order = [0,1,3,2]\n",
        "\n",
        "    left_lines = [] # Like /\n",
        "    right_lines = [] # Like \\\n",
        "    for line in lines:\n",
        "        for x1,y1,x2,y2 in line:\n",
        "\n",
        "            if x1 == x2:\n",
        "                pass #Vertical Lines\n",
        "            else:\n",
        "                m = (y2 - y1) / (x2 - x1)\n",
        "                c = y1 - m * x1\n",
        "\n",
        "                if m < 0:\n",
        "                    left_lines.append((m,c))\n",
        "                elif m >= 0:\n",
        "                    right_lines.append((m,c))\n",
        "\n",
        "    if left_lines:\n",
        "        left_line = np.mean(left_lines, axis=0)\n",
        "    else:\n",
        "        left_line = (0.001, 0)  # Default value if no lines found\n",
        "\n",
        "    if right_lines:\n",
        "        right_line = np.mean(right_lines, axis=0)\n",
        "    else:\n",
        "        right_line = (0.001, 0)  # Default value if no lines found\n",
        "\n",
        "    print(left_line, right_line)\n",
        "\n",
        "    for slope, intercept in [left_line, right_line]:\n",
        "\n",
        "        #getting complete height of image in y1\n",
        "        rows, cols = image.shape[:2]\n",
        "        y1= int(rows) #image.shape[0]\n",
        "\n",
        "        #taking y2 upto 60% of actual height or 60% of y1\n",
        "        y2= int(rows*0.6) #int(0.6*y1)\n",
        "\n",
        "        #we know that equation of line is y=mx +c so we can write it x=(y-c)/m\n",
        "\n",
        "        x1=int((y1-intercept)/slope)\n",
        "        x2=int((y2-intercept)/slope)\n",
        "        poly_vertices.append((x1, y1))\n",
        "        poly_vertices.append((x2, y2))\n",
        "        draw_lines(img, np.array([[[x1,y1,x2,y2]]]))\n",
        "\n",
        "    poly_vertices = [poly_vertices[i] for i in order]\n",
        "    cv2.fillPoly(img, pts = np.array([poly_vertices],'int32'), color = (0,255,0))\n",
        "    return cv2.addWeighted(image,0.7,img,0.4,0.)\n",
        "\n",
        "    #cv2.polylines(img,np.array([poly_vertices],'int32'), True, (0,0,255), 10)\n",
        "    #print(poly_vertices)\n"
      ],
      "metadata": {
        "id": "adw4q_AS4EIR"
      },
      "execution_count": 29,
      "outputs": []
    },
    {
      "cell_type": "code",
      "source": [
        "def hough_lines(img, rho, theta, threshold, min_line_len, max_line_gap):\n",
        "\n",
        "    lines = cv2.HoughLinesP(img, rho, theta, threshold, np.array([]), minLineLength=min_line_len, maxLineGap=max_line_gap)\n",
        "    line_img = np.zeros((img.shape[0], img.shape[1], 3), dtype=np.uint8)\n",
        "\n",
        "    line_img = assign_slopes_intercepts(line_img,lines)\n",
        "    return line_img\n",
        "\n",
        "\n",
        "\n",
        "def weighted_img(img, initial_img, α=0.1, β=1., γ=0.):\n",
        "\n",
        "    lines_edges = cv2.addWeighted(initial_img, α, img, β, γ)\n",
        "\n",
        "    return lines_edges\n",
        "\n",
        "\n",
        "\n",
        "\n",
        "def quadrilateral_vertices(image):\n",
        "    rows, cols = image.shape[:2]\n",
        "    bottom_left  = [cols*0.15, rows]\n",
        "    top_left     = [cols*0.45, rows*0.6]\n",
        "    bottom_right = [cols*0.95, rows]\n",
        "    top_right    = [cols*0.55, rows*0.6]\n",
        "\n",
        "    ver = np.array([[bottom_left, top_left, top_right, bottom_right]], dtype=np.int32)\n",
        "    return ver"
      ],
      "metadata": {
        "id": "GWj9yKh5ohD6"
      },
      "execution_count": 30,
      "outputs": []
    },
    {
      "cell_type": "code",
      "source": [
        "def lane_finding_pipeline(image):\n",
        "\n",
        "    #Grayscale\n",
        "    gray_img = convert_to_gray(image)\n",
        "\n",
        "    #Gaussian Smoothing\n",
        "    smoothed_img = gaussian_blur(img = gray_img, kernel_size = 5)\n",
        "    #Canny Edge Detection\n",
        "    canny_img = edge_detection(img = smoothed_img, low_threshold = 180, high_threshold = 240)\n",
        "    #Masked Image Within a Polygon\n",
        "    masked_img = region_of_interest(img = canny_img, vertices = quadrilateral_vertices(image))\n",
        "    #Hough Transform Lines\n",
        "    houghed_lines = hough_lines(img = masked_img, rho = 1, theta = np.pi/180, threshold = 20, min_line_len = 20, max_line_gap = 180)\n",
        "    #Draw lines on edges\n",
        "    output = weighted_img(img = houghed_lines, initial_img = image, α=0.8, β=1., γ=0.)\n",
        "\n",
        "    return output"
      ],
      "metadata": {
        "id": "VoJyIptMohHU"
      },
      "execution_count": 31,
      "outputs": []
    },
    {
      "cell_type": "code",
      "source": [
        "# Import everything needed to edit/save/watch video clips\n",
        "from moviepy.editor import VideoFileClip\n",
        "from IPython.display import HTML"
      ],
      "metadata": {
        "id": "Z_hJhoCUrx43"
      },
      "execution_count": 33,
      "outputs": []
    },
    {
      "cell_type": "code",
      "source": [
        "white_output = './lanes_clip.mp4'\n",
        "clip1 = VideoFileClip(\"test_videos/lanes_clip.mp4\")\n",
        "white_clip = clip1.fl_image(lane_finding_pipeline) #NOTE: this function expects color images!!\n",
        "%time white_clip.write_videofile(white_output, audio=False)"
      ],
      "metadata": {
        "id": "gXa0gXSIryEp"
      },
      "execution_count": 34,
      "outputs": []
    },
    {
      "cell_type": "code",
      "source": [],
      "metadata": {
        "id": "lNlZmuPAryGd"
      },
      "execution_count": 34,
      "outputs": []
    }
  ]
}