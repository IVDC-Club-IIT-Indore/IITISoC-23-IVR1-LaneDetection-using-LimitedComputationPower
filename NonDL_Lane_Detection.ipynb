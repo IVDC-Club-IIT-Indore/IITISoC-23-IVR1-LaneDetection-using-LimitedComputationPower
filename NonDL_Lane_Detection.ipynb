{
  "nbformat": 4,
  "nbformat_minor": 0,
  "metadata": {
    "colab": {
      "provenance": [],
      "include_colab_link": true
    },
    "kernelspec": {
      "name": "python3",
      "display_name": "Python 3"
    },
    "language_info": {
      "name": "python"
    }
  },
  "cells": [
    {
      "cell_type": "markdown",
      "metadata": {
        "id": "view-in-github",
        "colab_type": "text"
      },
      "source": [
        "<a href=\"https://colab.research.google.com/github/arjun-593/IITISoC-23-IVR1-LaneDetection-using-LimitedComputationPower/blob/main/NonDL_Lane_Detection.ipynb\" target=\"_parent\"><img src=\"https://colab.research.google.com/assets/colab-badge.svg\" alt=\"Open In Colab\"/></a>"
      ]
    },
    {
      "cell_type": "code",
      "source": [
        "import matplotlib.pyplot as plt\n",
        "import matplotlib.image as mpimg\n",
        "import numpy as np\n",
        "import cv2\n",
        "import math"
      ],
      "metadata": {
        "id": "JedJf-avPWdl"
      },
      "execution_count": 27,
      "outputs": []
    },
    {
      "cell_type": "code",
      "source": [
        "def convert_to_gray(img):\n",
        "    return cv2.cvtColor(img, cv2.COLOR_RGB2GRAY)\n",
        "\n",
        "\n",
        "def edge_detection(img, low_threshold, high_threshold):\n",
        "    \"\"\"Applies the Canny transform\"\"\"\n",
        "    return cv2.Canny(img, low_threshold, high_threshold)\n",
        "\n",
        "\n",
        "def gaussian_blur(img, kernel_size):\n",
        "    \"\"\"Applies a Gaussian Noise kernel\"\"\"\n",
        "    return cv2.GaussianBlur(img, (kernel_size, kernel_size), 0)\n",
        "\n",
        "\n",
        "\n",
        "def region_of_interest(img, vertices):\n",
        "\n",
        "    #defining a blank mask to start with\n",
        "    mask = np.zeros_like(img)\n",
        "\n",
        "    #defining a 3 channel or 1 channel color to fill the mask with depending on the input image\n",
        "    if len(img.shape) > 2:\n",
        "        channel_count = img.shape[2]\n",
        "        ignore_mask_color = (255,) * channel_count\n",
        "    else:\n",
        "        ignore_mask_color = 255\n",
        "\n",
        "\n",
        "    cv2.fillPoly(mask, vertices, ignore_mask_color)\n",
        "\n",
        "    #returning the image only where mask pixels are nonzero\n",
        "    masked_image = cv2.bitwise_and(img, mask)\n",
        "    return masked_image"
      ],
      "metadata": {
        "id": "B8htuuevPWgE"
      },
      "execution_count": 28,
      "outputs": []
    },
    {
      "cell_type": "code",
      "source": [
        "def draw_lines(img, lines, color=[255, 0, 0], thickness=10):\n",
        "  for line in lines:\n",
        "        for x1,y1,x2,y2 in line:\n",
        "            cv2.line(img, (x1, y1), (x2, y2), color, thickness)\n",
        "\n",
        "\n",
        "def assign_slopes_intercepts(image,lines):\n",
        "\n",
        "    img = image.copy()\n",
        "    poly_vertices = []\n",
        "    order = [0,1,3,2]\n",
        "\n",
        "    left_lines = [] # Like /\n",
        "    right_lines = [] # Like \\\n",
        "    for line in lines:\n",
        "        for x1,y1,x2,y2 in line:\n",
        "\n",
        "            if x1 == x2:\n",
        "                pass #Vertical Lines\n",
        "            else:\n",
        "                m = (y2 - y1) / (x2 - x1)\n",
        "                c = y1 - m * x1\n",
        "\n",
        "                if m < 0:\n",
        "                    left_lines.append((m,c))\n",
        "                elif m >= 0:\n",
        "                    right_lines.append((m,c))\n",
        "\n",
        "    if left_lines:\n",
        "        left_line = np.mean(left_lines, axis=0)\n",
        "    else:\n",
        "        left_line = (0.001, 0)  # Default value if no lines found\n",
        "\n",
        "    if right_lines:\n",
        "        right_line = np.mean(right_lines, axis=0)\n",
        "    else:\n",
        "        right_line = (0.001, 0)  # Default value if no lines found\n",
        "\n",
        "    print(left_line, right_line)\n",
        "\n",
        "    for slope, intercept in [left_line, right_line]:\n",
        "\n",
        "        #getting complete height of image in y1\n",
        "        rows, cols = image.shape[:2]\n",
        "        y1= int(rows) #image.shape[0]\n",
        "\n",
        "        #taking y2 upto 60% of actual height or 60% of y1\n",
        "        y2= int(rows*0.6) #int(0.6*y1)\n",
        "\n",
        "        #we know that equation of line is y=mx +c so we can write it x=(y-c)/m\n",
        "\n",
        "        x1=int((y1-intercept)/slope)\n",
        "        x2=int((y2-intercept)/slope)\n",
        "        poly_vertices.append((x1, y1))\n",
        "        poly_vertices.append((x2, y2))\n",
        "        draw_lines(img, np.array([[[x1,y1,x2,y2]]]))\n",
        "\n",
        "    poly_vertices = [poly_vertices[i] for i in order]\n",
        "    cv2.fillPoly(img, pts = np.array([poly_vertices],'int32'), color = (0,255,0))\n",
        "    return cv2.addWeighted(image,0.7,img,0.4,0.)\n",
        "\n",
        "    #cv2.polylines(img,np.array([poly_vertices],'int32'), True, (0,0,255), 10)\n",
        "    #print(poly_vertices)\n"
      ],
      "metadata": {
        "id": "adw4q_AS4EIR"
      },
      "execution_count": 29,
      "outputs": []
    },
    {
      "cell_type": "code",
      "source": [
        "def hough_lines(img, rho, theta, threshold, min_line_len, max_line_gap):\n",
        "\n",
        "    lines = cv2.HoughLinesP(img, rho, theta, threshold, np.array([]), minLineLength=min_line_len, maxLineGap=max_line_gap)\n",
        "    line_img = np.zeros((img.shape[0], img.shape[1], 3), dtype=np.uint8)\n",
        "\n",
        "    line_img = assign_slopes_intercepts(line_img,lines)\n",
        "    return line_img\n",
        "\n",
        "\n",
        "\n",
        "def weighted_img(img, initial_img, α=0.1, β=1., γ=0.):\n",
        "\n",
        "    lines_edges = cv2.addWeighted(initial_img, α, img, β, γ)\n",
        "\n",
        "    return lines_edges\n",
        "\n",
        "\n",
        "\n",
        "\n",
        "def quadrilateral_vertices(image):\n",
        "    rows, cols = image.shape[:2]\n",
        "    bottom_left  = [cols*0.15, rows]\n",
        "    top_left     = [cols*0.45, rows*0.6]\n",
        "    bottom_right = [cols*0.95, rows]\n",
        "    top_right    = [cols*0.55, rows*0.6]\n",
        "\n",
        "    ver = np.array([[bottom_left, top_left, top_right, bottom_right]], dtype=np.int32)\n",
        "    return ver"
      ],
      "metadata": {
        "id": "GWj9yKh5ohD6"
      },
      "execution_count": 30,
      "outputs": []
    },
    {
      "cell_type": "code",
      "source": [
        "def lane_finding_pipeline(image):\n",
        "\n",
        "    #Grayscale\n",
        "    gray_img = convert_to_gray(image)\n",
        "\n",
        "    #Gaussian Smoothing\n",
        "    smoothed_img = gaussian_blur(img = gray_img, kernel_size = 5)\n",
        "    #Canny Edge Detection\n",
        "    canny_img = edge_detection(img = smoothed_img, low_threshold = 180, high_threshold = 240)\n",
        "    #Masked Image Within a Polygon\n",
        "    masked_img = region_of_interest(img = canny_img, vertices = quadrilateral_vertices(image))\n",
        "    #Hough Transform Lines\n",
        "    houghed_lines = hough_lines(img = masked_img, rho = 1, theta = np.pi/180, threshold = 20, min_line_len = 20, max_line_gap = 180)\n",
        "    #Draw lines on edges\n",
        "    output = weighted_img(img = houghed_lines, initial_img = image, α=0.8, β=1., γ=0.)\n",
        "\n",
        "    return output"
      ],
      "metadata": {
        "id": "VoJyIptMohHU"
      },
      "execution_count": 31,
      "outputs": []
    },
    {
      "cell_type": "code",
      "source": [
        "!pip install moviepy"
      ],
      "metadata": {
        "colab": {
          "base_uri": "https://localhost:8080/"
        },
        "id": "s_s4ON7rm2lf",
        "outputId": "d21d69e9-61d9-4afc-8963-9177a2ff5c3c"
      },
      "execution_count": 32,
      "outputs": [
        {
          "output_type": "stream",
          "name": "stdout",
          "text": [
            "Looking in indexes: https://pypi.org/simple, https://us-python.pkg.dev/colab-wheels/public/simple/\n",
            "Requirement already satisfied: moviepy in /usr/local/lib/python3.10/dist-packages (1.0.3)\n",
            "Requirement already satisfied: decorator<5.0,>=4.0.2 in /usr/local/lib/python3.10/dist-packages (from moviepy) (4.4.2)\n",
            "Requirement already satisfied: tqdm<5.0,>=4.11.2 in /usr/local/lib/python3.10/dist-packages (from moviepy) (4.65.0)\n",
            "Requirement already satisfied: requests<3.0,>=2.8.1 in /usr/local/lib/python3.10/dist-packages (from moviepy) (2.27.1)\n",
            "Requirement already satisfied: proglog<=1.0.0 in /usr/local/lib/python3.10/dist-packages (from moviepy) (0.1.10)\n",
            "Requirement already satisfied: numpy>=1.17.3 in /usr/local/lib/python3.10/dist-packages (from moviepy) (1.22.4)\n",
            "Requirement already satisfied: imageio<3.0,>=2.5 in /usr/local/lib/python3.10/dist-packages (from moviepy) (2.25.1)\n",
            "Requirement already satisfied: imageio-ffmpeg>=0.2.0 in /usr/local/lib/python3.10/dist-packages (from moviepy) (0.4.8)\n",
            "Requirement already satisfied: pillow>=8.3.2 in /usr/local/lib/python3.10/dist-packages (from imageio<3.0,>=2.5->moviepy) (8.4.0)\n",
            "Requirement already satisfied: urllib3<1.27,>=1.21.1 in /usr/local/lib/python3.10/dist-packages (from requests<3.0,>=2.8.1->moviepy) (1.26.15)\n",
            "Requirement already satisfied: certifi>=2017.4.17 in /usr/local/lib/python3.10/dist-packages (from requests<3.0,>=2.8.1->moviepy) (2022.12.7)\n",
            "Requirement already satisfied: charset-normalizer~=2.0.0 in /usr/local/lib/python3.10/dist-packages (from requests<3.0,>=2.8.1->moviepy) (2.0.12)\n",
            "Requirement already satisfied: idna<4,>=2.5 in /usr/local/lib/python3.10/dist-packages (from requests<3.0,>=2.8.1->moviepy) (3.4)\n"
          ]
        }
      ]
    },
    {
      "cell_type": "code",
      "source": [
        "# Import everything needed to edit/save/watch video clips\n",
        "from moviepy.editor import VideoFileClip\n",
        "from IPython.display import HTML"
      ],
      "metadata": {
        "id": "Z_hJhoCUrx43"
      },
      "execution_count": 33,
      "outputs": []
    },
    {
      "cell_type": "code",
      "source": [
        "white_output = './lanes_clip.mp4'\n",
        "clip1 = VideoFileClip(\"test_videos/lanes_clip\n",
        "\n",
        "\n",
        "\n",
        "\n",
        "\n",
        "\n",
        "\n",
        "\n",
        "\n",
        "                      .mp4\")\n",
        "white_clip = clip1.fl_image(lane_finding_pipeline) #NOTE: this function expects color images!!\n",
        "%time white_clip.write_videofile(white_output, audio=False)"
      ],
      "metadata": {
        "colab": {
          "base_uri": "https://localhost:8080/"
        },
        "id": "qQTNTS6prx7J",
        "outputId": "441b120a-7910-4c8f-c155-9d308b8a0c4c"
      },
      "execution_count": 34,
      "outputs": [
        {
          "output_type": "stream",
          "name": "stderr",
          "text": [
            "\n",
            "\u001b[A\n",
            "t:  16%|█▋        | 79/485 [04:31<00:34, 11.75it/s, now=None]\u001b[A\n",
            "\u001b[A\n",
            "t:  16%|█▋        | 79/485 [04:31<00:34, 11.75it/s, now=None]\u001b[A"
          ]
        },
        {
          "output_type": "stream",
          "name": "stdout",
          "text": [
            "(0.001, 0) [   0.97069416 -270.14171474]\n",
            "Moviepy - Building video ./lanes_clip.mp4.\n",
            "Moviepy - Writing video ./lanes_clip.mp4\n",
            "\n"
          ]
        },
        {
          "output_type": "stream",
          "name": "stderr",
          "text": [
            "t:   0%|          | 5/1297 [00:00<00:30, 42.04it/s, now=None]"
          ]
        },
        {
          "output_type": "stream",
          "name": "stdout",
          "text": [
            "(0.001, 0) [   0.97069416 -270.14171474]\n",
            "(0.001, 0) [   0.95265674 -256.36628099]\n",
            "(0.001, 0) [   0.95661128 -259.91039111]\n",
            "(0.001, 0) [   0.95661128 -259.91039111]\n",
            "(0.001, 0) [   0.95588309 -260.19769785]\n",
            "(0.001, 0) [   0.9857695  -284.09783269]\n",
            "(0.001, 0) [   0.9857695  -284.09783269]\n",
            "(0.001, 0) [   0.95170976 -255.55033539]\n"
          ]
        },
        {
          "output_type": "stream",
          "name": "stderr",
          "text": [
            "t:   1%|          | 15/1297 [00:00<00:32, 39.52it/s, now=None]"
          ]
        },
        {
          "output_type": "stream",
          "name": "stdout",
          "text": [
            "(0.001, 0) [   0.95170976 -255.55033539]\n",
            "(0.001, 0) [   0.94950225 -252.15010995]\n",
            "(0.001, 0) [   0.94950225 -252.15010995]\n",
            "(0.001, 0) [   0.97813185 -274.60078168]\n",
            "(0.001, 0) [   0.98247631 -277.35629435]\n",
            "(0.001, 0) [   0.98247631 -277.35629435]\n",
            "(0.001, 0) [   0.97698051 -270.70565056]\n",
            "(0.001, 0) [   0.97698051 -270.70565056]\n",
            "(0.001, 0) [   0.99106005 -284.27089176]\n"
          ]
        },
        {
          "output_type": "stream",
          "name": "stderr",
          "text": [
            "\rt:   2%|▏         | 20/1297 [00:00<00:32, 39.17it/s, now=None]"
          ]
        },
        {
          "output_type": "stream",
          "name": "stdout",
          "text": [
            "(0.001, 0) [   0.99106005 -284.27089176]\n",
            "(0.001, 0) [   0.98134865 -270.95769783]\n",
            "(0.001, 0) [   0.98134865 -270.95769783]\n",
            "(0.001, 0) [   0.97900007 -268.51504104]\n",
            "(0.001, 0) [   0.97900007 -268.51504104]\n"
          ]
        },
        {
          "output_type": "stream",
          "name": "stderr",
          "text": [
            "\rt:   2%|▏         | 24/1297 [00:00<00:32, 39.02it/s, now=None]"
          ]
        },
        {
          "output_type": "stream",
          "name": "stdout",
          "text": [
            "(0.001, 0) [   0.97900007 -268.51504104]\n",
            "(0.001, 0) [   0.97900007 -268.51504104]\n",
            "(0.001, 0) [   0.97900007 -268.51504104]\n"
          ]
        },
        {
          "output_type": "stream",
          "name": "stderr",
          "text": [
            "\rt:   2%|▏         | 28/1297 [00:00<00:32, 39.01it/s, now=None]"
          ]
        },
        {
          "output_type": "stream",
          "name": "stdout",
          "text": [
            "(0.001, 0) [   0.97900007 -268.51504104]\n",
            "(0.001, 0) [   0.97900007 -268.51504104]\n",
            "(0.001, 0) [   0.97979982 -266.67440582]\n",
            "(0.001, 0) [   0.98743784 -270.80163285]\n",
            "(0.001, 0) [   0.98743784 -270.80163285]\n"
          ]
        },
        {
          "output_type": "stream",
          "name": "stderr",
          "text": [
            "\rt:   2%|▏         | 32/1297 [00:00<00:32, 38.93it/s, now=None]"
          ]
        },
        {
          "output_type": "stream",
          "name": "stdout",
          "text": [
            "(0.001, 0) [   0.98030391 -264.54459213]\n",
            "(0.001, 0) [   0.98030391 -264.54459213]\n",
            "(0.001, 0) [   0.98076078 -264.88156012]\n",
            "(0.001, 0) [   0.97974243 -265.12366059]\n"
          ]
        },
        {
          "output_type": "stream",
          "name": "stderr",
          "text": [
            "\rt:   3%|▎         | 36/1297 [00:00<00:37, 34.00it/s, now=None]"
          ]
        },
        {
          "output_type": "stream",
          "name": "stdout",
          "text": [
            "(0.001, 0) [   0.98717909 -269.75400996]\n"
          ]
        },
        {
          "output_type": "stream",
          "name": "stderr",
          "text": [
            "\rt:   3%|▎         | 40/1297 [00:01<00:41, 30.23it/s, now=None]"
          ]
        },
        {
          "output_type": "stream",
          "name": "stdout",
          "text": [
            "(0.001, 0) [   0.98436374 -267.43300526]\n",
            "(0.001, 0) [   0.98436374 -267.43300526]\n",
            "(0.001, 0) [   1.01645596 -293.96311462]\n",
            "(0.001, 0) [   1.01645596 -293.96311462]\n",
            "(0.001, 0) [   0.99141696 -274.03868978]\n",
            "(0.001, 0) [   0.99141696 -274.03868978]\n"
          ]
        },
        {
          "output_type": "stream",
          "name": "stderr",
          "text": [
            "\rt:   3%|▎         | 44/1297 [00:01<00:47, 26.25it/s, now=None]"
          ]
        },
        {
          "output_type": "stream",
          "name": "stdout",
          "text": [
            "(0.001, 0) [   0.98657551 -270.57312646]\n",
            "(0.001, 0) [   0.98657551 -270.57312646]\n",
            "(0.001, 0) [   0.99776072 -280.2934222 ]\n",
            "(0.001, 0) [   0.99110993 -271.70226264]\n"
          ]
        },
        {
          "output_type": "stream",
          "name": "stderr",
          "text": [
            "\rt:   4%|▎         | 47/1297 [00:01<00:55, 22.38it/s, now=None]"
          ]
        },
        {
          "output_type": "stream",
          "name": "stdout",
          "text": [
            "(0.001, 0) [   0.99110993 -271.70226264]\n",
            "(0.001, 0) [   1.04154792 -316.64845779]\n"
          ]
        },
        {
          "output_type": "stream",
          "name": "stderr",
          "text": [
            "\rt:   4%|▍         | 50/1297 [00:01<01:29, 13.93it/s, now=None]"
          ]
        },
        {
          "output_type": "stream",
          "name": "stdout",
          "text": [
            "(0.001, 0) [   1.04154792 -316.64845779]\n",
            "(0.001, 0) [   0.99177108 -271.1766518 ]\n",
            "(0.001, 0) [   0.99177108 -271.1766518 ]\n"
          ]
        },
        {
          "output_type": "stream",
          "name": "stderr",
          "text": [
            "\rt:   4%|▍         | 52/1297 [00:02<01:33, 13.30it/s, now=None]"
          ]
        },
        {
          "output_type": "stream",
          "name": "stdout",
          "text": [
            "(0.001, 0) [   0.98202775 -259.39748264]\n",
            "(0.001, 0) [   0.99235619 -268.83900709]\n",
            "(0.001, 0) [   0.99612725 -272.69325085]\n"
          ]
        },
        {
          "output_type": "stream",
          "name": "stderr",
          "text": [
            "\rt:   4%|▍         | 54/1297 [00:02<01:38, 12.63it/s, now=None]"
          ]
        },
        {
          "output_type": "stream",
          "name": "stdout",
          "text": [
            "(0.001, 0) [   0.99241583 -267.79202031]\n"
          ]
        },
        {
          "output_type": "stream",
          "name": "stderr",
          "text": [
            "\rt:   4%|▍         | 56/1297 [00:02<01:58, 10.48it/s, now=None]"
          ]
        },
        {
          "output_type": "stream",
          "name": "stdout",
          "text": [
            "(0.001, 0) [   0.99279592 -268.06441837]\n",
            "(0.001, 0) [   1.0149544  -291.63537609]\n"
          ]
        },
        {
          "output_type": "stream",
          "name": "stderr",
          "text": [
            "\rt:   4%|▍         | 58/1297 [00:02<02:19,  8.88it/s, now=None]"
          ]
        },
        {
          "output_type": "stream",
          "name": "stdout",
          "text": [
            "(0.001, 0) [   1.0149544  -291.63537609]\n",
            "(0.001, 0) [   1.00485134 -280.60242979]\n"
          ]
        },
        {
          "output_type": "stream",
          "name": "stderr",
          "text": [
            "t:   5%|▍         | 61/1297 [00:03<02:55,  7.05it/s, now=None]"
          ]
        },
        {
          "output_type": "stream",
          "name": "stdout",
          "text": [
            "(0.001, 0) [   1.00899318 -284.61957064]\n",
            "(0.001, 0) [   1.00899318 -284.61957064]\n",
            "(0.001, 0) [   0.99723243 -276.54474814]\n",
            "(0.001, 0) [   0.99723243 -276.54474814]\n"
          ]
        },
        {
          "output_type": "stream",
          "name": "stderr",
          "text": [
            "t:   5%|▌         | 65/1297 [00:03<02:28,  8.27it/s, now=None]"
          ]
        },
        {
          "output_type": "stream",
          "name": "stdout",
          "text": [
            "(0.001, 0) [   1.00788305 -286.17982835]\n",
            "(0.001, 0) [   1.00788305 -286.17982835]\n",
            "(0.001, 0) [   1.01867533 -296.74709716]\n"
          ]
        },
        {
          "output_type": "stream",
          "name": "stderr",
          "text": [
            "\rt:   5%|▌         | 67/1297 [00:04<02:36,  7.86it/s, now=None]"
          ]
        },
        {
          "output_type": "stream",
          "name": "stdout",
          "text": [
            "(0.001, 0) [   1.01867533 -296.74709716]\n"
          ]
        },
        {
          "output_type": "stream",
          "name": "stderr",
          "text": [
            "\rt:   5%|▌         | 69/1297 [00:04<02:18,  8.85it/s, now=None]"
          ]
        },
        {
          "output_type": "stream",
          "name": "stdout",
          "text": [
            "(0.001, 0) [   1.01357991 -293.73000236]\n",
            "(0.001, 0) [   0.99523971 -274.4041276 ]\n",
            "(0.001, 0) [   0.99523971 -274.4041276 ]\n"
          ]
        },
        {
          "output_type": "stream",
          "name": "stderr",
          "text": [
            "\rt:   5%|▌         | 71/1297 [00:04<01:59, 10.30it/s, now=None]"
          ]
        },
        {
          "output_type": "stream",
          "name": "stdout",
          "text": [
            "(0.001, 0) [   1.00124189 -282.36832855]\n",
            "(0.001, 0) [   1.01026184 -289.10240794]\n",
            "(0.001, 0) [   0.97101867 -255.08750247]\n"
          ]
        },
        {
          "output_type": "stream",
          "name": "stderr",
          "text": [
            "t:   6%|▌         | 75/1297 [00:04<01:59, 10.24it/s, now=None]"
          ]
        },
        {
          "output_type": "stream",
          "name": "stdout",
          "text": [
            "(0.001, 0) [   0.97101867 -255.08750247]\n",
            "(0.001, 0) [   0.98152329 -263.68385144]\n",
            "(0.001, 0) [   0.99712423 -277.13044413]\n"
          ]
        },
        {
          "output_type": "stream",
          "name": "stderr",
          "text": [
            "\rt:   6%|▌         | 77/1297 [00:05<01:50, 10.99it/s, now=None]"
          ]
        },
        {
          "output_type": "stream",
          "name": "stdout",
          "text": [
            "(0.001, 0) [   0.99712423 -277.13044413]\n",
            "(0.001, 0) [   1.00912421 -286.43717949]\n",
            "(0.001, 0) [   1.00912421 -286.43717949]\n"
          ]
        },
        {
          "output_type": "stream",
          "name": "stderr",
          "text": [
            "t:   6%|▌         | 81/1297 [00:05<02:03,  9.86it/s, now=None]"
          ]
        },
        {
          "output_type": "stream",
          "name": "stdout",
          "text": [
            "(0.001, 0) [   1.01677977 -290.15774066]\n",
            "(0.001, 0) [   1.01492996 -289.51292656]\n",
            "(0.001, 0) [   0.99086498 -271.43723607]\n"
          ]
        },
        {
          "output_type": "stream",
          "name": "stderr",
          "text": [
            "\rt:   6%|▋         | 83/1297 [00:05<02:14,  9.05it/s, now=None]"
          ]
        },
        {
          "output_type": "stream",
          "name": "stdout",
          "text": [
            "(0.001, 0) [   0.99086498 -271.43723607]\n"
          ]
        },
        {
          "output_type": "stream",
          "name": "stderr",
          "text": [
            "\rt:   7%|▋         | 85/1297 [00:05<01:59, 10.14it/s, now=None]"
          ]
        },
        {
          "output_type": "stream",
          "name": "stdout",
          "text": [
            "(0.001, 0) [   0.98346618 -266.29922011]\n",
            "(0.001, 0) [   1.00689025 -287.26182315]\n",
            "(0.001, 0) [   1.00689025 -287.26182315]\n",
            "(0.001, 0) [   0.99845579 -275.30617371]\n"
          ]
        },
        {
          "output_type": "stream",
          "name": "stderr",
          "text": [
            "t:   7%|▋         | 88/1297 [00:07<05:09,  3.91it/s, now=None]"
          ]
        },
        {
          "output_type": "stream",
          "name": "stdout",
          "text": [
            "(0.001, 0) [   0.99933104 -277.08030855]\n",
            "(0.001, 0) [   0.97774325 -260.91689868]\n",
            "(0.001, 0) [   0.97774325 -260.91689868]\n"
          ]
        },
        {
          "output_type": "stream",
          "name": "stderr",
          "text": [
            "\rt:   7%|▋         | 90/1297 [00:07<03:56,  5.11it/s, now=None]"
          ]
        },
        {
          "output_type": "stream",
          "name": "stdout",
          "text": [
            "(0.001, 0) [   0.98614446 -265.05922622]\n"
          ]
        },
        {
          "output_type": "stream",
          "name": "stderr",
          "text": [
            "\rt:   7%|▋         | 91/1297 [00:08<06:26,  3.12it/s, now=None]"
          ]
        },
        {
          "output_type": "stream",
          "name": "stdout",
          "text": [
            "(0.001, 0) [   0.99475553 -273.29283854]\n"
          ]
        },
        {
          "output_type": "stream",
          "name": "stderr",
          "text": [
            "t:   7%|▋         | 93/1297 [00:08<05:29,  3.66it/s, now=None]"
          ]
        },
        {
          "output_type": "stream",
          "name": "stdout",
          "text": [
            "(0.001, 0) [   0.99475553 -273.29283854]\n",
            "(0.001, 0) [   0.97265356 -253.16903407]\n"
          ]
        },
        {
          "output_type": "stream",
          "name": "stderr",
          "text": [
            "\rt:   7%|▋         | 94/1297 [00:09<05:46,  3.47it/s, now=None]"
          ]
        },
        {
          "output_type": "stream",
          "name": "stdout",
          "text": [
            "(0.001, 0) [   0.97265356 -253.16903407]\n"
          ]
        },
        {
          "output_type": "stream",
          "name": "stderr",
          "text": [
            "t:   7%|▋         | 97/1297 [00:09<03:53,  5.14it/s, now=None]"
          ]
        },
        {
          "output_type": "stream",
          "name": "stdout",
          "text": [
            "(0.001, 0) [   0.99211425 -267.37718641]\n",
            "(0.001, 0) [   0.99211425 -267.37718641]\n"
          ]
        },
        {
          "output_type": "stream",
          "name": "stderr",
          "text": [
            "\rt:   8%|▊         | 98/1297 [00:09<03:36,  5.53it/s, now=None]"
          ]
        },
        {
          "output_type": "stream",
          "name": "stdout",
          "text": [
            "(0.001, 0) [   1.00082126 -275.14412202]\n",
            "(0.001, 0) [   1.00593141 -278.74502914]\n"
          ]
        },
        {
          "output_type": "stream",
          "name": "stderr",
          "text": [
            "t:   8%|▊         | 100/1297 [00:10<05:29,  3.64it/s, now=None]"
          ]
        },
        {
          "output_type": "stream",
          "name": "stdout",
          "text": [
            "(0.001, 0) [   1.00593141 -278.74502914]\n",
            "(0.001, 0) [   0.97985911 -259.27481709]\n"
          ]
        },
        {
          "output_type": "stream",
          "name": "stderr",
          "text": [
            "\rt:   8%|▊         | 101/1297 [00:10<05:06,  3.90it/s, now=None]"
          ]
        },
        {
          "output_type": "stream",
          "name": "stdout",
          "text": [
            "(0.001, 0) [   0.99180509 -268.21768217]\n"
          ]
        },
        {
          "output_type": "stream",
          "name": "stderr",
          "text": [
            "\rt:   8%|▊         | 102/1297 [00:11<05:51,  3.40it/s, now=None]"
          ]
        },
        {
          "output_type": "stream",
          "name": "stdout",
          "text": [
            "(0.001, 0) [   0.97790195 -255.83465865]\n"
          ]
        },
        {
          "output_type": "stream",
          "name": "stderr",
          "text": [
            "t:   8%|▊         | 105/1297 [00:12<05:24,  3.67it/s, now=None]"
          ]
        },
        {
          "output_type": "stream",
          "name": "stdout",
          "text": [
            "(0.001, 0) [   0.98154981 -259.90725113]\n",
            "(0.001, 0) [   0.99461582 -271.32756768]\n",
            "(0.001, 0) [   0.97602385 -258.34514868]\n",
            "(0.001, 0) [   0.97602385 -258.34514868]\n"
          ]
        },
        {
          "output_type": "stream",
          "name": "stderr",
          "text": [
            "t:   8%|▊         | 110/1297 [00:12<02:46,  7.13it/s, now=None]"
          ]
        },
        {
          "output_type": "stream",
          "name": "stdout",
          "text": [
            "(0.001, 0) [   0.97781262 -257.03247681]\n",
            "(0.001, 0) [   0.97781262 -257.03247681]\n",
            "(0.001, 0) [   0.98067713 -259.01913536]\n",
            "(0.001, 0) [   0.98067713 -259.01913536]\n",
            "(0.001, 0) [   0.99572226 -269.67014319]\n"
          ]
        },
        {
          "output_type": "stream",
          "name": "stderr",
          "text": [
            "t:   9%|▉         | 114/1297 [00:13<02:58,  6.63it/s, now=None]"
          ]
        },
        {
          "output_type": "stream",
          "name": "stdout",
          "text": [
            "(0.001, 0) [   0.99572226 -269.67014319]\n",
            "(0.001, 0) [   0.99537398 -269.63907101]\n",
            "(0.001, 0) [   0.98080211 -260.28745736]\n"
          ]
        },
        {
          "output_type": "stream",
          "name": "stderr",
          "text": [
            "\rt:   9%|▉         | 116/1297 [00:13<03:09,  6.24it/s, now=None]"
          ]
        },
        {
          "output_type": "stream",
          "name": "stdout",
          "text": [
            "(0.001, 0) [   0.98080211 -260.28745736]\n",
            "(0.001, 0) [   0.98235545 -258.43355663]\n"
          ]
        },
        {
          "output_type": "stream",
          "name": "stderr",
          "text": [
            "t:   9%|▉         | 119/1297 [00:14<02:29,  7.88it/s, now=None]"
          ]
        },
        {
          "output_type": "stream",
          "name": "stdout",
          "text": [
            "(0.001, 0) [   0.99302367 -267.99247335]\n",
            "(0.001, 0) [   0.98476443 -261.09514778]\n",
            "(0.001, 0) [   0.98476443 -261.09514778]\n",
            "(0.001, 0) [   1.0022035  -280.13161243]\n"
          ]
        },
        {
          "output_type": "stream",
          "name": "stderr",
          "text": [
            "t:   9%|▉         | 123/1297 [00:14<01:47, 10.92it/s, now=None]"
          ]
        },
        {
          "output_type": "stream",
          "name": "stdout",
          "text": [
            "(0.001, 0) [   0.97327922 -252.46425451]\n",
            "(0.001, 0) [   0.97327922 -252.46425451]\n",
            "(0.001, 0) [   0.98169509 -261.20923878]\n",
            "(0.001, 0) [   0.98169509 -261.20923878]\n"
          ]
        },
        {
          "output_type": "stream",
          "name": "stderr",
          "text": [
            "t:  10%|▉         | 128/1297 [00:14<01:29, 13.04it/s, now=None]"
          ]
        },
        {
          "output_type": "stream",
          "name": "stdout",
          "text": [
            "(0.001, 0) [   0.99002502 -265.93621139]\n",
            "(0.001, 0) [   0.99002502 -265.93621139]\n",
            "(0.001, 0) [   0.9864912  -263.42505306]\n"
          ]
        },
        {
          "output_type": "stream",
          "name": "stderr",
          "text": [
            "\rt:  10%|█         | 130/1297 [00:14<01:22, 14.22it/s, now=None]"
          ]
        },
        {
          "output_type": "stream",
          "name": "stdout",
          "text": [
            "(0.001, 0) [   0.9658623  -247.49977562]\n",
            "(0.001, 0) [   0.9658623  -247.49977562]\n",
            "(0.001, 0) [   0.96592778 -250.93197352]\n",
            "(0.001, 0) [   0.96592778 -250.93197352]\n"
          ]
        },
        {
          "output_type": "stream",
          "name": "stderr",
          "text": [
            "t:  10%|█         | 135/1297 [00:14<01:13, 15.76it/s, now=None]"
          ]
        },
        {
          "output_type": "stream",
          "name": "stdout",
          "text": [
            "(0.001, 0) [   0.97882602 -259.79269833]\n",
            "(0.001, 0) [   0.97882602 -259.79269833]\n",
            "(0.001, 0) [   0.97101137 -252.87857109]\n",
            "(0.001, 0) [   0.97101137 -252.87857109]\n"
          ]
        },
        {
          "output_type": "stream",
          "name": "stderr",
          "text": [
            "t:  11%|█         | 139/1297 [00:15<01:14, 15.56it/s, now=None]"
          ]
        },
        {
          "output_type": "stream",
          "name": "stdout",
          "text": [
            "(0.001, 0) [   0.99258797 -268.54204902]\n",
            "(0.001, 0) [   1.00794381 -282.81761836]\n",
            "(0.001, 0) [   1.00794381 -282.81761836]\n",
            "(0.001, 0)"
          ]
        },
        {
          "output_type": "stream",
          "name": "stderr",
          "text": [
            "\rt:  11%|█         | 141/1297 [00:15<01:13, 15.75it/s, now=None]"
          ]
        },
        {
          "output_type": "stream",
          "name": "stdout",
          "text": [
            " [   0.99193667 -268.00132871]\n",
            "(0.001, 0) [   0.99193667 -268.00132871]\n",
            "(0.001, 0) [   1.00819438 -286.25971819]\n",
            "(0.001, 0) [   1.00819438 -286.25971819]\n"
          ]
        },
        {
          "output_type": "stream",
          "name": "stderr",
          "text": [
            "t:  11%|█▏        | 146/1297 [00:15<01:03, 18.25it/s, now=None]"
          ]
        },
        {
          "output_type": "stream",
          "name": "stdout",
          "text": [
            "(0.001, 0) [   0.99744346 -276.35262804]\n",
            "(0.001, 0) [   1.01797304 -294.10312911]\n",
            "(0.001, 0) [   1.01797304 -294.10312911]\n",
            "(0.001, 0) [   1.0092136  -288.13731319]\n"
          ]
        },
        {
          "output_type": "stream",
          "name": "stderr",
          "text": [
            "t:  12%|█▏        | 150/1297 [00:15<01:08, 16.66it/s, now=None]"
          ]
        },
        {
          "output_type": "stream",
          "name": "stdout",
          "text": [
            "(0.001, 0) [   1.0092136  -288.13731319]\n",
            "(0.001, 0) [   0.9830348  -266.75646051]\n",
            "(0.001, 0) [   1.00575659 -285.24577803]\n",
            "(0.001, 0) [   0.99015879 -270.60417131]\n"
          ]
        },
        {
          "output_type": "stream",
          "name": "stderr",
          "text": [
            "t:  12%|█▏        | 155/1297 [00:16<01:07, 16.95it/s, now=None]"
          ]
        },
        {
          "output_type": "stream",
          "name": "stdout",
          "text": [
            "(0.001, 0) [   0.98480009 -265.11795473]\n",
            "(0.001, 0) [   0.98480009 -265.11795473]\n",
            "(0.001, 0) [   1.01261376 -290.56055847]\n",
            "(0.001, 0) [   1.01261376 -290.56055847]\n"
          ]
        },
        {
          "output_type": "stream",
          "name": "stderr",
          "text": [
            "\rt:  12%|█▏        | 158/1297 [00:16<01:01, 18.65it/s, now=None]"
          ]
        },
        {
          "output_type": "stream",
          "name": "stdout",
          "text": [
            "(0.001, 0) [   1.01010204 -288.35911565]\n",
            "(0.001, 0) [   1.01010204 -288.35911565]\n",
            "(0.001, 0) [   1.00994875 -286.23411861]\n",
            "(0.001, 0) [   1.00994875 -286.23411861]\n"
          ]
        },
        {
          "output_type": "stream",
          "name": "stderr",
          "text": [
            "t:  13%|█▎        | 163/1297 [00:16<01:04, 17.63it/s, now=None]"
          ]
        },
        {
          "output_type": "stream",
          "name": "stdout",
          "text": [
            "(0.001, 0) [   1.01386159 -289.29739158]\n",
            "(0.001, 0) [   1.01836114 -291.27389319]\n",
            "(0.001, 0) [   1.01836114 -291.27389319]\n",
            "(0.001, 0) [   1.01766926 -292.1653982 ]\n"
          ]
        },
        {
          "output_type": "stream",
          "name": "stderr",
          "text": [
            "\rt:  13%|█▎        | 166/1297 [00:16<01:00, 18.85it/s, now=None]"
          ]
        },
        {
          "output_type": "stream",
          "name": "stdout",
          "text": [
            "(0.001, 0) [   1.00651769 -283.96089385]\n",
            "(0.001, 0) [   1.01833832 -295.12098631]\n",
            "(0.001, 0) [   1.01833832 -295.12098631]\n",
            "(0.001, 0) [   1.01560195 -294.19730313]\n"
          ]
        },
        {
          "output_type": "stream",
          "name": "stderr",
          "text": [
            "t:  13%|█▎        | 170/1297 [00:17<01:07, 16.79it/s, now=None]"
          ]
        },
        {
          "output_type": "stream",
          "name": "stdout",
          "text": [
            "(0.001, 0) [   1.01299983 -292.54855461]\n",
            "(0.001, 0) [   1.01299983 -292.54855461]\n",
            "(0.001, 0) [   1.01167166 -293.16542902]\n",
            "(0.001, 0) [   1.01167166 -293.16542902]\n"
          ]
        },
        {
          "output_type": "stream",
          "name": "stderr",
          "text": [
            "t:  13%|█▎        | 174/1297 [00:17<01:03, 17.62it/s, now=None]"
          ]
        },
        {
          "output_type": "stream",
          "name": "stdout",
          "text": [
            "(0.001, 0) [   1.0052233  -288.88817645]\n",
            "(0.001, 0) [   1.0052233  -288.88817645]\n",
            "(0.001, 0) [   1.00937637 -292.7668118 ]\n",
            "(0.001, 0) [   0.99320398 -276.6478961 ]\n"
          ]
        },
        {
          "output_type": "stream",
          "name": "stderr",
          "text": [
            "t:  14%|█▍        | 179/1297 [00:17<01:05, 17.12it/s, now=None]"
          ]
        },
        {
          "output_type": "stream",
          "name": "stdout",
          "text": [
            "(0.001, 0) [   0.99320398 -276.6478961 ]\n",
            "(0.001, 0) [   1.01186526 -292.33433886]\n",
            "(0.001, 0) [   1.01186526 -292.33433886]\n",
            "(0.001, 0) [   1.00271719 -284.60031408]\n"
          ]
        },
        {
          "output_type": "stream",
          "name": "stderr",
          "text": [
            "t:  14%|█▍        | 183/1297 [00:17<01:05, 17.04it/s, now=None]"
          ]
        },
        {
          "output_type": "stream",
          "name": "stdout",
          "text": [
            "(0.001, 0) [   1.00271719 -284.60031408]\n",
            "(0.001, 0) [   1.01215311 -291.83800378]\n",
            "(0.001, 0) [   1.01215311 -291.83800378]\n",
            "(0.001, 0) [   1.00791266 -289.6650641 ]\n"
          ]
        },
        {
          "output_type": "stream",
          "name": "stderr",
          "text": [
            "\rt:  14%|█▍        | 185/1297 [00:17<01:03, 17.40it/s, now=None]"
          ]
        },
        {
          "output_type": "stream",
          "name": "stdout",
          "text": [
            "(0.001, 0) [   1.01502605 -294.35315257]\n",
            "(0.001, 0) [   1.01502605 -294.35315257]\n",
            "(0.001, 0) [   1.00815103 -289.54599979]\n",
            "(0.001, 0) [   1.00815103 -289.54599979]\n"
          ]
        },
        {
          "output_type": "stream",
          "name": "stderr",
          "text": [
            "t:  15%|█▍        | 190/1297 [00:18<00:58, 18.89it/s, now=None]"
          ]
        },
        {
          "output_type": "stream",
          "name": "stdout",
          "text": [
            "(0.001, 0) [   0.98028845 -263.81047465]\n",
            "(0.001, 0) [   0.98028845 -263.81047465]\n",
            "(0.001, 0) [   0.9805908  -264.40031877]\n",
            "(0.001, 0) [   0.9939369  -277.73899994]\n"
          ]
        },
        {
          "output_type": "stream",
          "name": "stderr",
          "text": [
            "t:  15%|█▍        | 194/1297 [00:18<01:05, 16.88it/s, now=None]"
          ]
        },
        {
          "output_type": "stream",
          "name": "stdout",
          "text": [
            "(0.001, 0) [   1.01060708 -292.38426568]\n",
            "(0.001, 0) [   0.98515624 -268.52683544]\n",
            "(0.001, 0) [   0.98515624 -268.52683544]\n",
            "(0.001, 0) [   0.99454319 -276.29256422]\n"
          ]
        },
        {
          "output_type": "stream",
          "name": "stderr",
          "text": [
            "t:  15%|█▌        | 198/1297 [00:18<01:02, 17.56it/s, now=None]"
          ]
        },
        {
          "output_type": "stream",
          "name": "stdout",
          "text": [
            "(0.001, 0) [   0.99454319 -276.29256422]\n",
            "(0.001, 0) [   1.00614086 -283.69201555]\n",
            "(0.001, 0) [   0.99964305 -276.42388657]\n",
            "(0.001, 0) [   0.99964305 -276.42388657]\n"
          ]
        },
        {
          "output_type": "stream",
          "name": "stderr",
          "text": [
            "\rt:  15%|█▌        | 200/1297 [00:18<01:12, 15.15it/s, now=None]"
          ]
        },
        {
          "output_type": "stream",
          "name": "stdout",
          "text": [
            "(0.001, 0) [   0.99457298 -270.95871074]\n",
            "(0.001, 0) [   1.00005398 -275.40595938]\n",
            "(0.001, 0) [   1.00398097 -277.55861684]\n",
            "(0.001, 0) [   1.00398097 -277.55861684]\n"
          ]
        },
        {
          "output_type": "stream",
          "name": "stderr",
          "text": [
            "t:  16%|█▌        | 206/1297 [00:19<01:01, 17.82it/s, now=None]"
          ]
        },
        {
          "output_type": "stream",
          "name": "stdout",
          "text": [
            "(0.001, 0) [   0.9940477  -268.65751171]\n",
            "(0.001, 0) [   0.9940477  -268.65751171]\n",
            "(0.001, 0) [   0.98991829 -264.11092362]\n",
            "(0.001, 0) [   0.99113402 -267.630903  ]\n"
          ]
        },
        {
          "output_type": "stream",
          "name": "stderr",
          "text": [
            "\rt:  16%|█▌        | 208/1297 [00:19<01:05, 16.55it/s, now=None]"
          ]
        },
        {
          "output_type": "stream",
          "name": "stdout",
          "text": [
            "(0.001, 0) [   1.00812693 -281.81692691]\n",
            "(0.001, 0) [   1.00936754 -281.75209183]\n",
            "(0.001, 0) [   1.01121488 -282.86010199]\n",
            "(0.001, 0) [   1.00655435 -279.52118276]\n"
          ]
        },
        {
          "output_type": "stream",
          "name": "stderr",
          "text": [
            "t:  16%|█▋        | 213/1297 [00:19<01:10, 15.28it/s, now=None]"
          ]
        },
        {
          "output_type": "stream",
          "name": "stdout",
          "text": [
            "(0.001, 0) [   1.00655435 -279.52118276]\n",
            "(0.001, 0) [   1.00179029 -275.53453846]\n",
            "(0.001, 0) [   0.99018763 -264.00043337]\n"
          ]
        },
        {
          "output_type": "stream",
          "name": "stderr",
          "text": [
            "\rt:  17%|█▋        | 215/1297 [00:19<01:30, 11.92it/s, now=None]"
          ]
        },
        {
          "output_type": "stream",
          "name": "stdout",
          "text": [
            "(0.001, 0) [   0.99018763 -264.00043337]\n",
            "(0.001, 0) [   0.99808852 -270.85749142]\n"
          ]
        },
        {
          "output_type": "stream",
          "name": "stderr",
          "text": [
            "\rt:  17%|█▋        | 217/1297 [00:20<01:31, 11.80it/s, now=None]"
          ]
        },
        {
          "output_type": "stream",
          "name": "stdout",
          "text": [
            "(0.001, 0) [   0.99808852 -270.85749142]\n",
            "(0.001, 0) [   1.00733148 -278.28777271]\n",
            "(0.001, 0) [   1.00733148 -278.28777271]\n"
          ]
        },
        {
          "output_type": "stream",
          "name": "stderr",
          "text": [
            "t:  17%|█▋        | 221/1297 [00:20<01:43, 10.39it/s, now=None]"
          ]
        },
        {
          "output_type": "stream",
          "name": "stdout",
          "text": [
            "(0.001, 0) [   1.01577348 -284.06189789]\n",
            "(0.001, 0) [   1.01577348 -284.06189789]\n",
            "(0.001, 0) [   0.97849907 -252.66813613]\n"
          ]
        },
        {
          "output_type": "stream",
          "name": "stderr",
          "text": [
            "\rt:  17%|█▋        | 223/1297 [00:20<01:59,  9.02it/s, now=None]"
          ]
        },
        {
          "output_type": "stream",
          "name": "stdout",
          "text": [
            "(0.001, 0) [   0.98609819 -261.03616152]\n",
            "(0.001, 0) [   0.98609819 -261.03616152]\n"
          ]
        },
        {
          "output_type": "stream",
          "name": "stderr",
          "text": [
            "\rt:  17%|█▋        | 225/1297 [00:20<01:49,  9.76it/s, now=None]"
          ]
        },
        {
          "output_type": "stream",
          "name": "stdout",
          "text": [
            "(0.001, 0) [   1.00432392 -277.64149654]\n",
            "(0.001, 0) [   1.00432392 -277.64149654]\n",
            "(0.001, 0) [   0.99041481 -264.12335916]\n"
          ]
        },
        {
          "output_type": "stream",
          "name": "stderr",
          "text": [
            "t:  18%|█▊        | 229/1297 [00:21<01:38, 10.84it/s, now=None]"
          ]
        },
        {
          "output_type": "stream",
          "name": "stdout",
          "text": [
            "(0.001, 0) [   1.01068071 -281.88456111]\n",
            "(0.001, 0) [   1.00687387 -277.65678602]\n",
            "(0.001, 0) [   0.99296506 -268.40230234]\n",
            "(0.001, 0) [   0.99296506 -268.40230234]\n"
          ]
        },
        {
          "output_type": "stream",
          "name": "stderr",
          "text": [
            "t:  18%|█▊        | 233/1297 [00:21<01:47,  9.90it/s, now=None]"
          ]
        },
        {
          "output_type": "stream",
          "name": "stdout",
          "text": [
            "(0.001, 0) [   0.99101627 -266.00011525]\n",
            "(0.001, 0) [   0.99101627 -266.00011525]\n",
            "(0.001, 0) [   1.00029203 -276.69957015]\n"
          ]
        },
        {
          "output_type": "stream",
          "name": "stderr",
          "text": [
            "\rt:  18%|█▊        | 235/1297 [00:21<01:47,  9.84it/s, now=None]"
          ]
        },
        {
          "output_type": "stream",
          "name": "stdout",
          "text": [
            "(0.001, 0) [   0.99115099 -268.2813782 ]\n",
            "(0.001, 0) [   1.00498115 -279.99876003]\n"
          ]
        },
        {
          "output_type": "stream",
          "name": "stderr",
          "text": [
            "\rt:  18%|█▊        | 237/1297 [00:22<01:40, 10.52it/s, now=None]"
          ]
        },
        {
          "output_type": "stream",
          "name": "stdout",
          "text": [
            "(0.001, 0) [   1.00340437 -278.66684275]\n",
            "(0.001, 0) [   1.00340437 -278.66684275]\n",
            "(0.001, 0) [   1.00932588 -284.23167209]\n"
          ]
        },
        {
          "output_type": "stream",
          "name": "stderr",
          "text": [
            "t:  19%|█▊        | 241/1297 [00:22<01:48,  9.73it/s, now=None]"
          ]
        },
        {
          "output_type": "stream",
          "name": "stdout",
          "text": [
            "(0.001, 0) [   1.00932588 -284.23167209]\n",
            "(0.001, 0) [   0.98948713 -269.49273145]\n",
            "(0.001, 0) [   0.98948713 -269.49273145]\n"
          ]
        },
        {
          "output_type": "stream",
          "name": "stderr",
          "text": [
            "\rt:  19%|█▊        | 243/1297 [00:22<01:52,  9.36it/s, now=None]"
          ]
        },
        {
          "output_type": "stream",
          "name": "stdout",
          "text": [
            "(0.001, 0) [   1.00977737 -285.95894249]\n",
            "(0.001, 0) [   1.00977737 -285.95894249]\n",
            "(0.001, 0) [   1.01615046 -291.25499304]\n"
          ]
        },
        {
          "output_type": "stream",
          "name": "stderr",
          "text": [
            "\rt:  19%|█▉        | 245/1297 [00:22<01:40, 10.49it/s, now=None]"
          ]
        },
        {
          "output_type": "stream",
          "name": "stdout",
          "text": [
            "(0.001, 0) [   1.00915193 -286.60303873]\n"
          ]
        },
        {
          "output_type": "stream",
          "name": "stderr",
          "text": [
            "t:  19%|█▉        | 248/1297 [00:23<01:52,  9.37it/s, now=None]"
          ]
        },
        {
          "output_type": "stream",
          "name": "stdout",
          "text": [
            "(0.001, 0) [   1.00915193 -286.60303873]\n",
            "(0.001, 0) [   1.01360983 -290.66070726]\n",
            "(0.001, 0) [   1.01360983 -290.66070726]\n"
          ]
        },
        {
          "output_type": "stream",
          "name": "stderr",
          "text": [
            "t:  19%|█▉        | 250/1297 [00:23<02:03,  8.45it/s, now=None]"
          ]
        },
        {
          "output_type": "stream",
          "name": "stdout",
          "text": [
            "(0.001, 0) [   1.01894121 -293.91979646]\n",
            "(0.001, 0) [   1.01894121 -293.91979646]\n"
          ]
        },
        {
          "output_type": "stream",
          "name": "stderr",
          "text": [
            "\rt:  19%|█▉        | 252/1297 [00:23<01:51,  9.38it/s, now=None]"
          ]
        },
        {
          "output_type": "stream",
          "name": "stdout",
          "text": [
            "(0.001, 0) [   1.02138464 -296.53305588]\n",
            "(0.001, 0) [   1.02416439 -296.96604397]\n",
            "(0.001, 0) [   1.01915389 -294.85518013]\n"
          ]
        },
        {
          "output_type": "stream",
          "name": "stderr",
          "text": [
            "t:  20%|█▉        | 256/1297 [00:24<01:55,  9.05it/s, now=None]"
          ]
        },
        {
          "output_type": "stream",
          "name": "stdout",
          "text": [
            "(0.001, 0) [   1.01864951 -295.35128842]\n",
            "(0.001, 0) [   1.01864951 -295.35128842]\n",
            "(0.001, 0) [   1.01858227 -295.46561145]\n"
          ]
        },
        {
          "output_type": "stream",
          "name": "stderr",
          "text": [
            "\rt:  20%|█▉        | 258/1297 [00:24<01:58,  8.80it/s, now=None]"
          ]
        },
        {
          "output_type": "stream",
          "name": "stdout",
          "text": [
            "(0.001, 0) [   1.01857349 -295.45160953]\n",
            "(0.001, 0) [   1.02178571 -298.99892857]\n"
          ]
        },
        {
          "output_type": "stream",
          "name": "stderr",
          "text": [
            "\rt:  20%|██        | 260/1297 [00:24<01:48,  9.59it/s, now=None]"
          ]
        },
        {
          "output_type": "stream",
          "name": "stdout",
          "text": [
            "(0.001, 0) [   1.01307692 -290.91615385]\n",
            "(0.001, 0) [   1.01307692 -290.91615385]\n",
            "(0.001, 0) [   1.01178381 -291.86474532]\n"
          ]
        },
        {
          "output_type": "stream",
          "name": "stderr",
          "text": [
            "t:  20%|██        | 264/1297 [00:25<01:46,  9.74it/s, now=None]"
          ]
        },
        {
          "output_type": "stream",
          "name": "stdout",
          "text": [
            "(0.001, 0) [   1.01178381 -291.86474532]\n",
            "(0.001, 0) [   1.01420168 -293.33798319]\n",
            "(0.001, 0) [   1.01414141 -293.16767677]\n"
          ]
        },
        {
          "output_type": "stream",
          "name": "stderr",
          "text": [
            "\rt:  21%|██        | 266/1297 [00:25<01:53,  9.07it/s, now=None]"
          ]
        },
        {
          "output_type": "stream",
          "name": "stdout",
          "text": [
            "(0.001, 0) [   1.01149577 -291.38477801]\n",
            "(0.001, 0) [   1.01149577 -291.38477801]\n"
          ]
        },
        {
          "output_type": "stream",
          "name": "stderr",
          "text": [
            "\rt:  21%|██        | 268/1297 [00:25<01:44,  9.87it/s, now=None]"
          ]
        },
        {
          "output_type": "stream",
          "name": "stdout",
          "text": [
            "(0.001, 0) [   1.01648862 -295.99218091]\n",
            "(0.001, 0) [   1.01057295 -293.66416932]\n",
            "(0.001, 0) [   1.01057295 -293.66416932]\n"
          ]
        },
        {
          "output_type": "stream",
          "name": "stderr",
          "text": [
            "t:  21%|██        | 272/1297 [00:26<01:53,  9.05it/s, now=None]"
          ]
        },
        {
          "output_type": "stream",
          "name": "stdout",
          "text": [
            "(0.001, 0) [   1.02151303 -302.0342978 ]\n",
            "(0.001, 0) [   1.02151303 -302.0342978 ]\n",
            "(0.001, 0) [   1.01448177 -298.06010602]\n"
          ]
        },
        {
          "output_type": "stream",
          "name": "stderr",
          "text": [
            "\rt:  21%|██        | 274/1297 [00:26<01:56,  8.81it/s, now=None]"
          ]
        },
        {
          "output_type": "stream",
          "name": "stdout",
          "text": [
            "(0.001, 0) [   1.01448177 -298.06010602]\n",
            "(0.001, 0) [   1.01952085 -304.01552795]\n"
          ]
        },
        {
          "output_type": "stream",
          "name": "stderr",
          "text": [
            "\rt:  21%|██        | 275/1297 [00:26<01:54,  8.92it/s, now=None]"
          ]
        },
        {
          "output_type": "stream",
          "name": "stdout",
          "text": [
            "(0.001, 0) [   1.01020408 -295.00816327]\n",
            "(0.001, 0) [   1.01020408 -295.00816327]\n",
            "(0.001, 0) [   1.00587292 -289.80654177]\n"
          ]
        },
        {
          "output_type": "stream",
          "name": "stderr",
          "text": [
            "t:  22%|██▏       | 280/1297 [00:26<01:45,  9.68it/s, now=None]"
          ]
        },
        {
          "output_type": "stream",
          "name": "stdout",
          "text": [
            "(0.001, 0) [   1.00587292 -289.80654177]\n",
            "(0.001, 0) [   1.02165202 -302.92912441]\n",
            "(0.001, 0) [   1.02165202 -302.92912441]\n"
          ]
        },
        {
          "output_type": "stream",
          "name": "stderr",
          "text": [
            "\rt:  22%|██▏       | 282/1297 [00:27<01:53,  8.92it/s, now=None]"
          ]
        },
        {
          "output_type": "stream",
          "name": "stdout",
          "text": [
            "(0.001, 0) [   1.010234   -295.08989036]\n"
          ]
        },
        {
          "output_type": "stream",
          "name": "stderr",
          "text": [
            "\rt:  22%|██▏       | 284/1297 [00:27<01:44,  9.72it/s, now=None]"
          ]
        },
        {
          "output_type": "stream",
          "name": "stdout",
          "text": [
            "(0.001, 0) [   1.01448156 -298.17253667]\n",
            "(0.001, 0) [   1.01448156 -298.04753667]\n",
            "(0.001, 0) [   1.01695495 -298.23901217]\n"
          ]
        },
        {
          "output_type": "stream",
          "name": "stderr",
          "text": [
            "t:  22%|██▏       | 287/1297 [00:27<01:45,  9.61it/s, now=None]"
          ]
        },
        {
          "output_type": "stream",
          "name": "stdout",
          "text": [
            "(0.001, 0) [   1.01695495 -298.23901217]\n",
            "(0.001, 0) [   1.01392206 -296.30814383]\n"
          ]
        },
        {
          "output_type": "stream",
          "name": "stderr",
          "text": [
            "\rt:  22%|██▏       | 290/1297 [00:27<01:25, 11.83it/s, now=None]"
          ]
        },
        {
          "output_type": "stream",
          "name": "stdout",
          "text": [
            "(0.001, 0) [   1.01392206 -296.30814383]\n",
            "(0.001, 0) [   1.01941599 -299.05397111]\n",
            "(0.001, 0) [   1.01941599 -299.05397111]\n",
            "(0.001, 0) [   1.0093315  -291.22138818]\n"
          ]
        },
        {
          "output_type": "stream",
          "name": "stderr",
          "text": [
            "\rt:  23%|██▎       | 293/1297 [00:27<01:10, 14.32it/s, now=None]"
          ]
        },
        {
          "output_type": "stream",
          "name": "stdout",
          "text": [
            "(0.001, 0) [   1.03668967 -313.3858133 ]\n",
            "(0.001, 0) [   1.01352112 -296.50676999]\n",
            "(0.001, 0) [   1.02463884 -304.54883543]\n",
            "(0.001, 0) [   1.02463884 -304.54883543]\n"
          ]
        },
        {
          "output_type": "stream",
          "name": "stderr",
          "text": [
            "t:  23%|██▎       | 298/1297 [00:28<01:10, 14.25it/s, now=None]"
          ]
        },
        {
          "output_type": "stream",
          "name": "stdout",
          "text": [
            "(0.001, 0) [   1.00924445 -289.8954462 ]\n",
            "(0.001, 0) [   1.00924445 -289.8954462 ]\n",
            "(0.001, 0) [   1.00696255 -286.58145521]\n",
            "(0.001, 0) [   1.01743953 -299.18177256]\n"
          ]
        },
        {
          "output_type": "stream",
          "name": "stderr",
          "text": [
            "t:  23%|██▎       | 304/1297 [00:28<00:55, 17.78it/s, now=None]"
          ]
        },
        {
          "output_type": "stream",
          "name": "stdout",
          "text": [
            "(0.001, 0) [   1.01743953 -299.18177256]\n",
            "(0.001, 0) [   1.01692378 -299.22455451]\n",
            "(0.001, 0) [   1.01809388 -302.80894461]\n",
            "(0.001, 0) [   1.01224923 -295.82542438]\n",
            "(0.001, 0) [   1.02928431 -308.54750681]\n"
          ]
        },
        {
          "output_type": "stream",
          "name": "stderr",
          "text": [
            "\rt:  24%|██▎       | 306/1297 [00:28<00:59, 16.61it/s, now=None]"
          ]
        },
        {
          "output_type": "stream",
          "name": "stdout",
          "text": [
            "(0.001, 0) [   1.02375529 -299.31857504]\n",
            "(0.001, 0) [   1.01412785 -295.87105038]\n",
            "(0.001, 0) [   1.01412785 -295.87105038]\n"
          ]
        },
        {
          "output_type": "stream",
          "name": "stderr",
          "text": [
            "t:  24%|██▍       | 310/1297 [00:28<01:00, 16.27it/s, now=None]"
          ]
        },
        {
          "output_type": "stream",
          "name": "stdout",
          "text": [
            "(0.001, 0) [   0.99700769 -279.85849209]\n",
            "(0.001, 0) [   0.99700769 -279.85849209]\n",
            "(0.001, 0) [   1.01032059 -293.09989724]\n",
            "(0.001, 0) [   1.01237254 -295.34569044]\n"
          ]
        },
        {
          "output_type": "stream",
          "name": "stderr",
          "text": [
            "\rt:  24%|██▍       | 313/1297 [00:29<00:58, 16.84it/s, now=None]"
          ]
        },
        {
          "output_type": "stream",
          "name": "stdout",
          "text": [
            "(0.001, 0) [   1.00270729 -285.46555157]\n",
            "(0.001, 0) [   1.00270729 -285.46555157]\n",
            "(0.001, 0) [   1.0128566 -297.7930944]\n",
            "(0.001, 0) [   0.9855424  -272.77203264]\n"
          ]
        },
        {
          "output_type": "stream",
          "name": "stderr",
          "text": [
            "t:  25%|██▍       | 318/1297 [00:29<00:56, 17.36it/s, now=None]"
          ]
        },
        {
          "output_type": "stream",
          "name": "stdout",
          "text": [
            "(0.001, 0) [   0.9855424  -272.77203264]\n",
            "(0.001, 0) [   1.01320023 -297.32309823]\n",
            "(0.001, 0) [   0.99974752 -284.06157724]\n",
            "(0.001, 0) [   1.03783791 -315.78627136]\n"
          ]
        },
        {
          "output_type": "stream",
          "name": "stderr",
          "text": [
            "t:  25%|██▍       | 322/1297 [00:29<00:55, 17.47it/s, now=None]"
          ]
        },
        {
          "output_type": "stream",
          "name": "stdout",
          "text": [
            "(0.001, 0) [   1.03783791 -315.78627136]\n",
            "(0.001, 0) [   0.99561914 -281.14381391]\n",
            "(0.001, 0) [   0.99135014 -271.85362916]\n"
          ]
        },
        {
          "output_type": "stream",
          "name": "stderr",
          "text": [
            "\rt:  25%|██▍       | 324/1297 [00:29<00:56, 17.26it/s, now=None]"
          ]
        },
        {
          "output_type": "stream",
          "name": "stdout",
          "text": [
            "(0.001, 0) [   0.99135014 -271.85362916]\n",
            "(0.001, 0) [   0.98721962 -269.14181145]\n",
            "(0.001, 0) [   0.98721962 -269.14181145]\n"
          ]
        },
        {
          "output_type": "stream",
          "name": "stderr",
          "text": [
            "t:  25%|██▌       | 328/1297 [00:30<01:00, 15.98it/s, now=None]"
          ]
        },
        {
          "output_type": "stream",
          "name": "stdout",
          "text": [
            "(0.001, 0) [   1.00179691 -286.01012967]\n",
            "(0.001, 0) [   1.00179691 -286.01012967]\n",
            "(0.001, 0) [   1.00461772 -285.79860198]\n",
            "(0.001, 0) [   1.00694894 -286.95222862]\n"
          ]
        },
        {
          "output_type": "stream",
          "name": "stderr",
          "text": [
            "\rt:  25%|██▌       | 330/1297 [00:30<00:59, 16.15it/s, now=None]"
          ]
        },
        {
          "output_type": "stream",
          "name": "stdout",
          "text": [
            "(0.001, 0) [   1.00694894 -286.95222862]\n",
            "(0.001, 0) [   1.01250299 -289.91044577]\n",
            "(0.001, 0) [   1.01250299 -289.91044577]\n",
            "(0.001, 0) [   1.00466427 -282.2990495 ]\n"
          ]
        },
        {
          "output_type": "stream",
          "name": "stderr",
          "text": [
            "t:  26%|██▌       | 336/1297 [00:30<00:55, 17.33it/s, now=None]"
          ]
        },
        {
          "output_type": "stream",
          "name": "stdout",
          "text": [
            "(0.001, 0) [   1.00466427 -282.2990495 ]\n",
            "(0.001, 0) [   0.99185488 -272.00308851]\n",
            "(0.001, 0) [   0.99185488 -272.00308851]\n",
            "(0.001, 0) [   0.99268145 -271.92336657]\n"
          ]
        },
        {
          "output_type": "stream",
          "name": "stderr",
          "text": [
            "t:  26%|██▋       | 341/1297 [00:30<00:58, 16.25it/s, now=None]"
          ]
        },
        {
          "output_type": "stream",
          "name": "stdout",
          "text": [
            "(0.001, 0) [   0.98902771 -270.69578029]\n",
            "(0.001, 0) [   0.99184791 -272.02076135]\n",
            "(0.001, 0) [   1.01508017 -291.61309923]\n",
            "(0.001, 0) [   1.01508017 -291.61309923]\n"
          ]
        },
        {
          "output_type": "stream",
          "name": "stderr",
          "text": [
            "\rt:  27%|██▋       | 344/1297 [00:30<00:53, 17.81it/s, now=None]"
          ]
        },
        {
          "output_type": "stream",
          "name": "stdout",
          "text": [
            "(0.001, 0) [   1.00877621 -293.71768945]\n",
            "(0.001, 0) [   1.00877621 -293.71768945]\n",
            "(0.001, 0) [   1.01130961 -291.51696211]\n",
            "(0.001, 0) [   1.00454296 -283.89452033]\n"
          ]
        },
        {
          "output_type": "stream",
          "name": "stderr",
          "text": [
            "t:  27%|██▋       | 349/1297 [00:31<00:55, 17.20it/s, now=None]"
          ]
        },
        {
          "output_type": "stream",
          "name": "stdout",
          "text": [
            "(0.001, 0) [   1.00454296 -283.89452033]\n",
            "(0.001, 0) [   1.00993175 -287.95843924]\n",
            "(0.001, 0) [   1.00993175 -287.95843924]\n",
            "(0.001, 0) [   1.00411247 -284.94570246]\n"
          ]
        },
        {
          "output_type": "stream",
          "name": "stderr",
          "text": [
            "\rt:  27%|██▋       | 351/1297 [00:31<00:53, 17.58it/s, now=None]"
          ]
        },
        {
          "output_type": "stream",
          "name": "stdout",
          "text": [
            "(0.001, 0) [   1.00627349 -285.45967636]\n",
            "(0.001, 0) [   1.00061672 -281.67695128]\n",
            "(0.001, 0) [   0.98575496 -271.02121761]\n",
            "(0.001, 0) [   0.98575496 -271.02121761]\n"
          ]
        },
        {
          "output_type": "stream",
          "name": "stderr",
          "text": [
            "t:  27%|██▋       | 356/1297 [00:31<00:52, 17.97it/s, now=None]"
          ]
        },
        {
          "output_type": "stream",
          "name": "stdout",
          "text": [
            "(0.001, 0) [   0.98575496 -271.02121761]\n",
            "(0.001, 0) [   0.98575496 -271.02121761]\n",
            "(0.001, 0) [   1.00573195 -286.91096618]\n",
            "(0.001, 0) [   1.00573195 -286.91096618]\n"
          ]
        },
        {
          "output_type": "stream",
          "name": "stderr",
          "text": [
            "t:  28%|██▊       | 361/1297 [00:31<00:53, 17.56it/s, now=None]"
          ]
        },
        {
          "output_type": "stream",
          "name": "stdout",
          "text": [
            "(0.001, 0) [   1.00426864 -282.9543792 ]\n",
            "(0.001, 0) [   1.00426864 -282.9543792 ]\n",
            "(0.001, 0) [   1.00217687 -280.97053913]\n",
            "(0.001, 0) [   0.9886251  -271.49661368]\n"
          ]
        },
        {
          "output_type": "stream",
          "name": "stderr",
          "text": [
            "t:  28%|██▊       | 365/1297 [00:32<00:53, 17.57it/s, now=None]"
          ]
        },
        {
          "output_type": "stream",
          "name": "stdout",
          "text": [
            "(0.001, 0) [   0.9886251  -271.49661368]\n",
            "(0.001, 0) [   1.02134745 -296.05483621]\n",
            "(0.001, 0) [   1.02134745 -296.05483621]\n",
            "(0.001, 0) [   1.01252857 -293.94709406]\n"
          ]
        },
        {
          "output_type": "stream",
          "name": "stderr",
          "text": [
            "\rt:  28%|██▊       | 368/1297 [00:32<00:47, 19.41it/s, now=None]"
          ]
        },
        {
          "output_type": "stream",
          "name": "stdout",
          "text": [
            "(0.001, 0) [   1.01252857 -293.94709406]\n",
            "(0.001, 0) [   0.99676175 -279.39116867]\n",
            "(0.001, 0) [   1.01439754 -295.28971944]\n",
            "(0.001, 0) [   1.01439754 -295.28971944]\n"
          ]
        },
        {
          "output_type": "stream",
          "name": "stderr",
          "text": [
            "\rt:  29%|██▊       | 370/1297 [00:32<00:53, 17.21it/s, now=None]"
          ]
        },
        {
          "output_type": "stream",
          "name": "stdout",
          "text": [
            "(0.001, 0) [   1.0056958  -285.43935847]\n",
            "(0.001, 0) [   1.0056958  -285.43935847]\n",
            "(0.001, 0) [   1.00765963 -288.91422203]\n",
            "(0.001, 0) [   1.00765963 -288.91422203]\n"
          ]
        },
        {
          "output_type": "stream",
          "name": "stderr",
          "text": [
            "t:  29%|██▉       | 376/1297 [00:32<00:50, 18.27it/s, now=None]"
          ]
        },
        {
          "output_type": "stream",
          "name": "stdout",
          "text": [
            "(0.001, 0) [   0.98187177 -267.37309256]\n",
            "(0.001, 0) [   1.01631095 -299.14887694]\n",
            "(0.001, 0) [   1.01631095 -299.14887694]\n",
            "(0.001, 0) [   1.00397064 -287.15256597]\n"
          ]
        },
        {
          "output_type": "stream",
          "name": "stderr",
          "text": [
            "t:  29%|██▉       | 381/1297 [00:33<00:54, 16.87it/s, now=None]"
          ]
        },
        {
          "output_type": "stream",
          "name": "stdout",
          "text": [
            "(0.001, 0) [   1.00397064 -287.15256597]\n",
            "(0.001, 0) [   0.99961095 -280.05367315]\n",
            "(0.001, 0) [   0.99961095 -280.05367315]\n",
            "(0.001, 0) [   0.99961095 -280.05367315]\n"
          ]
        },
        {
          "output_type": "stream",
          "name": "stderr",
          "text": [
            "\rt:  30%|██▉       | 383/1297 [00:33<00:53, 17.19it/s, now=None]"
          ]
        },
        {
          "output_type": "stream",
          "name": "stdout",
          "text": [
            "(0.001, 0) [   0.99961095 -280.05367315]\n",
            "(0.001, 0) [   1.00105815 -279.6826883 ]\n",
            "(0.001, 0) [   1.02091392 -296.35939874]\n",
            "(0.001, 0) [   1.02091392 -296.35939874]\n"
          ]
        },
        {
          "output_type": "stream",
          "name": "stderr",
          "text": [
            "t:  30%|██▉       | 387/1297 [00:33<00:56, 16.11it/s, now=None]"
          ]
        },
        {
          "output_type": "stream",
          "name": "stdout",
          "text": [
            "(0.001, 0) [   0.98223803 -262.25836916]\n",
            "(0.001, 0) [   0.98223803 -262.25836916]\n",
            "(0.001, 0) [   1.00645821 -282.46686221]\n",
            "(0.001, 0) [   1.00312348 -282.12916021]\n"
          ]
        },
        {
          "output_type": "stream",
          "name": "stderr",
          "text": [
            "\rt:  30%|███       | 390/1297 [00:33<00:52, 17.27it/s, now=None]"
          ]
        },
        {
          "output_type": "stream",
          "name": "stdout",
          "text": [
            "(0.001, 0) [   1.01477854 -293.95855209]\n",
            "(0.001, 0) [   1.0151717 -291.7136296]\n",
            "(0.001, 0) [   1.00509338 -283.42438556]\n",
            "(0.001, 0) [   1.01509087 -295.16936051]\n"
          ]
        },
        {
          "output_type": "stream",
          "name": "stderr",
          "text": [
            "t:  31%|███       | 396/1297 [00:33<00:48, 18.70it/s, now=None]"
          ]
        },
        {
          "output_type": "stream",
          "name": "stdout",
          "text": [
            "(0.001, 0) [   1.01509087 -295.16936051]\n",
            "(0.001, 0) [   0.98981825 -270.23839231]\n",
            "(0.001, 0) [   1.01002917 -288.27721995]\n",
            "(0.001, 0) [   1.01064097 -285.96153373]\n"
          ]
        },
        {
          "output_type": "stream",
          "name": "stderr",
          "text": [
            "t:  31%|███       | 400/1297 [00:34<00:55, 16.08it/s, now=None]WARNING:py.warnings:/usr/local/lib/python3.10/dist-packages/moviepy/video/io/ffmpeg_reader.py:123: UserWarning: Warning: in file test_videos/lanes_clip.mp4, 2764800 bytes wanted but 0 bytes read,at frame 400/1298, at time 8.00/25.94 sec. Using the last valid frame instead.\n",
            "  warnings.warn(\"Warning: in file %s, \"%(self.filename)+\n",
            "\n"
          ]
        },
        {
          "output_type": "stream",
          "name": "stdout",
          "text": [
            "(0.001, 0) [   1.01178062 -286.35657089]\n",
            "(0.001, 0) [   1.01178062 -286.35657089]\n",
            "(0.001, 0) [   1.00397637 -279.59899345]\n",
            "(0.001, 0) [   1.01350267 -287.03663102]\n"
          ]
        },
        {
          "output_type": "stream",
          "name": "stderr",
          "text": [
            "WARNING:py.warnings:/usr/local/lib/python3.10/dist-packages/moviepy/video/io/ffmpeg_reader.py:123: UserWarning: Warning: in file test_videos/lanes_clip.mp4, 2764800 bytes wanted but 0 bytes read,at frame 401/1298, at time 8.02/25.94 sec. Using the last valid frame instead.\n",
            "  warnings.warn(\"Warning: in file %s, \"%(self.filename)+\n",
            "\n",
            "t:  31%|███       | 403/1297 [00:34<00:47, 18.75it/s, now=None]WARNING:py.warnings:/usr/local/lib/python3.10/dist-packages/moviepy/video/io/ffmpeg_reader.py:123: UserWarning: Warning: in file test_videos/lanes_clip.mp4, 2764800 bytes wanted but 0 bytes read,at frame 402/1298, at time 8.04/25.94 sec. Using the last valid frame instead.\n",
            "  warnings.warn(\"Warning: in file %s, \"%(self.filename)+\n",
            "\n",
            "WARNING:py.warnings:/usr/local/lib/python3.10/dist-packages/moviepy/video/io/ffmpeg_reader.py:123: UserWarning: Warning: in file test_videos/lanes_clip.mp4, 2764800 bytes wanted but 0 bytes read,at frame 403/1298, at time 8.06/25.94 sec. Using the last valid frame instead.\n",
            "  warnings.warn(\"Warning: in file %s, \"%(self.filename)+\n",
            "\n",
            "t:  31%|███       | 405/1297 [00:34<00:49, 17.92it/s, now=None]WARNING:py.warnings:/usr/local/lib/python3.10/dist-packages/moviepy/video/io/ffmpeg_reader.py:123: UserWarning: Warning: in file test_videos/lanes_clip.mp4, 2764800 bytes wanted but 0 bytes read,at frame 404/1298, at time 8.08/25.94 sec. Using the last valid frame instead.\n",
            "  warnings.warn(\"Warning: in file %s, \"%(self.filename)+\n",
            "\n"
          ]
        },
        {
          "output_type": "stream",
          "name": "stdout",
          "text": [
            "(0.001, 0) [   1.01350267 -287.03663102]\n",
            "(0.001, 0) [   1.01350267 -287.03663102]\n",
            "(0.001, 0) [   1.01350267 -287.03663102]\n",
            "(0.001, 0) [   1.01350267 -287.03663102]\n"
          ]
        },
        {
          "output_type": "stream",
          "name": "stderr",
          "text": [
            "WARNING:py.warnings:/usr/local/lib/python3.10/dist-packages/moviepy/video/io/ffmpeg_reader.py:123: UserWarning: Warning: in file test_videos/lanes_clip.mp4, 2764800 bytes wanted but 0 bytes read,at frame 405/1298, at time 8.10/25.94 sec. Using the last valid frame instead.\n",
            "  warnings.warn(\"Warning: in file %s, \"%(self.filename)+\n",
            "\n",
            "WARNING:py.warnings:/usr/local/lib/python3.10/dist-packages/moviepy/video/io/ffmpeg_reader.py:123: UserWarning: Warning: in file test_videos/lanes_clip.mp4, 2764800 bytes wanted but 0 bytes read,at frame 406/1298, at time 8.12/25.94 sec. Using the last valid frame instead.\n",
            "  warnings.warn(\"Warning: in file %s, \"%(self.filename)+\n",
            "\n",
            "t:  31%|███▏      | 408/1297 [00:34<00:49, 17.91it/s, now=None]WARNING:py.warnings:/usr/local/lib/python3.10/dist-packages/moviepy/video/io/ffmpeg_reader.py:123: UserWarning: Warning: in file test_videos/lanes_clip.mp4, 2764800 bytes wanted but 0 bytes read,at frame 407/1298, at time 8.14/25.94 sec. Using the last valid frame instead.\n",
            "  warnings.warn(\"Warning: in file %s, \"%(self.filename)+\n",
            "\n",
            "WARNING:py.warnings:/usr/local/lib/python3.10/dist-packages/moviepy/video/io/ffmpeg_reader.py:123: UserWarning: Warning: in file test_videos/lanes_clip.mp4, 2764800 bytes wanted but 0 bytes read,at frame 408/1298, at time 8.16/25.94 sec. Using the last valid frame instead.\n",
            "  warnings.warn(\"Warning: in file %s, \"%(self.filename)+\n",
            "\n"
          ]
        },
        {
          "output_type": "stream",
          "name": "stdout",
          "text": [
            "(0.001, 0) [   1.01350267 -287.03663102]\n",
            "(0.001, 0) [   1.01350267 -287.03663102]\n",
            "(0.001, 0) [   1.01350267 -287.03663102]\n",
            "(0.001, 0) [   1.01350267 -287.03663102]\n",
            "(0.001, 0)"
          ]
        },
        {
          "output_type": "stream",
          "name": "stderr",
          "text": [
            "\rt:  32%|███▏      | 410/1297 [00:34<00:48, 18.28it/s, now=None]WARNING:py.warnings:/usr/local/lib/python3.10/dist-packages/moviepy/video/io/ffmpeg_reader.py:123: UserWarning: Warning: in file test_videos/lanes_clip.mp4, 2764800 bytes wanted but 0 bytes read,at frame 409/1298, at time 8.18/25.94 sec. Using the last valid frame instead.\n",
            "  warnings.warn(\"Warning: in file %s, \"%(self.filename)+\n",
            "\n",
            "WARNING:py.warnings:/usr/local/lib/python3.10/dist-packages/moviepy/video/io/ffmpeg_reader.py:123: UserWarning: Warning: in file test_videos/lanes_clip.mp4, 2764800 bytes wanted but 0 bytes read,at frame 410/1298, at time 8.20/25.94 sec. Using the last valid frame instead.\n",
            "  warnings.warn(\"Warning: in file %s, \"%(self.filename)+\n",
            "\n",
            "WARNING:py.warnings:/usr/local/lib/python3.10/dist-packages/moviepy/video/io/ffmpeg_reader.py:123: UserWarning: Warning: in file test_videos/lanes_clip.mp4, 2764800 bytes wanted but 0 bytes read,at frame 411/1298, at time 8.22/25.94 sec. Using the last valid frame instead.\n",
            "  warnings.warn(\"Warning: in file %s, \"%(self.filename)+\n",
            "\n",
            "t:  32%|███▏      | 413/1297 [00:34<00:49, 17.88it/s, now=None]"
          ]
        },
        {
          "output_type": "stream",
          "name": "stdout",
          "text": [
            " [   1.01350267 -287.03663102]\n",
            "(0.001, 0) [   1.01350267 -287.03663102]\n",
            "(0.001, 0) [   1.01350267 -287.03663102]\n",
            "(0.001, 0) [   1.01350267 -287.03663102]\n"
          ]
        },
        {
          "output_type": "stream",
          "name": "stderr",
          "text": [
            "WARNING:py.warnings:/usr/local/lib/python3.10/dist-packages/moviepy/video/io/ffmpeg_reader.py:123: UserWarning: Warning: in file test_videos/lanes_clip.mp4, 2764800 bytes wanted but 0 bytes read,at frame 412/1298, at time 8.24/25.94 sec. Using the last valid frame instead.\n",
            "  warnings.warn(\"Warning: in file %s, \"%(self.filename)+\n",
            "\n",
            "WARNING:py.warnings:/usr/local/lib/python3.10/dist-packages/moviepy/video/io/ffmpeg_reader.py:123: UserWarning: Warning: in file test_videos/lanes_clip.mp4, 2764800 bytes wanted but 0 bytes read,at frame 413/1298, at time 8.26/25.94 sec. Using the last valid frame instead.\n",
            "  warnings.warn(\"Warning: in file %s, \"%(self.filename)+\n",
            "\n",
            "WARNING:py.warnings:/usr/local/lib/python3.10/dist-packages/moviepy/video/io/ffmpeg_reader.py:123: UserWarning: Warning: in file test_videos/lanes_clip.mp4, 2764800 bytes wanted but 0 bytes read,at frame 414/1298, at time 8.28/25.94 sec. Using the last valid frame instead.\n",
            "  warnings.warn(\"Warning: in file %s, \"%(self.filename)+\n",
            "\n",
            "t:  32%|███▏      | 416/1297 [00:35<00:45, 19.32it/s, now=None]WARNING:py.warnings:/usr/local/lib/python3.10/dist-packages/moviepy/video/io/ffmpeg_reader.py:123: UserWarning: Warning: in file test_videos/lanes_clip.mp4, 2764800 bytes wanted but 0 bytes read,at frame 415/1298, at time 8.30/25.94 sec. Using the last valid frame instead.\n",
            "  warnings.warn(\"Warning: in file %s, \"%(self.filename)+\n",
            "\n",
            "WARNING:py.warnings:/usr/local/lib/python3.10/dist-packages/moviepy/video/io/ffmpeg_reader.py:123: UserWarning: Warning: in file test_videos/lanes_clip.mp4, 2764800 bytes wanted but 0 bytes read,at frame 416/1298, at time 8.32/25.94 sec. Using the last valid frame instead.\n",
            "  warnings.warn(\"Warning: in file %s, \"%(self.filename)+\n",
            "\n"
          ]
        },
        {
          "output_type": "stream",
          "name": "stdout",
          "text": [
            "(0.001, 0) [   1.01350267 -287.03663102]\n",
            "(0.001, 0) [   1.01350267 -287.03663102]\n",
            "(0.001, 0) [   1.01350267 -287.03663102]\n",
            "(0.001, 0) [   1.01350267 -287.03663102]\n"
          ]
        },
        {
          "output_type": "stream",
          "name": "stderr",
          "text": [
            "\rt:  32%|███▏      | 418/1297 [00:35<00:48, 18.24it/s, now=None]WARNING:py.warnings:/usr/local/lib/python3.10/dist-packages/moviepy/video/io/ffmpeg_reader.py:123: UserWarning: Warning: in file test_videos/lanes_clip.mp4, 2764800 bytes wanted but 0 bytes read,at frame 417/1298, at time 8.34/25.94 sec. Using the last valid frame instead.\n",
            "  warnings.warn(\"Warning: in file %s, \"%(self.filename)+\n",
            "\n",
            "WARNING:py.warnings:/usr/local/lib/python3.10/dist-packages/moviepy/video/io/ffmpeg_reader.py:123: UserWarning: Warning: in file test_videos/lanes_clip.mp4, 2764800 bytes wanted but 0 bytes read,at frame 418/1298, at time 8.36/25.94 sec. Using the last valid frame instead.\n",
            "  warnings.warn(\"Warning: in file %s, \"%(self.filename)+\n",
            "\n",
            "WARNING:py.warnings:/usr/local/lib/python3.10/dist-packages/moviepy/video/io/ffmpeg_reader.py:123: UserWarning: Warning: in file test_videos/lanes_clip.mp4, 2764800 bytes wanted but 0 bytes read,at frame 419/1298, at time 8.38/25.94 sec. Using the last valid frame instead.\n",
            "  warnings.warn(\"Warning: in file %s, \"%(self.filename)+\n",
            "\n",
            "t:  32%|███▏      | 421/1297 [00:35<00:46, 18.68it/s, now=None]WARNING:py.warnings:/usr/local/lib/python3.10/dist-packages/moviepy/video/io/ffmpeg_reader.py:123: UserWarning: Warning: in file test_videos/lanes_clip.mp4, 2764800 bytes wanted but 0 bytes read,at frame 420/1298, at time 8.40/25.94 sec. Using the last valid frame instead.\n",
            "  warnings.warn(\"Warning: in file %s, \"%(self.filename)+\n",
            "\n"
          ]
        },
        {
          "output_type": "stream",
          "name": "stdout",
          "text": [
            "(0.001, 0) [   1.01350267 -287.03663102]\n",
            "(0.001, 0) [   1.01350267 -287.03663102]\n",
            "(0.001, 0) [   1.01350267 -287.03663102]\n",
            "(0.001, 0) [   1.01350267 -287.03663102]\n",
            "(0.001, 0) [   1.01350267 -287.03663102]\n"
          ]
        },
        {
          "output_type": "stream",
          "name": "stderr",
          "text": [
            "WARNING:py.warnings:/usr/local/lib/python3.10/dist-packages/moviepy/video/io/ffmpeg_reader.py:123: UserWarning: Warning: in file test_videos/lanes_clip.mp4, 2764800 bytes wanted but 0 bytes read,at frame 421/1298, at time 8.42/25.94 sec. Using the last valid frame instead.\n",
            "  warnings.warn(\"Warning: in file %s, \"%(self.filename)+\n",
            "\n",
            "WARNING:py.warnings:/usr/local/lib/python3.10/dist-packages/moviepy/video/io/ffmpeg_reader.py:123: UserWarning: Warning: in file test_videos/lanes_clip.mp4, 2764800 bytes wanted but 0 bytes read,at frame 422/1298, at time 8.44/25.94 sec. Using the last valid frame instead.\n",
            "  warnings.warn(\"Warning: in file %s, \"%(self.filename)+\n",
            "\n",
            "t:  33%|███▎      | 424/1297 [00:35<00:44, 19.79it/s, now=None]WARNING:py.warnings:/usr/local/lib/python3.10/dist-packages/moviepy/video/io/ffmpeg_reader.py:123: UserWarning: Warning: in file test_videos/lanes_clip.mp4, 2764800 bytes wanted but 0 bytes read,at frame 423/1298, at time 8.46/25.94 sec. Using the last valid frame instead.\n",
            "  warnings.warn(\"Warning: in file %s, \"%(self.filename)+\n",
            "\n",
            "WARNING:py.warnings:/usr/local/lib/python3.10/dist-packages/moviepy/video/io/ffmpeg_reader.py:123: UserWarning: Warning: in file test_videos/lanes_clip.mp4, 2764800 bytes wanted but 0 bytes read,at frame 424/1298, at time 8.48/25.94 sec. Using the last valid frame instead.\n",
            "  warnings.warn(\"Warning: in file %s, \"%(self.filename)+\n",
            "\n",
            "t:  33%|███▎      | 426/1297 [00:35<00:48, 18.13it/s, now=None]WARNING:py.warnings:/usr/local/lib/python3.10/dist-packages/moviepy/video/io/ffmpeg_reader.py:123: UserWarning: Warning: in file test_videos/lanes_clip.mp4, 2764800 bytes wanted but 0 bytes read,at frame 425/1298, at time 8.50/25.94 sec. Using the last valid frame instead.\n",
            "  warnings.warn(\"Warning: in file %s, \"%(self.filename)+\n",
            "\n"
          ]
        },
        {
          "output_type": "stream",
          "name": "stdout",
          "text": [
            "(0.001, 0) [   1.01350267 -287.03663102]\n",
            "(0.001, 0) [   1.01350267 -287.03663102]\n",
            "(0.001, 0) [   1.01350267 -287.03663102]\n",
            "(0.001, 0) [   1.01350267 -287.03663102]\n"
          ]
        },
        {
          "output_type": "stream",
          "name": "stderr",
          "text": [
            "WARNING:py.warnings:/usr/local/lib/python3.10/dist-packages/moviepy/video/io/ffmpeg_reader.py:123: UserWarning: Warning: in file test_videos/lanes_clip.mp4, 2764800 bytes wanted but 0 bytes read,at frame 426/1298, at time 8.52/25.94 sec. Using the last valid frame instead.\n",
            "  warnings.warn(\"Warning: in file %s, \"%(self.filename)+\n",
            "\n",
            "WARNING:py.warnings:/usr/local/lib/python3.10/dist-packages/moviepy/video/io/ffmpeg_reader.py:123: UserWarning: Warning: in file test_videos/lanes_clip.mp4, 2764800 bytes wanted but 0 bytes read,at frame 427/1298, at time 8.54/25.94 sec. Using the last valid frame instead.\n",
            "  warnings.warn(\"Warning: in file %s, \"%(self.filename)+\n",
            "\n",
            "t:  33%|███▎      | 429/1297 [00:35<00:49, 17.54it/s, now=None]WARNING:py.warnings:/usr/local/lib/python3.10/dist-packages/moviepy/video/io/ffmpeg_reader.py:123: UserWarning: Warning: in file test_videos/lanes_clip.mp4, 2764800 bytes wanted but 0 bytes read,at frame 428/1298, at time 8.56/25.94 sec. Using the last valid frame instead.\n",
            "  warnings.warn(\"Warning: in file %s, \"%(self.filename)+\n",
            "\n"
          ]
        },
        {
          "output_type": "stream",
          "name": "stdout",
          "text": [
            "(0.001, 0) [   1.01350267 -287.03663102]\n",
            "(0.001, 0) [   1.01350267 -287.03663102]\n",
            "(0.001, 0) [   1.01350267 -287.03663102]\n",
            "(0.001, 0) [   1.01350267 -287.03663102]\n"
          ]
        },
        {
          "output_type": "stream",
          "name": "stderr",
          "text": [
            "WARNING:py.warnings:/usr/local/lib/python3.10/dist-packages/moviepy/video/io/ffmpeg_reader.py:123: UserWarning: Warning: in file test_videos/lanes_clip.mp4, 2764800 bytes wanted but 0 bytes read,at frame 429/1298, at time 8.58/25.94 sec. Using the last valid frame instead.\n",
            "  warnings.warn(\"Warning: in file %s, \"%(self.filename)+\n",
            "\n",
            "t:  33%|███▎      | 431/1297 [00:35<00:49, 17.66it/s, now=None]WARNING:py.warnings:/usr/local/lib/python3.10/dist-packages/moviepy/video/io/ffmpeg_reader.py:123: UserWarning: Warning: in file test_videos/lanes_clip.mp4, 2764800 bytes wanted but 0 bytes read,at frame 430/1298, at time 8.60/25.94 sec. Using the last valid frame instead.\n",
            "  warnings.warn(\"Warning: in file %s, \"%(self.filename)+\n",
            "\n",
            "WARNING:py.warnings:/usr/local/lib/python3.10/dist-packages/moviepy/video/io/ffmpeg_reader.py:123: UserWarning: Warning: in file test_videos/lanes_clip.mp4, 2764800 bytes wanted but 0 bytes read,at frame 431/1298, at time 8.62/25.94 sec. Using the last valid frame instead.\n",
            "  warnings.warn(\"Warning: in file %s, \"%(self.filename)+\n",
            "\n",
            "t:  33%|███▎      | 433/1297 [00:36<00:49, 17.61it/s, now=None]WARNING:py.warnings:/usr/local/lib/python3.10/dist-packages/moviepy/video/io/ffmpeg_reader.py:123: UserWarning: Warning: in file test_videos/lanes_clip.mp4, 2764800 bytes wanted but 0 bytes read,at frame 432/1298, at time 8.64/25.94 sec. Using the last valid frame instead.\n",
            "  warnings.warn(\"Warning: in file %s, \"%(self.filename)+\n",
            "\n",
            "WARNING:py.warnings:/usr/local/lib/python3.10/dist-packages/moviepy/video/io/ffmpeg_reader.py:123: UserWarning: Warning: in file test_videos/lanes_clip.mp4, 2764800 bytes wanted but 0 bytes read,at frame 433/1298, at time 8.66/25.94 sec. Using the last valid frame instead.\n",
            "  warnings.warn(\"Warning: in file %s, \"%(self.filename)+\n",
            "\n"
          ]
        },
        {
          "output_type": "stream",
          "name": "stdout",
          "text": [
            "(0.001, 0) [   1.01350267 -287.03663102]\n",
            "(0.001, 0) [   1.01350267 -287.03663102]\n",
            "(0.001, 0) [   1.01350267 -287.03663102]\n",
            "(0.001, 0) [   1.01350267 -287.03663102]\n"
          ]
        },
        {
          "output_type": "stream",
          "name": "stderr",
          "text": [
            "WARNING:py.warnings:/usr/local/lib/python3.10/dist-packages/moviepy/video/io/ffmpeg_reader.py:123: UserWarning: Warning: in file test_videos/lanes_clip.mp4, 2764800 bytes wanted but 0 bytes read,at frame 434/1298, at time 8.68/25.94 sec. Using the last valid frame instead.\n",
            "  warnings.warn(\"Warning: in file %s, \"%(self.filename)+\n",
            "\n",
            "t:  34%|███▎      | 436/1297 [00:36<00:45, 18.93it/s, now=None]WARNING:py.warnings:/usr/local/lib/python3.10/dist-packages/moviepy/video/io/ffmpeg_reader.py:123: UserWarning: Warning: in file test_videos/lanes_clip.mp4, 2764800 bytes wanted but 0 bytes read,at frame 435/1298, at time 8.70/25.94 sec. Using the last valid frame instead.\n",
            "  warnings.warn(\"Warning: in file %s, \"%(self.filename)+\n",
            "\n",
            "WARNING:py.warnings:/usr/local/lib/python3.10/dist-packages/moviepy/video/io/ffmpeg_reader.py:123: UserWarning: Warning: in file test_videos/lanes_clip.mp4, 2764800 bytes wanted but 0 bytes read,at frame 436/1298, at time 8.72/25.94 sec. Using the last valid frame instead.\n",
            "  warnings.warn(\"Warning: in file %s, \"%(self.filename)+\n",
            "\n",
            "t:  34%|███▍      | 438/1297 [00:36<00:45, 18.84it/s, now=None]WARNING:py.warnings:/usr/local/lib/python3.10/dist-packages/moviepy/video/io/ffmpeg_reader.py:123: UserWarning: Warning: in file test_videos/lanes_clip.mp4, 2764800 bytes wanted but 0 bytes read,at frame 437/1298, at time 8.74/25.94 sec. Using the last valid frame instead.\n",
            "  warnings.warn(\"Warning: in file %s, \"%(self.filename)+\n",
            "\n"
          ]
        },
        {
          "output_type": "stream",
          "name": "stdout",
          "text": [
            "(0.001, 0) [   1.01350267 -287.03663102]\n",
            "(0.001, 0) [   1.01350267 -287.03663102]\n",
            "(0.001, 0) [   1.01350267 -287.03663102]\n",
            "(0.001, 0) [   1.01350267 -287.03663102]\n",
            "(0.001, 0) [   1.01350267 -287.03663102]\n"
          ]
        },
        {
          "output_type": "stream",
          "name": "stderr",
          "text": [
            "WARNING:py.warnings:/usr/local/lib/python3.10/dist-packages/moviepy/video/io/ffmpeg_reader.py:123: UserWarning: Warning: in file test_videos/lanes_clip.mp4, 2764800 bytes wanted but 0 bytes read,at frame 438/1298, at time 8.76/25.94 sec. Using the last valid frame instead.\n",
            "  warnings.warn(\"Warning: in file %s, \"%(self.filename)+\n",
            "\n",
            "WARNING:py.warnings:/usr/local/lib/python3.10/dist-packages/moviepy/video/io/ffmpeg_reader.py:123: UserWarning: Warning: in file test_videos/lanes_clip.mp4, 2764800 bytes wanted but 0 bytes read,at frame 439/1298, at time 8.78/25.94 sec. Using the last valid frame instead.\n",
            "  warnings.warn(\"Warning: in file %s, \"%(self.filename)+\n",
            "\n",
            "t:  34%|███▍      | 441/1297 [00:36<00:46, 18.54it/s, now=None]WARNING:py.warnings:/usr/local/lib/python3.10/dist-packages/moviepy/video/io/ffmpeg_reader.py:123: UserWarning: Warning: in file test_videos/lanes_clip.mp4, 2764800 bytes wanted but 0 bytes read,at frame 440/1298, at time 8.80/25.94 sec. Using the last valid frame instead.\n",
            "  warnings.warn(\"Warning: in file %s, \"%(self.filename)+\n",
            "\n",
            "WARNING:py.warnings:/usr/local/lib/python3.10/dist-packages/moviepy/video/io/ffmpeg_reader.py:123: UserWarning: Warning: in file test_videos/lanes_clip.mp4, 2764800 bytes wanted but 0 bytes read,at frame 441/1298, at time 8.82/25.94 sec. Using the last valid frame instead.\n",
            "  warnings.warn(\"Warning: in file %s, \"%(self.filename)+\n",
            "\n",
            "WARNING:py.warnings:/usr/local/lib/python3.10/dist-packages/moviepy/video/io/ffmpeg_reader.py:123: UserWarning: Warning: in file test_videos/lanes_clip.mp4, 2764800 bytes wanted but 0 bytes read,at frame 442/1298, at time 8.84/25.94 sec. Using the last valid frame instead.\n",
            "  warnings.warn(\"Warning: in file %s, \"%(self.filename)+\n",
            "\n"
          ]
        },
        {
          "output_type": "stream",
          "name": "stdout",
          "text": [
            "(0.001, 0) [   1.01350267 -287.03663102]\n",
            "(0.001, 0) [   1.01350267 -287.03663102]\n",
            "(0.001, 0) [   1.01350267 -287.03663102]\n",
            "(0.001, 0) [   1.01350267 -287.03663102]\n"
          ]
        },
        {
          "output_type": "stream",
          "name": "stderr",
          "text": [
            "\rt:  34%|███▍      | 444/1297 [00:36<00:42, 19.98it/s, now=None]WARNING:py.warnings:/usr/local/lib/python3.10/dist-packages/moviepy/video/io/ffmpeg_reader.py:123: UserWarning: Warning: in file test_videos/lanes_clip.mp4, 2764800 bytes wanted but 0 bytes read,at frame 443/1298, at time 8.86/25.94 sec. Using the last valid frame instead.\n",
            "  warnings.warn(\"Warning: in file %s, \"%(self.filename)+\n",
            "\n",
            "WARNING:py.warnings:/usr/local/lib/python3.10/dist-packages/moviepy/video/io/ffmpeg_reader.py:123: UserWarning: Warning: in file test_videos/lanes_clip.mp4, 2764800 bytes wanted but 0 bytes read,at frame 444/1298, at time 8.88/25.94 sec. Using the last valid frame instead.\n",
            "  warnings.warn(\"Warning: in file %s, \"%(self.filename)+\n",
            "\n",
            "WARNING:py.warnings:/usr/local/lib/python3.10/dist-packages/moviepy/video/io/ffmpeg_reader.py:123: UserWarning: Warning: in file test_videos/lanes_clip.mp4, 2764800 bytes wanted but 0 bytes read,at frame 445/1298, at time 8.90/25.94 sec. Using the last valid frame instead.\n",
            "  warnings.warn(\"Warning: in file %s, \"%(self.filename)+\n",
            "\n"
          ]
        },
        {
          "output_type": "stream",
          "name": "stdout",
          "text": [
            "(0.001, 0) [   1.01350267 -287.03663102]\n",
            "(0.001, 0) [   1.01350267 -287.03663102]\n",
            "(0.001, 0) [   1.01350267 -287.03663102]\n"
          ]
        },
        {
          "output_type": "stream",
          "name": "stderr",
          "text": [
            "\rt:  34%|███▍      | 447/1297 [00:36<00:48, 17.69it/s, now=None]WARNING:py.warnings:/usr/local/lib/python3.10/dist-packages/moviepy/video/io/ffmpeg_reader.py:123: UserWarning: Warning: in file test_videos/lanes_clip.mp4, 2764800 bytes wanted but 0 bytes read,at frame 446/1298, at time 8.92/25.94 sec. Using the last valid frame instead.\n",
            "  warnings.warn(\"Warning: in file %s, \"%(self.filename)+\n",
            "\n",
            "WARNING:py.warnings:/usr/local/lib/python3.10/dist-packages/moviepy/video/io/ffmpeg_reader.py:123: UserWarning: Warning: in file test_videos/lanes_clip.mp4, 2764800 bytes wanted but 0 bytes read,at frame 447/1298, at time 8.94/25.94 sec. Using the last valid frame instead.\n",
            "  warnings.warn(\"Warning: in file %s, \"%(self.filename)+\n",
            "\n",
            "t:  35%|███▍      | 449/1297 [00:36<00:47, 17.76it/s, now=None]WARNING:py.warnings:/usr/local/lib/python3.10/dist-packages/moviepy/video/io/ffmpeg_reader.py:123: UserWarning: Warning: in file test_videos/lanes_clip.mp4, 2764800 bytes wanted but 0 bytes read,at frame 448/1298, at time 8.96/25.94 sec. Using the last valid frame instead.\n",
            "  warnings.warn(\"Warning: in file %s, \"%(self.filename)+\n",
            "\n",
            "WARNING:py.warnings:/usr/local/lib/python3.10/dist-packages/moviepy/video/io/ffmpeg_reader.py:123: UserWarning: Warning: in file test_videos/lanes_clip.mp4, 2764800 bytes wanted but 0 bytes read,at frame 449/1298, at time 8.98/25.94 sec. Using the last valid frame instead.\n",
            "  warnings.warn(\"Warning: in file %s, \"%(self.filename)+\n",
            "\n",
            "WARNING:py.warnings:/usr/local/lib/python3.10/dist-packages/moviepy/video/io/ffmpeg_reader.py:123: UserWarning: Warning: in file test_videos/lanes_clip.mp4, 2764800 bytes wanted but 0 bytes read,at frame 450/1298, at time 9.00/25.94 sec. Using the last valid frame instead.\n",
            "  warnings.warn(\"Warning: in file %s, \"%(self.filename)+\n",
            "\n"
          ]
        },
        {
          "output_type": "stream",
          "name": "stdout",
          "text": [
            "(0.001, 0) [   1.01350267 -287.03663102]\n",
            "(0.001, 0) [   1.01350267 -287.03663102]\n",
            "(0.001, 0) [   1.01350267 -287.03663102]\n",
            "(0.001, 0) [   1.01350267 -287.03663102]\n",
            "(0.001, 0) [   1.01350267 -287.03663102]\n"
          ]
        },
        {
          "output_type": "stream",
          "name": "stderr",
          "text": [
            "\rt:  35%|███▍      | 452/1297 [00:37<00:42, 19.88it/s, now=None]WARNING:py.warnings:/usr/local/lib/python3.10/dist-packages/moviepy/video/io/ffmpeg_reader.py:123: UserWarning: Warning: in file test_videos/lanes_clip.mp4, 2764800 bytes wanted but 0 bytes read,at frame 451/1298, at time 9.02/25.94 sec. Using the last valid frame instead.\n",
            "  warnings.warn(\"Warning: in file %s, \"%(self.filename)+\n",
            "\n",
            "WARNING:py.warnings:/usr/local/lib/python3.10/dist-packages/moviepy/video/io/ffmpeg_reader.py:123: UserWarning: Warning: in file test_videos/lanes_clip.mp4, 2764800 bytes wanted but 0 bytes read,at frame 452/1298, at time 9.04/25.94 sec. Using the last valid frame instead.\n",
            "  warnings.warn(\"Warning: in file %s, \"%(self.filename)+\n",
            "\n",
            "WARNING:py.warnings:/usr/local/lib/python3.10/dist-packages/moviepy/video/io/ffmpeg_reader.py:123: UserWarning: Warning: in file test_videos/lanes_clip.mp4, 2764800 bytes wanted but 0 bytes read,at frame 453/1298, at time 9.06/25.94 sec. Using the last valid frame instead.\n",
            "  warnings.warn(\"Warning: in file %s, \"%(self.filename)+\n",
            "\n",
            "t:  35%|███▌      | 455/1297 [00:37<00:38, 21.76it/s, now=None]WARNING:py.warnings:/usr/local/lib/python3.10/dist-packages/moviepy/video/io/ffmpeg_reader.py:123: UserWarning: Warning: in file test_videos/lanes_clip.mp4, 2764800 bytes wanted but 0 bytes read,at frame 454/1298, at time 9.08/25.94 sec. Using the last valid frame instead.\n",
            "  warnings.warn(\"Warning: in file %s, \"%(self.filename)+\n",
            "\n",
            "WARNING:py.warnings:/usr/local/lib/python3.10/dist-packages/moviepy/video/io/ffmpeg_reader.py:123: UserWarning: Warning: in file test_videos/lanes_clip.mp4, 2764800 bytes wanted but 0 bytes read,at frame 455/1298, at time 9.10/25.94 sec. Using the last valid frame instead.\n",
            "  warnings.warn(\"Warning: in file %s, \"%(self.filename)+\n",
            "\n",
            "WARNING:py.warnings:/usr/local/lib/python3.10/dist-packages/moviepy/video/io/ffmpeg_reader.py:123: UserWarning: Warning: in file test_videos/lanes_clip.mp4, 2764800 bytes wanted but 0 bytes read,at frame 456/1298, at time 9.12/25.94 sec. Using the last valid frame instead.\n",
            "  warnings.warn(\"Warning: in file %s, \"%(self.filename)+\n",
            "\n"
          ]
        },
        {
          "output_type": "stream",
          "name": "stdout",
          "text": [
            "(0.001, 0) [   1.01350267 -287.03663102]\n",
            "(0.001, 0) [   1.01350267 -287.03663102]\n",
            "(0.001, 0) [   1.01350267 -287.03663102]\n",
            "(0.001, 0) [   1.01350267 -287.03663102]\n",
            "(0.001, 0) [   1.01350267 -287.03663102]\n",
            "(0.001, 0) [   1.01350267 -287.03663102]\n"
          ]
        },
        {
          "output_type": "stream",
          "name": "stderr",
          "text": [
            "WARNING:py.warnings:/usr/local/lib/python3.10/dist-packages/moviepy/video/io/ffmpeg_reader.py:123: UserWarning: Warning: in file test_videos/lanes_clip.mp4, 2764800 bytes wanted but 0 bytes read,at frame 457/1298, at time 9.14/25.94 sec. Using the last valid frame instead.\n",
            "  warnings.warn(\"Warning: in file %s, \"%(self.filename)+\n",
            "\n",
            "t:  35%|███▌      | 459/1297 [00:37<00:33, 24.65it/s, now=None]WARNING:py.warnings:/usr/local/lib/python3.10/dist-packages/moviepy/video/io/ffmpeg_reader.py:123: UserWarning: Warning: in file test_videos/lanes_clip.mp4, 2764800 bytes wanted but 0 bytes read,at frame 458/1298, at time 9.16/25.94 sec. Using the last valid frame instead.\n",
            "  warnings.warn(\"Warning: in file %s, \"%(self.filename)+\n",
            "\n",
            "WARNING:py.warnings:/usr/local/lib/python3.10/dist-packages/moviepy/video/io/ffmpeg_reader.py:123: UserWarning: Warning: in file test_videos/lanes_clip.mp4, 2764800 bytes wanted but 0 bytes read,at frame 459/1298, at time 9.18/25.94 sec. Using the last valid frame instead.\n",
            "  warnings.warn(\"Warning: in file %s, \"%(self.filename)+\n",
            "\n",
            "WARNING:py.warnings:/usr/local/lib/python3.10/dist-packages/moviepy/video/io/ffmpeg_reader.py:123: UserWarning: Warning: in file test_videos/lanes_clip.mp4, 2764800 bytes wanted but 0 bytes read,at frame 460/1298, at time 9.20/25.94 sec. Using the last valid frame instead.\n",
            "  warnings.warn(\"Warning: in file %s, \"%(self.filename)+\n",
            "\n",
            "t:  36%|███▌      | 462/1297 [00:37<00:33, 24.89it/s, now=None]WARNING:py.warnings:/usr/local/lib/python3.10/dist-packages/moviepy/video/io/ffmpeg_reader.py:123: UserWarning: Warning: in file test_videos/lanes_clip.mp4, 2764800 bytes wanted but 0 bytes read,at frame 461/1298, at time 9.22/25.94 sec. Using the last valid frame instead.\n",
            "  warnings.warn(\"Warning: in file %s, \"%(self.filename)+\n",
            "\n"
          ]
        },
        {
          "output_type": "stream",
          "name": "stdout",
          "text": [
            "(0.001, 0) [   1.01350267 -287.03663102]\n",
            "(0.001, 0) [   1.01350267 -287.03663102]\n",
            "(0.001, 0) [   1.01350267 -287.03663102]\n",
            "(0.001, 0) [   1.01350267 -287.03663102]\n",
            "(0.001, 0) [   1.01350267 -287.03663102]\n",
            "(0.001, 0) [   1.01350267 -287.03663102]\n"
          ]
        },
        {
          "output_type": "stream",
          "name": "stderr",
          "text": [
            "WARNING:py.warnings:/usr/local/lib/python3.10/dist-packages/moviepy/video/io/ffmpeg_reader.py:123: UserWarning: Warning: in file test_videos/lanes_clip.mp4, 2764800 bytes wanted but 0 bytes read,at frame 462/1298, at time 9.24/25.94 sec. Using the last valid frame instead.\n",
            "  warnings.warn(\"Warning: in file %s, \"%(self.filename)+\n",
            "\n",
            "WARNING:py.warnings:/usr/local/lib/python3.10/dist-packages/moviepy/video/io/ffmpeg_reader.py:123: UserWarning: Warning: in file test_videos/lanes_clip.mp4, 2764800 bytes wanted but 0 bytes read,at frame 463/1298, at time 9.26/25.94 sec. Using the last valid frame instead.\n",
            "  warnings.warn(\"Warning: in file %s, \"%(self.filename)+\n",
            "\n",
            "t:  36%|███▌      | 465/1297 [00:37<00:32, 25.87it/s, now=None]WARNING:py.warnings:/usr/local/lib/python3.10/dist-packages/moviepy/video/io/ffmpeg_reader.py:123: UserWarning: Warning: in file test_videos/lanes_clip.mp4, 2764800 bytes wanted but 0 bytes read,at frame 464/1298, at time 9.28/25.94 sec. Using the last valid frame instead.\n",
            "  warnings.warn(\"Warning: in file %s, \"%(self.filename)+\n",
            "\n",
            "WARNING:py.warnings:/usr/local/lib/python3.10/dist-packages/moviepy/video/io/ffmpeg_reader.py:123: UserWarning: Warning: in file test_videos/lanes_clip.mp4, 2764800 bytes wanted but 0 bytes read,at frame 465/1298, at time 9.30/25.94 sec. Using the last valid frame instead.\n",
            "  warnings.warn(\"Warning: in file %s, \"%(self.filename)+\n",
            "\n",
            "WARNING:py.warnings:/usr/local/lib/python3.10/dist-packages/moviepy/video/io/ffmpeg_reader.py:123: UserWarning: Warning: in file test_videos/lanes_clip.mp4, 2764800 bytes wanted but 0 bytes read,at frame 466/1298, at time 9.32/25.94 sec. Using the last valid frame instead.\n",
            "  warnings.warn(\"Warning: in file %s, \"%(self.filename)+\n",
            "\n",
            "t:  36%|███▌      | 468/1297 [00:37<00:31, 26.57it/s, now=None]WARNING:py.warnings:/usr/local/lib/python3.10/dist-packages/moviepy/video/io/ffmpeg_reader.py:123: UserWarning: Warning: in file test_videos/lanes_clip.mp4, 2764800 bytes wanted but 0 bytes read,at frame 467/1298, at time 9.34/25.94 sec. Using the last valid frame instead.\n",
            "  warnings.warn(\"Warning: in file %s, \"%(self.filename)+\n",
            "\n",
            "WARNING:py.warnings:/usr/local/lib/python3.10/dist-packages/moviepy/video/io/ffmpeg_reader.py:123: UserWarning: Warning: in file test_videos/lanes_clip.mp4, 2764800 bytes wanted but 0 bytes read,at frame 468/1298, at time 9.36/25.94 sec. Using the last valid frame instead.\n",
            "  warnings.warn(\"Warning: in file %s, \"%(self.filename)+\n",
            "\n"
          ]
        },
        {
          "output_type": "stream",
          "name": "stdout",
          "text": [
            "(0.001, 0) [   1.01350267 -287.03663102]\n",
            "(0.001, 0) [   1.01350267 -287.03663102]\n",
            "(0.001, 0) [   1.01350267 -287.03663102]\n",
            "(0.001, 0) [   1.01350267 -287.03663102]\n",
            "(0.001, 0) [   1.01350267 -287.03663102]\n",
            "(0.001, 0) [   1.01350267 -287.03663102]\n",
            "(0.001, 0) [   1.01350267 -287.03663102]\n"
          ]
        },
        {
          "output_type": "stream",
          "name": "stderr",
          "text": [
            "WARNING:py.warnings:/usr/local/lib/python3.10/dist-packages/moviepy/video/io/ffmpeg_reader.py:123: UserWarning: Warning: in file test_videos/lanes_clip.mp4, 2764800 bytes wanted but 0 bytes read,at frame 469/1298, at time 9.38/25.94 sec. Using the last valid frame instead.\n",
            "  warnings.warn(\"Warning: in file %s, \"%(self.filename)+\n",
            "\n",
            "t:  36%|███▋      | 471/1297 [00:37<00:33, 24.39it/s, now=None]WARNING:py.warnings:/usr/local/lib/python3.10/dist-packages/moviepy/video/io/ffmpeg_reader.py:123: UserWarning: Warning: in file test_videos/lanes_clip.mp4, 2764800 bytes wanted but 0 bytes read,at frame 470/1298, at time 9.40/25.94 sec. Using the last valid frame instead.\n",
            "  warnings.warn(\"Warning: in file %s, \"%(self.filename)+\n",
            "\n",
            "WARNING:py.warnings:/usr/local/lib/python3.10/dist-packages/moviepy/video/io/ffmpeg_reader.py:123: UserWarning: Warning: in file test_videos/lanes_clip.mp4, 2764800 bytes wanted but 0 bytes read,at frame 471/1298, at time 9.42/25.94 sec. Using the last valid frame instead.\n",
            "  warnings.warn(\"Warning: in file %s, \"%(self.filename)+\n",
            "\n",
            "WARNING:py.warnings:/usr/local/lib/python3.10/dist-packages/moviepy/video/io/ffmpeg_reader.py:123: UserWarning: Warning: in file test_videos/lanes_clip.mp4, 2764800 bytes wanted but 0 bytes read,at frame 472/1298, at time 9.44/25.94 sec. Using the last valid frame instead.\n",
            "  warnings.warn(\"Warning: in file %s, \"%(self.filename)+\n",
            "\n",
            "t:  37%|███▋      | 474/1297 [00:37<00:33, 24.82it/s, now=None]WARNING:py.warnings:/usr/local/lib/python3.10/dist-packages/moviepy/video/io/ffmpeg_reader.py:123: UserWarning: Warning: in file test_videos/lanes_clip.mp4, 2764800 bytes wanted but 0 bytes read,at frame 473/1298, at time 9.46/25.94 sec. Using the last valid frame instead.\n",
            "  warnings.warn(\"Warning: in file %s, \"%(self.filename)+\n",
            "\n"
          ]
        },
        {
          "output_type": "stream",
          "name": "stdout",
          "text": [
            "(0.001, 0) [   1.01350267 -287.03663102]\n",
            "(0.001, 0) [   1.01350267 -287.03663102]\n",
            "(0.001, 0) [   1.01350267 -287.03663102]\n",
            "(0.001, 0) [   1.01350267 -287.03663102]\n",
            "(0.001, 0) [   1.01350267 -287.03663102]\n"
          ]
        },
        {
          "output_type": "stream",
          "name": "stderr",
          "text": [
            "WARNING:py.warnings:/usr/local/lib/python3.10/dist-packages/moviepy/video/io/ffmpeg_reader.py:123: UserWarning: Warning: in file test_videos/lanes_clip.mp4, 2764800 bytes wanted but 0 bytes read,at frame 474/1298, at time 9.48/25.94 sec. Using the last valid frame instead.\n",
            "  warnings.warn(\"Warning: in file %s, \"%(self.filename)+\n",
            "\n",
            "WARNING:py.warnings:/usr/local/lib/python3.10/dist-packages/moviepy/video/io/ffmpeg_reader.py:123: UserWarning: Warning: in file test_videos/lanes_clip.mp4, 2764800 bytes wanted but 0 bytes read,at frame 475/1298, at time 9.50/25.94 sec. Using the last valid frame instead.\n",
            "  warnings.warn(\"Warning: in file %s, \"%(self.filename)+\n",
            "\n",
            "t:  37%|███▋      | 477/1297 [00:37<00:36, 22.50it/s, now=None]WARNING:py.warnings:/usr/local/lib/python3.10/dist-packages/moviepy/video/io/ffmpeg_reader.py:123: UserWarning: Warning: in file test_videos/lanes_clip.mp4, 2764800 bytes wanted but 0 bytes read,at frame 476/1298, at time 9.52/25.94 sec. Using the last valid frame instead.\n",
            "  warnings.warn(\"Warning: in file %s, \"%(self.filename)+\n",
            "\n",
            "WARNING:py.warnings:/usr/local/lib/python3.10/dist-packages/moviepy/video/io/ffmpeg_reader.py:123: UserWarning: Warning: in file test_videos/lanes_clip.mp4, 2764800 bytes wanted but 0 bytes read,at frame 477/1298, at time 9.54/25.94 sec. Using the last valid frame instead.\n",
            "  warnings.warn(\"Warning: in file %s, \"%(self.filename)+\n",
            "\n",
            "WARNING:py.warnings:/usr/local/lib/python3.10/dist-packages/moviepy/video/io/ffmpeg_reader.py:123: UserWarning: Warning: in file test_videos/lanes_clip.mp4, 2764800 bytes wanted but 0 bytes read,at frame 478/1298, at time 9.56/25.94 sec. Using the last valid frame instead.\n",
            "  warnings.warn(\"Warning: in file %s, \"%(self.filename)+\n",
            "\n"
          ]
        },
        {
          "output_type": "stream",
          "name": "stdout",
          "text": [
            "(0.001, 0) [   1.01350267 -287.03663102]\n",
            "(0.001, 0) [   1.01350267 -287.03663102]\n",
            "(0.001, 0) [   1.01350267 -287.03663102]\n",
            "(0.001, 0) [   1.01350267 -287.03663102]\n",
            "(0.001, 0) [   1.01350267 -287.03663102]\n"
          ]
        },
        {
          "output_type": "stream",
          "name": "stderr",
          "text": [
            "\rt:  37%|███▋      | 480/1297 [00:38<00:38, 21.46it/s, now=None]WARNING:py.warnings:/usr/local/lib/python3.10/dist-packages/moviepy/video/io/ffmpeg_reader.py:123: UserWarning: Warning: in file test_videos/lanes_clip.mp4, 2764800 bytes wanted but 0 bytes read,at frame 479/1298, at time 9.58/25.94 sec. Using the last valid frame instead.\n",
            "  warnings.warn(\"Warning: in file %s, \"%(self.filename)+\n",
            "\n",
            "WARNING:py.warnings:/usr/local/lib/python3.10/dist-packages/moviepy/video/io/ffmpeg_reader.py:123: UserWarning: Warning: in file test_videos/lanes_clip.mp4, 2764800 bytes wanted but 0 bytes read,at frame 480/1298, at time 9.60/25.94 sec. Using the last valid frame instead.\n",
            "  warnings.warn(\"Warning: in file %s, \"%(self.filename)+\n",
            "\n",
            "WARNING:py.warnings:/usr/local/lib/python3.10/dist-packages/moviepy/video/io/ffmpeg_reader.py:123: UserWarning: Warning: in file test_videos/lanes_clip.mp4, 2764800 bytes wanted but 0 bytes read,at frame 481/1298, at time 9.62/25.94 sec. Using the last valid frame instead.\n",
            "  warnings.warn(\"Warning: in file %s, \"%(self.filename)+\n",
            "\n",
            "t:  37%|███▋      | 483/1297 [00:38<00:41, 19.85it/s, now=None]WARNING:py.warnings:/usr/local/lib/python3.10/dist-packages/moviepy/video/io/ffmpeg_reader.py:123: UserWarning: Warning: in file test_videos/lanes_clip.mp4, 2764800 bytes wanted but 0 bytes read,at frame 482/1298, at time 9.64/25.94 sec. Using the last valid frame instead.\n",
            "  warnings.warn(\"Warning: in file %s, \"%(self.filename)+\n",
            "\n",
            "WARNING:py.warnings:/usr/local/lib/python3.10/dist-packages/moviepy/video/io/ffmpeg_reader.py:123: UserWarning: Warning: in file test_videos/lanes_clip.mp4, 2764800 bytes wanted but 0 bytes read,at frame 483/1298, at time 9.66/25.94 sec. Using the last valid frame instead.\n",
            "  warnings.warn(\"Warning: in file %s, \"%(self.filename)+\n",
            "\n"
          ]
        },
        {
          "output_type": "stream",
          "name": "stdout",
          "text": [
            "(0.001, 0) [   1.01350267 -287.03663102]\n",
            "(0.001, 0) [   1.01350267 -287.03663102]\n",
            "(0.001, 0) [   1.01350267 -287.03663102]\n",
            "(0.001, 0) [   1.01350267 -287.03663102]\n",
            "(0.001, 0) [   1.01350267 -287.03663102]\n"
          ]
        },
        {
          "output_type": "stream",
          "name": "stderr",
          "text": [
            "WARNING:py.warnings:/usr/local/lib/python3.10/dist-packages/moviepy/video/io/ffmpeg_reader.py:123: UserWarning: Warning: in file test_videos/lanes_clip.mp4, 2764800 bytes wanted but 0 bytes read,at frame 484/1298, at time 9.68/25.94 sec. Using the last valid frame instead.\n",
            "  warnings.warn(\"Warning: in file %s, \"%(self.filename)+\n",
            "\n",
            "t:  37%|███▋      | 486/1297 [00:38<00:42, 19.26it/s, now=None]WARNING:py.warnings:/usr/local/lib/python3.10/dist-packages/moviepy/video/io/ffmpeg_reader.py:123: UserWarning: Warning: in file test_videos/lanes_clip.mp4, 2764800 bytes wanted but 0 bytes read,at frame 485/1298, at time 9.70/25.94 sec. Using the last valid frame instead.\n",
            "  warnings.warn(\"Warning: in file %s, \"%(self.filename)+\n",
            "\n",
            "WARNING:py.warnings:/usr/local/lib/python3.10/dist-packages/moviepy/video/io/ffmpeg_reader.py:123: UserWarning: Warning: in file test_videos/lanes_clip.mp4, 2764800 bytes wanted but 0 bytes read,at frame 486/1298, at time 9.72/25.94 sec. Using the last valid frame instead.\n",
            "  warnings.warn(\"Warning: in file %s, \"%(self.filename)+\n",
            "\n",
            "WARNING:py.warnings:/usr/local/lib/python3.10/dist-packages/moviepy/video/io/ffmpeg_reader.py:123: UserWarning: Warning: in file test_videos/lanes_clip.mp4, 2764800 bytes wanted but 0 bytes read,at frame 487/1298, at time 9.74/25.94 sec. Using the last valid frame instead.\n",
            "  warnings.warn(\"Warning: in file %s, \"%(self.filename)+\n",
            "\n",
            "t:  38%|███▊      | 489/1297 [00:38<00:40, 19.93it/s, now=None]"
          ]
        },
        {
          "output_type": "stream",
          "name": "stdout",
          "text": [
            "(0.001, 0) [   1.01350267 -287.03663102]\n",
            "(0.001, 0) [   1.01350267 -287.03663102]\n",
            "(0.001, 0) [   1.01350267 -287.03663102]\n",
            "(0.001, 0) [   1.01350267 -287.03663102]\n"
          ]
        },
        {
          "output_type": "stream",
          "name": "stderr",
          "text": [
            "WARNING:py.warnings:/usr/local/lib/python3.10/dist-packages/moviepy/video/io/ffmpeg_reader.py:123: UserWarning: Warning: in file test_videos/lanes_clip.mp4, 2764800 bytes wanted but 0 bytes read,at frame 488/1298, at time 9.76/25.94 sec. Using the last valid frame instead.\n",
            "  warnings.warn(\"Warning: in file %s, \"%(self.filename)+\n",
            "\n",
            "WARNING:py.warnings:/usr/local/lib/python3.10/dist-packages/moviepy/video/io/ffmpeg_reader.py:123: UserWarning: Warning: in file test_videos/lanes_clip.mp4, 2764800 bytes wanted but 0 bytes read,at frame 489/1298, at time 9.78/25.94 sec. Using the last valid frame instead.\n",
            "  warnings.warn(\"Warning: in file %s, \"%(self.filename)+\n",
            "\n",
            "WARNING:py.warnings:/usr/local/lib/python3.10/dist-packages/moviepy/video/io/ffmpeg_reader.py:123: UserWarning: Warning: in file test_videos/lanes_clip.mp4, 2764800 bytes wanted but 0 bytes read,at frame 490/1298, at time 9.80/25.94 sec. Using the last valid frame instead.\n",
            "  warnings.warn(\"Warning: in file %s, \"%(self.filename)+\n",
            "\n"
          ]
        },
        {
          "output_type": "stream",
          "name": "stdout",
          "text": [
            "(0.001, 0) [   1.01350267 -287.03663102]\n",
            "(0.001, 0) [   1.01350267 -287.03663102]\n"
          ]
        },
        {
          "output_type": "stream",
          "name": "stderr",
          "text": [
            "\rt:  38%|███▊      | 492/1297 [00:38<00:50, 16.04it/s, now=None]WARNING:py.warnings:/usr/local/lib/python3.10/dist-packages/moviepy/video/io/ffmpeg_reader.py:123: UserWarning: Warning: in file test_videos/lanes_clip.mp4, 2764800 bytes wanted but 0 bytes read,at frame 491/1298, at time 9.82/25.94 sec. Using the last valid frame instead.\n",
            "  warnings.warn(\"Warning: in file %s, \"%(self.filename)+\n",
            "\n",
            "WARNING:py.warnings:/usr/local/lib/python3.10/dist-packages/moviepy/video/io/ffmpeg_reader.py:123: UserWarning: Warning: in file test_videos/lanes_clip.mp4, 2764800 bytes wanted but 0 bytes read,at frame 492/1298, at time 9.84/25.94 sec. Using the last valid frame instead.\n",
            "  warnings.warn(\"Warning: in file %s, \"%(self.filename)+\n",
            "\n",
            "t:  38%|███▊      | 494/1297 [00:39<00:49, 16.18it/s, now=None]WARNING:py.warnings:/usr/local/lib/python3.10/dist-packages/moviepy/video/io/ffmpeg_reader.py:123: UserWarning: Warning: in file test_videos/lanes_clip.mp4, 2764800 bytes wanted but 0 bytes read,at frame 493/1298, at time 9.86/25.94 sec. Using the last valid frame instead.\n",
            "  warnings.warn(\"Warning: in file %s, \"%(self.filename)+\n",
            "\n",
            "WARNING:py.warnings:/usr/local/lib/python3.10/dist-packages/moviepy/video/io/ffmpeg_reader.py:123: UserWarning: Warning: in file test_videos/lanes_clip.mp4, 2764800 bytes wanted but 0 bytes read,at frame 494/1298, at time 9.88/25.94 sec. Using the last valid frame instead.\n",
            "  warnings.warn(\"Warning: in file %s, \"%(self.filename)+\n",
            "\n"
          ]
        },
        {
          "output_type": "stream",
          "name": "stdout",
          "text": [
            "(0.001, 0) [   1.01350267 -287.03663102]\n",
            "(0.001, 0) [   1.01350267 -287.03663102]\n",
            "(0.001, 0) [   1.01350267 -287.03663102]\n",
            "(0.001, 0) [   1.01350267 -287.03663102]\n",
            "(0.001, 0)"
          ]
        },
        {
          "output_type": "stream",
          "name": "stderr",
          "text": [
            "WARNING:py.warnings:/usr/local/lib/python3.10/dist-packages/moviepy/video/io/ffmpeg_reader.py:123: UserWarning: Warning: in file test_videos/lanes_clip.mp4, 2764800 bytes wanted but 0 bytes read,at frame 495/1298, at time 9.90/25.94 sec. Using the last valid frame instead.\n",
            "  warnings.warn(\"Warning: in file %s, \"%(self.filename)+\n",
            "\n",
            "t:  38%|███▊      | 497/1297 [00:39<00:45, 17.50it/s, now=None]WARNING:py.warnings:/usr/local/lib/python3.10/dist-packages/moviepy/video/io/ffmpeg_reader.py:123: UserWarning: Warning: in file test_videos/lanes_clip.mp4, 2764800 bytes wanted but 0 bytes read,at frame 496/1298, at time 9.92/25.94 sec. Using the last valid frame instead.\n",
            "  warnings.warn(\"Warning: in file %s, \"%(self.filename)+\n",
            "\n",
            "WARNING:py.warnings:/usr/local/lib/python3.10/dist-packages/moviepy/video/io/ffmpeg_reader.py:123: UserWarning: Warning: in file test_videos/lanes_clip.mp4, 2764800 bytes wanted but 0 bytes read,at frame 497/1298, at time 9.94/25.94 sec. Using the last valid frame instead.\n",
            "  warnings.warn(\"Warning: in file %s, \"%(self.filename)+\n",
            "\n"
          ]
        },
        {
          "output_type": "stream",
          "name": "stdout",
          "text": [
            " [   1.01350267 -287.03663102]\n",
            "(0.001, 0) [   1.01350267 -287.03663102]\n",
            "(0.001, 0) [   1.01350267 -287.03663102]\n",
            "(0.001, 0) [   1.01350267 -287.03663102]\n"
          ]
        },
        {
          "output_type": "stream",
          "name": "stderr",
          "text": [
            "\rt:  38%|███▊      | 499/1297 [00:39<00:47, 16.88it/s, now=None]WARNING:py.warnings:/usr/local/lib/python3.10/dist-packages/moviepy/video/io/ffmpeg_reader.py:123: UserWarning: Warning: in file test_videos/lanes_clip.mp4, 2764800 bytes wanted but 0 bytes read,at frame 498/1298, at time 9.96/25.94 sec. Using the last valid frame instead.\n",
            "  warnings.warn(\"Warning: in file %s, \"%(self.filename)+\n",
            "\n",
            "WARNING:py.warnings:/usr/local/lib/python3.10/dist-packages/moviepy/video/io/ffmpeg_reader.py:123: UserWarning: Warning: in file test_videos/lanes_clip.mp4, 2764800 bytes wanted but 0 bytes read,at frame 499/1298, at time 9.98/25.94 sec. Using the last valid frame instead.\n",
            "  warnings.warn(\"Warning: in file %s, \"%(self.filename)+\n",
            "\n",
            "t:  39%|███▊      | 501/1297 [00:39<00:46, 17.17it/s, now=None]WARNING:py.warnings:/usr/local/lib/python3.10/dist-packages/moviepy/video/io/ffmpeg_reader.py:123: UserWarning: Warning: in file test_videos/lanes_clip.mp4, 2764800 bytes wanted but 0 bytes read,at frame 500/1298, at time 10.00/25.94 sec. Using the last valid frame instead.\n",
            "  warnings.warn(\"Warning: in file %s, \"%(self.filename)+\n",
            "\n",
            "WARNING:py.warnings:/usr/local/lib/python3.10/dist-packages/moviepy/video/io/ffmpeg_reader.py:123: UserWarning: Warning: in file test_videos/lanes_clip.mp4, 2764800 bytes wanted but 0 bytes read,at frame 501/1298, at time 10.02/25.94 sec. Using the last valid frame instead.\n",
            "  warnings.warn(\"Warning: in file %s, \"%(self.filename)+\n",
            "\n"
          ]
        },
        {
          "output_type": "stream",
          "name": "stdout",
          "text": [
            "(0.001, 0) [   1.01350267 -287.03663102]\n",
            "(0.001, 0) [   1.01350267 -287.03663102]\n",
            "(0.001, 0) [   1.01350267 -287.03663102]\n",
            "(0.001, 0) [   1.01350267 -287.03663102]\n"
          ]
        },
        {
          "output_type": "stream",
          "name": "stderr",
          "text": [
            "\rt:  39%|███▉      | 503/1297 [00:39<00:47, 16.59it/s, now=None]WARNING:py.warnings:/usr/local/lib/python3.10/dist-packages/moviepy/video/io/ffmpeg_reader.py:123: UserWarning: Warning: in file test_videos/lanes_clip.mp4, 2764800 bytes wanted but 0 bytes read,at frame 502/1298, at time 10.04/25.94 sec. Using the last valid frame instead.\n",
            "  warnings.warn(\"Warning: in file %s, \"%(self.filename)+\n",
            "\n",
            "WARNING:py.warnings:/usr/local/lib/python3.10/dist-packages/moviepy/video/io/ffmpeg_reader.py:123: UserWarning: Warning: in file test_videos/lanes_clip.mp4, 2764800 bytes wanted but 0 bytes read,at frame 503/1298, at time 10.06/25.94 sec. Using the last valid frame instead.\n",
            "  warnings.warn(\"Warning: in file %s, \"%(self.filename)+\n",
            "\n",
            "t:  39%|███▉      | 505/1297 [00:39<00:46, 16.89it/s, now=None]WARNING:py.warnings:/usr/local/lib/python3.10/dist-packages/moviepy/video/io/ffmpeg_reader.py:123: UserWarning: Warning: in file test_videos/lanes_clip.mp4, 2764800 bytes wanted but 0 bytes read,at frame 504/1298, at time 10.08/25.94 sec. Using the last valid frame instead.\n",
            "  warnings.warn(\"Warning: in file %s, \"%(self.filename)+\n",
            "\n",
            "WARNING:py.warnings:/usr/local/lib/python3.10/dist-packages/moviepy/video/io/ffmpeg_reader.py:123: UserWarning: Warning: in file test_videos/lanes_clip.mp4, 2764800 bytes wanted but 0 bytes read,at frame 505/1298, at time 10.10/25.94 sec. Using the last valid frame instead.\n",
            "  warnings.warn(\"Warning: in file %s, \"%(self.filename)+\n",
            "\n"
          ]
        },
        {
          "output_type": "stream",
          "name": "stdout",
          "text": [
            "(0.001, 0) [   1.01350267 -287.03663102]\n",
            "(0.001, 0) [   1.01350267 -287.03663102]\n",
            "(0.001, 0) [   1.01350267 -287.03663102]\n",
            "(0.001, 0) [   1.01350267 -287.03663102]\n"
          ]
        },
        {
          "output_type": "stream",
          "name": "stderr",
          "text": [
            "\rt:  39%|███▉      | 507/1297 [00:39<00:50, 15.58it/s, now=None]WARNING:py.warnings:/usr/local/lib/python3.10/dist-packages/moviepy/video/io/ffmpeg_reader.py:123: UserWarning: Warning: in file test_videos/lanes_clip.mp4, 2764800 bytes wanted but 0 bytes read,at frame 506/1298, at time 10.12/25.94 sec. Using the last valid frame instead.\n",
            "  warnings.warn(\"Warning: in file %s, \"%(self.filename)+\n",
            "\n",
            "WARNING:py.warnings:/usr/local/lib/python3.10/dist-packages/moviepy/video/io/ffmpeg_reader.py:123: UserWarning: Warning: in file test_videos/lanes_clip.mp4, 2764800 bytes wanted but 0 bytes read,at frame 507/1298, at time 10.14/25.94 sec. Using the last valid frame instead.\n",
            "  warnings.warn(\"Warning: in file %s, \"%(self.filename)+\n",
            "\n",
            "WARNING:py.warnings:/usr/local/lib/python3.10/dist-packages/moviepy/video/io/ffmpeg_reader.py:123: UserWarning: Warning: in file test_videos/lanes_clip.mp4, 2764800 bytes wanted but 0 bytes read,at frame 508/1298, at time 10.16/25.94 sec. Using the last valid frame instead.\n",
            "  warnings.warn(\"Warning: in file %s, \"%(self.filename)+\n",
            "\n",
            "t:  39%|███▉      | 510/1297 [00:39<00:49, 15.84it/s, now=None]WARNING:py.warnings:/usr/local/lib/python3.10/dist-packages/moviepy/video/io/ffmpeg_reader.py:123: UserWarning: Warning: in file test_videos/lanes_clip.mp4, 2764800 bytes wanted but 0 bytes read,at frame 509/1298, at time 10.18/25.94 sec. Using the last valid frame instead.\n",
            "  warnings.warn(\"Warning: in file %s, \"%(self.filename)+\n",
            "\n"
          ]
        },
        {
          "output_type": "stream",
          "name": "stdout",
          "text": [
            "(0.001, 0) [   1.01350267 -287.03663102]\n",
            "(0.001, 0) [   1.01350267 -287.03663102]\n",
            "(0.001, 0) [   1.01350267 -287.03663102]\n",
            "(0.001, 0) [   1.01350267 -287.03663102]\n"
          ]
        },
        {
          "output_type": "stream",
          "name": "stderr",
          "text": [
            "WARNING:py.warnings:/usr/local/lib/python3.10/dist-packages/moviepy/video/io/ffmpeg_reader.py:123: UserWarning: Warning: in file test_videos/lanes_clip.mp4, 2764800 bytes wanted but 0 bytes read,at frame 510/1298, at time 10.20/25.94 sec. Using the last valid frame instead.\n",
            "  warnings.warn(\"Warning: in file %s, \"%(self.filename)+\n",
            "\n",
            "WARNING:py.warnings:/usr/local/lib/python3.10/dist-packages/moviepy/video/io/ffmpeg_reader.py:123: UserWarning: Warning: in file test_videos/lanes_clip.mp4, 2764800 bytes wanted but 0 bytes read,at frame 511/1298, at time 10.22/25.94 sec. Using the last valid frame instead.\n",
            "  warnings.warn(\"Warning: in file %s, \"%(self.filename)+\n",
            "\n",
            "t:  40%|███▉      | 513/1297 [00:40<00:44, 17.52it/s, now=None]WARNING:py.warnings:/usr/local/lib/python3.10/dist-packages/moviepy/video/io/ffmpeg_reader.py:123: UserWarning: Warning: in file test_videos/lanes_clip.mp4, 2764800 bytes wanted but 0 bytes read,at frame 512/1298, at time 10.24/25.94 sec. Using the last valid frame instead.\n",
            "  warnings.warn(\"Warning: in file %s, \"%(self.filename)+\n",
            "\n",
            "WARNING:py.warnings:/usr/local/lib/python3.10/dist-packages/moviepy/video/io/ffmpeg_reader.py:123: UserWarning: Warning: in file test_videos/lanes_clip.mp4, 2764800 bytes wanted but 0 bytes read,at frame 513/1298, at time 10.26/25.94 sec. Using the last valid frame instead.\n",
            "  warnings.warn(\"Warning: in file %s, \"%(self.filename)+\n",
            "\n",
            "t:  40%|███▉      | 515/1297 [00:40<00:45, 17.32it/s, now=None]WARNING:py.warnings:/usr/local/lib/python3.10/dist-packages/moviepy/video/io/ffmpeg_reader.py:123: UserWarning: Warning: in file test_videos/lanes_clip.mp4, 2764800 bytes wanted but 0 bytes read,at frame 514/1298, at time 10.28/25.94 sec. Using the last valid frame instead.\n",
            "  warnings.warn(\"Warning: in file %s, \"%(self.filename)+\n",
            "\n"
          ]
        },
        {
          "output_type": "stream",
          "name": "stdout",
          "text": [
            "(0.001, 0) [   1.01350267 -287.03663102]\n",
            "(0.001, 0) [   1.01350267 -287.03663102]\n",
            "(0.001, 0) [   1.01350267 -287.03663102]\n",
            "(0.001, 0) [   1.01350267 -287.03663102]\n"
          ]
        },
        {
          "output_type": "stream",
          "name": "stderr",
          "text": [
            "WARNING:py.warnings:/usr/local/lib/python3.10/dist-packages/moviepy/video/io/ffmpeg_reader.py:123: UserWarning: Warning: in file test_videos/lanes_clip.mp4, 2764800 bytes wanted but 0 bytes read,at frame 515/1298, at time 10.30/25.94 sec. Using the last valid frame instead.\n",
            "  warnings.warn(\"Warning: in file %s, \"%(self.filename)+\n",
            "\n",
            "t:  40%|███▉      | 517/1297 [00:40<00:46, 16.78it/s, now=None]WARNING:py.warnings:/usr/local/lib/python3.10/dist-packages/moviepy/video/io/ffmpeg_reader.py:123: UserWarning: Warning: in file test_videos/lanes_clip.mp4, 2764800 bytes wanted but 0 bytes read,at frame 516/1298, at time 10.32/25.94 sec. Using the last valid frame instead.\n",
            "  warnings.warn(\"Warning: in file %s, \"%(self.filename)+\n",
            "\n",
            "WARNING:py.warnings:/usr/local/lib/python3.10/dist-packages/moviepy/video/io/ffmpeg_reader.py:123: UserWarning: Warning: in file test_videos/lanes_clip.mp4, 2764800 bytes wanted but 0 bytes read,at frame 517/1298, at time 10.34/25.94 sec. Using the last valid frame instead.\n",
            "  warnings.warn(\"Warning: in file %s, \"%(self.filename)+\n",
            "\n"
          ]
        },
        {
          "output_type": "stream",
          "name": "stdout",
          "text": [
            "(0.001, 0) [   1.01350267 -287.03663102]\n",
            "(0.001, 0) [   1.01350267 -287.03663102]\n",
            "(0.001, 0) [   1.01350267 -287.03663102]\n",
            "(0.001, 0) [   1.01350267 -287.03663102]"
          ]
        },
        {
          "output_type": "stream",
          "name": "stderr",
          "text": [
            "\rt:  40%|████      | 519/1297 [00:40<00:47, 16.28it/s, now=None]WARNING:py.warnings:/usr/local/lib/python3.10/dist-packages/moviepy/video/io/ffmpeg_reader.py:123: UserWarning: Warning: in file test_videos/lanes_clip.mp4, 2764800 bytes wanted but 0 bytes read,at frame 518/1298, at time 10.36/25.94 sec. Using the last valid frame instead.\n",
            "  warnings.warn(\"Warning: in file %s, \"%(self.filename)+\n",
            "\n",
            "WARNING:py.warnings:/usr/local/lib/python3.10/dist-packages/moviepy/video/io/ffmpeg_reader.py:123: UserWarning: Warning: in file test_videos/lanes_clip.mp4, 2764800 bytes wanted but 0 bytes read,at frame 519/1298, at time 10.38/25.94 sec. Using the last valid frame instead.\n",
            "  warnings.warn(\"Warning: in file %s, \"%(self.filename)+\n",
            "\n",
            "WARNING:py.warnings:/usr/local/lib/python3.10/dist-packages/moviepy/video/io/ffmpeg_reader.py:123: UserWarning: Warning: in file test_videos/lanes_clip.mp4, 2764800 bytes wanted but 0 bytes read,at frame 520/1298, at time 10.40/25.94 sec. Using the last valid frame instead.\n",
            "  warnings.warn(\"Warning: in file %s, \"%(self.filename)+\n",
            "\n"
          ]
        },
        {
          "output_type": "stream",
          "name": "stdout",
          "text": [
            "\n",
            "(0.001, 0) [   1.01350267 -287.03663102]\n",
            "(0.001, 0) [   1.01350267 -287.03663102]\n",
            "(0.001, 0) [   1.01350267 -287.03663102]\n"
          ]
        },
        {
          "output_type": "stream",
          "name": "stderr",
          "text": [
            "\rt:  40%|████      | 522/1297 [00:40<00:48, 16.06it/s, now=None]WARNING:py.warnings:/usr/local/lib/python3.10/dist-packages/moviepy/video/io/ffmpeg_reader.py:123: UserWarning: Warning: in file test_videos/lanes_clip.mp4, 2764800 bytes wanted but 0 bytes read,at frame 521/1298, at time 10.42/25.94 sec. Using the last valid frame instead.\n",
            "  warnings.warn(\"Warning: in file %s, \"%(self.filename)+\n",
            "\n",
            "WARNING:py.warnings:/usr/local/lib/python3.10/dist-packages/moviepy/video/io/ffmpeg_reader.py:123: UserWarning: Warning: in file test_videos/lanes_clip.mp4, 2764800 bytes wanted but 0 bytes read,at frame 522/1298, at time 10.44/25.94 sec. Using the last valid frame instead.\n",
            "  warnings.warn(\"Warning: in file %s, \"%(self.filename)+\n",
            "\n",
            "WARNING:py.warnings:/usr/local/lib/python3.10/dist-packages/moviepy/video/io/ffmpeg_reader.py:123: UserWarning: Warning: in file test_videos/lanes_clip.mp4, 2764800 bytes wanted but 0 bytes read,at frame 523/1298, at time 10.46/25.94 sec. Using the last valid frame instead.\n",
            "  warnings.warn(\"Warning: in file %s, \"%(self.filename)+\n",
            "\n",
            "t:  40%|████      | 525/1297 [00:40<00:44, 17.18it/s, now=None]WARNING:py.warnings:/usr/local/lib/python3.10/dist-packages/moviepy/video/io/ffmpeg_reader.py:123: UserWarning: Warning: in file test_videos/lanes_clip.mp4, 2764800 bytes wanted but 0 bytes read,at frame 524/1298, at time 10.48/25.94 sec. Using the last valid frame instead.\n",
            "  warnings.warn(\"Warning: in file %s, \"%(self.filename)+\n",
            "\n",
            "WARNING:py.warnings:/usr/local/lib/python3.10/dist-packages/moviepy/video/io/ffmpeg_reader.py:123: UserWarning: Warning: in file test_videos/lanes_clip.mp4, 2764800 bytes wanted but 0 bytes read,at frame 525/1298, at time 10.50/25.94 sec. Using the last valid frame instead.\n",
            "  warnings.warn(\"Warning: in file %s, \"%(self.filename)+\n",
            "\n"
          ]
        },
        {
          "output_type": "stream",
          "name": "stdout",
          "text": [
            "(0.001, 0) [   1.01350267 -287.03663102]\n",
            "(0.001, 0) [   1.01350267 -287.03663102]\n",
            "(0.001, 0) [   1.01350267 -287.03663102]\n",
            "(0.001, 0) [   1.01350267 -287.03663102]\n"
          ]
        },
        {
          "output_type": "stream",
          "name": "stderr",
          "text": [
            "\rt:  41%|████      | 527/1297 [00:40<00:45, 16.90it/s, now=None]WARNING:py.warnings:/usr/local/lib/python3.10/dist-packages/moviepy/video/io/ffmpeg_reader.py:123: UserWarning: Warning: in file test_videos/lanes_clip.mp4, 2764800 bytes wanted but 0 bytes read,at frame 526/1298, at time 10.52/25.94 sec. Using the last valid frame instead.\n",
            "  warnings.warn(\"Warning: in file %s, \"%(self.filename)+\n",
            "\n",
            "WARNING:py.warnings:/usr/local/lib/python3.10/dist-packages/moviepy/video/io/ffmpeg_reader.py:123: UserWarning: Warning: in file test_videos/lanes_clip.mp4, 2764800 bytes wanted but 0 bytes read,at frame 527/1298, at time 10.54/25.94 sec. Using the last valid frame instead.\n",
            "  warnings.warn(\"Warning: in file %s, \"%(self.filename)+\n",
            "\n",
            "t:  41%|████      | 529/1297 [00:41<00:45, 16.86it/s, now=None]WARNING:py.warnings:/usr/local/lib/python3.10/dist-packages/moviepy/video/io/ffmpeg_reader.py:123: UserWarning: Warning: in file test_videos/lanes_clip.mp4, 2764800 bytes wanted but 0 bytes read,at frame 528/1298, at time 10.56/25.94 sec. Using the last valid frame instead.\n",
            "  warnings.warn(\"Warning: in file %s, \"%(self.filename)+\n",
            "\n"
          ]
        },
        {
          "output_type": "stream",
          "name": "stdout",
          "text": [
            "(0.001, 0) [   1.01350267 -287.03663102]\n",
            "(0.001, 0) [   1.01350267 -287.03663102]\n",
            "(0.001, 0) [   1.01350267 -287.03663102]\n",
            "(0.001, 0) [   1.01350267 -287.03663102]\n"
          ]
        },
        {
          "output_type": "stream",
          "name": "stderr",
          "text": [
            "WARNING:py.warnings:/usr/local/lib/python3.10/dist-packages/moviepy/video/io/ffmpeg_reader.py:123: UserWarning: Warning: in file test_videos/lanes_clip.mp4, 2764800 bytes wanted but 0 bytes read,at frame 529/1298, at time 10.58/25.94 sec. Using the last valid frame instead.\n",
            "  warnings.warn(\"Warning: in file %s, \"%(self.filename)+\n",
            "\n",
            "t:  41%|████      | 531/1297 [00:41<00:46, 16.43it/s, now=None]WARNING:py.warnings:/usr/local/lib/python3.10/dist-packages/moviepy/video/io/ffmpeg_reader.py:123: UserWarning: Warning: in file test_videos/lanes_clip.mp4, 2764800 bytes wanted but 0 bytes read,at frame 530/1298, at time 10.60/25.94 sec. Using the last valid frame instead.\n",
            "  warnings.warn(\"Warning: in file %s, \"%(self.filename)+\n",
            "\n",
            "WARNING:py.warnings:/usr/local/lib/python3.10/dist-packages/moviepy/video/io/ffmpeg_reader.py:123: UserWarning: Warning: in file test_videos/lanes_clip.mp4, 2764800 bytes wanted but 0 bytes read,at frame 531/1298, at time 10.62/25.94 sec. Using the last valid frame instead.\n",
            "  warnings.warn(\"Warning: in file %s, \"%(self.filename)+\n",
            "\n",
            "WARNING:py.warnings:/usr/local/lib/python3.10/dist-packages/moviepy/video/io/ffmpeg_reader.py:123: UserWarning: Warning: in file test_videos/lanes_clip.mp4, 2764800 bytes wanted but 0 bytes read,at frame 532/1298, at time 10.64/25.94 sec. Using the last valid frame instead.\n",
            "  warnings.warn(\"Warning: in file %s, \"%(self.filename)+\n",
            "\n"
          ]
        },
        {
          "output_type": "stream",
          "name": "stdout",
          "text": [
            "(0.001, 0) [   1.01350267 -287.03663102]\n",
            "(0.001, 0) [   1.01350267 -287.03663102]\n",
            "(0.001, 0) [   1.01350267 -287.03663102]\n",
            "(0.001, 0) [   1.01350267 -287.03663102]\n"
          ]
        },
        {
          "output_type": "stream",
          "name": "stderr",
          "text": [
            "\rt:  41%|████      | 534/1297 [00:41<00:45, 16.68it/s, now=None]WARNING:py.warnings:/usr/local/lib/python3.10/dist-packages/moviepy/video/io/ffmpeg_reader.py:123: UserWarning: Warning: in file test_videos/lanes_clip.mp4, 2764800 bytes wanted but 0 bytes read,at frame 533/1298, at time 10.66/25.94 sec. Using the last valid frame instead.\n",
            "  warnings.warn(\"Warning: in file %s, \"%(self.filename)+\n",
            "\n",
            "WARNING:py.warnings:/usr/local/lib/python3.10/dist-packages/moviepy/video/io/ffmpeg_reader.py:123: UserWarning: Warning: in file test_videos/lanes_clip.mp4, 2764800 bytes wanted but 0 bytes read,at frame 534/1298, at time 10.68/25.94 sec. Using the last valid frame instead.\n",
            "  warnings.warn(\"Warning: in file %s, \"%(self.filename)+\n",
            "\n",
            "t:  41%|████▏     | 536/1297 [00:41<00:44, 17.11it/s, now=None]WARNING:py.warnings:/usr/local/lib/python3.10/dist-packages/moviepy/video/io/ffmpeg_reader.py:123: UserWarning: Warning: in file test_videos/lanes_clip.mp4, 2764800 bytes wanted but 0 bytes read,at frame 535/1298, at time 10.70/25.94 sec. Using the last valid frame instead.\n",
            "  warnings.warn(\"Warning: in file %s, \"%(self.filename)+\n",
            "\n",
            "WARNING:py.warnings:/usr/local/lib/python3.10/dist-packages/moviepy/video/io/ffmpeg_reader.py:123: UserWarning: Warning: in file test_videos/lanes_clip.mp4, 2764800 bytes wanted but 0 bytes read,at frame 536/1298, at time 10.72/25.94 sec. Using the last valid frame instead.\n",
            "  warnings.warn(\"Warning: in file %s, \"%(self.filename)+\n",
            "\n",
            "WARNING:py.warnings:/usr/local/lib/python3.10/dist-packages/moviepy/video/io/ffmpeg_reader.py:123: UserWarning: Warning: in file test_videos/lanes_clip.mp4, 2764800 bytes wanted but 0 bytes read,at frame 537/1298, at time 10.74/25.94 sec. Using the last valid frame instead.\n",
            "  warnings.warn(\"Warning: in file %s, \"%(self.filename)+\n",
            "\n"
          ]
        },
        {
          "output_type": "stream",
          "name": "stdout",
          "text": [
            "(0.001, 0) [   1.01350267 -287.03663102]\n",
            "(0.001, 0) [   1.01350267 -287.03663102]\n",
            "(0.001, 0) [   1.01350267 -287.03663102]\n",
            "(0.001, 0) [   1.01350267 -287.03663102]\n",
            "(0.001, 0) [   1.01350267 -287.03663102]\n"
          ]
        },
        {
          "output_type": "stream",
          "name": "stderr",
          "text": [
            "\rt:  42%|████▏     | 539/1297 [00:41<00:40, 18.56it/s, now=None]WARNING:py.warnings:/usr/local/lib/python3.10/dist-packages/moviepy/video/io/ffmpeg_reader.py:123: UserWarning: Warning: in file test_videos/lanes_clip.mp4, 2764800 bytes wanted but 0 bytes read,at frame 538/1298, at time 10.76/25.94 sec. Using the last valid frame instead.\n",
            "  warnings.warn(\"Warning: in file %s, \"%(self.filename)+\n",
            "\n",
            "WARNING:py.warnings:/usr/local/lib/python3.10/dist-packages/moviepy/video/io/ffmpeg_reader.py:123: UserWarning: Warning: in file test_videos/lanes_clip.mp4, 2764800 bytes wanted but 0 bytes read,at frame 539/1298, at time 10.78/25.94 sec. Using the last valid frame instead.\n",
            "  warnings.warn(\"Warning: in file %s, \"%(self.filename)+\n",
            "\n",
            "t:  42%|████▏     | 541/1297 [00:41<00:40, 18.85it/s, now=None]WARNING:py.warnings:/usr/local/lib/python3.10/dist-packages/moviepy/video/io/ffmpeg_reader.py:123: UserWarning: Warning: in file test_videos/lanes_clip.mp4, 2764800 bytes wanted but 0 bytes read,at frame 540/1298, at time 10.80/25.94 sec. Using the last valid frame instead.\n",
            "  warnings.warn(\"Warning: in file %s, \"%(self.filename)+\n",
            "\n",
            "WARNING:py.warnings:/usr/local/lib/python3.10/dist-packages/moviepy/video/io/ffmpeg_reader.py:123: UserWarning: Warning: in file test_videos/lanes_clip.mp4, 2764800 bytes wanted but 0 bytes read,at frame 541/1298, at time 10.82/25.94 sec. Using the last valid frame instead.\n",
            "  warnings.warn(\"Warning: in file %s, \"%(self.filename)+\n",
            "\n"
          ]
        },
        {
          "output_type": "stream",
          "name": "stdout",
          "text": [
            "(0.001, 0) [   1.01350267 -287.03663102]\n",
            "(0.001, 0) [   1.01350267 -287.03663102]\n",
            "(0.001, 0) [   1.01350267 -287.03663102]\n",
            "(0.001, 0) [   1.01350267 -287.03663102]\n"
          ]
        },
        {
          "output_type": "stream",
          "name": "stderr",
          "text": [
            "\rt:  42%|████▏     | 543/1297 [00:41<00:43, 17.52it/s, now=None]WARNING:py.warnings:/usr/local/lib/python3.10/dist-packages/moviepy/video/io/ffmpeg_reader.py:123: UserWarning: Warning: in file test_videos/lanes_clip.mp4, 2764800 bytes wanted but 0 bytes read,at frame 542/1298, at time 10.84/25.94 sec. Using the last valid frame instead.\n",
            "  warnings.warn(\"Warning: in file %s, \"%(self.filename)+\n",
            "\n",
            "WARNING:py.warnings:/usr/local/lib/python3.10/dist-packages/moviepy/video/io/ffmpeg_reader.py:123: UserWarning: Warning: in file test_videos/lanes_clip.mp4, 2764800 bytes wanted but 0 bytes read,at frame 543/1298, at time 10.86/25.94 sec. Using the last valid frame instead.\n",
            "  warnings.warn(\"Warning: in file %s, \"%(self.filename)+\n",
            "\n",
            "t:  42%|████▏     | 545/1297 [00:42<00:46, 16.22it/s, now=None]WARNING:py.warnings:/usr/local/lib/python3.10/dist-packages/moviepy/video/io/ffmpeg_reader.py:123: UserWarning: Warning: in file test_videos/lanes_clip.mp4, 2764800 bytes wanted but 0 bytes read,at frame 544/1298, at time 10.88/25.94 sec. Using the last valid frame instead.\n",
            "  warnings.warn(\"Warning: in file %s, \"%(self.filename)+\n",
            "\n",
            "WARNING:py.warnings:/usr/local/lib/python3.10/dist-packages/moviepy/video/io/ffmpeg_reader.py:123: UserWarning: Warning: in file test_videos/lanes_clip.mp4, 2764800 bytes wanted but 0 bytes read,at frame 545/1298, at time 10.90/25.94 sec. Using the last valid frame instead.\n",
            "  warnings.warn(\"Warning: in file %s, \"%(self.filename)+\n",
            "\n"
          ]
        },
        {
          "output_type": "stream",
          "name": "stdout",
          "text": [
            "(0.001, 0) [   1.01350267 -287.03663102]\n",
            "(0.001, 0) [   1.01350267 -287.03663102]\n",
            "(0.001, 0) [   1.01350267 -287.03663102]\n"
          ]
        },
        {
          "output_type": "stream",
          "name": "stderr",
          "text": [
            "\rt:  42%|████▏     | 547/1297 [00:42<00:47, 15.65it/s, now=None]WARNING:py.warnings:/usr/local/lib/python3.10/dist-packages/moviepy/video/io/ffmpeg_reader.py:123: UserWarning: Warning: in file test_videos/lanes_clip.mp4, 2764800 bytes wanted but 0 bytes read,at frame 546/1298, at time 10.92/25.94 sec. Using the last valid frame instead.\n",
            "  warnings.warn(\"Warning: in file %s, \"%(self.filename)+\n",
            "\n",
            "WARNING:py.warnings:/usr/local/lib/python3.10/dist-packages/moviepy/video/io/ffmpeg_reader.py:123: UserWarning: Warning: in file test_videos/lanes_clip.mp4, 2764800 bytes wanted but 0 bytes read,at frame 547/1298, at time 10.94/25.94 sec. Using the last valid frame instead.\n",
            "  warnings.warn(\"Warning: in file %s, \"%(self.filename)+\n",
            "\n",
            "WARNING:py.warnings:/usr/local/lib/python3.10/dist-packages/moviepy/video/io/ffmpeg_reader.py:123: UserWarning: Warning: in file test_videos/lanes_clip.mp4, 2764800 bytes wanted but 0 bytes read,at frame 548/1298, at time 10.96/25.94 sec. Using the last valid frame instead.\n",
            "  warnings.warn(\"Warning: in file %s, \"%(self.filename)+\n",
            "\n"
          ]
        },
        {
          "output_type": "stream",
          "name": "stdout",
          "text": [
            "(0.001, 0) [   1.01350267 -287.03663102]\n",
            "(0.001, 0) [   1.01350267 -287.03663102]\n",
            "(0.001, 0) [   1.01350267 -287.03663102]\n",
            "(0.001, 0) [   1.01350267 -287.03663102]\n"
          ]
        },
        {
          "output_type": "stream",
          "name": "stderr",
          "text": [
            "\rt:  42%|████▏     | 550/1297 [00:42<00:47, 15.64it/s, now=None]WARNING:py.warnings:/usr/local/lib/python3.10/dist-packages/moviepy/video/io/ffmpeg_reader.py:123: UserWarning: Warning: in file test_videos/lanes_clip.mp4, 2764800 bytes wanted but 0 bytes read,at frame 549/1298, at time 10.98/25.94 sec. Using the last valid frame instead.\n",
            "  warnings.warn(\"Warning: in file %s, \"%(self.filename)+\n",
            "\n",
            "WARNING:py.warnings:/usr/local/lib/python3.10/dist-packages/moviepy/video/io/ffmpeg_reader.py:123: UserWarning: Warning: in file test_videos/lanes_clip.mp4, 2764800 bytes wanted but 0 bytes read,at frame 550/1298, at time 11.00/25.94 sec. Using the last valid frame instead.\n",
            "  warnings.warn(\"Warning: in file %s, \"%(self.filename)+\n",
            "\n",
            "WARNING:py.warnings:/usr/local/lib/python3.10/dist-packages/moviepy/video/io/ffmpeg_reader.py:123: UserWarning: Warning: in file test_videos/lanes_clip.mp4, 2764800 bytes wanted but 0 bytes read,at frame 551/1298, at time 11.02/25.94 sec. Using the last valid frame instead.\n",
            "  warnings.warn(\"Warning: in file %s, \"%(self.filename)+\n",
            "\n",
            "t:  43%|████▎     | 553/1297 [00:42<00:43, 17.07it/s, now=None]WARNING:py.warnings:/usr/local/lib/python3.10/dist-packages/moviepy/video/io/ffmpeg_reader.py:123: UserWarning: Warning: in file test_videos/lanes_clip.mp4, 2764800 bytes wanted but 0 bytes read,at frame 552/1298, at time 11.04/25.94 sec. Using the last valid frame instead.\n",
            "  warnings.warn(\"Warning: in file %s, \"%(self.filename)+\n",
            "\n",
            "WARNING:py.warnings:/usr/local/lib/python3.10/dist-packages/moviepy/video/io/ffmpeg_reader.py:123: UserWarning: Warning: in file test_videos/lanes_clip.mp4, 2764800 bytes wanted but 0 bytes read,at frame 553/1298, at time 11.06/25.94 sec. Using the last valid frame instead.\n",
            "  warnings.warn(\"Warning: in file %s, \"%(self.filename)+\n",
            "\n",
            "WARNING:py.warnings:/usr/local/lib/python3.10/dist-packages/moviepy/video/io/ffmpeg_reader.py:123: UserWarning: Warning: in file test_videos/lanes_clip.mp4, 2764800 bytes wanted but 0 bytes read,at frame 554/1298, at time 11.08/25.94 sec. Using the last valid frame instead.\n",
            "  warnings.warn(\"Warning: in file %s, \"%(self.filename)+\n",
            "\n"
          ]
        },
        {
          "output_type": "stream",
          "name": "stdout",
          "text": [
            "(0.001, 0) [   1.01350267 -287.03663102]\n",
            "(0.001, 0) [   1.01350267 -287.03663102]\n",
            "(0.001, 0) [   1.01350267 -287.03663102]\n",
            "(0.001, 0) [   1.01350267 -287.03663102]\n",
            "(0.001, 0) [   1.01350267 -287.03663102]\n"
          ]
        },
        {
          "output_type": "stream",
          "name": "stderr",
          "text": [
            "\rt:  43%|████▎     | 556/1297 [00:42<00:41, 17.81it/s, now=None]WARNING:py.warnings:/usr/local/lib/python3.10/dist-packages/moviepy/video/io/ffmpeg_reader.py:123: UserWarning: Warning: in file test_videos/lanes_clip.mp4, 2764800 bytes wanted but 0 bytes read,at frame 555/1298, at time 11.10/25.94 sec. Using the last valid frame instead.\n",
            "  warnings.warn(\"Warning: in file %s, \"%(self.filename)+\n",
            "\n",
            "WARNING:py.warnings:/usr/local/lib/python3.10/dist-packages/moviepy/video/io/ffmpeg_reader.py:123: UserWarning: Warning: in file test_videos/lanes_clip.mp4, 2764800 bytes wanted but 0 bytes read,at frame 556/1298, at time 11.12/25.94 sec. Using the last valid frame instead.\n",
            "  warnings.warn(\"Warning: in file %s, \"%(self.filename)+\n",
            "\n",
            "WARNING:py.warnings:/usr/local/lib/python3.10/dist-packages/moviepy/video/io/ffmpeg_reader.py:123: UserWarning: Warning: in file test_videos/lanes_clip.mp4, 2764800 bytes wanted but 0 bytes read,at frame 557/1298, at time 11.14/25.94 sec. Using the last valid frame instead.\n",
            "  warnings.warn(\"Warning: in file %s, \"%(self.filename)+\n",
            "\n",
            "t:  43%|████▎     | 559/1297 [00:42<00:37, 19.75it/s, now=None]WARNING:py.warnings:/usr/local/lib/python3.10/dist-packages/moviepy/video/io/ffmpeg_reader.py:123: UserWarning: Warning: in file test_videos/lanes_clip.mp4, 2764800 bytes wanted but 0 bytes read,at frame 558/1298, at time 11.16/25.94 sec. Using the last valid frame instead.\n",
            "  warnings.warn(\"Warning: in file %s, \"%(self.filename)+\n",
            "\n"
          ]
        },
        {
          "output_type": "stream",
          "name": "stdout",
          "text": [
            "(0.001, 0) [   1.01350267 -287.03663102]\n",
            "(0.001, 0) [   1.01350267 -287.03663102]\n",
            "(0.001, 0) [   1.01350267 -287.03663102]\n",
            "(0.001, 0) [   1.01350267 -287.03663102]\n"
          ]
        },
        {
          "output_type": "stream",
          "name": "stderr",
          "text": [
            "WARNING:py.warnings:/usr/local/lib/python3.10/dist-packages/moviepy/video/io/ffmpeg_reader.py:123: UserWarning: Warning: in file test_videos/lanes_clip.mp4, 2764800 bytes wanted but 0 bytes read,at frame 559/1298, at time 11.18/25.94 sec. Using the last valid frame instead.\n",
            "  warnings.warn(\"Warning: in file %s, \"%(self.filename)+\n",
            "\n",
            "WARNING:py.warnings:/usr/local/lib/python3.10/dist-packages/moviepy/video/io/ffmpeg_reader.py:123: UserWarning: Warning: in file test_videos/lanes_clip.mp4, 2764800 bytes wanted but 0 bytes read,at frame 560/1298, at time 11.20/25.94 sec. Using the last valid frame instead.\n",
            "  warnings.warn(\"Warning: in file %s, \"%(self.filename)+\n",
            "\n",
            "t:  43%|████▎     | 562/1297 [00:42<00:39, 18.78it/s, now=None]WARNING:py.warnings:/usr/local/lib/python3.10/dist-packages/moviepy/video/io/ffmpeg_reader.py:123: UserWarning: Warning: in file test_videos/lanes_clip.mp4, 2764800 bytes wanted but 0 bytes read,at frame 561/1298, at time 11.22/25.94 sec. Using the last valid frame instead.\n",
            "  warnings.warn(\"Warning: in file %s, \"%(self.filename)+\n",
            "\n",
            "WARNING:py.warnings:/usr/local/lib/python3.10/dist-packages/moviepy/video/io/ffmpeg_reader.py:123: UserWarning: Warning: in file test_videos/lanes_clip.mp4, 2764800 bytes wanted but 0 bytes read,at frame 562/1298, at time 11.24/25.94 sec. Using the last valid frame instead.\n",
            "  warnings.warn(\"Warning: in file %s, \"%(self.filename)+\n",
            "\n"
          ]
        },
        {
          "output_type": "stream",
          "name": "stdout",
          "text": [
            "(0.001, 0) [   1.01350267 -287.03663102]\n",
            "(0.001, 0) [   1.01350267 -287.03663102]\n",
            "(0.001, 0) [   1.01350267 -287.03663102]\n",
            "(0.001, 0) [   1.01350267 -287.03663102]\n"
          ]
        },
        {
          "output_type": "stream",
          "name": "stderr",
          "text": [
            "\rt:  43%|████▎     | 564/1297 [00:43<00:40, 18.04it/s, now=None]WARNING:py.warnings:/usr/local/lib/python3.10/dist-packages/moviepy/video/io/ffmpeg_reader.py:123: UserWarning: Warning: in file test_videos/lanes_clip.mp4, 2764800 bytes wanted but 0 bytes read,at frame 563/1298, at time 11.26/25.94 sec. Using the last valid frame instead.\n",
            "  warnings.warn(\"Warning: in file %s, \"%(self.filename)+\n",
            "\n",
            "WARNING:py.warnings:/usr/local/lib/python3.10/dist-packages/moviepy/video/io/ffmpeg_reader.py:123: UserWarning: Warning: in file test_videos/lanes_clip.mp4, 2764800 bytes wanted but 0 bytes read,at frame 564/1298, at time 11.28/25.94 sec. Using the last valid frame instead.\n",
            "  warnings.warn(\"Warning: in file %s, \"%(self.filename)+\n",
            "\n",
            "t:  44%|████▎     | 566/1297 [00:43<00:39, 18.42it/s, now=None]WARNING:py.warnings:/usr/local/lib/python3.10/dist-packages/moviepy/video/io/ffmpeg_reader.py:123: UserWarning: Warning: in file test_videos/lanes_clip.mp4, 2764800 bytes wanted but 0 bytes read,at frame 565/1298, at time 11.30/25.94 sec. Using the last valid frame instead.\n",
            "  warnings.warn(\"Warning: in file %s, \"%(self.filename)+\n",
            "\n",
            "WARNING:py.warnings:/usr/local/lib/python3.10/dist-packages/moviepy/video/io/ffmpeg_reader.py:123: UserWarning: Warning: in file test_videos/lanes_clip.mp4, 2764800 bytes wanted but 0 bytes read,at frame 566/1298, at time 11.32/25.94 sec. Using the last valid frame instead.\n",
            "  warnings.warn(\"Warning: in file %s, \"%(self.filename)+\n",
            "\n"
          ]
        },
        {
          "output_type": "stream",
          "name": "stdout",
          "text": [
            "(0.001, 0) [   1.01350267 -287.03663102]\n",
            "(0.001, 0) [   1.01350267 -287.03663102]\n",
            "(0.001, 0) [   1.01350267 -287.03663102]\n",
            "(0.001, 0) [   1.01350267 -287.03663102]\n"
          ]
        },
        {
          "output_type": "stream",
          "name": "stderr",
          "text": [
            "\rt:  44%|████▍     | 568/1297 [00:43<00:39, 18.61it/s, now=None]WARNING:py.warnings:/usr/local/lib/python3.10/dist-packages/moviepy/video/io/ffmpeg_reader.py:123: UserWarning: Warning: in file test_videos/lanes_clip.mp4, 2764800 bytes wanted but 0 bytes read,at frame 567/1298, at time 11.34/25.94 sec. Using the last valid frame instead.\n",
            "  warnings.warn(\"Warning: in file %s, \"%(self.filename)+\n",
            "\n",
            "WARNING:py.warnings:/usr/local/lib/python3.10/dist-packages/moviepy/video/io/ffmpeg_reader.py:123: UserWarning: Warning: in file test_videos/lanes_clip.mp4, 2764800 bytes wanted but 0 bytes read,at frame 568/1298, at time 11.36/25.94 sec. Using the last valid frame instead.\n",
            "  warnings.warn(\"Warning: in file %s, \"%(self.filename)+\n",
            "\n",
            "WARNING:py.warnings:/usr/local/lib/python3.10/dist-packages/moviepy/video/io/ffmpeg_reader.py:123: UserWarning: Warning: in file test_videos/lanes_clip.mp4, 2764800 bytes wanted but 0 bytes read,at frame 569/1298, at time 11.38/25.94 sec. Using the last valid frame instead.\n",
            "  warnings.warn(\"Warning: in file %s, \"%(self.filename)+\n",
            "\n",
            "t:  44%|████▍     | 571/1297 [00:43<00:37, 19.37it/s, now=None]WARNING:py.warnings:/usr/local/lib/python3.10/dist-packages/moviepy/video/io/ffmpeg_reader.py:123: UserWarning: Warning: in file test_videos/lanes_clip.mp4, 2764800 bytes wanted but 0 bytes read,at frame 570/1298, at time 11.40/25.94 sec. Using the last valid frame instead.\n",
            "  warnings.warn(\"Warning: in file %s, \"%(self.filename)+\n",
            "\n"
          ]
        },
        {
          "output_type": "stream",
          "name": "stdout",
          "text": [
            "(0.001, 0) [   1.01350267 -287.03663102]\n",
            "(0.001, 0) [   1.01350267 -287.03663102]\n",
            "(0.001, 0) [   1.01350267 -287.03663102]\n",
            "(0.001, 0) [   1.01350267 -287.03663102]\n"
          ]
        },
        {
          "output_type": "stream",
          "name": "stderr",
          "text": [
            "WARNING:py.warnings:/usr/local/lib/python3.10/dist-packages/moviepy/video/io/ffmpeg_reader.py:123: UserWarning: Warning: in file test_videos/lanes_clip.mp4, 2764800 bytes wanted but 0 bytes read,at frame 571/1298, at time 11.42/25.94 sec. Using the last valid frame instead.\n",
            "  warnings.warn(\"Warning: in file %s, \"%(self.filename)+\n",
            "\n",
            "t:  44%|████▍     | 573/1297 [00:43<00:39, 18.25it/s, now=None]WARNING:py.warnings:/usr/local/lib/python3.10/dist-packages/moviepy/video/io/ffmpeg_reader.py:123: UserWarning: Warning: in file test_videos/lanes_clip.mp4, 2764800 bytes wanted but 0 bytes read,at frame 572/1298, at time 11.44/25.94 sec. Using the last valid frame instead.\n",
            "  warnings.warn(\"Warning: in file %s, \"%(self.filename)+\n",
            "\n",
            "WARNING:py.warnings:/usr/local/lib/python3.10/dist-packages/moviepy/video/io/ffmpeg_reader.py:123: UserWarning: Warning: in file test_videos/lanes_clip.mp4, 2764800 bytes wanted but 0 bytes read,at frame 573/1298, at time 11.46/25.94 sec. Using the last valid frame instead.\n",
            "  warnings.warn(\"Warning: in file %s, \"%(self.filename)+\n",
            "\n",
            "WARNING:py.warnings:/usr/local/lib/python3.10/dist-packages/moviepy/video/io/ffmpeg_reader.py:123: UserWarning: Warning: in file test_videos/lanes_clip.mp4, 2764800 bytes wanted but 0 bytes read,at frame 574/1298, at time 11.48/25.94 sec. Using the last valid frame instead.\n",
            "  warnings.warn(\"Warning: in file %s, \"%(self.filename)+\n",
            "\n"
          ]
        },
        {
          "output_type": "stream",
          "name": "stdout",
          "text": [
            "(0.001, 0) [   1.01350267 -287.03663102]\n",
            "(0.001, 0) [   1.01350267 -287.03663102]\n",
            "(0.001, 0) [   1.01350267 -287.03663102]\n",
            "(0.001, 0) [   1.01350267 -287.03663102]\n"
          ]
        },
        {
          "output_type": "stream",
          "name": "stderr",
          "text": [
            "\rt:  44%|████▍     | 576/1297 [00:43<00:37, 18.99it/s, now=None]WARNING:py.warnings:/usr/local/lib/python3.10/dist-packages/moviepy/video/io/ffmpeg_reader.py:123: UserWarning: Warning: in file test_videos/lanes_clip.mp4, 2764800 bytes wanted but 0 bytes read,at frame 575/1298, at time 11.50/25.94 sec. Using the last valid frame instead.\n",
            "  warnings.warn(\"Warning: in file %s, \"%(self.filename)+\n",
            "\n",
            "WARNING:py.warnings:/usr/local/lib/python3.10/dist-packages/moviepy/video/io/ffmpeg_reader.py:123: UserWarning: Warning: in file test_videos/lanes_clip.mp4, 2764800 bytes wanted but 0 bytes read,at frame 576/1298, at time 11.52/25.94 sec. Using the last valid frame instead.\n",
            "  warnings.warn(\"Warning: in file %s, \"%(self.filename)+\n",
            "\n",
            "WARNING:py.warnings:/usr/local/lib/python3.10/dist-packages/moviepy/video/io/ffmpeg_reader.py:123: UserWarning: Warning: in file test_videos/lanes_clip.mp4, 2764800 bytes wanted but 0 bytes read,at frame 577/1298, at time 11.54/25.94 sec. Using the last valid frame instead.\n",
            "  warnings.warn(\"Warning: in file %s, \"%(self.filename)+\n",
            "\n",
            "t:  45%|████▍     | 579/1297 [00:43<00:35, 20.47it/s, now=None]WARNING:py.warnings:/usr/local/lib/python3.10/dist-packages/moviepy/video/io/ffmpeg_reader.py:123: UserWarning: Warning: in file test_videos/lanes_clip.mp4, 2764800 bytes wanted but 0 bytes read,at frame 578/1298, at time 11.56/25.94 sec. Using the last valid frame instead.\n",
            "  warnings.warn(\"Warning: in file %s, \"%(self.filename)+\n",
            "\n"
          ]
        },
        {
          "output_type": "stream",
          "name": "stdout",
          "text": [
            "(0.001, 0) [   1.01350267 -287.03663102]\n",
            "(0.001, 0) [   1.01350267 -287.03663102]\n",
            "(0.001, 0) [   1.01350267 -287.03663102]\n",
            "(0.001, 0) [   1.01350267 -287.03663102]\n",
            "(0.001, 0) [   1.01350267 -287.03663102]\n"
          ]
        },
        {
          "output_type": "stream",
          "name": "stderr",
          "text": [
            "WARNING:py.warnings:/usr/local/lib/python3.10/dist-packages/moviepy/video/io/ffmpeg_reader.py:123: UserWarning: Warning: in file test_videos/lanes_clip.mp4, 2764800 bytes wanted but 0 bytes read,at frame 579/1298, at time 11.58/25.94 sec. Using the last valid frame instead.\n",
            "  warnings.warn(\"Warning: in file %s, \"%(self.filename)+\n",
            "\n",
            "WARNING:py.warnings:/usr/local/lib/python3.10/dist-packages/moviepy/video/io/ffmpeg_reader.py:123: UserWarning: Warning: in file test_videos/lanes_clip.mp4, 2764800 bytes wanted but 0 bytes read,at frame 580/1298, at time 11.60/25.94 sec. Using the last valid frame instead.\n",
            "  warnings.warn(\"Warning: in file %s, \"%(self.filename)+\n",
            "\n",
            "t:  45%|████▍     | 582/1297 [00:43<00:36, 19.68it/s, now=None]WARNING:py.warnings:/usr/local/lib/python3.10/dist-packages/moviepy/video/io/ffmpeg_reader.py:123: UserWarning: Warning: in file test_videos/lanes_clip.mp4, 2764800 bytes wanted but 0 bytes read,at frame 581/1298, at time 11.62/25.94 sec. Using the last valid frame instead.\n",
            "  warnings.warn(\"Warning: in file %s, \"%(self.filename)+\n",
            "\n",
            "WARNING:py.warnings:/usr/local/lib/python3.10/dist-packages/moviepy/video/io/ffmpeg_reader.py:123: UserWarning: Warning: in file test_videos/lanes_clip.mp4, 2764800 bytes wanted but 0 bytes read,at frame 582/1298, at time 11.64/25.94 sec. Using the last valid frame instead.\n",
            "  warnings.warn(\"Warning: in file %s, \"%(self.filename)+\n",
            "\n",
            "t:  45%|████▌     | 584/1297 [00:44<00:37, 18.82it/s, now=None]WARNING:py.warnings:/usr/local/lib/python3.10/dist-packages/moviepy/video/io/ffmpeg_reader.py:123: UserWarning: Warning: in file test_videos/lanes_clip.mp4, 2764800 bytes wanted but 0 bytes read,at frame 583/1298, at time 11.66/25.94 sec. Using the last valid frame instead.\n",
            "  warnings.warn(\"Warning: in file %s, \"%(self.filename)+\n",
            "\n"
          ]
        },
        {
          "output_type": "stream",
          "name": "stdout",
          "text": [
            "(0.001, 0) [   1.01350267 -287.03663102]\n",
            "(0.001, 0) [   1.01350267 -287.03663102]\n",
            "(0.001, 0) [   1.01350267 -287.03663102]\n",
            "(0.001, 0) [   1.01350267 -287.03663102]\n",
            "(0.001, 0) [   1.01350267 -287.03663102]\n"
          ]
        },
        {
          "output_type": "stream",
          "name": "stderr",
          "text": [
            "WARNING:py.warnings:/usr/local/lib/python3.10/dist-packages/moviepy/video/io/ffmpeg_reader.py:123: UserWarning: Warning: in file test_videos/lanes_clip.mp4, 2764800 bytes wanted but 0 bytes read,at frame 584/1298, at time 11.68/25.94 sec. Using the last valid frame instead.\n",
            "  warnings.warn(\"Warning: in file %s, \"%(self.filename)+\n",
            "\n",
            "WARNING:py.warnings:/usr/local/lib/python3.10/dist-packages/moviepy/video/io/ffmpeg_reader.py:123: UserWarning: Warning: in file test_videos/lanes_clip.mp4, 2764800 bytes wanted but 0 bytes read,at frame 585/1298, at time 11.70/25.94 sec. Using the last valid frame instead.\n",
            "  warnings.warn(\"Warning: in file %s, \"%(self.filename)+\n",
            "\n",
            "t:  45%|████▌     | 587/1297 [00:44<00:36, 19.22it/s, now=None]WARNING:py.warnings:/usr/local/lib/python3.10/dist-packages/moviepy/video/io/ffmpeg_reader.py:123: UserWarning: Warning: in file test_videos/lanes_clip.mp4, 2764800 bytes wanted but 0 bytes read,at frame 586/1298, at time 11.72/25.94 sec. Using the last valid frame instead.\n",
            "  warnings.warn(\"Warning: in file %s, \"%(self.filename)+\n",
            "\n",
            "WARNING:py.warnings:/usr/local/lib/python3.10/dist-packages/moviepy/video/io/ffmpeg_reader.py:123: UserWarning: Warning: in file test_videos/lanes_clip.mp4, 2764800 bytes wanted but 0 bytes read,at frame 587/1298, at time 11.74/25.94 sec. Using the last valid frame instead.\n",
            "  warnings.warn(\"Warning: in file %s, \"%(self.filename)+\n",
            "\n",
            "t:  45%|████▌     | 589/1297 [00:44<00:37, 19.11it/s, now=None]WARNING:py.warnings:/usr/local/lib/python3.10/dist-packages/moviepy/video/io/ffmpeg_reader.py:123: UserWarning: Warning: in file test_videos/lanes_clip.mp4, 2764800 bytes wanted but 0 bytes read,at frame 588/1298, at time 11.76/25.94 sec. Using the last valid frame instead.\n",
            "  warnings.warn(\"Warning: in file %s, \"%(self.filename)+\n",
            "\n"
          ]
        },
        {
          "output_type": "stream",
          "name": "stdout",
          "text": [
            "(0.001, 0) [   1.01350267 -287.03663102]\n",
            "(0.001, 0) [   1.01350267 -287.03663102]\n",
            "(0.001, 0) [   1.01350267 -287.03663102]\n",
            "(0.001, 0) [   1.01350267 -287.03663102]\n"
          ]
        },
        {
          "output_type": "stream",
          "name": "stderr",
          "text": [
            "WARNING:py.warnings:/usr/local/lib/python3.10/dist-packages/moviepy/video/io/ffmpeg_reader.py:123: UserWarning: Warning: in file test_videos/lanes_clip.mp4, 2764800 bytes wanted but 0 bytes read,at frame 589/1298, at time 11.78/25.94 sec. Using the last valid frame instead.\n",
            "  warnings.warn(\"Warning: in file %s, \"%(self.filename)+\n",
            "\n",
            "WARNING:py.warnings:/usr/local/lib/python3.10/dist-packages/moviepy/video/io/ffmpeg_reader.py:123: UserWarning: Warning: in file test_videos/lanes_clip.mp4, 2764800 bytes wanted but 0 bytes read,at frame 590/1298, at time 11.80/25.94 sec. Using the last valid frame instead.\n",
            "  warnings.warn(\"Warning: in file %s, \"%(self.filename)+\n",
            "\n",
            "t:  46%|████▌     | 592/1297 [00:44<00:37, 18.66it/s, now=None]WARNING:py.warnings:/usr/local/lib/python3.10/dist-packages/moviepy/video/io/ffmpeg_reader.py:123: UserWarning: Warning: in file test_videos/lanes_clip.mp4, 2764800 bytes wanted but 0 bytes read,at frame 591/1298, at time 11.82/25.94 sec. Using the last valid frame instead.\n",
            "  warnings.warn(\"Warning: in file %s, \"%(self.filename)+\n",
            "\n",
            "WARNING:py.warnings:/usr/local/lib/python3.10/dist-packages/moviepy/video/io/ffmpeg_reader.py:123: UserWarning: Warning: in file test_videos/lanes_clip.mp4, 2764800 bytes wanted but 0 bytes read,at frame 592/1298, at time 11.84/25.94 sec. Using the last valid frame instead.\n",
            "  warnings.warn(\"Warning: in file %s, \"%(self.filename)+\n",
            "\n"
          ]
        },
        {
          "output_type": "stream",
          "name": "stdout",
          "text": [
            "(0.001, 0) [   1.01350267 -287.03663102]\n",
            "(0.001, 0) [   1.01350267 -287.03663102]\n",
            "(0.001, 0) [   1.01350267 -287.03663102]\n",
            "(0.001, 0) [   1.01350267 -287.03663102]\n"
          ]
        },
        {
          "output_type": "stream",
          "name": "stderr",
          "text": [
            "WARNING:py.warnings:/usr/local/lib/python3.10/dist-packages/moviepy/video/io/ffmpeg_reader.py:123: UserWarning: Warning: in file test_videos/lanes_clip.mp4, 2764800 bytes wanted but 0 bytes read,at frame 593/1298, at time 11.86/25.94 sec. Using the last valid frame instead.\n",
            "  warnings.warn(\"Warning: in file %s, \"%(self.filename)+\n",
            "\n",
            "t:  46%|████▌     | 595/1297 [00:44<00:34, 20.40it/s, now=None]WARNING:py.warnings:/usr/local/lib/python3.10/dist-packages/moviepy/video/io/ffmpeg_reader.py:123: UserWarning: Warning: in file test_videos/lanes_clip.mp4, 2764800 bytes wanted but 0 bytes read,at frame 594/1298, at time 11.88/25.94 sec. Using the last valid frame instead.\n",
            "  warnings.warn(\"Warning: in file %s, \"%(self.filename)+\n",
            "\n",
            "WARNING:py.warnings:/usr/local/lib/python3.10/dist-packages/moviepy/video/io/ffmpeg_reader.py:123: UserWarning: Warning: in file test_videos/lanes_clip.mp4, 2764800 bytes wanted but 0 bytes read,at frame 595/1298, at time 11.90/25.94 sec. Using the last valid frame instead.\n",
            "  warnings.warn(\"Warning: in file %s, \"%(self.filename)+\n",
            "\n",
            "WARNING:py.warnings:/usr/local/lib/python3.10/dist-packages/moviepy/video/io/ffmpeg_reader.py:123: UserWarning: Warning: in file test_videos/lanes_clip.mp4, 2764800 bytes wanted but 0 bytes read,at frame 596/1298, at time 11.92/25.94 sec. Using the last valid frame instead.\n",
            "  warnings.warn(\"Warning: in file %s, \"%(self.filename)+\n",
            "\n"
          ]
        },
        {
          "output_type": "stream",
          "name": "stdout",
          "text": [
            "(0.001, 0) [   1.01350267 -287.03663102]\n",
            "(0.001, 0) [   1.01350267 -287.03663102]\n",
            "(0.001, 0) [   1.01350267 -287.03663102]\n",
            "(0.001, 0) [   1.01350267 -287.03663102]\n"
          ]
        },
        {
          "output_type": "stream",
          "name": "stderr",
          "text": [
            "\rt:  46%|████▌     | 598/1297 [00:44<00:37, 18.51it/s, now=None]WARNING:py.warnings:/usr/local/lib/python3.10/dist-packages/moviepy/video/io/ffmpeg_reader.py:123: UserWarning: Warning: in file test_videos/lanes_clip.mp4, 2764800 bytes wanted but 0 bytes read,at frame 597/1298, at time 11.94/25.94 sec. Using the last valid frame instead.\n",
            "  warnings.warn(\"Warning: in file %s, \"%(self.filename)+\n",
            "\n",
            "WARNING:py.warnings:/usr/local/lib/python3.10/dist-packages/moviepy/video/io/ffmpeg_reader.py:123: UserWarning: Warning: in file test_videos/lanes_clip.mp4, 2764800 bytes wanted but 0 bytes read,at frame 598/1298, at time 11.96/25.94 sec. Using the last valid frame instead.\n",
            "  warnings.warn(\"Warning: in file %s, \"%(self.filename)+\n",
            "\n",
            "t:  46%|████▋     | 600/1297 [00:44<00:39, 17.46it/s, now=None]WARNING:py.warnings:/usr/local/lib/python3.10/dist-packages/moviepy/video/io/ffmpeg_reader.py:123: UserWarning: Warning: in file test_videos/lanes_clip.mp4, 2764800 bytes wanted but 0 bytes read,at frame 599/1298, at time 11.98/25.94 sec. Using the last valid frame instead.\n",
            "  warnings.warn(\"Warning: in file %s, \"%(self.filename)+\n",
            "\n",
            "WARNING:py.warnings:/usr/local/lib/python3.10/dist-packages/moviepy/video/io/ffmpeg_reader.py:123: UserWarning: Warning: in file test_videos/lanes_clip.mp4, 2764800 bytes wanted but 0 bytes read,at frame 600/1298, at time 12.00/25.94 sec. Using the last valid frame instead.\n",
            "  warnings.warn(\"Warning: in file %s, \"%(self.filename)+\n",
            "\n"
          ]
        },
        {
          "output_type": "stream",
          "name": "stdout",
          "text": [
            "(0.001, 0) [   1.01350267 -287.03663102]\n",
            "(0.001, 0) [   1.01350267 -287.03663102]\n",
            "(0.001, 0) [   1.01350267 -287.03663102]\n",
            "(0.001, 0) [   1.01350267 -287.03663102]\n"
          ]
        },
        {
          "output_type": "stream",
          "name": "stderr",
          "text": [
            "WARNING:py.warnings:/usr/local/lib/python3.10/dist-packages/moviepy/video/io/ffmpeg_reader.py:123: UserWarning: Warning: in file test_videos/lanes_clip.mp4, 2764800 bytes wanted but 0 bytes read,at frame 601/1298, at time 12.02/25.94 sec. Using the last valid frame instead.\n",
            "  warnings.warn(\"Warning: in file %s, \"%(self.filename)+\n",
            "\n",
            "t:  46%|████▋     | 603/1297 [00:45<00:36, 19.08it/s, now=None]WARNING:py.warnings:/usr/local/lib/python3.10/dist-packages/moviepy/video/io/ffmpeg_reader.py:123: UserWarning: Warning: in file test_videos/lanes_clip.mp4, 2764800 bytes wanted but 0 bytes read,at frame 602/1298, at time 12.04/25.94 sec. Using the last valid frame instead.\n",
            "  warnings.warn(\"Warning: in file %s, \"%(self.filename)+\n",
            "\n",
            "WARNING:py.warnings:/usr/local/lib/python3.10/dist-packages/moviepy/video/io/ffmpeg_reader.py:123: UserWarning: Warning: in file test_videos/lanes_clip.mp4, 2764800 bytes wanted but 0 bytes read,at frame 603/1298, at time 12.06/25.94 sec. Using the last valid frame instead.\n",
            "  warnings.warn(\"Warning: in file %s, \"%(self.filename)+\n",
            "\n",
            "t:  47%|████▋     | 605/1297 [00:45<00:39, 17.72it/s, now=None]WARNING:py.warnings:/usr/local/lib/python3.10/dist-packages/moviepy/video/io/ffmpeg_reader.py:123: UserWarning: Warning: in file test_videos/lanes_clip.mp4, 2764800 bytes wanted but 0 bytes read,at frame 604/1298, at time 12.08/25.94 sec. Using the last valid frame instead.\n",
            "  warnings.warn(\"Warning: in file %s, \"%(self.filename)+\n",
            "\n"
          ]
        },
        {
          "output_type": "stream",
          "name": "stdout",
          "text": [
            "(0.001, 0) [   1.01350267 -287.03663102]\n",
            "(0.001, 0) [   1.01350267 -287.03663102]\n",
            "(0.001, 0) [   1.01350267 -287.03663102]\n",
            "(0.001, 0) [   1.01350267 -287.03663102]\n"
          ]
        },
        {
          "output_type": "stream",
          "name": "stderr",
          "text": [
            "WARNING:py.warnings:/usr/local/lib/python3.10/dist-packages/moviepy/video/io/ffmpeg_reader.py:123: UserWarning: Warning: in file test_videos/lanes_clip.mp4, 2764800 bytes wanted but 0 bytes read,at frame 605/1298, at time 12.10/25.94 sec. Using the last valid frame instead.\n",
            "  warnings.warn(\"Warning: in file %s, \"%(self.filename)+\n",
            "\n",
            "WARNING:py.warnings:/usr/local/lib/python3.10/dist-packages/moviepy/video/io/ffmpeg_reader.py:123: UserWarning: Warning: in file test_videos/lanes_clip.mp4, 2764800 bytes wanted but 0 bytes read,at frame 606/1298, at time 12.12/25.94 sec. Using the last valid frame instead.\n",
            "  warnings.warn(\"Warning: in file %s, \"%(self.filename)+\n",
            "\n",
            "t:  47%|████▋     | 608/1297 [00:45<00:39, 17.49it/s, now=None]WARNING:py.warnings:/usr/local/lib/python3.10/dist-packages/moviepy/video/io/ffmpeg_reader.py:123: UserWarning: Warning: in file test_videos/lanes_clip.mp4, 2764800 bytes wanted but 0 bytes read,at frame 607/1298, at time 12.14/25.94 sec. Using the last valid frame instead.\n",
            "  warnings.warn(\"Warning: in file %s, \"%(self.filename)+\n",
            "\n",
            "WARNING:py.warnings:/usr/local/lib/python3.10/dist-packages/moviepy/video/io/ffmpeg_reader.py:123: UserWarning: Warning: in file test_videos/lanes_clip.mp4, 2764800 bytes wanted but 0 bytes read,at frame 608/1298, at time 12.16/25.94 sec. Using the last valid frame instead.\n",
            "  warnings.warn(\"Warning: in file %s, \"%(self.filename)+\n",
            "\n"
          ]
        },
        {
          "output_type": "stream",
          "name": "stdout",
          "text": [
            "(0.001, 0) [   1.01350267 -287.03663102]\n",
            "(0.001, 0) [   1.01350267 -287.03663102]\n",
            "(0.001, 0) [   1.01350267 -287.03663102]\n",
            "(0.001, 0) [   1.01350267 -287.03663102]\n"
          ]
        },
        {
          "output_type": "stream",
          "name": "stderr",
          "text": [
            "WARNING:py.warnings:/usr/local/lib/python3.10/dist-packages/moviepy/video/io/ffmpeg_reader.py:123: UserWarning: Warning: in file test_videos/lanes_clip.mp4, 2764800 bytes wanted but 0 bytes read,at frame 609/1298, at time 12.18/25.94 sec. Using the last valid frame instead.\n",
            "  warnings.warn(\"Warning: in file %s, \"%(self.filename)+\n",
            "\n",
            "t:  47%|████▋     | 611/1297 [00:45<00:36, 18.70it/s, now=None]WARNING:py.warnings:/usr/local/lib/python3.10/dist-packages/moviepy/video/io/ffmpeg_reader.py:123: UserWarning: Warning: in file test_videos/lanes_clip.mp4, 2764800 bytes wanted but 0 bytes read,at frame 610/1298, at time 12.20/25.94 sec. Using the last valid frame instead.\n",
            "  warnings.warn(\"Warning: in file %s, \"%(self.filename)+\n",
            "\n",
            "WARNING:py.warnings:/usr/local/lib/python3.10/dist-packages/moviepy/video/io/ffmpeg_reader.py:123: UserWarning: Warning: in file test_videos/lanes_clip.mp4, 2764800 bytes wanted but 0 bytes read,at frame 611/1298, at time 12.22/25.94 sec. Using the last valid frame instead.\n",
            "  warnings.warn(\"Warning: in file %s, \"%(self.filename)+\n",
            "\n",
            "WARNING:py.warnings:/usr/local/lib/python3.10/dist-packages/moviepy/video/io/ffmpeg_reader.py:123: UserWarning: Warning: in file test_videos/lanes_clip.mp4, 2764800 bytes wanted but 0 bytes read,at frame 612/1298, at time 12.24/25.94 sec. Using the last valid frame instead.\n",
            "  warnings.warn(\"Warning: in file %s, \"%(self.filename)+\n",
            "\n"
          ]
        },
        {
          "output_type": "stream",
          "name": "stdout",
          "text": [
            "(0.001, 0) [   1.01350267 -287.03663102]\n",
            "(0.001, 0) [   1.01350267 -287.03663102]\n",
            "(0.001, 0) [   1.01350267 -287.03663102]\n",
            "(0.001, 0) [   1.01350267 -287.03663102]\n",
            "(0.001, 0) [   1.01350267 -287.03663102]\n"
          ]
        },
        {
          "output_type": "stream",
          "name": "stderr",
          "text": [
            "\rt:  47%|████▋     | 614/1297 [00:45<00:34, 19.62it/s, now=None]WARNING:py.warnings:/usr/local/lib/python3.10/dist-packages/moviepy/video/io/ffmpeg_reader.py:123: UserWarning: Warning: in file test_videos/lanes_clip.mp4, 2764800 bytes wanted but 0 bytes read,at frame 613/1298, at time 12.26/25.94 sec. Using the last valid frame instead.\n",
            "  warnings.warn(\"Warning: in file %s, \"%(self.filename)+\n",
            "\n",
            "WARNING:py.warnings:/usr/local/lib/python3.10/dist-packages/moviepy/video/io/ffmpeg_reader.py:123: UserWarning: Warning: in file test_videos/lanes_clip.mp4, 2764800 bytes wanted but 0 bytes read,at frame 614/1298, at time 12.28/25.94 sec. Using the last valid frame instead.\n",
            "  warnings.warn(\"Warning: in file %s, \"%(self.filename)+\n",
            "\n",
            "t:  47%|████▋     | 616/1297 [00:45<00:35, 19.01it/s, now=None]WARNING:py.warnings:/usr/local/lib/python3.10/dist-packages/moviepy/video/io/ffmpeg_reader.py:123: UserWarning: Warning: in file test_videos/lanes_clip.mp4, 2764800 bytes wanted but 0 bytes read,at frame 615/1298, at time 12.30/25.94 sec. Using the last valid frame instead.\n",
            "  warnings.warn(\"Warning: in file %s, \"%(self.filename)+\n",
            "\n",
            "WARNING:py.warnings:/usr/local/lib/python3.10/dist-packages/moviepy/video/io/ffmpeg_reader.py:123: UserWarning: Warning: in file test_videos/lanes_clip.mp4, 2764800 bytes wanted but 0 bytes read,at frame 616/1298, at time 12.32/25.94 sec. Using the last valid frame instead.\n",
            "  warnings.warn(\"Warning: in file %s, \"%(self.filename)+\n",
            "\n",
            "WARNING:py.warnings:/usr/local/lib/python3.10/dist-packages/moviepy/video/io/ffmpeg_reader.py:123: UserWarning: Warning: in file test_videos/lanes_clip.mp4, 2764800 bytes wanted but 0 bytes read,at frame 617/1298, at time 12.34/25.94 sec. Using the last valid frame instead.\n",
            "  warnings.warn(\"Warning: in file %s, \"%(self.filename)+\n",
            "\n"
          ]
        },
        {
          "output_type": "stream",
          "name": "stdout",
          "text": [
            "(0.001, 0) [   1.01350267 -287.03663102]\n",
            "(0.001, 0) [   1.01350267 -287.03663102]\n",
            "(0.001, 0) [   1.01350267 -287.03663102]\n",
            "(0.001, 0) [   1.01350267 -287.03663102]\n",
            "(0.001, 0)"
          ]
        },
        {
          "output_type": "stream",
          "name": "stderr",
          "text": [
            "\rt:  48%|████▊     | 619/1297 [00:45<00:33, 20.41it/s, now=None]WARNING:py.warnings:/usr/local/lib/python3.10/dist-packages/moviepy/video/io/ffmpeg_reader.py:123: UserWarning: Warning: in file test_videos/lanes_clip.mp4, 2764800 bytes wanted but 0 bytes read,at frame 618/1298, at time 12.36/25.94 sec. Using the last valid frame instead.\n",
            "  warnings.warn(\"Warning: in file %s, \"%(self.filename)+\n",
            "\n",
            "WARNING:py.warnings:/usr/local/lib/python3.10/dist-packages/moviepy/video/io/ffmpeg_reader.py:123: UserWarning: Warning: in file test_videos/lanes_clip.mp4, 2764800 bytes wanted but 0 bytes read,at frame 619/1298, at time 12.38/25.94 sec. Using the last valid frame instead.\n",
            "  warnings.warn(\"Warning: in file %s, \"%(self.filename)+\n",
            "\n",
            "WARNING:py.warnings:/usr/local/lib/python3.10/dist-packages/moviepy/video/io/ffmpeg_reader.py:123: UserWarning: Warning: in file test_videos/lanes_clip.mp4, 2764800 bytes wanted but 0 bytes read,at frame 620/1298, at time 12.40/25.94 sec. Using the last valid frame instead.\n",
            "  warnings.warn(\"Warning: in file %s, \"%(self.filename)+\n",
            "\n",
            "t:  48%|████▊     | 622/1297 [00:46<00:35, 19.16it/s, now=None]"
          ]
        },
        {
          "output_type": "stream",
          "name": "stdout",
          "text": [
            " [   1.01350267 -287.03663102]\n",
            "(0.001, 0) [   1.01350267 -287.03663102]\n",
            "(0.001, 0) [   1.01350267 -287.03663102]\n",
            "(0.001, 0) [   1.01350267 -287.03663102]\n"
          ]
        },
        {
          "output_type": "stream",
          "name": "stderr",
          "text": [
            "WARNING:py.warnings:/usr/local/lib/python3.10/dist-packages/moviepy/video/io/ffmpeg_reader.py:123: UserWarning: Warning: in file test_videos/lanes_clip.mp4, 2764800 bytes wanted but 0 bytes read,at frame 621/1298, at time 12.42/25.94 sec. Using the last valid frame instead.\n",
            "  warnings.warn(\"Warning: in file %s, \"%(self.filename)+\n",
            "\n",
            "WARNING:py.warnings:/usr/local/lib/python3.10/dist-packages/moviepy/video/io/ffmpeg_reader.py:123: UserWarning: Warning: in file test_videos/lanes_clip.mp4, 2764800 bytes wanted but 0 bytes read,at frame 622/1298, at time 12.44/25.94 sec. Using the last valid frame instead.\n",
            "  warnings.warn(\"Warning: in file %s, \"%(self.filename)+\n",
            "\n",
            "WARNING:py.warnings:/usr/local/lib/python3.10/dist-packages/moviepy/video/io/ffmpeg_reader.py:123: UserWarning: Warning: in file test_videos/lanes_clip.mp4, 2764800 bytes wanted but 0 bytes read,at frame 623/1298, at time 12.46/25.94 sec. Using the last valid frame instead.\n",
            "  warnings.warn(\"Warning: in file %s, \"%(self.filename)+\n",
            "\n",
            "t:  48%|████▊     | 625/1297 [00:46<00:33, 19.78it/s, now=None]WARNING:py.warnings:/usr/local/lib/python3.10/dist-packages/moviepy/video/io/ffmpeg_reader.py:123: UserWarning: Warning: in file test_videos/lanes_clip.mp4, 2764800 bytes wanted but 0 bytes read,at frame 624/1298, at time 12.48/25.94 sec. Using the last valid frame instead.\n",
            "  warnings.warn(\"Warning: in file %s, \"%(self.filename)+\n",
            "\n",
            "WARNING:py.warnings:/usr/local/lib/python3.10/dist-packages/moviepy/video/io/ffmpeg_reader.py:123: UserWarning: Warning: in file test_videos/lanes_clip.mp4, 2764800 bytes wanted but 0 bytes read,at frame 625/1298, at time 12.50/25.94 sec. Using the last valid frame instead.\n",
            "  warnings.warn(\"Warning: in file %s, \"%(self.filename)+\n",
            "\n"
          ]
        },
        {
          "output_type": "stream",
          "name": "stdout",
          "text": [
            "(0.001, 0) [   1.01350267 -287.03663102]\n",
            "(0.001, 0) [   1.01350267 -287.03663102]\n",
            "(0.001, 0) [   1.01350267 -287.03663102]\n",
            "(0.001, 0) [   1.01350267 -287.03663102]\n"
          ]
        },
        {
          "output_type": "stream",
          "name": "stderr",
          "text": [
            "WARNING:py.warnings:/usr/local/lib/python3.10/dist-packages/moviepy/video/io/ffmpeg_reader.py:123: UserWarning: Warning: in file test_videos/lanes_clip.mp4, 2764800 bytes wanted but 0 bytes read,at frame 626/1298, at time 12.52/25.94 sec. Using the last valid frame instead.\n",
            "  warnings.warn(\"Warning: in file %s, \"%(self.filename)+\n",
            "\n",
            "t:  48%|████▊     | 628/1297 [00:46<00:33, 19.72it/s, now=None]WARNING:py.warnings:/usr/local/lib/python3.10/dist-packages/moviepy/video/io/ffmpeg_reader.py:123: UserWarning: Warning: in file test_videos/lanes_clip.mp4, 2764800 bytes wanted but 0 bytes read,at frame 627/1298, at time 12.54/25.94 sec. Using the last valid frame instead.\n",
            "  warnings.warn(\"Warning: in file %s, \"%(self.filename)+\n",
            "\n",
            "WARNING:py.warnings:/usr/local/lib/python3.10/dist-packages/moviepy/video/io/ffmpeg_reader.py:123: UserWarning: Warning: in file test_videos/lanes_clip.mp4, 2764800 bytes wanted but 0 bytes read,at frame 628/1298, at time 12.56/25.94 sec. Using the last valid frame instead.\n",
            "  warnings.warn(\"Warning: in file %s, \"%(self.filename)+\n",
            "\n",
            "WARNING:py.warnings:/usr/local/lib/python3.10/dist-packages/moviepy/video/io/ffmpeg_reader.py:123: UserWarning: Warning: in file test_videos/lanes_clip.mp4, 2764800 bytes wanted but 0 bytes read,at frame 629/1298, at time 12.58/25.94 sec. Using the last valid frame instead.\n",
            "  warnings.warn(\"Warning: in file %s, \"%(self.filename)+\n",
            "\n",
            "t:  49%|████▊     | 631/1297 [00:46<00:30, 21.80it/s, now=None]WARNING:py.warnings:/usr/local/lib/python3.10/dist-packages/moviepy/video/io/ffmpeg_reader.py:123: UserWarning: Warning: in file test_videos/lanes_clip.mp4, 2764800 bytes wanted but 0 bytes read,at frame 630/1298, at time 12.60/25.94 sec. Using the last valid frame instead.\n",
            "  warnings.warn(\"Warning: in file %s, \"%(self.filename)+\n",
            "\n",
            "WARNING:py.warnings:/usr/local/lib/python3.10/dist-packages/moviepy/video/io/ffmpeg_reader.py:123: UserWarning: Warning: in file test_videos/lanes_clip.mp4, 2764800 bytes wanted but 0 bytes read,at frame 631/1298, at time 12.62/25.94 sec. Using the last valid frame instead.\n",
            "  warnings.warn(\"Warning: in file %s, \"%(self.filename)+\n",
            "\n"
          ]
        },
        {
          "output_type": "stream",
          "name": "stdout",
          "text": [
            "(0.001, 0) [   1.01350267 -287.03663102]\n",
            "(0.001, 0) [   1.01350267 -287.03663102]\n",
            "(0.001, 0) [   1.01350267 -287.03663102]\n",
            "(0.001, 0) [   1.01350267 -287.03663102]\n",
            "(0.001, 0) [   1.01350267 -287.03663102]\n",
            "(0.001, 0) [   1.01350267 -287.03663102]\n"
          ]
        },
        {
          "output_type": "stream",
          "name": "stderr",
          "text": [
            "WARNING:py.warnings:/usr/local/lib/python3.10/dist-packages/moviepy/video/io/ffmpeg_reader.py:123: UserWarning: Warning: in file test_videos/lanes_clip.mp4, 2764800 bytes wanted but 0 bytes read,at frame 632/1298, at time 12.64/25.94 sec. Using the last valid frame instead.\n",
            "  warnings.warn(\"Warning: in file %s, \"%(self.filename)+\n",
            "\n",
            "t:  49%|████▉     | 634/1297 [00:46<00:29, 22.63it/s, now=None]WARNING:py.warnings:/usr/local/lib/python3.10/dist-packages/moviepy/video/io/ffmpeg_reader.py:123: UserWarning: Warning: in file test_videos/lanes_clip.mp4, 2764800 bytes wanted but 0 bytes read,at frame 633/1298, at time 12.66/25.94 sec. Using the last valid frame instead.\n",
            "  warnings.warn(\"Warning: in file %s, \"%(self.filename)+\n",
            "\n",
            "WARNING:py.warnings:/usr/local/lib/python3.10/dist-packages/moviepy/video/io/ffmpeg_reader.py:123: UserWarning: Warning: in file test_videos/lanes_clip.mp4, 2764800 bytes wanted but 0 bytes read,at frame 634/1298, at time 12.68/25.94 sec. Using the last valid frame instead.\n",
            "  warnings.warn(\"Warning: in file %s, \"%(self.filename)+\n",
            "\n",
            "WARNING:py.warnings:/usr/local/lib/python3.10/dist-packages/moviepy/video/io/ffmpeg_reader.py:123: UserWarning: Warning: in file test_videos/lanes_clip.mp4, 2764800 bytes wanted but 0 bytes read,at frame 635/1298, at time 12.70/25.94 sec. Using the last valid frame instead.\n",
            "  warnings.warn(\"Warning: in file %s, \"%(self.filename)+\n",
            "\n",
            "t:  49%|████▉     | 637/1297 [00:46<00:27, 24.21it/s, now=None]WARNING:py.warnings:/usr/local/lib/python3.10/dist-packages/moviepy/video/io/ffmpeg_reader.py:123: UserWarning: Warning: in file test_videos/lanes_clip.mp4, 2764800 bytes wanted but 0 bytes read,at frame 636/1298, at time 12.72/25.94 sec. Using the last valid frame instead.\n",
            "  warnings.warn(\"Warning: in file %s, \"%(self.filename)+\n",
            "\n",
            "WARNING:py.warnings:/usr/local/lib/python3.10/dist-packages/moviepy/video/io/ffmpeg_reader.py:123: UserWarning: Warning: in file test_videos/lanes_clip.mp4, 2764800 bytes wanted but 0 bytes read,at frame 637/1298, at time 12.74/25.94 sec. Using the last valid frame instead.\n",
            "  warnings.warn(\"Warning: in file %s, \"%(self.filename)+\n",
            "\n"
          ]
        },
        {
          "output_type": "stream",
          "name": "stdout",
          "text": [
            "(0.001, 0) [   1.01350267 -287.03663102]\n",
            "(0.001, 0) [   1.01350267 -287.03663102]\n",
            "(0.001, 0) [   1.01350267 -287.03663102]\n",
            "(0.001, 0) [   1.01350267 -287.03663102]\n",
            "(0.001, 0) [   1.01350267 -287.03663102]\n",
            "(0.001, 0) [   1.01350267 -287.03663102]\n"
          ]
        },
        {
          "output_type": "stream",
          "name": "stderr",
          "text": [
            "WARNING:py.warnings:/usr/local/lib/python3.10/dist-packages/moviepy/video/io/ffmpeg_reader.py:123: UserWarning: Warning: in file test_videos/lanes_clip.mp4, 2764800 bytes wanted but 0 bytes read,at frame 638/1298, at time 12.76/25.94 sec. Using the last valid frame instead.\n",
            "  warnings.warn(\"Warning: in file %s, \"%(self.filename)+\n",
            "\n",
            "t:  49%|████▉     | 640/1297 [00:46<00:25, 25.39it/s, now=None]WARNING:py.warnings:/usr/local/lib/python3.10/dist-packages/moviepy/video/io/ffmpeg_reader.py:123: UserWarning: Warning: in file test_videos/lanes_clip.mp4, 2764800 bytes wanted but 0 bytes read,at frame 639/1298, at time 12.78/25.94 sec. Using the last valid frame instead.\n",
            "  warnings.warn(\"Warning: in file %s, \"%(self.filename)+\n",
            "\n",
            "WARNING:py.warnings:/usr/local/lib/python3.10/dist-packages/moviepy/video/io/ffmpeg_reader.py:123: UserWarning: Warning: in file test_videos/lanes_clip.mp4, 2764800 bytes wanted but 0 bytes read,at frame 640/1298, at time 12.80/25.94 sec. Using the last valid frame instead.\n",
            "  warnings.warn(\"Warning: in file %s, \"%(self.filename)+\n",
            "\n",
            "WARNING:py.warnings:/usr/local/lib/python3.10/dist-packages/moviepy/video/io/ffmpeg_reader.py:123: UserWarning: Warning: in file test_videos/lanes_clip.mp4, 2764800 bytes wanted but 0 bytes read,at frame 641/1298, at time 12.82/25.94 sec. Using the last valid frame instead.\n",
            "  warnings.warn(\"Warning: in file %s, \"%(self.filename)+\n",
            "\n",
            "t:  50%|████▉     | 643/1297 [00:46<00:25, 25.61it/s, now=None]WARNING:py.warnings:/usr/local/lib/python3.10/dist-packages/moviepy/video/io/ffmpeg_reader.py:123: UserWarning: Warning: in file test_videos/lanes_clip.mp4, 2764800 bytes wanted but 0 bytes read,at frame 642/1298, at time 12.84/25.94 sec. Using the last valid frame instead.\n",
            "  warnings.warn(\"Warning: in file %s, \"%(self.filename)+\n",
            "\n",
            "WARNING:py.warnings:/usr/local/lib/python3.10/dist-packages/moviepy/video/io/ffmpeg_reader.py:123: UserWarning: Warning: in file test_videos/lanes_clip.mp4, 2764800 bytes wanted but 0 bytes read,at frame 643/1298, at time 12.86/25.94 sec. Using the last valid frame instead.\n",
            "  warnings.warn(\"Warning: in file %s, \"%(self.filename)+\n",
            "\n"
          ]
        },
        {
          "output_type": "stream",
          "name": "stdout",
          "text": [
            "(0.001, 0) [   1.01350267 -287.03663102]\n",
            "(0.001, 0) [   1.01350267 -287.03663102]\n",
            "(0.001, 0) [   1.01350267 -287.03663102]\n",
            "(0.001, 0) [   1.01350267 -287.03663102]\n",
            "(0.001, 0) [   1.01350267 -287.03663102]\n",
            "(0.001, 0) [   1.01350267 -287.03663102]\n"
          ]
        },
        {
          "output_type": "stream",
          "name": "stderr",
          "text": [
            "WARNING:py.warnings:/usr/local/lib/python3.10/dist-packages/moviepy/video/io/ffmpeg_reader.py:123: UserWarning: Warning: in file test_videos/lanes_clip.mp4, 2764800 bytes wanted but 0 bytes read,at frame 644/1298, at time 12.88/25.94 sec. Using the last valid frame instead.\n",
            "  warnings.warn(\"Warning: in file %s, \"%(self.filename)+\n",
            "\n",
            "t:  50%|████▉     | 646/1297 [00:47<00:24, 26.70it/s, now=None]WARNING:py.warnings:/usr/local/lib/python3.10/dist-packages/moviepy/video/io/ffmpeg_reader.py:123: UserWarning: Warning: in file test_videos/lanes_clip.mp4, 2764800 bytes wanted but 0 bytes read,at frame 645/1298, at time 12.90/25.94 sec. Using the last valid frame instead.\n",
            "  warnings.warn(\"Warning: in file %s, \"%(self.filename)+\n",
            "\n",
            "WARNING:py.warnings:/usr/local/lib/python3.10/dist-packages/moviepy/video/io/ffmpeg_reader.py:123: UserWarning: Warning: in file test_videos/lanes_clip.mp4, 2764800 bytes wanted but 0 bytes read,at frame 646/1298, at time 12.92/25.94 sec. Using the last valid frame instead.\n",
            "  warnings.warn(\"Warning: in file %s, \"%(self.filename)+\n",
            "\n",
            "WARNING:py.warnings:/usr/local/lib/python3.10/dist-packages/moviepy/video/io/ffmpeg_reader.py:123: UserWarning: Warning: in file test_videos/lanes_clip.mp4, 2764800 bytes wanted but 0 bytes read,at frame 647/1298, at time 12.94/25.94 sec. Using the last valid frame instead.\n",
            "  warnings.warn(\"Warning: in file %s, \"%(self.filename)+\n",
            "\n",
            "WARNING:py.warnings:/usr/local/lib/python3.10/dist-packages/moviepy/video/io/ffmpeg_reader.py:123: UserWarning: Warning: in file test_videos/lanes_clip.mp4, 2764800 bytes wanted but 0 bytes read,at frame 648/1298, at time 12.96/25.94 sec. Using the last valid frame instead.\n",
            "  warnings.warn(\"Warning: in file %s, \"%(self.filename)+\n",
            "\n",
            "t:  50%|█████     | 650/1297 [00:47<00:22, 28.17it/s, now=None]WARNING:py.warnings:/usr/local/lib/python3.10/dist-packages/moviepy/video/io/ffmpeg_reader.py:123: UserWarning: Warning: in file test_videos/lanes_clip.mp4, 2764800 bytes wanted but 0 bytes read,at frame 649/1298, at time 12.98/25.94 sec. Using the last valid frame instead.\n",
            "  warnings.warn(\"Warning: in file %s, \"%(self.filename)+\n",
            "\n"
          ]
        },
        {
          "output_type": "stream",
          "name": "stdout",
          "text": [
            "(0.001, 0) [   1.01350267 -287.03663102]\n",
            "(0.001, 0) [   1.01350267 -287.03663102]\n",
            "(0.001, 0) [   1.01350267 -287.03663102]\n",
            "(0.001, 0) [   1.01350267 -287.03663102]\n",
            "(0.001, 0) [   1.01350267 -287.03663102]\n",
            "(0.001, 0) [   1.01350267 -287.03663102]\n",
            "(0.001, 0) [   1.01350267 -287.03663102]\n"
          ]
        },
        {
          "output_type": "stream",
          "name": "stderr",
          "text": [
            "WARNING:py.warnings:/usr/local/lib/python3.10/dist-packages/moviepy/video/io/ffmpeg_reader.py:123: UserWarning: Warning: in file test_videos/lanes_clip.mp4, 2764800 bytes wanted but 0 bytes read,at frame 650/1298, at time 13.00/25.94 sec. Using the last valid frame instead.\n",
            "  warnings.warn(\"Warning: in file %s, \"%(self.filename)+\n",
            "\n",
            "WARNING:py.warnings:/usr/local/lib/python3.10/dist-packages/moviepy/video/io/ffmpeg_reader.py:123: UserWarning: Warning: in file test_videos/lanes_clip.mp4, 2764800 bytes wanted but 0 bytes read,at frame 651/1298, at time 13.02/25.94 sec. Using the last valid frame instead.\n",
            "  warnings.warn(\"Warning: in file %s, \"%(self.filename)+\n",
            "\n",
            "t:  50%|█████     | 653/1297 [00:47<00:22, 28.20it/s, now=None]WARNING:py.warnings:/usr/local/lib/python3.10/dist-packages/moviepy/video/io/ffmpeg_reader.py:123: UserWarning: Warning: in file test_videos/lanes_clip.mp4, 2764800 bytes wanted but 0 bytes read,at frame 652/1298, at time 13.04/25.94 sec. Using the last valid frame instead.\n",
            "  warnings.warn(\"Warning: in file %s, \"%(self.filename)+\n",
            "\n",
            "WARNING:py.warnings:/usr/local/lib/python3.10/dist-packages/moviepy/video/io/ffmpeg_reader.py:123: UserWarning: Warning: in file test_videos/lanes_clip.mp4, 2764800 bytes wanted but 0 bytes read,at frame 653/1298, at time 13.06/25.94 sec. Using the last valid frame instead.\n",
            "  warnings.warn(\"Warning: in file %s, \"%(self.filename)+\n",
            "\n",
            "WARNING:py.warnings:/usr/local/lib/python3.10/dist-packages/moviepy/video/io/ffmpeg_reader.py:123: UserWarning: Warning: in file test_videos/lanes_clip.mp4, 2764800 bytes wanted but 0 bytes read,at frame 654/1298, at time 13.08/25.94 sec. Using the last valid frame instead.\n",
            "  warnings.warn(\"Warning: in file %s, \"%(self.filename)+\n",
            "\n",
            "t:  51%|█████     | 656/1297 [00:47<00:23, 27.46it/s, now=None]WARNING:py.warnings:/usr/local/lib/python3.10/dist-packages/moviepy/video/io/ffmpeg_reader.py:123: UserWarning: Warning: in file test_videos/lanes_clip.mp4, 2764800 bytes wanted but 0 bytes read,at frame 655/1298, at time 13.10/25.94 sec. Using the last valid frame instead.\n",
            "  warnings.warn(\"Warning: in file %s, \"%(self.filename)+\n",
            "\n"
          ]
        },
        {
          "output_type": "stream",
          "name": "stdout",
          "text": [
            "(0.001, 0) [   1.01350267 -287.03663102]\n",
            "(0.001, 0) [   1.01350267 -287.03663102]\n",
            "(0.001, 0) [   1.01350267 -287.03663102]\n",
            "(0.001, 0) [   1.01350267 -287.03663102]\n",
            "(0.001, 0) [   1.01350267 -287.03663102]\n",
            "(0.001, 0) [   1.01350267 -287.03663102]\n"
          ]
        },
        {
          "output_type": "stream",
          "name": "stderr",
          "text": [
            "WARNING:py.warnings:/usr/local/lib/python3.10/dist-packages/moviepy/video/io/ffmpeg_reader.py:123: UserWarning: Warning: in file test_videos/lanes_clip.mp4, 2764800 bytes wanted but 0 bytes read,at frame 656/1298, at time 13.12/25.94 sec. Using the last valid frame instead.\n",
            "  warnings.warn(\"Warning: in file %s, \"%(self.filename)+\n",
            "\n",
            "WARNING:py.warnings:/usr/local/lib/python3.10/dist-packages/moviepy/video/io/ffmpeg_reader.py:123: UserWarning: Warning: in file test_videos/lanes_clip.mp4, 2764800 bytes wanted but 0 bytes read,at frame 657/1298, at time 13.14/25.94 sec. Using the last valid frame instead.\n",
            "  warnings.warn(\"Warning: in file %s, \"%(self.filename)+\n",
            "\n",
            "WARNING:py.warnings:/usr/local/lib/python3.10/dist-packages/moviepy/video/io/ffmpeg_reader.py:123: UserWarning: Warning: in file test_videos/lanes_clip.mp4, 2764800 bytes wanted but 0 bytes read,at frame 658/1298, at time 13.16/25.94 sec. Using the last valid frame instead.\n",
            "  warnings.warn(\"Warning: in file %s, \"%(self.filename)+\n",
            "\n",
            "t:  51%|█████     | 660/1297 [00:47<00:22, 27.80it/s, now=None]WARNING:py.warnings:/usr/local/lib/python3.10/dist-packages/moviepy/video/io/ffmpeg_reader.py:123: UserWarning: Warning: in file test_videos/lanes_clip.mp4, 2764800 bytes wanted but 0 bytes read,at frame 659/1298, at time 13.18/25.94 sec. Using the last valid frame instead.\n",
            "  warnings.warn(\"Warning: in file %s, \"%(self.filename)+\n",
            "\n",
            "WARNING:py.warnings:/usr/local/lib/python3.10/dist-packages/moviepy/video/io/ffmpeg_reader.py:123: UserWarning: Warning: in file test_videos/lanes_clip.mp4, 2764800 bytes wanted but 0 bytes read,at frame 660/1298, at time 13.20/25.94 sec. Using the last valid frame instead.\n",
            "  warnings.warn(\"Warning: in file %s, \"%(self.filename)+\n",
            "\n",
            "WARNING:py.warnings:/usr/local/lib/python3.10/dist-packages/moviepy/video/io/ffmpeg_reader.py:123: UserWarning: Warning: in file test_videos/lanes_clip.mp4, 2764800 bytes wanted but 0 bytes read,at frame 661/1298, at time 13.22/25.94 sec. Using the last valid frame instead.\n",
            "  warnings.warn(\"Warning: in file %s, \"%(self.filename)+\n",
            "\n",
            "t:  51%|█████     | 663/1297 [00:47<00:22, 28.09it/s, now=None]WARNING:py.warnings:/usr/local/lib/python3.10/dist-packages/moviepy/video/io/ffmpeg_reader.py:123: UserWarning: Warning: in file test_videos/lanes_clip.mp4, 2764800 bytes wanted but 0 bytes read,at frame 662/1298, at time 13.24/25.94 sec. Using the last valid frame instead.\n",
            "  warnings.warn(\"Warning: in file %s, \"%(self.filename)+\n",
            "\n"
          ]
        },
        {
          "output_type": "stream",
          "name": "stdout",
          "text": [
            "(0.001, 0) [   1.01350267 -287.03663102]\n",
            "(0.001, 0) [   1.01350267 -287.03663102]\n",
            "(0.001, 0) [   1.01350267 -287.03663102]\n",
            "(0.001, 0) [   1.01350267 -287.03663102]\n",
            "(0.001, 0) [   1.01350267 -287.03663102]\n",
            "(0.001, 0) [   1.01350267 -287.03663102]\n"
          ]
        },
        {
          "output_type": "stream",
          "name": "stderr",
          "text": [
            "WARNING:py.warnings:/usr/local/lib/python3.10/dist-packages/moviepy/video/io/ffmpeg_reader.py:123: UserWarning: Warning: in file test_videos/lanes_clip.mp4, 2764800 bytes wanted but 0 bytes read,at frame 663/1298, at time 13.26/25.94 sec. Using the last valid frame instead.\n",
            "  warnings.warn(\"Warning: in file %s, \"%(self.filename)+\n",
            "\n",
            "WARNING:py.warnings:/usr/local/lib/python3.10/dist-packages/moviepy/video/io/ffmpeg_reader.py:123: UserWarning: Warning: in file test_videos/lanes_clip.mp4, 2764800 bytes wanted but 0 bytes read,at frame 664/1298, at time 13.28/25.94 sec. Using the last valid frame instead.\n",
            "  warnings.warn(\"Warning: in file %s, \"%(self.filename)+\n",
            "\n",
            "t:  51%|█████▏    | 666/1297 [00:47<00:22, 28.19it/s, now=None]WARNING:py.warnings:/usr/local/lib/python3.10/dist-packages/moviepy/video/io/ffmpeg_reader.py:123: UserWarning: Warning: in file test_videos/lanes_clip.mp4, 2764800 bytes wanted but 0 bytes read,at frame 665/1298, at time 13.30/25.94 sec. Using the last valid frame instead.\n",
            "  warnings.warn(\"Warning: in file %s, \"%(self.filename)+\n",
            "\n",
            "WARNING:py.warnings:/usr/local/lib/python3.10/dist-packages/moviepy/video/io/ffmpeg_reader.py:123: UserWarning: Warning: in file test_videos/lanes_clip.mp4, 2764800 bytes wanted but 0 bytes read,at frame 666/1298, at time 13.32/25.94 sec. Using the last valid frame instead.\n",
            "  warnings.warn(\"Warning: in file %s, \"%(self.filename)+\n",
            "\n",
            "WARNING:py.warnings:/usr/local/lib/python3.10/dist-packages/moviepy/video/io/ffmpeg_reader.py:123: UserWarning: Warning: in file test_videos/lanes_clip.mp4, 2764800 bytes wanted but 0 bytes read,at frame 667/1298, at time 13.34/25.94 sec. Using the last valid frame instead.\n",
            "  warnings.warn(\"Warning: in file %s, \"%(self.filename)+\n",
            "\n",
            "t:  52%|█████▏    | 669/1297 [00:47<00:22, 28.22it/s, now=None]"
          ]
        },
        {
          "output_type": "stream",
          "name": "stdout",
          "text": [
            "(0.001, 0) [   1.01350267 -287.03663102]\n",
            "(0.001, 0) [   1.01350267 -287.03663102]\n",
            "(0.001, 0) [   1.01350267 -287.03663102]\n",
            "(0.001, 0) [   1.01350267 -287.03663102]\n",
            "(0.001, 0) [   1.01350267 -287.03663102]\n",
            "(0.001, 0) [   1.01350267 -287.03663102]\n"
          ]
        },
        {
          "output_type": "stream",
          "name": "stderr",
          "text": [
            "WARNING:py.warnings:/usr/local/lib/python3.10/dist-packages/moviepy/video/io/ffmpeg_reader.py:123: UserWarning: Warning: in file test_videos/lanes_clip.mp4, 2764800 bytes wanted but 0 bytes read,at frame 668/1298, at time 13.36/25.94 sec. Using the last valid frame instead.\n",
            "  warnings.warn(\"Warning: in file %s, \"%(self.filename)+\n",
            "\n",
            "WARNING:py.warnings:/usr/local/lib/python3.10/dist-packages/moviepy/video/io/ffmpeg_reader.py:123: UserWarning: Warning: in file test_videos/lanes_clip.mp4, 2764800 bytes wanted but 0 bytes read,at frame 669/1298, at time 13.38/25.94 sec. Using the last valid frame instead.\n",
            "  warnings.warn(\"Warning: in file %s, \"%(self.filename)+\n",
            "\n",
            "WARNING:py.warnings:/usr/local/lib/python3.10/dist-packages/moviepy/video/io/ffmpeg_reader.py:123: UserWarning: Warning: in file test_videos/lanes_clip.mp4, 2764800 bytes wanted but 0 bytes read,at frame 670/1298, at time 13.40/25.94 sec. Using the last valid frame instead.\n",
            "  warnings.warn(\"Warning: in file %s, \"%(self.filename)+\n",
            "\n",
            "WARNING:py.warnings:/usr/local/lib/python3.10/dist-packages/moviepy/video/io/ffmpeg_reader.py:123: UserWarning: Warning: in file test_videos/lanes_clip.mp4, 2764800 bytes wanted but 0 bytes read,at frame 671/1298, at time 13.42/25.94 sec. Using the last valid frame instead.\n",
            "  warnings.warn(\"Warning: in file %s, \"%(self.filename)+\n",
            "\n",
            "t:  52%|█████▏    | 673/1297 [00:48<00:21, 28.91it/s, now=None]WARNING:py.warnings:/usr/local/lib/python3.10/dist-packages/moviepy/video/io/ffmpeg_reader.py:123: UserWarning: Warning: in file test_videos/lanes_clip.mp4, 2764800 bytes wanted but 0 bytes read,at frame 672/1298, at time 13.44/25.94 sec. Using the last valid frame instead.\n",
            "  warnings.warn(\"Warning: in file %s, \"%(self.filename)+\n",
            "\n",
            "WARNING:py.warnings:/usr/local/lib/python3.10/dist-packages/moviepy/video/io/ffmpeg_reader.py:123: UserWarning: Warning: in file test_videos/lanes_clip.mp4, 2764800 bytes wanted but 0 bytes read,at frame 673/1298, at time 13.46/25.94 sec. Using the last valid frame instead.\n",
            "  warnings.warn(\"Warning: in file %s, \"%(self.filename)+\n",
            "\n",
            "WARNING:py.warnings:/usr/local/lib/python3.10/dist-packages/moviepy/video/io/ffmpeg_reader.py:123: UserWarning: Warning: in file test_videos/lanes_clip.mp4, 2764800 bytes wanted but 0 bytes read,at frame 674/1298, at time 13.48/25.94 sec. Using the last valid frame instead.\n",
            "  warnings.warn(\"Warning: in file %s, \"%(self.filename)+\n",
            "\n"
          ]
        },
        {
          "output_type": "stream",
          "name": "stdout",
          "text": [
            "(0.001, 0) [   1.01350267 -287.03663102]\n",
            "(0.001, 0) [   1.01350267 -287.03663102]\n",
            "(0.001, 0) [   1.01350267 -287.03663102]\n",
            "(0.001, 0) [   1.01350267 -287.03663102]\n",
            "(0.001, 0) [   1.01350267 -287.03663102]\n",
            "(0.001, 0) [   1.01350267 -287.03663102]\n",
            "(0.001, 0) [   1.01350267 -287.03663102]\n"
          ]
        },
        {
          "output_type": "stream",
          "name": "stderr",
          "text": [
            "WARNING:py.warnings:/usr/local/lib/python3.10/dist-packages/moviepy/video/io/ffmpeg_reader.py:123: UserWarning: Warning: in file test_videos/lanes_clip.mp4, 2764800 bytes wanted but 0 bytes read,at frame 675/1298, at time 13.50/25.94 sec. Using the last valid frame instead.\n",
            "  warnings.warn(\"Warning: in file %s, \"%(self.filename)+\n",
            "\n",
            "t:  52%|█████▏    | 677/1297 [00:48<00:21, 28.28it/s, now=None]WARNING:py.warnings:/usr/local/lib/python3.10/dist-packages/moviepy/video/io/ffmpeg_reader.py:123: UserWarning: Warning: in file test_videos/lanes_clip.mp4, 2764800 bytes wanted but 0 bytes read,at frame 676/1298, at time 13.52/25.94 sec. Using the last valid frame instead.\n",
            "  warnings.warn(\"Warning: in file %s, \"%(self.filename)+\n",
            "\n",
            "WARNING:py.warnings:/usr/local/lib/python3.10/dist-packages/moviepy/video/io/ffmpeg_reader.py:123: UserWarning: Warning: in file test_videos/lanes_clip.mp4, 2764800 bytes wanted but 0 bytes read,at frame 677/1298, at time 13.54/25.94 sec. Using the last valid frame instead.\n",
            "  warnings.warn(\"Warning: in file %s, \"%(self.filename)+\n",
            "\n",
            "WARNING:py.warnings:/usr/local/lib/python3.10/dist-packages/moviepy/video/io/ffmpeg_reader.py:123: UserWarning: Warning: in file test_videos/lanes_clip.mp4, 2764800 bytes wanted but 0 bytes read,at frame 678/1298, at time 13.56/25.94 sec. Using the last valid frame instead.\n",
            "  warnings.warn(\"Warning: in file %s, \"%(self.filename)+\n",
            "\n",
            "WARNING:py.warnings:/usr/local/lib/python3.10/dist-packages/moviepy/video/io/ffmpeg_reader.py:123: UserWarning: Warning: in file test_videos/lanes_clip.mp4, 2764800 bytes wanted but 0 bytes read,at frame 679/1298, at time 13.58/25.94 sec. Using the last valid frame instead.\n",
            "  warnings.warn(\"Warning: in file %s, \"%(self.filename)+\n",
            "\n",
            "t:  53%|█████▎    | 681/1297 [00:48<00:21, 29.28it/s, now=None]WARNING:py.warnings:/usr/local/lib/python3.10/dist-packages/moviepy/video/io/ffmpeg_reader.py:123: UserWarning: Warning: in file test_videos/lanes_clip.mp4, 2764800 bytes wanted but 0 bytes read,at frame 680/1298, at time 13.60/25.94 sec. Using the last valid frame instead.\n",
            "  warnings.warn(\"Warning: in file %s, \"%(self.filename)+\n",
            "\n",
            "WARNING:py.warnings:/usr/local/lib/python3.10/dist-packages/moviepy/video/io/ffmpeg_reader.py:123: UserWarning: Warning: in file test_videos/lanes_clip.mp4, 2764800 bytes wanted but 0 bytes read,at frame 681/1298, at time 13.62/25.94 sec. Using the last valid frame instead.\n",
            "  warnings.warn(\"Warning: in file %s, \"%(self.filename)+\n",
            "\n"
          ]
        },
        {
          "output_type": "stream",
          "name": "stdout",
          "text": [
            "(0.001, 0) [   1.01350267 -287.03663102]\n",
            "(0.001, 0) [   1.01350267 -287.03663102]\n",
            "(0.001, 0) [   1.01350267 -287.03663102]\n",
            "(0.001, 0) [   1.01350267 -287.03663102]\n",
            "(0.001, 0) [   1.01350267 -287.03663102]\n",
            "(0.001, 0) [   1.01350267 -287.03663102]\n"
          ]
        },
        {
          "output_type": "stream",
          "name": "stderr",
          "text": [
            "WARNING:py.warnings:/usr/local/lib/python3.10/dist-packages/moviepy/video/io/ffmpeg_reader.py:123: UserWarning: Warning: in file test_videos/lanes_clip.mp4, 2764800 bytes wanted but 0 bytes read,at frame 682/1298, at time 13.64/25.94 sec. Using the last valid frame instead.\n",
            "  warnings.warn(\"Warning: in file %s, \"%(self.filename)+\n",
            "\n",
            "t:  53%|█████▎    | 684/1297 [00:48<00:21, 28.32it/s, now=None]WARNING:py.warnings:/usr/local/lib/python3.10/dist-packages/moviepy/video/io/ffmpeg_reader.py:123: UserWarning: Warning: in file test_videos/lanes_clip.mp4, 2764800 bytes wanted but 0 bytes read,at frame 683/1298, at time 13.66/25.94 sec. Using the last valid frame instead.\n",
            "  warnings.warn(\"Warning: in file %s, \"%(self.filename)+\n",
            "\n",
            "WARNING:py.warnings:/usr/local/lib/python3.10/dist-packages/moviepy/video/io/ffmpeg_reader.py:123: UserWarning: Warning: in file test_videos/lanes_clip.mp4, 2764800 bytes wanted but 0 bytes read,at frame 684/1298, at time 13.68/25.94 sec. Using the last valid frame instead.\n",
            "  warnings.warn(\"Warning: in file %s, \"%(self.filename)+\n",
            "\n",
            "WARNING:py.warnings:/usr/local/lib/python3.10/dist-packages/moviepy/video/io/ffmpeg_reader.py:123: UserWarning: Warning: in file test_videos/lanes_clip.mp4, 2764800 bytes wanted but 0 bytes read,at frame 685/1298, at time 13.70/25.94 sec. Using the last valid frame instead.\n",
            "  warnings.warn(\"Warning: in file %s, \"%(self.filename)+\n",
            "\n",
            "WARNING:py.warnings:/usr/local/lib/python3.10/dist-packages/moviepy/video/io/ffmpeg_reader.py:123: UserWarning: Warning: in file test_videos/lanes_clip.mp4, 2764800 bytes wanted but 0 bytes read,at frame 686/1298, at time 13.72/25.94 sec. Using the last valid frame instead.\n",
            "  warnings.warn(\"Warning: in file %s, \"%(self.filename)+\n",
            "\n",
            "t:  53%|█████▎    | 688/1297 [00:48<00:20, 29.46it/s, now=None]WARNING:py.warnings:/usr/local/lib/python3.10/dist-packages/moviepy/video/io/ffmpeg_reader.py:123: UserWarning: Warning: in file test_videos/lanes_clip.mp4, 2764800 bytes wanted but 0 bytes read,at frame 687/1298, at time 13.74/25.94 sec. Using the last valid frame instead.\n",
            "  warnings.warn(\"Warning: in file %s, \"%(self.filename)+\n",
            "\n"
          ]
        },
        {
          "output_type": "stream",
          "name": "stdout",
          "text": [
            "(0.001, 0) [   1.01350267 -287.03663102]\n",
            "(0.001, 0) [   1.01350267 -287.03663102]\n",
            "(0.001, 0) [   1.01350267 -287.03663102]\n",
            "(0.001, 0) [   1.01350267 -287.03663102]\n",
            "(0.001, 0) [   1.01350267 -287.03663102]\n",
            "(0.001, 0) [   1.01350267 -287.03663102]\n"
          ]
        },
        {
          "output_type": "stream",
          "name": "stderr",
          "text": [
            "WARNING:py.warnings:/usr/local/lib/python3.10/dist-packages/moviepy/video/io/ffmpeg_reader.py:123: UserWarning: Warning: in file test_videos/lanes_clip.mp4, 2764800 bytes wanted but 0 bytes read,at frame 688/1298, at time 13.76/25.94 sec. Using the last valid frame instead.\n",
            "  warnings.warn(\"Warning: in file %s, \"%(self.filename)+\n",
            "\n",
            "WARNING:py.warnings:/usr/local/lib/python3.10/dist-packages/moviepy/video/io/ffmpeg_reader.py:123: UserWarning: Warning: in file test_videos/lanes_clip.mp4, 2764800 bytes wanted but 0 bytes read,at frame 689/1298, at time 13.78/25.94 sec. Using the last valid frame instead.\n",
            "  warnings.warn(\"Warning: in file %s, \"%(self.filename)+\n",
            "\n",
            "t:  53%|█████▎    | 691/1297 [00:48<00:21, 28.49it/s, now=None]WARNING:py.warnings:/usr/local/lib/python3.10/dist-packages/moviepy/video/io/ffmpeg_reader.py:123: UserWarning: Warning: in file test_videos/lanes_clip.mp4, 2764800 bytes wanted but 0 bytes read,at frame 690/1298, at time 13.80/25.94 sec. Using the last valid frame instead.\n",
            "  warnings.warn(\"Warning: in file %s, \"%(self.filename)+\n",
            "\n",
            "WARNING:py.warnings:/usr/local/lib/python3.10/dist-packages/moviepy/video/io/ffmpeg_reader.py:123: UserWarning: Warning: in file test_videos/lanes_clip.mp4, 2764800 bytes wanted but 0 bytes read,at frame 691/1298, at time 13.82/25.94 sec. Using the last valid frame instead.\n",
            "  warnings.warn(\"Warning: in file %s, \"%(self.filename)+\n",
            "\n",
            "WARNING:py.warnings:/usr/local/lib/python3.10/dist-packages/moviepy/video/io/ffmpeg_reader.py:123: UserWarning: Warning: in file test_videos/lanes_clip.mp4, 2764800 bytes wanted but 0 bytes read,at frame 692/1298, at time 13.84/25.94 sec. Using the last valid frame instead.\n",
            "  warnings.warn(\"Warning: in file %s, \"%(self.filename)+\n",
            "\n",
            "t:  54%|█████▎    | 694/1297 [00:48<00:21, 27.72it/s, now=None]WARNING:py.warnings:/usr/local/lib/python3.10/dist-packages/moviepy/video/io/ffmpeg_reader.py:123: UserWarning: Warning: in file test_videos/lanes_clip.mp4, 2764800 bytes wanted but 0 bytes read,at frame 693/1298, at time 13.86/25.94 sec. Using the last valid frame instead.\n",
            "  warnings.warn(\"Warning: in file %s, \"%(self.filename)+\n",
            "\n"
          ]
        },
        {
          "output_type": "stream",
          "name": "stdout",
          "text": [
            "(0.001, 0) [   1.01350267 -287.03663102]\n",
            "(0.001, 0) [   1.01350267 -287.03663102]\n",
            "(0.001, 0) [   1.01350267 -287.03663102]\n",
            "(0.001, 0) [   1.01350267 -287.03663102]\n",
            "(0.001, 0) [   1.01350267 -287.03663102]\n",
            "(0.001, 0) [   1.01350267 -287.03663102]\n"
          ]
        },
        {
          "output_type": "stream",
          "name": "stderr",
          "text": [
            "WARNING:py.warnings:/usr/local/lib/python3.10/dist-packages/moviepy/video/io/ffmpeg_reader.py:123: UserWarning: Warning: in file test_videos/lanes_clip.mp4, 2764800 bytes wanted but 0 bytes read,at frame 694/1298, at time 13.88/25.94 sec. Using the last valid frame instead.\n",
            "  warnings.warn(\"Warning: in file %s, \"%(self.filename)+\n",
            "\n",
            "WARNING:py.warnings:/usr/local/lib/python3.10/dist-packages/moviepy/video/io/ffmpeg_reader.py:123: UserWarning: Warning: in file test_videos/lanes_clip.mp4, 2764800 bytes wanted but 0 bytes read,at frame 695/1298, at time 13.90/25.94 sec. Using the last valid frame instead.\n",
            "  warnings.warn(\"Warning: in file %s, \"%(self.filename)+\n",
            "\n",
            "t:  54%|█████▎    | 697/1297 [00:48<00:21, 27.92it/s, now=None]WARNING:py.warnings:/usr/local/lib/python3.10/dist-packages/moviepy/video/io/ffmpeg_reader.py:123: UserWarning: Warning: in file test_videos/lanes_clip.mp4, 2764800 bytes wanted but 0 bytes read,at frame 696/1298, at time 13.92/25.94 sec. Using the last valid frame instead.\n",
            "  warnings.warn(\"Warning: in file %s, \"%(self.filename)+\n",
            "\n",
            "WARNING:py.warnings:/usr/local/lib/python3.10/dist-packages/moviepy/video/io/ffmpeg_reader.py:123: UserWarning: Warning: in file test_videos/lanes_clip.mp4, 2764800 bytes wanted but 0 bytes read,at frame 697/1298, at time 13.94/25.94 sec. Using the last valid frame instead.\n",
            "  warnings.warn(\"Warning: in file %s, \"%(self.filename)+\n",
            "\n",
            "WARNING:py.warnings:/usr/local/lib/python3.10/dist-packages/moviepy/video/io/ffmpeg_reader.py:123: UserWarning: Warning: in file test_videos/lanes_clip.mp4, 2764800 bytes wanted but 0 bytes read,at frame 698/1298, at time 13.96/25.94 sec. Using the last valid frame instead.\n",
            "  warnings.warn(\"Warning: in file %s, \"%(self.filename)+\n",
            "\n",
            "t:  54%|█████▍    | 700/1297 [00:48<00:21, 28.30it/s, now=None]WARNING:py.warnings:/usr/local/lib/python3.10/dist-packages/moviepy/video/io/ffmpeg_reader.py:123: UserWarning: Warning: in file test_videos/lanes_clip.mp4, 2764800 bytes wanted but 0 bytes read,at frame 699/1298, at time 13.98/25.94 sec. Using the last valid frame instead.\n",
            "  warnings.warn(\"Warning: in file %s, \"%(self.filename)+\n",
            "\n"
          ]
        },
        {
          "output_type": "stream",
          "name": "stdout",
          "text": [
            "(0.001, 0) [   1.01350267 -287.03663102]\n",
            "(0.001, 0) [   1.01350267 -287.03663102]\n",
            "(0.001, 0) [   1.01350267 -287.03663102]\n",
            "(0.001, 0) [   1.01350267 -287.03663102]\n",
            "(0.001, 0) [   1.01350267 -287.03663102]\n",
            "(0.001, 0) [   1.01350267 -287.03663102]\n"
          ]
        },
        {
          "output_type": "stream",
          "name": "stderr",
          "text": [
            "WARNING:py.warnings:/usr/local/lib/python3.10/dist-packages/moviepy/video/io/ffmpeg_reader.py:123: UserWarning: Warning: in file test_videos/lanes_clip.mp4, 2764800 bytes wanted but 0 bytes read,at frame 700/1298, at time 14.00/25.94 sec. Using the last valid frame instead.\n",
            "  warnings.warn(\"Warning: in file %s, \"%(self.filename)+\n",
            "\n",
            "WARNING:py.warnings:/usr/local/lib/python3.10/dist-packages/moviepy/video/io/ffmpeg_reader.py:123: UserWarning: Warning: in file test_videos/lanes_clip.mp4, 2764800 bytes wanted but 0 bytes read,at frame 701/1298, at time 14.02/25.94 sec. Using the last valid frame instead.\n",
            "  warnings.warn(\"Warning: in file %s, \"%(self.filename)+\n",
            "\n",
            "WARNING:py.warnings:/usr/local/lib/python3.10/dist-packages/moviepy/video/io/ffmpeg_reader.py:123: UserWarning: Warning: in file test_videos/lanes_clip.mp4, 2764800 bytes wanted but 0 bytes read,at frame 702/1298, at time 14.04/25.94 sec. Using the last valid frame instead.\n",
            "  warnings.warn(\"Warning: in file %s, \"%(self.filename)+\n",
            "\n",
            "t:  54%|█████▍    | 704/1297 [00:49<00:20, 28.55it/s, now=None]WARNING:py.warnings:/usr/local/lib/python3.10/dist-packages/moviepy/video/io/ffmpeg_reader.py:123: UserWarning: Warning: in file test_videos/lanes_clip.mp4, 2764800 bytes wanted but 0 bytes read,at frame 703/1298, at time 14.06/25.94 sec. Using the last valid frame instead.\n",
            "  warnings.warn(\"Warning: in file %s, \"%(self.filename)+\n",
            "\n",
            "WARNING:py.warnings:/usr/local/lib/python3.10/dist-packages/moviepy/video/io/ffmpeg_reader.py:123: UserWarning: Warning: in file test_videos/lanes_clip.mp4, 2764800 bytes wanted but 0 bytes read,at frame 704/1298, at time 14.08/25.94 sec. Using the last valid frame instead.\n",
            "  warnings.warn(\"Warning: in file %s, \"%(self.filename)+\n",
            "\n"
          ]
        },
        {
          "output_type": "stream",
          "name": "stdout",
          "text": [
            "(0.001, 0) [   1.01350267 -287.03663102]\n",
            "(0.001, 0) [   1.01350267 -287.03663102]\n",
            "(0.001, 0) [   1.01350267 -287.03663102]\n",
            "(0.001, 0) [   1.01350267 -287.03663102]\n",
            "(0.001, 0) [   1.01350267 -287.03663102]\n",
            "(0.001, 0) [   1.01350267 -287.03663102]\n"
          ]
        },
        {
          "output_type": "stream",
          "name": "stderr",
          "text": [
            "WARNING:py.warnings:/usr/local/lib/python3.10/dist-packages/moviepy/video/io/ffmpeg_reader.py:123: UserWarning: Warning: in file test_videos/lanes_clip.mp4, 2764800 bytes wanted but 0 bytes read,at frame 705/1298, at time 14.10/25.94 sec. Using the last valid frame instead.\n",
            "  warnings.warn(\"Warning: in file %s, \"%(self.filename)+\n",
            "\n",
            "t:  55%|█████▍    | 707/1297 [00:49<00:21, 27.62it/s, now=None]WARNING:py.warnings:/usr/local/lib/python3.10/dist-packages/moviepy/video/io/ffmpeg_reader.py:123: UserWarning: Warning: in file test_videos/lanes_clip.mp4, 2764800 bytes wanted but 0 bytes read,at frame 706/1298, at time 14.12/25.94 sec. Using the last valid frame instead.\n",
            "  warnings.warn(\"Warning: in file %s, \"%(self.filename)+\n",
            "\n",
            "WARNING:py.warnings:/usr/local/lib/python3.10/dist-packages/moviepy/video/io/ffmpeg_reader.py:123: UserWarning: Warning: in file test_videos/lanes_clip.mp4, 2764800 bytes wanted but 0 bytes read,at frame 707/1298, at time 14.14/25.94 sec. Using the last valid frame instead.\n",
            "  warnings.warn(\"Warning: in file %s, \"%(self.filename)+\n",
            "\n",
            "WARNING:py.warnings:/usr/local/lib/python3.10/dist-packages/moviepy/video/io/ffmpeg_reader.py:123: UserWarning: Warning: in file test_videos/lanes_clip.mp4, 2764800 bytes wanted but 0 bytes read,at frame 708/1298, at time 14.16/25.94 sec. Using the last valid frame instead.\n",
            "  warnings.warn(\"Warning: in file %s, \"%(self.filename)+\n",
            "\n",
            "t:  55%|█████▍    | 710/1297 [00:49<00:21, 27.68it/s, now=None]WARNING:py.warnings:/usr/local/lib/python3.10/dist-packages/moviepy/video/io/ffmpeg_reader.py:123: UserWarning: Warning: in file test_videos/lanes_clip.mp4, 2764800 bytes wanted but 0 bytes read,at frame 709/1298, at time 14.18/25.94 sec. Using the last valid frame instead.\n",
            "  warnings.warn(\"Warning: in file %s, \"%(self.filename)+\n",
            "\n",
            "WARNING:py.warnings:/usr/local/lib/python3.10/dist-packages/moviepy/video/io/ffmpeg_reader.py:123: UserWarning: Warning: in file test_videos/lanes_clip.mp4, 2764800 bytes wanted but 0 bytes read,at frame 710/1298, at time 14.20/25.94 sec. Using the last valid frame instead.\n",
            "  warnings.warn(\"Warning: in file %s, \"%(self.filename)+\n",
            "\n",
            "WARNING:py.warnings:/usr/local/lib/python3.10/dist-packages/moviepy/video/io/ffmpeg_reader.py:123: UserWarning: Warning: in file test_videos/lanes_clip.mp4, 2764800 bytes wanted but 0 bytes read,at frame 711/1298, at time 14.22/25.94 sec. Using the last valid frame instead.\n",
            "  warnings.warn(\"Warning: in file %s, \"%(self.filename)+\n",
            "\n"
          ]
        },
        {
          "output_type": "stream",
          "name": "stdout",
          "text": [
            "(0.001, 0) [   1.01350267 -287.03663102]\n",
            "(0.001, 0) [   1.01350267 -287.03663102]\n",
            "(0.001, 0) [   1.01350267 -287.03663102]\n",
            "(0.001, 0) [   1.01350267 -287.03663102]\n",
            "(0.001, 0) [   1.01350267 -287.03663102]\n",
            "(0.001, 0) [   1.01350267 -287.03663102]\n"
          ]
        },
        {
          "output_type": "stream",
          "name": "stderr",
          "text": [
            "WARNING:py.warnings:/usr/local/lib/python3.10/dist-packages/moviepy/video/io/ffmpeg_reader.py:123: UserWarning: Warning: in file test_videos/lanes_clip.mp4, 2764800 bytes wanted but 0 bytes read,at frame 712/1298, at time 14.24/25.94 sec. Using the last valid frame instead.\n",
            "  warnings.warn(\"Warning: in file %s, \"%(self.filename)+\n",
            "\n",
            "t:  55%|█████▌    | 714/1297 [00:49<00:20, 28.82it/s, now=None]WARNING:py.warnings:/usr/local/lib/python3.10/dist-packages/moviepy/video/io/ffmpeg_reader.py:123: UserWarning: Warning: in file test_videos/lanes_clip.mp4, 2764800 bytes wanted but 0 bytes read,at frame 713/1298, at time 14.26/25.94 sec. Using the last valid frame instead.\n",
            "  warnings.warn(\"Warning: in file %s, \"%(self.filename)+\n",
            "\n",
            "WARNING:py.warnings:/usr/local/lib/python3.10/dist-packages/moviepy/video/io/ffmpeg_reader.py:123: UserWarning: Warning: in file test_videos/lanes_clip.mp4, 2764800 bytes wanted but 0 bytes read,at frame 714/1298, at time 14.28/25.94 sec. Using the last valid frame instead.\n",
            "  warnings.warn(\"Warning: in file %s, \"%(self.filename)+\n",
            "\n",
            "WARNING:py.warnings:/usr/local/lib/python3.10/dist-packages/moviepy/video/io/ffmpeg_reader.py:123: UserWarning: Warning: in file test_videos/lanes_clip.mp4, 2764800 bytes wanted but 0 bytes read,at frame 715/1298, at time 14.30/25.94 sec. Using the last valid frame instead.\n",
            "  warnings.warn(\"Warning: in file %s, \"%(self.filename)+\n",
            "\n",
            "t:  55%|█████▌    | 717/1297 [00:49<00:20, 27.83it/s, now=None]WARNING:py.warnings:/usr/local/lib/python3.10/dist-packages/moviepy/video/io/ffmpeg_reader.py:123: UserWarning: Warning: in file test_videos/lanes_clip.mp4, 2764800 bytes wanted but 0 bytes read,at frame 716/1298, at time 14.32/25.94 sec. Using the last valid frame instead.\n",
            "  warnings.warn(\"Warning: in file %s, \"%(self.filename)+\n",
            "\n"
          ]
        },
        {
          "output_type": "stream",
          "name": "stdout",
          "text": [
            "(0.001, 0) [   1.01350267 -287.03663102]\n",
            "(0.001, 0) [   1.01350267 -287.03663102]\n",
            "(0.001, 0) [   1.01350267 -287.03663102]\n",
            "(0.001, 0) [   1.01350267 -287.03663102]\n",
            "(0.001, 0) [   1.01350267 -287.03663102]\n",
            "(0.001, 0) [   1.01350267 -287.03663102]\n"
          ]
        },
        {
          "output_type": "stream",
          "name": "stderr",
          "text": [
            "WARNING:py.warnings:/usr/local/lib/python3.10/dist-packages/moviepy/video/io/ffmpeg_reader.py:123: UserWarning: Warning: in file test_videos/lanes_clip.mp4, 2764800 bytes wanted but 0 bytes read,at frame 717/1298, at time 14.34/25.94 sec. Using the last valid frame instead.\n",
            "  warnings.warn(\"Warning: in file %s, \"%(self.filename)+\n",
            "\n",
            "WARNING:py.warnings:/usr/local/lib/python3.10/dist-packages/moviepy/video/io/ffmpeg_reader.py:123: UserWarning: Warning: in file test_videos/lanes_clip.mp4, 2764800 bytes wanted but 0 bytes read,at frame 718/1298, at time 14.36/25.94 sec. Using the last valid frame instead.\n",
            "  warnings.warn(\"Warning: in file %s, \"%(self.filename)+\n",
            "\n",
            "t:  56%|█████▌    | 720/1297 [00:49<00:21, 27.25it/s, now=None]WARNING:py.warnings:/usr/local/lib/python3.10/dist-packages/moviepy/video/io/ffmpeg_reader.py:123: UserWarning: Warning: in file test_videos/lanes_clip.mp4, 2764800 bytes wanted but 0 bytes read,at frame 719/1298, at time 14.38/25.94 sec. Using the last valid frame instead.\n",
            "  warnings.warn(\"Warning: in file %s, \"%(self.filename)+\n",
            "\n",
            "WARNING:py.warnings:/usr/local/lib/python3.10/dist-packages/moviepy/video/io/ffmpeg_reader.py:123: UserWarning: Warning: in file test_videos/lanes_clip.mp4, 2764800 bytes wanted but 0 bytes read,at frame 720/1298, at time 14.40/25.94 sec. Using the last valid frame instead.\n",
            "  warnings.warn(\"Warning: in file %s, \"%(self.filename)+\n",
            "\n",
            "WARNING:py.warnings:/usr/local/lib/python3.10/dist-packages/moviepy/video/io/ffmpeg_reader.py:123: UserWarning: Warning: in file test_videos/lanes_clip.mp4, 2764800 bytes wanted but 0 bytes read,at frame 721/1298, at time 14.42/25.94 sec. Using the last valid frame instead.\n",
            "  warnings.warn(\"Warning: in file %s, \"%(self.filename)+\n",
            "\n",
            "t:  56%|█████▌    | 723/1297 [00:49<00:20, 27.86it/s, now=None]WARNING:py.warnings:/usr/local/lib/python3.10/dist-packages/moviepy/video/io/ffmpeg_reader.py:123: UserWarning: Warning: in file test_videos/lanes_clip.mp4, 2764800 bytes wanted but 0 bytes read,at frame 722/1298, at time 14.44/25.94 sec. Using the last valid frame instead.\n",
            "  warnings.warn(\"Warning: in file %s, \"%(self.filename)+\n",
            "\n",
            "WARNING:py.warnings:/usr/local/lib/python3.10/dist-packages/moviepy/video/io/ffmpeg_reader.py:123: UserWarning: Warning: in file test_videos/lanes_clip.mp4, 2764800 bytes wanted but 0 bytes read,at frame 723/1298, at time 14.46/25.94 sec. Using the last valid frame instead.\n",
            "  warnings.warn(\"Warning: in file %s, \"%(self.filename)+\n",
            "\n"
          ]
        },
        {
          "output_type": "stream",
          "name": "stdout",
          "text": [
            "(0.001, 0) [   1.01350267 -287.03663102]\n",
            "(0.001, 0) [   1.01350267 -287.03663102]\n",
            "(0.001, 0) [   1.01350267 -287.03663102]\n",
            "(0.001, 0) [   1.01350267 -287.03663102]\n",
            "(0.001, 0) [   1.01350267 -287.03663102]\n",
            "(0.001, 0) [   1.01350267 -287.03663102]\n"
          ]
        },
        {
          "output_type": "stream",
          "name": "stderr",
          "text": [
            "WARNING:py.warnings:/usr/local/lib/python3.10/dist-packages/moviepy/video/io/ffmpeg_reader.py:123: UserWarning: Warning: in file test_videos/lanes_clip.mp4, 2764800 bytes wanted but 0 bytes read,at frame 724/1298, at time 14.48/25.94 sec. Using the last valid frame instead.\n",
            "  warnings.warn(\"Warning: in file %s, \"%(self.filename)+\n",
            "\n",
            "WARNING:py.warnings:/usr/local/lib/python3.10/dist-packages/moviepy/video/io/ffmpeg_reader.py:123: UserWarning: Warning: in file test_videos/lanes_clip.mp4, 2764800 bytes wanted but 0 bytes read,at frame 725/1298, at time 14.50/25.94 sec. Using the last valid frame instead.\n",
            "  warnings.warn(\"Warning: in file %s, \"%(self.filename)+\n",
            "\n",
            "t:  56%|█████▌    | 727/1297 [00:49<00:19, 28.60it/s, now=None]WARNING:py.warnings:/usr/local/lib/python3.10/dist-packages/moviepy/video/io/ffmpeg_reader.py:123: UserWarning: Warning: in file test_videos/lanes_clip.mp4, 2764800 bytes wanted but 0 bytes read,at frame 726/1298, at time 14.52/25.94 sec. Using the last valid frame instead.\n",
            "  warnings.warn(\"Warning: in file %s, \"%(self.filename)+\n",
            "\n",
            "WARNING:py.warnings:/usr/local/lib/python3.10/dist-packages/moviepy/video/io/ffmpeg_reader.py:123: UserWarning: Warning: in file test_videos/lanes_clip.mp4, 2764800 bytes wanted but 0 bytes read,at frame 727/1298, at time 14.54/25.94 sec. Using the last valid frame instead.\n",
            "  warnings.warn(\"Warning: in file %s, \"%(self.filename)+\n",
            "\n",
            "WARNING:py.warnings:/usr/local/lib/python3.10/dist-packages/moviepy/video/io/ffmpeg_reader.py:123: UserWarning: Warning: in file test_videos/lanes_clip.mp4, 2764800 bytes wanted but 0 bytes read,at frame 728/1298, at time 14.56/25.94 sec. Using the last valid frame instead.\n",
            "  warnings.warn(\"Warning: in file %s, \"%(self.filename)+\n",
            "\n",
            "t:  56%|█████▋    | 730/1297 [00:50<00:20, 28.08it/s, now=None]WARNING:py.warnings:/usr/local/lib/python3.10/dist-packages/moviepy/video/io/ffmpeg_reader.py:123: UserWarning: Warning: in file test_videos/lanes_clip.mp4, 2764800 bytes wanted but 0 bytes read,at frame 729/1298, at time 14.58/25.94 sec. Using the last valid frame instead.\n",
            "  warnings.warn(\"Warning: in file %s, \"%(self.filename)+\n",
            "\n"
          ]
        },
        {
          "output_type": "stream",
          "name": "stdout",
          "text": [
            "(0.001, 0) [   1.01350267 -287.03663102]\n",
            "(0.001, 0) [   1.01350267 -287.03663102]\n",
            "(0.001, 0) [   1.01350267 -287.03663102]\n",
            "(0.001, 0) [   1.01350267 -287.03663102]\n",
            "(0.001, 0) [   1.01350267 -287.03663102]\n",
            "(0.001, 0) [   1.01350267 -287.03663102]\n"
          ]
        },
        {
          "output_type": "stream",
          "name": "stderr",
          "text": [
            "WARNING:py.warnings:/usr/local/lib/python3.10/dist-packages/moviepy/video/io/ffmpeg_reader.py:123: UserWarning: Warning: in file test_videos/lanes_clip.mp4, 2764800 bytes wanted but 0 bytes read,at frame 730/1298, at time 14.60/25.94 sec. Using the last valid frame instead.\n",
            "  warnings.warn(\"Warning: in file %s, \"%(self.filename)+\n",
            "\n",
            "WARNING:py.warnings:/usr/local/lib/python3.10/dist-packages/moviepy/video/io/ffmpeg_reader.py:123: UserWarning: Warning: in file test_videos/lanes_clip.mp4, 2764800 bytes wanted but 0 bytes read,at frame 731/1298, at time 14.62/25.94 sec. Using the last valid frame instead.\n",
            "  warnings.warn(\"Warning: in file %s, \"%(self.filename)+\n",
            "\n",
            "t:  57%|█████▋    | 733/1297 [00:50<00:20, 27.38it/s, now=None]WARNING:py.warnings:/usr/local/lib/python3.10/dist-packages/moviepy/video/io/ffmpeg_reader.py:123: UserWarning: Warning: in file test_videos/lanes_clip.mp4, 2764800 bytes wanted but 0 bytes read,at frame 732/1298, at time 14.64/25.94 sec. Using the last valid frame instead.\n",
            "  warnings.warn(\"Warning: in file %s, \"%(self.filename)+\n",
            "\n",
            "WARNING:py.warnings:/usr/local/lib/python3.10/dist-packages/moviepy/video/io/ffmpeg_reader.py:123: UserWarning: Warning: in file test_videos/lanes_clip.mp4, 2764800 bytes wanted but 0 bytes read,at frame 733/1298, at time 14.66/25.94 sec. Using the last valid frame instead.\n",
            "  warnings.warn(\"Warning: in file %s, \"%(self.filename)+\n",
            "\n",
            "WARNING:py.warnings:/usr/local/lib/python3.10/dist-packages/moviepy/video/io/ffmpeg_reader.py:123: UserWarning: Warning: in file test_videos/lanes_clip.mp4, 2764800 bytes wanted but 0 bytes read,at frame 734/1298, at time 14.68/25.94 sec. Using the last valid frame instead.\n",
            "  warnings.warn(\"Warning: in file %s, \"%(self.filename)+\n",
            "\n"
          ]
        },
        {
          "output_type": "stream",
          "name": "stdout",
          "text": [
            "(0.001, 0) [   1.01350267 -287.03663102]\n",
            "(0.001, 0) [   1.01350267 -287.03663102]\n",
            "(0.001, 0) [   1.01350267 -287.03663102]\n",
            "(0.001, 0) [   1.01350267 -287.03663102]\n",
            "(0.001, 0) [   1.01350267 -287.03663102]\n",
            "(0.001, 0) [   1.01350267 -287.03663102]\n"
          ]
        },
        {
          "output_type": "stream",
          "name": "stderr",
          "text": [
            "\rt:  57%|█████▋    | 736/1297 [00:50<00:20, 27.83it/s, now=None]WARNING:py.warnings:/usr/local/lib/python3.10/dist-packages/moviepy/video/io/ffmpeg_reader.py:123: UserWarning: Warning: in file test_videos/lanes_clip.mp4, 2764800 bytes wanted but 0 bytes read,at frame 735/1298, at time 14.70/25.94 sec. Using the last valid frame instead.\n",
            "  warnings.warn(\"Warning: in file %s, \"%(self.filename)+\n",
            "\n",
            "WARNING:py.warnings:/usr/local/lib/python3.10/dist-packages/moviepy/video/io/ffmpeg_reader.py:123: UserWarning: Warning: in file test_videos/lanes_clip.mp4, 2764800 bytes wanted but 0 bytes read,at frame 736/1298, at time 14.72/25.94 sec. Using the last valid frame instead.\n",
            "  warnings.warn(\"Warning: in file %s, \"%(self.filename)+\n",
            "\n",
            "WARNING:py.warnings:/usr/local/lib/python3.10/dist-packages/moviepy/video/io/ffmpeg_reader.py:123: UserWarning: Warning: in file test_videos/lanes_clip.mp4, 2764800 bytes wanted but 0 bytes read,at frame 737/1298, at time 14.74/25.94 sec. Using the last valid frame instead.\n",
            "  warnings.warn(\"Warning: in file %s, \"%(self.filename)+\n",
            "\n",
            "WARNING:py.warnings:/usr/local/lib/python3.10/dist-packages/moviepy/video/io/ffmpeg_reader.py:123: UserWarning: Warning: in file test_videos/lanes_clip.mp4, 2764800 bytes wanted but 0 bytes read,at frame 738/1298, at time 14.76/25.94 sec. Using the last valid frame instead.\n",
            "  warnings.warn(\"Warning: in file %s, \"%(self.filename)+\n",
            "\n",
            "t:  57%|█████▋    | 740/1297 [00:50<00:19, 29.01it/s, now=None]WARNING:py.warnings:/usr/local/lib/python3.10/dist-packages/moviepy/video/io/ffmpeg_reader.py:123: UserWarning: Warning: in file test_videos/lanes_clip.mp4, 2764800 bytes wanted but 0 bytes read,at frame 739/1298, at time 14.78/25.94 sec. Using the last valid frame instead.\n",
            "  warnings.warn(\"Warning: in file %s, \"%(self.filename)+\n",
            "\n",
            "WARNING:py.warnings:/usr/local/lib/python3.10/dist-packages/moviepy/video/io/ffmpeg_reader.py:123: UserWarning: Warning: in file test_videos/lanes_clip.mp4, 2764800 bytes wanted but 0 bytes read,at frame 740/1298, at time 14.80/25.94 sec. Using the last valid frame instead.\n",
            "  warnings.warn(\"Warning: in file %s, \"%(self.filename)+\n",
            "\n",
            "WARNING:py.warnings:/usr/local/lib/python3.10/dist-packages/moviepy/video/io/ffmpeg_reader.py:123: UserWarning: Warning: in file test_videos/lanes_clip.mp4, 2764800 bytes wanted but 0 bytes read,at frame 741/1298, at time 14.82/25.94 sec. Using the last valid frame instead.\n",
            "  warnings.warn(\"Warning: in file %s, \"%(self.filename)+\n",
            "\n"
          ]
        },
        {
          "output_type": "stream",
          "name": "stdout",
          "text": [
            "(0.001, 0) [   1.01350267 -287.03663102]\n",
            "(0.001, 0) [   1.01350267 -287.03663102]\n",
            "(0.001, 0) [   1.01350267 -287.03663102]\n",
            "(0.001, 0) [   1.01350267 -287.03663102]\n",
            "(0.001, 0) [   1.01350267 -287.03663102]\n",
            "(0.001, 0) [   1.01350267 -287.03663102]\n"
          ]
        },
        {
          "output_type": "stream",
          "name": "stderr",
          "text": [
            "\rt:  57%|█████▋    | 743/1297 [00:50<00:20, 27.52it/s, now=None]WARNING:py.warnings:/usr/local/lib/python3.10/dist-packages/moviepy/video/io/ffmpeg_reader.py:123: UserWarning: Warning: in file test_videos/lanes_clip.mp4, 2764800 bytes wanted but 0 bytes read,at frame 742/1298, at time 14.84/25.94 sec. Using the last valid frame instead.\n",
            "  warnings.warn(\"Warning: in file %s, \"%(self.filename)+\n",
            "\n",
            "WARNING:py.warnings:/usr/local/lib/python3.10/dist-packages/moviepy/video/io/ffmpeg_reader.py:123: UserWarning: Warning: in file test_videos/lanes_clip.mp4, 2764800 bytes wanted but 0 bytes read,at frame 743/1298, at time 14.86/25.94 sec. Using the last valid frame instead.\n",
            "  warnings.warn(\"Warning: in file %s, \"%(self.filename)+\n",
            "\n",
            "WARNING:py.warnings:/usr/local/lib/python3.10/dist-packages/moviepy/video/io/ffmpeg_reader.py:123: UserWarning: Warning: in file test_videos/lanes_clip.mp4, 2764800 bytes wanted but 0 bytes read,at frame 744/1298, at time 14.88/25.94 sec. Using the last valid frame instead.\n",
            "  warnings.warn(\"Warning: in file %s, \"%(self.filename)+\n",
            "\n",
            "t:  58%|█████▊    | 746/1297 [00:50<00:21, 26.08it/s, now=None]WARNING:py.warnings:/usr/local/lib/python3.10/dist-packages/moviepy/video/io/ffmpeg_reader.py:123: UserWarning: Warning: in file test_videos/lanes_clip.mp4, 2764800 bytes wanted but 0 bytes read,at frame 745/1298, at time 14.90/25.94 sec. Using the last valid frame instead.\n",
            "  warnings.warn(\"Warning: in file %s, \"%(self.filename)+\n",
            "\n",
            "WARNING:py.warnings:/usr/local/lib/python3.10/dist-packages/moviepy/video/io/ffmpeg_reader.py:123: UserWarning: Warning: in file test_videos/lanes_clip.mp4, 2764800 bytes wanted but 0 bytes read,at frame 746/1298, at time 14.92/25.94 sec. Using the last valid frame instead.\n",
            "  warnings.warn(\"Warning: in file %s, \"%(self.filename)+\n",
            "\n"
          ]
        },
        {
          "output_type": "stream",
          "name": "stdout",
          "text": [
            "(0.001, 0) [   1.01350267 -287.03663102]\n",
            "(0.001, 0) [   1.01350267 -287.03663102]\n",
            "(0.001, 0) [   1.01350267 -287.03663102]\n",
            "(0.001, 0) [   1.01350267 -287.03663102]\n",
            "(0.001, 0) [   1.01350267 -287.03663102]\n",
            "(0.001, 0) [   1.01350267 -287.03663102]\n"
          ]
        },
        {
          "output_type": "stream",
          "name": "stderr",
          "text": [
            "WARNING:py.warnings:/usr/local/lib/python3.10/dist-packages/moviepy/video/io/ffmpeg_reader.py:123: UserWarning: Warning: in file test_videos/lanes_clip.mp4, 2764800 bytes wanted but 0 bytes read,at frame 747/1298, at time 14.94/25.94 sec. Using the last valid frame instead.\n",
            "  warnings.warn(\"Warning: in file %s, \"%(self.filename)+\n",
            "\n",
            "t:  58%|█████▊    | 749/1297 [00:50<00:20, 26.20it/s, now=None]WARNING:py.warnings:/usr/local/lib/python3.10/dist-packages/moviepy/video/io/ffmpeg_reader.py:123: UserWarning: Warning: in file test_videos/lanes_clip.mp4, 2764800 bytes wanted but 0 bytes read,at frame 748/1298, at time 14.96/25.94 sec. Using the last valid frame instead.\n",
            "  warnings.warn(\"Warning: in file %s, \"%(self.filename)+\n",
            "\n",
            "WARNING:py.warnings:/usr/local/lib/python3.10/dist-packages/moviepy/video/io/ffmpeg_reader.py:123: UserWarning: Warning: in file test_videos/lanes_clip.mp4, 2764800 bytes wanted but 0 bytes read,at frame 749/1298, at time 14.98/25.94 sec. Using the last valid frame instead.\n",
            "  warnings.warn(\"Warning: in file %s, \"%(self.filename)+\n",
            "\n",
            "WARNING:py.warnings:/usr/local/lib/python3.10/dist-packages/moviepy/video/io/ffmpeg_reader.py:123: UserWarning: Warning: in file test_videos/lanes_clip.mp4, 2764800 bytes wanted but 0 bytes read,at frame 750/1298, at time 15.00/25.94 sec. Using the last valid frame instead.\n",
            "  warnings.warn(\"Warning: in file %s, \"%(self.filename)+\n",
            "\n",
            "t:  58%|█████▊    | 752/1297 [00:50<00:20, 26.96it/s, now=None]WARNING:py.warnings:/usr/local/lib/python3.10/dist-packages/moviepy/video/io/ffmpeg_reader.py:123: UserWarning: Warning: in file test_videos/lanes_clip.mp4, 2764800 bytes wanted but 0 bytes read,at frame 751/1298, at time 15.02/25.94 sec. Using the last valid frame instead.\n",
            "  warnings.warn(\"Warning: in file %s, \"%(self.filename)+\n",
            "\n",
            "WARNING:py.warnings:/usr/local/lib/python3.10/dist-packages/moviepy/video/io/ffmpeg_reader.py:123: UserWarning: Warning: in file test_videos/lanes_clip.mp4, 2764800 bytes wanted but 0 bytes read,at frame 752/1298, at time 15.04/25.94 sec. Using the last valid frame instead.\n",
            "  warnings.warn(\"Warning: in file %s, \"%(self.filename)+\n",
            "\n",
            "WARNING:py.warnings:/usr/local/lib/python3.10/dist-packages/moviepy/video/io/ffmpeg_reader.py:123: UserWarning: Warning: in file test_videos/lanes_clip.mp4, 2764800 bytes wanted but 0 bytes read,at frame 753/1298, at time 15.06/25.94 sec. Using the last valid frame instead.\n",
            "  warnings.warn(\"Warning: in file %s, \"%(self.filename)+\n",
            "\n"
          ]
        },
        {
          "output_type": "stream",
          "name": "stdout",
          "text": [
            "(0.001, 0) [   1.01350267 -287.03663102]\n",
            "(0.001, 0) [   1.01350267 -287.03663102]\n",
            "(0.001, 0) [   1.01350267 -287.03663102]\n",
            "(0.001, 0) [   1.01350267 -287.03663102]\n",
            "(0.001, 0) [   1.01350267 -287.03663102]\n",
            "(0.001, 0) [   1.01350267 -287.03663102]\n",
            "(0.001, 0) [   1.01350267 -287.03663102]\n"
          ]
        },
        {
          "output_type": "stream",
          "name": "stderr",
          "text": [
            "WARNING:py.warnings:/usr/local/lib/python3.10/dist-packages/moviepy/video/io/ffmpeg_reader.py:123: UserWarning: Warning: in file test_videos/lanes_clip.mp4, 2764800 bytes wanted but 0 bytes read,at frame 754/1298, at time 15.08/25.94 sec. Using the last valid frame instead.\n",
            "  warnings.warn(\"Warning: in file %s, \"%(self.filename)+\n",
            "\n",
            "t:  58%|█████▊    | 756/1297 [00:50<00:19, 27.35it/s, now=None]WARNING:py.warnings:/usr/local/lib/python3.10/dist-packages/moviepy/video/io/ffmpeg_reader.py:123: UserWarning: Warning: in file test_videos/lanes_clip.mp4, 2764800 bytes wanted but 0 bytes read,at frame 755/1298, at time 15.10/25.94 sec. Using the last valid frame instead.\n",
            "  warnings.warn(\"Warning: in file %s, \"%(self.filename)+\n",
            "\n",
            "WARNING:py.warnings:/usr/local/lib/python3.10/dist-packages/moviepy/video/io/ffmpeg_reader.py:123: UserWarning: Warning: in file test_videos/lanes_clip.mp4, 2764800 bytes wanted but 0 bytes read,at frame 756/1298, at time 15.12/25.94 sec. Using the last valid frame instead.\n",
            "  warnings.warn(\"Warning: in file %s, \"%(self.filename)+\n",
            "\n",
            "WARNING:py.warnings:/usr/local/lib/python3.10/dist-packages/moviepy/video/io/ffmpeg_reader.py:123: UserWarning: Warning: in file test_videos/lanes_clip.mp4, 2764800 bytes wanted but 0 bytes read,at frame 757/1298, at time 15.14/25.94 sec. Using the last valid frame instead.\n",
            "  warnings.warn(\"Warning: in file %s, \"%(self.filename)+\n",
            "\n",
            "t:  59%|█████▊    | 759/1297 [00:51<00:19, 27.80it/s, now=None]WARNING:py.warnings:/usr/local/lib/python3.10/dist-packages/moviepy/video/io/ffmpeg_reader.py:123: UserWarning: Warning: in file test_videos/lanes_clip.mp4, 2764800 bytes wanted but 0 bytes read,at frame 758/1298, at time 15.16/25.94 sec. Using the last valid frame instead.\n",
            "  warnings.warn(\"Warning: in file %s, \"%(self.filename)+\n",
            "\n",
            "WARNING:py.warnings:/usr/local/lib/python3.10/dist-packages/moviepy/video/io/ffmpeg_reader.py:123: UserWarning: Warning: in file test_videos/lanes_clip.mp4, 2764800 bytes wanted but 0 bytes read,at frame 759/1298, at time 15.18/25.94 sec. Using the last valid frame instead.\n",
            "  warnings.warn(\"Warning: in file %s, \"%(self.filename)+\n",
            "\n",
            "WARNING:py.warnings:/usr/local/lib/python3.10/dist-packages/moviepy/video/io/ffmpeg_reader.py:123: UserWarning: Warning: in file test_videos/lanes_clip.mp4, 2764800 bytes wanted but 0 bytes read,at frame 760/1298, at time 15.20/25.94 sec. Using the last valid frame instead.\n",
            "  warnings.warn(\"Warning: in file %s, \"%(self.filename)+\n",
            "\n"
          ]
        },
        {
          "output_type": "stream",
          "name": "stdout",
          "text": [
            "(0.001, 0) [   1.01350267 -287.03663102]\n",
            "(0.001, 0) [   1.01350267 -287.03663102]\n",
            "(0.001, 0) [   1.01350267 -287.03663102]\n",
            "(0.001, 0) [   1.01350267 -287.03663102]\n",
            "(0.001, 0) [   1.01350267 -287.03663102]\n",
            "(0.001, 0) [   1.01350267 -287.03663102]\n"
          ]
        },
        {
          "output_type": "stream",
          "name": "stderr",
          "text": [
            "\rt:  59%|█████▉    | 762/1297 [00:51<00:19, 27.50it/s, now=None]WARNING:py.warnings:/usr/local/lib/python3.10/dist-packages/moviepy/video/io/ffmpeg_reader.py:123: UserWarning: Warning: in file test_videos/lanes_clip.mp4, 2764800 bytes wanted but 0 bytes read,at frame 761/1298, at time 15.22/25.94 sec. Using the last valid frame instead.\n",
            "  warnings.warn(\"Warning: in file %s, \"%(self.filename)+\n",
            "\n",
            "WARNING:py.warnings:/usr/local/lib/python3.10/dist-packages/moviepy/video/io/ffmpeg_reader.py:123: UserWarning: Warning: in file test_videos/lanes_clip.mp4, 2764800 bytes wanted but 0 bytes read,at frame 762/1298, at time 15.24/25.94 sec. Using the last valid frame instead.\n",
            "  warnings.warn(\"Warning: in file %s, \"%(self.filename)+\n",
            "\n",
            "WARNING:py.warnings:/usr/local/lib/python3.10/dist-packages/moviepy/video/io/ffmpeg_reader.py:123: UserWarning: Warning: in file test_videos/lanes_clip.mp4, 2764800 bytes wanted but 0 bytes read,at frame 763/1298, at time 15.26/25.94 sec. Using the last valid frame instead.\n",
            "  warnings.warn(\"Warning: in file %s, \"%(self.filename)+\n",
            "\n",
            "WARNING:py.warnings:/usr/local/lib/python3.10/dist-packages/moviepy/video/io/ffmpeg_reader.py:123: UserWarning: Warning: in file test_videos/lanes_clip.mp4, 2764800 bytes wanted but 0 bytes read,at frame 764/1298, at time 15.28/25.94 sec. Using the last valid frame instead.\n",
            "  warnings.warn(\"Warning: in file %s, \"%(self.filename)+\n",
            "\n",
            "t:  59%|█████▉    | 766/1297 [00:51<00:18, 28.54it/s, now=None]WARNING:py.warnings:/usr/local/lib/python3.10/dist-packages/moviepy/video/io/ffmpeg_reader.py:123: UserWarning: Warning: in file test_videos/lanes_clip.mp4, 2764800 bytes wanted but 0 bytes read,at frame 765/1298, at time 15.30/25.94 sec. Using the last valid frame instead.\n",
            "  warnings.warn(\"Warning: in file %s, \"%(self.filename)+\n",
            "\n"
          ]
        },
        {
          "output_type": "stream",
          "name": "stdout",
          "text": [
            "(0.001, 0) [   1.01350267 -287.03663102]\n",
            "(0.001, 0) [   1.01350267 -287.03663102]\n",
            "(0.001, 0) [   1.01350267 -287.03663102]\n",
            "(0.001, 0) [   1.01350267 -287.03663102]\n",
            "(0.001, 0) [   1.01350267 -287.03663102]\n",
            "(0.001, 0) [   1.01350267 -287.03663102]\n"
          ]
        },
        {
          "output_type": "stream",
          "name": "stderr",
          "text": [
            "WARNING:py.warnings:/usr/local/lib/python3.10/dist-packages/moviepy/video/io/ffmpeg_reader.py:123: UserWarning: Warning: in file test_videos/lanes_clip.mp4, 2764800 bytes wanted but 0 bytes read,at frame 766/1298, at time 15.32/25.94 sec. Using the last valid frame instead.\n",
            "  warnings.warn(\"Warning: in file %s, \"%(self.filename)+\n",
            "\n",
            "WARNING:py.warnings:/usr/local/lib/python3.10/dist-packages/moviepy/video/io/ffmpeg_reader.py:123: UserWarning: Warning: in file test_videos/lanes_clip.mp4, 2764800 bytes wanted but 0 bytes read,at frame 767/1298, at time 15.34/25.94 sec. Using the last valid frame instead.\n",
            "  warnings.warn(\"Warning: in file %s, \"%(self.filename)+\n",
            "\n",
            "t:  59%|█████▉    | 769/1297 [00:51<00:18, 28.09it/s, now=None]WARNING:py.warnings:/usr/local/lib/python3.10/dist-packages/moviepy/video/io/ffmpeg_reader.py:123: UserWarning: Warning: in file test_videos/lanes_clip.mp4, 2764800 bytes wanted but 0 bytes read,at frame 768/1298, at time 15.36/25.94 sec. Using the last valid frame instead.\n",
            "  warnings.warn(\"Warning: in file %s, \"%(self.filename)+\n",
            "\n",
            "WARNING:py.warnings:/usr/local/lib/python3.10/dist-packages/moviepy/video/io/ffmpeg_reader.py:123: UserWarning: Warning: in file test_videos/lanes_clip.mp4, 2764800 bytes wanted but 0 bytes read,at frame 769/1298, at time 15.38/25.94 sec. Using the last valid frame instead.\n",
            "  warnings.warn(\"Warning: in file %s, \"%(self.filename)+\n",
            "\n",
            "WARNING:py.warnings:/usr/local/lib/python3.10/dist-packages/moviepy/video/io/ffmpeg_reader.py:123: UserWarning: Warning: in file test_videos/lanes_clip.mp4, 2764800 bytes wanted but 0 bytes read,at frame 770/1298, at time 15.40/25.94 sec. Using the last valid frame instead.\n",
            "  warnings.warn(\"Warning: in file %s, \"%(self.filename)+\n",
            "\n",
            "t:  60%|█████▉    | 772/1297 [00:51<00:18, 27.77it/s, now=None]WARNING:py.warnings:/usr/local/lib/python3.10/dist-packages/moviepy/video/io/ffmpeg_reader.py:123: UserWarning: Warning: in file test_videos/lanes_clip.mp4, 2764800 bytes wanted but 0 bytes read,at frame 771/1298, at time 15.42/25.94 sec. Using the last valid frame instead.\n",
            "  warnings.warn(\"Warning: in file %s, \"%(self.filename)+\n",
            "\n"
          ]
        },
        {
          "output_type": "stream",
          "name": "stdout",
          "text": [
            "(0.001, 0) [   1.01350267 -287.03663102]\n",
            "(0.001, 0) [   1.01350267 -287.03663102]\n",
            "(0.001, 0) [   1.01350267 -287.03663102]\n",
            "(0.001, 0) [   1.01350267 -287.03663102]\n",
            "(0.001, 0) [   1.01350267 -287.03663102]\n"
          ]
        },
        {
          "output_type": "stream",
          "name": "stderr",
          "text": [
            "WARNING:py.warnings:/usr/local/lib/python3.10/dist-packages/moviepy/video/io/ffmpeg_reader.py:123: UserWarning: Warning: in file test_videos/lanes_clip.mp4, 2764800 bytes wanted but 0 bytes read,at frame 772/1298, at time 15.44/25.94 sec. Using the last valid frame instead.\n",
            "  warnings.warn(\"Warning: in file %s, \"%(self.filename)+\n",
            "\n",
            "WARNING:py.warnings:/usr/local/lib/python3.10/dist-packages/moviepy/video/io/ffmpeg_reader.py:123: UserWarning: Warning: in file test_videos/lanes_clip.mp4, 2764800 bytes wanted but 0 bytes read,at frame 773/1298, at time 15.46/25.94 sec. Using the last valid frame instead.\n",
            "  warnings.warn(\"Warning: in file %s, \"%(self.filename)+\n",
            "\n",
            "t:  60%|█████▉    | 775/1297 [00:51<00:19, 26.95it/s, now=None]WARNING:py.warnings:/usr/local/lib/python3.10/dist-packages/moviepy/video/io/ffmpeg_reader.py:123: UserWarning: Warning: in file test_videos/lanes_clip.mp4, 2764800 bytes wanted but 0 bytes read,at frame 774/1298, at time 15.48/25.94 sec. Using the last valid frame instead.\n",
            "  warnings.warn(\"Warning: in file %s, \"%(self.filename)+\n",
            "\n",
            "WARNING:py.warnings:/usr/local/lib/python3.10/dist-packages/moviepy/video/io/ffmpeg_reader.py:123: UserWarning: Warning: in file test_videos/lanes_clip.mp4, 2764800 bytes wanted but 0 bytes read,at frame 775/1298, at time 15.50/25.94 sec. Using the last valid frame instead.\n",
            "  warnings.warn(\"Warning: in file %s, \"%(self.filename)+\n",
            "\n",
            "WARNING:py.warnings:/usr/local/lib/python3.10/dist-packages/moviepy/video/io/ffmpeg_reader.py:123: UserWarning: Warning: in file test_videos/lanes_clip.mp4, 2764800 bytes wanted but 0 bytes read,at frame 776/1298, at time 15.52/25.94 sec. Using the last valid frame instead.\n",
            "  warnings.warn(\"Warning: in file %s, \"%(self.filename)+\n",
            "\n",
            "WARNING:py.warnings:/usr/local/lib/python3.10/dist-packages/moviepy/video/io/ffmpeg_reader.py:123: UserWarning: Warning: in file test_videos/lanes_clip.mp4, 2764800 bytes wanted but 0 bytes read,at frame 777/1298, at time 15.54/25.94 sec. Using the last valid frame instead.\n",
            "  warnings.warn(\"Warning: in file %s, \"%(self.filename)+\n",
            "\n"
          ]
        },
        {
          "output_type": "stream",
          "name": "stdout",
          "text": [
            "(0.001, 0) [   1.01350267 -287.03663102]\n",
            "(0.001, 0) [   1.01350267 -287.03663102]\n",
            "(0.001, 0) [   1.01350267 -287.03663102]\n",
            "(0.001, 0) [   1.01350267 -287.03663102]\n",
            "(0.001, 0) [   1.01350267 -287.03663102]\n",
            "(0.001, 0) [   1.01350267 -287.03663102]\n",
            "(0.001, 0) [   1.01350267 -287.03663102]\n"
          ]
        },
        {
          "output_type": "stream",
          "name": "stderr",
          "text": [
            "\rt:  60%|██████    | 779/1297 [00:51<00:18, 27.79it/s, now=None]WARNING:py.warnings:/usr/local/lib/python3.10/dist-packages/moviepy/video/io/ffmpeg_reader.py:123: UserWarning: Warning: in file test_videos/lanes_clip.mp4, 2764800 bytes wanted but 0 bytes read,at frame 778/1298, at time 15.56/25.94 sec. Using the last valid frame instead.\n",
            "  warnings.warn(\"Warning: in file %s, \"%(self.filename)+\n",
            "\n",
            "WARNING:py.warnings:/usr/local/lib/python3.10/dist-packages/moviepy/video/io/ffmpeg_reader.py:123: UserWarning: Warning: in file test_videos/lanes_clip.mp4, 2764800 bytes wanted but 0 bytes read,at frame 779/1298, at time 15.58/25.94 sec. Using the last valid frame instead.\n",
            "  warnings.warn(\"Warning: in file %s, \"%(self.filename)+\n",
            "\n",
            "WARNING:py.warnings:/usr/local/lib/python3.10/dist-packages/moviepy/video/io/ffmpeg_reader.py:123: UserWarning: Warning: in file test_videos/lanes_clip.mp4, 2764800 bytes wanted but 0 bytes read,at frame 780/1298, at time 15.60/25.94 sec. Using the last valid frame instead.\n",
            "  warnings.warn(\"Warning: in file %s, \"%(self.filename)+\n",
            "\n",
            "t:  60%|██████    | 782/1297 [00:51<00:18, 27.42it/s, now=None]WARNING:py.warnings:/usr/local/lib/python3.10/dist-packages/moviepy/video/io/ffmpeg_reader.py:123: UserWarning: Warning: in file test_videos/lanes_clip.mp4, 2764800 bytes wanted but 0 bytes read,at frame 781/1298, at time 15.62/25.94 sec. Using the last valid frame instead.\n",
            "  warnings.warn(\"Warning: in file %s, \"%(self.filename)+\n",
            "\n",
            "WARNING:py.warnings:/usr/local/lib/python3.10/dist-packages/moviepy/video/io/ffmpeg_reader.py:123: UserWarning: Warning: in file test_videos/lanes_clip.mp4, 2764800 bytes wanted but 0 bytes read,at frame 782/1298, at time 15.64/25.94 sec. Using the last valid frame instead.\n",
            "  warnings.warn(\"Warning: in file %s, \"%(self.filename)+\n",
            "\n",
            "WARNING:py.warnings:/usr/local/lib/python3.10/dist-packages/moviepy/video/io/ffmpeg_reader.py:123: UserWarning: Warning: in file test_videos/lanes_clip.mp4, 2764800 bytes wanted but 0 bytes read,at frame 783/1298, at time 15.66/25.94 sec. Using the last valid frame instead.\n",
            "  warnings.warn(\"Warning: in file %s, \"%(self.filename)+\n",
            "\n"
          ]
        },
        {
          "output_type": "stream",
          "name": "stdout",
          "text": [
            "(0.001, 0) [   1.01350267 -287.03663102]\n",
            "(0.001, 0) [   1.01350267 -287.03663102]\n",
            "(0.001, 0) [   1.01350267 -287.03663102]\n",
            "(0.001, 0) [   1.01350267 -287.03663102]\n",
            "(0.001, 0) [   1.01350267 -287.03663102]\n"
          ]
        },
        {
          "output_type": "stream",
          "name": "stderr",
          "text": [
            "\rt:  61%|██████    | 785/1297 [00:52<00:19, 26.83it/s, now=None]WARNING:py.warnings:/usr/local/lib/python3.10/dist-packages/moviepy/video/io/ffmpeg_reader.py:123: UserWarning: Warning: in file test_videos/lanes_clip.mp4, 2764800 bytes wanted but 0 bytes read,at frame 784/1298, at time 15.68/25.94 sec. Using the last valid frame instead.\n",
            "  warnings.warn(\"Warning: in file %s, \"%(self.filename)+\n",
            "\n",
            "WARNING:py.warnings:/usr/local/lib/python3.10/dist-packages/moviepy/video/io/ffmpeg_reader.py:123: UserWarning: Warning: in file test_videos/lanes_clip.mp4, 2764800 bytes wanted but 0 bytes read,at frame 785/1298, at time 15.70/25.94 sec. Using the last valid frame instead.\n",
            "  warnings.warn(\"Warning: in file %s, \"%(self.filename)+\n",
            "\n",
            "WARNING:py.warnings:/usr/local/lib/python3.10/dist-packages/moviepy/video/io/ffmpeg_reader.py:123: UserWarning: Warning: in file test_videos/lanes_clip.mp4, 2764800 bytes wanted but 0 bytes read,at frame 786/1298, at time 15.72/25.94 sec. Using the last valid frame instead.\n",
            "  warnings.warn(\"Warning: in file %s, \"%(self.filename)+\n",
            "\n",
            "WARNING:py.warnings:/usr/local/lib/python3.10/dist-packages/moviepy/video/io/ffmpeg_reader.py:123: UserWarning: Warning: in file test_videos/lanes_clip.mp4, 2764800 bytes wanted but 0 bytes read,at frame 787/1298, at time 15.74/25.94 sec. Using the last valid frame instead.\n",
            "  warnings.warn(\"Warning: in file %s, \"%(self.filename)+\n",
            "\n",
            "t:  61%|██████    | 789/1297 [00:52<00:18, 27.89it/s, now=None]WARNING:py.warnings:/usr/local/lib/python3.10/dist-packages/moviepy/video/io/ffmpeg_reader.py:123: UserWarning: Warning: in file test_videos/lanes_clip.mp4, 2764800 bytes wanted but 0 bytes read,at frame 788/1298, at time 15.76/25.94 sec. Using the last valid frame instead.\n",
            "  warnings.warn(\"Warning: in file %s, \"%(self.filename)+\n",
            "\n",
            "WARNING:py.warnings:/usr/local/lib/python3.10/dist-packages/moviepy/video/io/ffmpeg_reader.py:123: UserWarning: Warning: in file test_videos/lanes_clip.mp4, 2764800 bytes wanted but 0 bytes read,at frame 789/1298, at time 15.78/25.94 sec. Using the last valid frame instead.\n",
            "  warnings.warn(\"Warning: in file %s, \"%(self.filename)+\n",
            "\n"
          ]
        },
        {
          "output_type": "stream",
          "name": "stdout",
          "text": [
            "(0.001, 0) [   1.01350267 -287.03663102]\n",
            "(0.001, 0) [   1.01350267 -287.03663102]\n",
            "(0.001, 0) [   1.01350267 -287.03663102]\n",
            "(0.001, 0) [   1.01350267 -287.03663102]\n",
            "(0.001, 0) [   1.01350267 -287.03663102]\n",
            "(0.001, 0) [   1.01350267 -287.03663102]\n",
            "(0.001, 0) [   1.01350267 -287.03663102]\n"
          ]
        },
        {
          "output_type": "stream",
          "name": "stderr",
          "text": [
            "WARNING:py.warnings:/usr/local/lib/python3.10/dist-packages/moviepy/video/io/ffmpeg_reader.py:123: UserWarning: Warning: in file test_videos/lanes_clip.mp4, 2764800 bytes wanted but 0 bytes read,at frame 790/1298, at time 15.80/25.94 sec. Using the last valid frame instead.\n",
            "  warnings.warn(\"Warning: in file %s, \"%(self.filename)+\n",
            "\n",
            "WARNING:py.warnings:/usr/local/lib/python3.10/dist-packages/moviepy/video/io/ffmpeg_reader.py:123: UserWarning: Warning: in file test_videos/lanes_clip.mp4, 2764800 bytes wanted but 0 bytes read,at frame 791/1298, at time 15.82/25.94 sec. Using the last valid frame instead.\n",
            "  warnings.warn(\"Warning: in file %s, \"%(self.filename)+\n",
            "\n",
            "t:  61%|██████    | 793/1297 [00:52<00:17, 28.07it/s, now=None]WARNING:py.warnings:/usr/local/lib/python3.10/dist-packages/moviepy/video/io/ffmpeg_reader.py:123: UserWarning: Warning: in file test_videos/lanes_clip.mp4, 2764800 bytes wanted but 0 bytes read,at frame 792/1298, at time 15.84/25.94 sec. Using the last valid frame instead.\n",
            "  warnings.warn(\"Warning: in file %s, \"%(self.filename)+\n",
            "\n",
            "WARNING:py.warnings:/usr/local/lib/python3.10/dist-packages/moviepy/video/io/ffmpeg_reader.py:123: UserWarning: Warning: in file test_videos/lanes_clip.mp4, 2764800 bytes wanted but 0 bytes read,at frame 793/1298, at time 15.86/25.94 sec. Using the last valid frame instead.\n",
            "  warnings.warn(\"Warning: in file %s, \"%(self.filename)+\n",
            "\n",
            "WARNING:py.warnings:/usr/local/lib/python3.10/dist-packages/moviepy/video/io/ffmpeg_reader.py:123: UserWarning: Warning: in file test_videos/lanes_clip.mp4, 2764800 bytes wanted but 0 bytes read,at frame 794/1298, at time 15.88/25.94 sec. Using the last valid frame instead.\n",
            "  warnings.warn(\"Warning: in file %s, \"%(self.filename)+\n",
            "\n",
            "t:  61%|██████▏   | 796/1297 [00:52<00:18, 27.14it/s, now=None]WARNING:py.warnings:/usr/local/lib/python3.10/dist-packages/moviepy/video/io/ffmpeg_reader.py:123: UserWarning: Warning: in file test_videos/lanes_clip.mp4, 2764800 bytes wanted but 0 bytes read,at frame 795/1298, at time 15.90/25.94 sec. Using the last valid frame instead.\n",
            "  warnings.warn(\"Warning: in file %s, \"%(self.filename)+\n",
            "\n"
          ]
        },
        {
          "output_type": "stream",
          "name": "stdout",
          "text": [
            "(0.001, 0) [   1.01350267 -287.03663102]\n",
            "(0.001, 0) [   1.01350267 -287.03663102]\n",
            "(0.001, 0) [   1.01350267 -287.03663102]\n",
            "(0.001, 0) [   1.01350267 -287.03663102]\n",
            "(0.001, 0) [   1.01350267 -287.03663102]\n",
            "(0.001, 0) [   1.01350267 -287.03663102]\n"
          ]
        },
        {
          "output_type": "stream",
          "name": "stderr",
          "text": [
            "WARNING:py.warnings:/usr/local/lib/python3.10/dist-packages/moviepy/video/io/ffmpeg_reader.py:123: UserWarning: Warning: in file test_videos/lanes_clip.mp4, 2764800 bytes wanted but 0 bytes read,at frame 796/1298, at time 15.92/25.94 sec. Using the last valid frame instead.\n",
            "  warnings.warn(\"Warning: in file %s, \"%(self.filename)+\n",
            "\n",
            "WARNING:py.warnings:/usr/local/lib/python3.10/dist-packages/moviepy/video/io/ffmpeg_reader.py:123: UserWarning: Warning: in file test_videos/lanes_clip.mp4, 2764800 bytes wanted but 0 bytes read,at frame 797/1298, at time 15.94/25.94 sec. Using the last valid frame instead.\n",
            "  warnings.warn(\"Warning: in file %s, \"%(self.filename)+\n",
            "\n",
            "WARNING:py.warnings:/usr/local/lib/python3.10/dist-packages/moviepy/video/io/ffmpeg_reader.py:123: UserWarning: Warning: in file test_videos/lanes_clip.mp4, 2764800 bytes wanted but 0 bytes read,at frame 798/1298, at time 15.96/25.94 sec. Using the last valid frame instead.\n",
            "  warnings.warn(\"Warning: in file %s, \"%(self.filename)+\n",
            "\n",
            "t:  62%|██████▏   | 800/1297 [00:52<00:19, 25.61it/s, now=None]WARNING:py.warnings:/usr/local/lib/python3.10/dist-packages/moviepy/video/io/ffmpeg_reader.py:123: UserWarning: Warning: in file test_videos/lanes_clip.mp4, 2764800 bytes wanted but 0 bytes read,at frame 799/1298, at time 15.98/25.94 sec. Using the last valid frame instead.\n",
            "  warnings.warn(\"Warning: in file %s, \"%(self.filename)+\n",
            "\n",
            "WARNING:py.warnings:/usr/local/lib/python3.10/dist-packages/moviepy/video/io/ffmpeg_reader.py:123: UserWarning: Warning: in file test_videos/lanes_clip.mp4, 2764800 bytes wanted but 0 bytes read,at frame 800/1298, at time 16.00/25.94 sec. Using the last valid frame instead.\n",
            "  warnings.warn(\"Warning: in file %s, \"%(self.filename)+\n",
            "\n",
            "WARNING:py.warnings:/usr/local/lib/python3.10/dist-packages/moviepy/video/io/ffmpeg_reader.py:123: UserWarning: Warning: in file test_videos/lanes_clip.mp4, 2764800 bytes wanted but 0 bytes read,at frame 801/1298, at time 16.02/25.94 sec. Using the last valid frame instead.\n",
            "  warnings.warn(\"Warning: in file %s, \"%(self.filename)+\n",
            "\n"
          ]
        },
        {
          "output_type": "stream",
          "name": "stdout",
          "text": [
            "(0.001, 0) [   1.01350267 -287.03663102]\n",
            "(0.001, 0) [   1.01350267 -287.03663102]\n",
            "(0.001, 0) [   1.01350267 -287.03663102]\n",
            "(0.001, 0) [   1.01350267 -287.03663102]\n",
            "(0.001, 0) [   1.01350267 -287.03663102]\n"
          ]
        },
        {
          "output_type": "stream",
          "name": "stderr",
          "text": [
            "WARNING:py.warnings:/usr/local/lib/python3.10/dist-packages/moviepy/video/io/ffmpeg_reader.py:123: UserWarning: Warning: in file test_videos/lanes_clip.mp4, 2764800 bytes wanted but 0 bytes read,at frame 802/1298, at time 16.04/25.94 sec. Using the last valid frame instead.\n",
            "  warnings.warn(\"Warning: in file %s, \"%(self.filename)+\n",
            "\n",
            "t:  62%|██████▏   | 804/1297 [00:52<00:18, 27.09it/s, now=None]WARNING:py.warnings:/usr/local/lib/python3.10/dist-packages/moviepy/video/io/ffmpeg_reader.py:123: UserWarning: Warning: in file test_videos/lanes_clip.mp4, 2764800 bytes wanted but 0 bytes read,at frame 803/1298, at time 16.06/25.94 sec. Using the last valid frame instead.\n",
            "  warnings.warn(\"Warning: in file %s, \"%(self.filename)+\n",
            "\n",
            "WARNING:py.warnings:/usr/local/lib/python3.10/dist-packages/moviepy/video/io/ffmpeg_reader.py:123: UserWarning: Warning: in file test_videos/lanes_clip.mp4, 2764800 bytes wanted but 0 bytes read,at frame 804/1298, at time 16.08/25.94 sec. Using the last valid frame instead.\n",
            "  warnings.warn(\"Warning: in file %s, \"%(self.filename)+\n",
            "\n",
            "WARNING:py.warnings:/usr/local/lib/python3.10/dist-packages/moviepy/video/io/ffmpeg_reader.py:123: UserWarning: Warning: in file test_videos/lanes_clip.mp4, 2764800 bytes wanted but 0 bytes read,at frame 805/1298, at time 16.10/25.94 sec. Using the last valid frame instead.\n",
            "  warnings.warn(\"Warning: in file %s, \"%(self.filename)+\n",
            "\n",
            "t:  62%|██████▏   | 807/1297 [00:52<00:18, 26.29it/s, now=None]WARNING:py.warnings:/usr/local/lib/python3.10/dist-packages/moviepy/video/io/ffmpeg_reader.py:123: UserWarning: Warning: in file test_videos/lanes_clip.mp4, 2764800 bytes wanted but 0 bytes read,at frame 806/1298, at time 16.12/25.94 sec. Using the last valid frame instead.\n",
            "  warnings.warn(\"Warning: in file %s, \"%(self.filename)+\n",
            "\n",
            "WARNING:py.warnings:/usr/local/lib/python3.10/dist-packages/moviepy/video/io/ffmpeg_reader.py:123: UserWarning: Warning: in file test_videos/lanes_clip.mp4, 2764800 bytes wanted but 0 bytes read,at frame 807/1298, at time 16.14/25.94 sec. Using the last valid frame instead.\n",
            "  warnings.warn(\"Warning: in file %s, \"%(self.filename)+\n",
            "\n"
          ]
        },
        {
          "output_type": "stream",
          "name": "stdout",
          "text": [
            "(0.001, 0) [   1.01350267 -287.03663102]\n",
            "(0.001, 0) [   1.01350267 -287.03663102]\n",
            "(0.001, 0) [   1.01350267 -287.03663102]\n",
            "(0.001, 0) [   1.01350267 -287.03663102]\n",
            "(0.001, 0) [   1.01350267 -287.03663102]\n",
            "(0.001, 0) [   1.01350267 -287.03663102]\n"
          ]
        },
        {
          "output_type": "stream",
          "name": "stderr",
          "text": [
            "WARNING:py.warnings:/usr/local/lib/python3.10/dist-packages/moviepy/video/io/ffmpeg_reader.py:123: UserWarning: Warning: in file test_videos/lanes_clip.mp4, 2764800 bytes wanted but 0 bytes read,at frame 808/1298, at time 16.16/25.94 sec. Using the last valid frame instead.\n",
            "  warnings.warn(\"Warning: in file %s, \"%(self.filename)+\n",
            "\n",
            "WARNING:py.warnings:/usr/local/lib/python3.10/dist-packages/moviepy/video/io/ffmpeg_reader.py:123: UserWarning: Warning: in file test_videos/lanes_clip.mp4, 2764800 bytes wanted but 0 bytes read,at frame 809/1298, at time 16.18/25.94 sec. Using the last valid frame instead.\n",
            "  warnings.warn(\"Warning: in file %s, \"%(self.filename)+\n",
            "\n",
            "t:  63%|██████▎   | 811/1297 [00:53<00:17, 27.16it/s, now=None]WARNING:py.warnings:/usr/local/lib/python3.10/dist-packages/moviepy/video/io/ffmpeg_reader.py:123: UserWarning: Warning: in file test_videos/lanes_clip.mp4, 2764800 bytes wanted but 0 bytes read,at frame 810/1298, at time 16.20/25.94 sec. Using the last valid frame instead.\n",
            "  warnings.warn(\"Warning: in file %s, \"%(self.filename)+\n",
            "\n",
            "WARNING:py.warnings:/usr/local/lib/python3.10/dist-packages/moviepy/video/io/ffmpeg_reader.py:123: UserWarning: Warning: in file test_videos/lanes_clip.mp4, 2764800 bytes wanted but 0 bytes read,at frame 811/1298, at time 16.22/25.94 sec. Using the last valid frame instead.\n",
            "  warnings.warn(\"Warning: in file %s, \"%(self.filename)+\n",
            "\n",
            "WARNING:py.warnings:/usr/local/lib/python3.10/dist-packages/moviepy/video/io/ffmpeg_reader.py:123: UserWarning: Warning: in file test_videos/lanes_clip.mp4, 2764800 bytes wanted but 0 bytes read,at frame 812/1298, at time 16.24/25.94 sec. Using the last valid frame instead.\n",
            "  warnings.warn(\"Warning: in file %s, \"%(self.filename)+\n",
            "\n",
            "WARNING:py.warnings:/usr/local/lib/python3.10/dist-packages/moviepy/video/io/ffmpeg_reader.py:123: UserWarning: Warning: in file test_videos/lanes_clip.mp4, 2764800 bytes wanted but 0 bytes read,at frame 813/1298, at time 16.26/25.94 sec. Using the last valid frame instead.\n",
            "  warnings.warn(\"Warning: in file %s, \"%(self.filename)+\n",
            "\n"
          ]
        },
        {
          "output_type": "stream",
          "name": "stdout",
          "text": [
            "(0.001, 0) [   1.01350267 -287.03663102]\n",
            "(0.001, 0) [   1.01350267 -287.03663102]\n",
            "(0.001, 0) [   1.01350267 -287.03663102]\n",
            "(0.001, 0) [   1.01350267 -287.03663102]\n",
            "(0.001, 0) [   1.01350267 -287.03663102]\n",
            "(0.001, 0) [   1.01350267 -287.03663102]\n"
          ]
        },
        {
          "output_type": "stream",
          "name": "stderr",
          "text": [
            "\rt:  63%|██████▎   | 815/1297 [00:53<00:17, 27.29it/s, now=None]WARNING:py.warnings:/usr/local/lib/python3.10/dist-packages/moviepy/video/io/ffmpeg_reader.py:123: UserWarning: Warning: in file test_videos/lanes_clip.mp4, 2764800 bytes wanted but 0 bytes read,at frame 814/1298, at time 16.28/25.94 sec. Using the last valid frame instead.\n",
            "  warnings.warn(\"Warning: in file %s, \"%(self.filename)+\n",
            "\n",
            "WARNING:py.warnings:/usr/local/lib/python3.10/dist-packages/moviepy/video/io/ffmpeg_reader.py:123: UserWarning: Warning: in file test_videos/lanes_clip.mp4, 2764800 bytes wanted but 0 bytes read,at frame 815/1298, at time 16.30/25.94 sec. Using the last valid frame instead.\n",
            "  warnings.warn(\"Warning: in file %s, \"%(self.filename)+\n",
            "\n",
            "WARNING:py.warnings:/usr/local/lib/python3.10/dist-packages/moviepy/video/io/ffmpeg_reader.py:123: UserWarning: Warning: in file test_videos/lanes_clip.mp4, 2764800 bytes wanted but 0 bytes read,at frame 816/1298, at time 16.32/25.94 sec. Using the last valid frame instead.\n",
            "  warnings.warn(\"Warning: in file %s, \"%(self.filename)+\n",
            "\n",
            "WARNING:py.warnings:/usr/local/lib/python3.10/dist-packages/moviepy/video/io/ffmpeg_reader.py:123: UserWarning: Warning: in file test_videos/lanes_clip.mp4, 2764800 bytes wanted but 0 bytes read,at frame 817/1298, at time 16.34/25.94 sec. Using the last valid frame instead.\n",
            "  warnings.warn(\"Warning: in file %s, \"%(self.filename)+\n",
            "\n",
            "t:  63%|██████▎   | 819/1297 [00:53<00:17, 27.50it/s, now=None]WARNING:py.warnings:/usr/local/lib/python3.10/dist-packages/moviepy/video/io/ffmpeg_reader.py:123: UserWarning: Warning: in file test_videos/lanes_clip.mp4, 2764800 bytes wanted but 0 bytes read,at frame 818/1298, at time 16.36/25.94 sec. Using the last valid frame instead.\n",
            "  warnings.warn(\"Warning: in file %s, \"%(self.filename)+\n",
            "\n",
            "WARNING:py.warnings:/usr/local/lib/python3.10/dist-packages/moviepy/video/io/ffmpeg_reader.py:123: UserWarning: Warning: in file test_videos/lanes_clip.mp4, 2764800 bytes wanted but 0 bytes read,at frame 819/1298, at time 16.38/25.94 sec. Using the last valid frame instead.\n",
            "  warnings.warn(\"Warning: in file %s, \"%(self.filename)+\n",
            "\n"
          ]
        },
        {
          "output_type": "stream",
          "name": "stdout",
          "text": [
            "(0.001, 0) [   1.01350267 -287.03663102]\n",
            "(0.001, 0) [   1.01350267 -287.03663102]\n",
            "(0.001, 0) [   1.01350267 -287.03663102]\n",
            "(0.001, 0) [   1.01350267 -287.03663102]\n",
            "(0.001, 0) [   1.01350267 -287.03663102]\n",
            "(0.001, 0) [   1.01350267 -287.03663102]\n",
            "(0.001, 0) [   1.01350267 -287.03663102]\n"
          ]
        },
        {
          "output_type": "stream",
          "name": "stderr",
          "text": [
            "WARNING:py.warnings:/usr/local/lib/python3.10/dist-packages/moviepy/video/io/ffmpeg_reader.py:123: UserWarning: Warning: in file test_videos/lanes_clip.mp4, 2764800 bytes wanted but 0 bytes read,at frame 820/1298, at time 16.40/25.94 sec. Using the last valid frame instead.\n",
            "  warnings.warn(\"Warning: in file %s, \"%(self.filename)+\n",
            "\n",
            "WARNING:py.warnings:/usr/local/lib/python3.10/dist-packages/moviepy/video/io/ffmpeg_reader.py:123: UserWarning: Warning: in file test_videos/lanes_clip.mp4, 2764800 bytes wanted but 0 bytes read,at frame 821/1298, at time 16.42/25.94 sec. Using the last valid frame instead.\n",
            "  warnings.warn(\"Warning: in file %s, \"%(self.filename)+\n",
            "\n",
            "t:  63%|██████▎   | 823/1297 [00:53<00:17, 27.80it/s, now=None]WARNING:py.warnings:/usr/local/lib/python3.10/dist-packages/moviepy/video/io/ffmpeg_reader.py:123: UserWarning: Warning: in file test_videos/lanes_clip.mp4, 2764800 bytes wanted but 0 bytes read,at frame 822/1298, at time 16.44/25.94 sec. Using the last valid frame instead.\n",
            "  warnings.warn(\"Warning: in file %s, \"%(self.filename)+\n",
            "\n",
            "WARNING:py.warnings:/usr/local/lib/python3.10/dist-packages/moviepy/video/io/ffmpeg_reader.py:123: UserWarning: Warning: in file test_videos/lanes_clip.mp4, 2764800 bytes wanted but 0 bytes read,at frame 823/1298, at time 16.46/25.94 sec. Using the last valid frame instead.\n",
            "  warnings.warn(\"Warning: in file %s, \"%(self.filename)+\n",
            "\n",
            "WARNING:py.warnings:/usr/local/lib/python3.10/dist-packages/moviepy/video/io/ffmpeg_reader.py:123: UserWarning: Warning: in file test_videos/lanes_clip.mp4, 2764800 bytes wanted but 0 bytes read,at frame 824/1298, at time 16.48/25.94 sec. Using the last valid frame instead.\n",
            "  warnings.warn(\"Warning: in file %s, \"%(self.filename)+\n",
            "\n",
            "WARNING:py.warnings:/usr/local/lib/python3.10/dist-packages/moviepy/video/io/ffmpeg_reader.py:123: UserWarning: Warning: in file test_videos/lanes_clip.mp4, 2764800 bytes wanted but 0 bytes read,at frame 825/1298, at time 16.50/25.94 sec. Using the last valid frame instead.\n",
            "  warnings.warn(\"Warning: in file %s, \"%(self.filename)+\n",
            "\n",
            "t:  64%|██████▍   | 827/1297 [00:53<00:16, 28.27it/s, now=None]WARNING:py.warnings:/usr/local/lib/python3.10/dist-packages/moviepy/video/io/ffmpeg_reader.py:123: UserWarning: Warning: in file test_videos/lanes_clip.mp4, 2764800 bytes wanted but 0 bytes read,at frame 826/1298, at time 16.52/25.94 sec. Using the last valid frame instead.\n",
            "  warnings.warn(\"Warning: in file %s, \"%(self.filename)+\n",
            "\n"
          ]
        },
        {
          "output_type": "stream",
          "name": "stdout",
          "text": [
            "(0.001, 0) [   1.01350267 -287.03663102]\n",
            "(0.001, 0) [   1.01350267 -287.03663102]\n",
            "(0.001, 0) [   1.01350267 -287.03663102]\n",
            "(0.001, 0) [   1.01350267 -287.03663102]\n",
            "(0.001, 0) [   1.01350267 -287.03663102]\n",
            "(0.001, 0) [   1.01350267 -287.03663102]\n"
          ]
        },
        {
          "output_type": "stream",
          "name": "stderr",
          "text": [
            "WARNING:py.warnings:/usr/local/lib/python3.10/dist-packages/moviepy/video/io/ffmpeg_reader.py:123: UserWarning: Warning: in file test_videos/lanes_clip.mp4, 2764800 bytes wanted but 0 bytes read,at frame 827/1298, at time 16.54/25.94 sec. Using the last valid frame instead.\n",
            "  warnings.warn(\"Warning: in file %s, \"%(self.filename)+\n",
            "\n",
            "WARNING:py.warnings:/usr/local/lib/python3.10/dist-packages/moviepy/video/io/ffmpeg_reader.py:123: UserWarning: Warning: in file test_videos/lanes_clip.mp4, 2764800 bytes wanted but 0 bytes read,at frame 828/1298, at time 16.56/25.94 sec. Using the last valid frame instead.\n",
            "  warnings.warn(\"Warning: in file %s, \"%(self.filename)+\n",
            "\n",
            "t:  64%|██████▍   | 830/1297 [00:53<00:16, 27.98it/s, now=None]WARNING:py.warnings:/usr/local/lib/python3.10/dist-packages/moviepy/video/io/ffmpeg_reader.py:123: UserWarning: Warning: in file test_videos/lanes_clip.mp4, 2764800 bytes wanted but 0 bytes read,at frame 829/1298, at time 16.58/25.94 sec. Using the last valid frame instead.\n",
            "  warnings.warn(\"Warning: in file %s, \"%(self.filename)+\n",
            "\n",
            "WARNING:py.warnings:/usr/local/lib/python3.10/dist-packages/moviepy/video/io/ffmpeg_reader.py:123: UserWarning: Warning: in file test_videos/lanes_clip.mp4, 2764800 bytes wanted but 0 bytes read,at frame 830/1298, at time 16.60/25.94 sec. Using the last valid frame instead.\n",
            "  warnings.warn(\"Warning: in file %s, \"%(self.filename)+\n",
            "\n",
            "WARNING:py.warnings:/usr/local/lib/python3.10/dist-packages/moviepy/video/io/ffmpeg_reader.py:123: UserWarning: Warning: in file test_videos/lanes_clip.mp4, 2764800 bytes wanted but 0 bytes read,at frame 831/1298, at time 16.62/25.94 sec. Using the last valid frame instead.\n",
            "  warnings.warn(\"Warning: in file %s, \"%(self.filename)+\n",
            "\n"
          ]
        },
        {
          "output_type": "stream",
          "name": "stdout",
          "text": [
            "(0.001, 0) [   1.01350267 -287.03663102]\n",
            "(0.001, 0) [   1.01350267 -287.03663102]\n",
            "(0.001, 0) [   1.01350267 -287.03663102]\n",
            "(0.001, 0) [   1.01350267 -287.03663102]\n",
            "(0.001, 0) [   1.01350267 -287.03663102]\n",
            "(0.001, 0) [   1.01350267 -287.03663102]\n"
          ]
        },
        {
          "output_type": "stream",
          "name": "stderr",
          "text": [
            "\rt:  64%|██████▍   | 833/1297 [00:53<00:17, 26.76it/s, now=None]WARNING:py.warnings:/usr/local/lib/python3.10/dist-packages/moviepy/video/io/ffmpeg_reader.py:123: UserWarning: Warning: in file test_videos/lanes_clip.mp4, 2764800 bytes wanted but 0 bytes read,at frame 832/1298, at time 16.64/25.94 sec. Using the last valid frame instead.\n",
            "  warnings.warn(\"Warning: in file %s, \"%(self.filename)+\n",
            "\n",
            "WARNING:py.warnings:/usr/local/lib/python3.10/dist-packages/moviepy/video/io/ffmpeg_reader.py:123: UserWarning: Warning: in file test_videos/lanes_clip.mp4, 2764800 bytes wanted but 0 bytes read,at frame 833/1298, at time 16.66/25.94 sec. Using the last valid frame instead.\n",
            "  warnings.warn(\"Warning: in file %s, \"%(self.filename)+\n",
            "\n",
            "WARNING:py.warnings:/usr/local/lib/python3.10/dist-packages/moviepy/video/io/ffmpeg_reader.py:123: UserWarning: Warning: in file test_videos/lanes_clip.mp4, 2764800 bytes wanted but 0 bytes read,at frame 834/1298, at time 16.68/25.94 sec. Using the last valid frame instead.\n",
            "  warnings.warn(\"Warning: in file %s, \"%(self.filename)+\n",
            "\n",
            "t:  64%|██████▍   | 836/1297 [00:53<00:17, 26.64it/s, now=None]WARNING:py.warnings:/usr/local/lib/python3.10/dist-packages/moviepy/video/io/ffmpeg_reader.py:123: UserWarning: Warning: in file test_videos/lanes_clip.mp4, 2764800 bytes wanted but 0 bytes read,at frame 835/1298, at time 16.70/25.94 sec. Using the last valid frame instead.\n",
            "  warnings.warn(\"Warning: in file %s, \"%(self.filename)+\n",
            "\n",
            "WARNING:py.warnings:/usr/local/lib/python3.10/dist-packages/moviepy/video/io/ffmpeg_reader.py:123: UserWarning: Warning: in file test_videos/lanes_clip.mp4, 2764800 bytes wanted but 0 bytes read,at frame 836/1298, at time 16.72/25.94 sec. Using the last valid frame instead.\n",
            "  warnings.warn(\"Warning: in file %s, \"%(self.filename)+\n",
            "\n"
          ]
        },
        {
          "output_type": "stream",
          "name": "stdout",
          "text": [
            "(0.001, 0) [   1.01350267 -287.03663102]\n",
            "(0.001, 0) [   1.01350267 -287.03663102]\n",
            "(0.001, 0) [   1.01350267 -287.03663102]\n",
            "(0.001, 0) [   1.01350267 -287.03663102]\n",
            "(0.001, 0) [   1.01350267 -287.03663102]\n"
          ]
        },
        {
          "output_type": "stream",
          "name": "stderr",
          "text": [
            "WARNING:py.warnings:/usr/local/lib/python3.10/dist-packages/moviepy/video/io/ffmpeg_reader.py:123: UserWarning: Warning: in file test_videos/lanes_clip.mp4, 2764800 bytes wanted but 0 bytes read,at frame 837/1298, at time 16.74/25.94 sec. Using the last valid frame instead.\n",
            "  warnings.warn(\"Warning: in file %s, \"%(self.filename)+\n",
            "\n",
            "t:  65%|██████▍   | 839/1297 [00:54<00:17, 26.03it/s, now=None]WARNING:py.warnings:/usr/local/lib/python3.10/dist-packages/moviepy/video/io/ffmpeg_reader.py:123: UserWarning: Warning: in file test_videos/lanes_clip.mp4, 2764800 bytes wanted but 0 bytes read,at frame 838/1298, at time 16.76/25.94 sec. Using the last valid frame instead.\n",
            "  warnings.warn(\"Warning: in file %s, \"%(self.filename)+\n",
            "\n",
            "WARNING:py.warnings:/usr/local/lib/python3.10/dist-packages/moviepy/video/io/ffmpeg_reader.py:123: UserWarning: Warning: in file test_videos/lanes_clip.mp4, 2764800 bytes wanted but 0 bytes read,at frame 839/1298, at time 16.78/25.94 sec. Using the last valid frame instead.\n",
            "  warnings.warn(\"Warning: in file %s, \"%(self.filename)+\n",
            "\n",
            "WARNING:py.warnings:/usr/local/lib/python3.10/dist-packages/moviepy/video/io/ffmpeg_reader.py:123: UserWarning: Warning: in file test_videos/lanes_clip.mp4, 2764800 bytes wanted but 0 bytes read,at frame 840/1298, at time 16.80/25.94 sec. Using the last valid frame instead.\n",
            "  warnings.warn(\"Warning: in file %s, \"%(self.filename)+\n",
            "\n",
            "WARNING:py.warnings:/usr/local/lib/python3.10/dist-packages/moviepy/video/io/ffmpeg_reader.py:123: UserWarning: Warning: in file test_videos/lanes_clip.mp4, 2764800 bytes wanted but 0 bytes read,at frame 841/1298, at time 16.82/25.94 sec. Using the last valid frame instead.\n",
            "  warnings.warn(\"Warning: in file %s, \"%(self.filename)+\n",
            "\n",
            "t:  65%|██████▍   | 843/1297 [00:54<00:16, 27.54it/s, now=None]WARNING:py.warnings:/usr/local/lib/python3.10/dist-packages/moviepy/video/io/ffmpeg_reader.py:123: UserWarning: Warning: in file test_videos/lanes_clip.mp4, 2764800 bytes wanted but 0 bytes read,at frame 842/1298, at time 16.84/25.94 sec. Using the last valid frame instead.\n",
            "  warnings.warn(\"Warning: in file %s, \"%(self.filename)+\n",
            "\n",
            "WARNING:py.warnings:/usr/local/lib/python3.10/dist-packages/moviepy/video/io/ffmpeg_reader.py:123: UserWarning: Warning: in file test_videos/lanes_clip.mp4, 2764800 bytes wanted but 0 bytes read,at frame 843/1298, at time 16.86/25.94 sec. Using the last valid frame instead.\n",
            "  warnings.warn(\"Warning: in file %s, \"%(self.filename)+\n",
            "\n"
          ]
        },
        {
          "output_type": "stream",
          "name": "stdout",
          "text": [
            "(0.001, 0) [   1.01350267 -287.03663102]\n",
            "(0.001, 0) [   1.01350267 -287.03663102]\n",
            "(0.001, 0) [   1.01350267 -287.03663102]\n",
            "(0.001, 0) [   1.01350267 -287.03663102]\n",
            "(0.001, 0) [   1.01350267 -287.03663102]\n",
            "(0.001, 0) [   1.01350267 -287.03663102]\n",
            "(0.001, 0) [   1.01350267 -287.03663102]\n"
          ]
        },
        {
          "output_type": "stream",
          "name": "stderr",
          "text": [
            "WARNING:py.warnings:/usr/local/lib/python3.10/dist-packages/moviepy/video/io/ffmpeg_reader.py:123: UserWarning: Warning: in file test_videos/lanes_clip.mp4, 2764800 bytes wanted but 0 bytes read,at frame 844/1298, at time 16.88/25.94 sec. Using the last valid frame instead.\n",
            "  warnings.warn(\"Warning: in file %s, \"%(self.filename)+\n",
            "\n",
            "t:  65%|██████▌   | 846/1297 [00:54<00:16, 27.84it/s, now=None]WARNING:py.warnings:/usr/local/lib/python3.10/dist-packages/moviepy/video/io/ffmpeg_reader.py:123: UserWarning: Warning: in file test_videos/lanes_clip.mp4, 2764800 bytes wanted but 0 bytes read,at frame 845/1298, at time 16.90/25.94 sec. Using the last valid frame instead.\n",
            "  warnings.warn(\"Warning: in file %s, \"%(self.filename)+\n",
            "\n",
            "WARNING:py.warnings:/usr/local/lib/python3.10/dist-packages/moviepy/video/io/ffmpeg_reader.py:123: UserWarning: Warning: in file test_videos/lanes_clip.mp4, 2764800 bytes wanted but 0 bytes read,at frame 846/1298, at time 16.92/25.94 sec. Using the last valid frame instead.\n",
            "  warnings.warn(\"Warning: in file %s, \"%(self.filename)+\n",
            "\n",
            "WARNING:py.warnings:/usr/local/lib/python3.10/dist-packages/moviepy/video/io/ffmpeg_reader.py:123: UserWarning: Warning: in file test_videos/lanes_clip.mp4, 2764800 bytes wanted but 0 bytes read,at frame 847/1298, at time 16.94/25.94 sec. Using the last valid frame instead.\n",
            "  warnings.warn(\"Warning: in file %s, \"%(self.filename)+\n",
            "\n",
            "WARNING:py.warnings:/usr/local/lib/python3.10/dist-packages/moviepy/video/io/ffmpeg_reader.py:123: UserWarning: Warning: in file test_videos/lanes_clip.mp4, 2764800 bytes wanted but 0 bytes read,at frame 848/1298, at time 16.96/25.94 sec. Using the last valid frame instead.\n",
            "  warnings.warn(\"Warning: in file %s, \"%(self.filename)+\n",
            "\n",
            "t:  66%|██████▌   | 850/1297 [00:54<00:15, 28.41it/s, now=None]WARNING:py.warnings:/usr/local/lib/python3.10/dist-packages/moviepy/video/io/ffmpeg_reader.py:123: UserWarning: Warning: in file test_videos/lanes_clip.mp4, 2764800 bytes wanted but 0 bytes read,at frame 849/1298, at time 16.98/25.94 sec. Using the last valid frame instead.\n",
            "  warnings.warn(\"Warning: in file %s, \"%(self.filename)+\n",
            "\n",
            "WARNING:py.warnings:/usr/local/lib/python3.10/dist-packages/moviepy/video/io/ffmpeg_reader.py:123: UserWarning: Warning: in file test_videos/lanes_clip.mp4, 2764800 bytes wanted but 0 bytes read,at frame 850/1298, at time 17.00/25.94 sec. Using the last valid frame instead.\n",
            "  warnings.warn(\"Warning: in file %s, \"%(self.filename)+\n",
            "\n"
          ]
        },
        {
          "output_type": "stream",
          "name": "stdout",
          "text": [
            "(0.001, 0) [   1.01350267 -287.03663102]\n",
            "(0.001, 0) [   1.01350267 -287.03663102]\n",
            "(0.001, 0) [   1.01350267 -287.03663102]\n",
            "(0.001, 0) [   1.01350267 -287.03663102]\n",
            "(0.001, 0) [   1.01350267 -287.03663102]\n",
            "(0.001, 0) [   1.01350267 -287.03663102]\n",
            "(0.001, 0) [   1.01350267 -287.03663102]\n"
          ]
        },
        {
          "output_type": "stream",
          "name": "stderr",
          "text": [
            "WARNING:py.warnings:/usr/local/lib/python3.10/dist-packages/moviepy/video/io/ffmpeg_reader.py:123: UserWarning: Warning: in file test_videos/lanes_clip.mp4, 2764800 bytes wanted but 0 bytes read,at frame 851/1298, at time 17.02/25.94 sec. Using the last valid frame instead.\n",
            "  warnings.warn(\"Warning: in file %s, \"%(self.filename)+\n",
            "\n",
            "t:  66%|██████▌   | 853/1297 [00:54<00:16, 27.68it/s, now=None]WARNING:py.warnings:/usr/local/lib/python3.10/dist-packages/moviepy/video/io/ffmpeg_reader.py:123: UserWarning: Warning: in file test_videos/lanes_clip.mp4, 2764800 bytes wanted but 0 bytes read,at frame 852/1298, at time 17.04/25.94 sec. Using the last valid frame instead.\n",
            "  warnings.warn(\"Warning: in file %s, \"%(self.filename)+\n",
            "\n",
            "WARNING:py.warnings:/usr/local/lib/python3.10/dist-packages/moviepy/video/io/ffmpeg_reader.py:123: UserWarning: Warning: in file test_videos/lanes_clip.mp4, 2764800 bytes wanted but 0 bytes read,at frame 853/1298, at time 17.06/25.94 sec. Using the last valid frame instead.\n",
            "  warnings.warn(\"Warning: in file %s, \"%(self.filename)+\n",
            "\n",
            "WARNING:py.warnings:/usr/local/lib/python3.10/dist-packages/moviepy/video/io/ffmpeg_reader.py:123: UserWarning: Warning: in file test_videos/lanes_clip.mp4, 2764800 bytes wanted but 0 bytes read,at frame 854/1298, at time 17.08/25.94 sec. Using the last valid frame instead.\n",
            "  warnings.warn(\"Warning: in file %s, \"%(self.filename)+\n",
            "\n",
            "t:  66%|██████▌   | 856/1297 [00:54<00:15, 28.01it/s, now=None]WARNING:py.warnings:/usr/local/lib/python3.10/dist-packages/moviepy/video/io/ffmpeg_reader.py:123: UserWarning: Warning: in file test_videos/lanes_clip.mp4, 2764800 bytes wanted but 0 bytes read,at frame 855/1298, at time 17.10/25.94 sec. Using the last valid frame instead.\n",
            "  warnings.warn(\"Warning: in file %s, \"%(self.filename)+\n",
            "\n",
            "WARNING:py.warnings:/usr/local/lib/python3.10/dist-packages/moviepy/video/io/ffmpeg_reader.py:123: UserWarning: Warning: in file test_videos/lanes_clip.mp4, 2764800 bytes wanted but 0 bytes read,at frame 856/1298, at time 17.12/25.94 sec. Using the last valid frame instead.\n",
            "  warnings.warn(\"Warning: in file %s, \"%(self.filename)+\n",
            "\n"
          ]
        },
        {
          "output_type": "stream",
          "name": "stdout",
          "text": [
            "(0.001, 0) [   1.01350267 -287.03663102]\n",
            "(0.001, 0) [   1.01350267 -287.03663102]\n",
            "(0.001, 0) [   1.01350267 -287.03663102]\n",
            "(0.001, 0) [   1.01350267 -287.03663102]\n",
            "(0.001, 0) [   1.01350267 -287.03663102]\n",
            "(0.001, 0) [   1.01350267 -287.03663102]\n"
          ]
        },
        {
          "output_type": "stream",
          "name": "stderr",
          "text": [
            "WARNING:py.warnings:/usr/local/lib/python3.10/dist-packages/moviepy/video/io/ffmpeg_reader.py:123: UserWarning: Warning: in file test_videos/lanes_clip.mp4, 2764800 bytes wanted but 0 bytes read,at frame 857/1298, at time 17.14/25.94 sec. Using the last valid frame instead.\n",
            "  warnings.warn(\"Warning: in file %s, \"%(self.filename)+\n",
            "\n",
            "t:  66%|██████▌   | 859/1297 [00:54<00:16, 26.22it/s, now=None]WARNING:py.warnings:/usr/local/lib/python3.10/dist-packages/moviepy/video/io/ffmpeg_reader.py:123: UserWarning: Warning: in file test_videos/lanes_clip.mp4, 2764800 bytes wanted but 0 bytes read,at frame 858/1298, at time 17.16/25.94 sec. Using the last valid frame instead.\n",
            "  warnings.warn(\"Warning: in file %s, \"%(self.filename)+\n",
            "\n",
            "WARNING:py.warnings:/usr/local/lib/python3.10/dist-packages/moviepy/video/io/ffmpeg_reader.py:123: UserWarning: Warning: in file test_videos/lanes_clip.mp4, 2764800 bytes wanted but 0 bytes read,at frame 859/1298, at time 17.18/25.94 sec. Using the last valid frame instead.\n",
            "  warnings.warn(\"Warning: in file %s, \"%(self.filename)+\n",
            "\n",
            "WARNING:py.warnings:/usr/local/lib/python3.10/dist-packages/moviepy/video/io/ffmpeg_reader.py:123: UserWarning: Warning: in file test_videos/lanes_clip.mp4, 2764800 bytes wanted but 0 bytes read,at frame 860/1298, at time 17.20/25.94 sec. Using the last valid frame instead.\n",
            "  warnings.warn(\"Warning: in file %s, \"%(self.filename)+\n",
            "\n",
            "t:  66%|██████▋   | 862/1297 [00:54<00:16, 26.23it/s, now=None]WARNING:py.warnings:/usr/local/lib/python3.10/dist-packages/moviepy/video/io/ffmpeg_reader.py:123: UserWarning: Warning: in file test_videos/lanes_clip.mp4, 2764800 bytes wanted but 0 bytes read,at frame 861/1298, at time 17.22/25.94 sec. Using the last valid frame instead.\n",
            "  warnings.warn(\"Warning: in file %s, \"%(self.filename)+\n",
            "\n",
            "WARNING:py.warnings:/usr/local/lib/python3.10/dist-packages/moviepy/video/io/ffmpeg_reader.py:123: UserWarning: Warning: in file test_videos/lanes_clip.mp4, 2764800 bytes wanted but 0 bytes read,at frame 862/1298, at time 17.24/25.94 sec. Using the last valid frame instead.\n",
            "  warnings.warn(\"Warning: in file %s, \"%(self.filename)+\n",
            "\n",
            "WARNING:py.warnings:/usr/local/lib/python3.10/dist-packages/moviepy/video/io/ffmpeg_reader.py:123: UserWarning: Warning: in file test_videos/lanes_clip.mp4, 2764800 bytes wanted but 0 bytes read,at frame 863/1298, at time 17.26/25.94 sec. Using the last valid frame instead.\n",
            "  warnings.warn(\"Warning: in file %s, \"%(self.filename)+\n",
            "\n"
          ]
        },
        {
          "output_type": "stream",
          "name": "stdout",
          "text": [
            "(0.001, 0) [   1.01350267 -287.03663102]\n",
            "(0.001, 0) [   1.01350267 -287.03663102]\n",
            "(0.001, 0) [   1.01350267 -287.03663102]\n",
            "(0.001, 0) [   1.01350267 -287.03663102]\n",
            "(0.001, 0) [   1.01350267 -287.03663102]\n",
            "(0.001, 0) [   1.01350267 -287.03663102]\n"
          ]
        },
        {
          "output_type": "stream",
          "name": "stderr",
          "text": [
            "WARNING:py.warnings:/usr/local/lib/python3.10/dist-packages/moviepy/video/io/ffmpeg_reader.py:123: UserWarning: Warning: in file test_videos/lanes_clip.mp4, 2764800 bytes wanted but 0 bytes read,at frame 864/1298, at time 17.28/25.94 sec. Using the last valid frame instead.\n",
            "  warnings.warn(\"Warning: in file %s, \"%(self.filename)+\n",
            "\n",
            "t:  67%|██████▋   | 866/1297 [00:55<00:15, 28.25it/s, now=None]WARNING:py.warnings:/usr/local/lib/python3.10/dist-packages/moviepy/video/io/ffmpeg_reader.py:123: UserWarning: Warning: in file test_videos/lanes_clip.mp4, 2764800 bytes wanted but 0 bytes read,at frame 865/1298, at time 17.30/25.94 sec. Using the last valid frame instead.\n",
            "  warnings.warn(\"Warning: in file %s, \"%(self.filename)+\n",
            "\n",
            "WARNING:py.warnings:/usr/local/lib/python3.10/dist-packages/moviepy/video/io/ffmpeg_reader.py:123: UserWarning: Warning: in file test_videos/lanes_clip.mp4, 2764800 bytes wanted but 0 bytes read,at frame 866/1298, at time 17.32/25.94 sec. Using the last valid frame instead.\n",
            "  warnings.warn(\"Warning: in file %s, \"%(self.filename)+\n",
            "\n",
            "WARNING:py.warnings:/usr/local/lib/python3.10/dist-packages/moviepy/video/io/ffmpeg_reader.py:123: UserWarning: Warning: in file test_videos/lanes_clip.mp4, 2764800 bytes wanted but 0 bytes read,at frame 867/1298, at time 17.34/25.94 sec. Using the last valid frame instead.\n",
            "  warnings.warn(\"Warning: in file %s, \"%(self.filename)+\n",
            "\n",
            "t:  67%|██████▋   | 869/1297 [00:55<00:15, 27.76it/s, now=None]WARNING:py.warnings:/usr/local/lib/python3.10/dist-packages/moviepy/video/io/ffmpeg_reader.py:123: UserWarning: Warning: in file test_videos/lanes_clip.mp4, 2764800 bytes wanted but 0 bytes read,at frame 868/1298, at time 17.36/25.94 sec. Using the last valid frame instead.\n",
            "  warnings.warn(\"Warning: in file %s, \"%(self.filename)+\n",
            "\n",
            "WARNING:py.warnings:/usr/local/lib/python3.10/dist-packages/moviepy/video/io/ffmpeg_reader.py:123: UserWarning: Warning: in file test_videos/lanes_clip.mp4, 2764800 bytes wanted but 0 bytes read,at frame 869/1298, at time 17.38/25.94 sec. Using the last valid frame instead.\n",
            "  warnings.warn(\"Warning: in file %s, \"%(self.filename)+\n",
            "\n"
          ]
        },
        {
          "output_type": "stream",
          "name": "stdout",
          "text": [
            "(0.001, 0) [   1.01350267 -287.03663102]\n",
            "(0.001, 0) [   1.01350267 -287.03663102]\n",
            "(0.001, 0) [   1.01350267 -287.03663102]\n",
            "(0.001, 0) [   1.01350267 -287.03663102]\n",
            "(0.001, 0) [   1.01350267 -287.03663102]\n",
            "(0.001, 0) [   1.01350267 -287.03663102]\n"
          ]
        },
        {
          "output_type": "stream",
          "name": "stderr",
          "text": [
            "WARNING:py.warnings:/usr/local/lib/python3.10/dist-packages/moviepy/video/io/ffmpeg_reader.py:123: UserWarning: Warning: in file test_videos/lanes_clip.mp4, 2764800 bytes wanted but 0 bytes read,at frame 870/1298, at time 17.40/25.94 sec. Using the last valid frame instead.\n",
            "  warnings.warn(\"Warning: in file %s, \"%(self.filename)+\n",
            "\n",
            "t:  67%|██████▋   | 872/1297 [00:55<00:15, 28.16it/s, now=None]WARNING:py.warnings:/usr/local/lib/python3.10/dist-packages/moviepy/video/io/ffmpeg_reader.py:123: UserWarning: Warning: in file test_videos/lanes_clip.mp4, 2764800 bytes wanted but 0 bytes read,at frame 871/1298, at time 17.42/25.94 sec. Using the last valid frame instead.\n",
            "  warnings.warn(\"Warning: in file %s, \"%(self.filename)+\n",
            "\n",
            "WARNING:py.warnings:/usr/local/lib/python3.10/dist-packages/moviepy/video/io/ffmpeg_reader.py:123: UserWarning: Warning: in file test_videos/lanes_clip.mp4, 2764800 bytes wanted but 0 bytes read,at frame 872/1298, at time 17.44/25.94 sec. Using the last valid frame instead.\n",
            "  warnings.warn(\"Warning: in file %s, \"%(self.filename)+\n",
            "\n",
            "WARNING:py.warnings:/usr/local/lib/python3.10/dist-packages/moviepy/video/io/ffmpeg_reader.py:123: UserWarning: Warning: in file test_videos/lanes_clip.mp4, 2764800 bytes wanted but 0 bytes read,at frame 873/1298, at time 17.46/25.94 sec. Using the last valid frame instead.\n",
            "  warnings.warn(\"Warning: in file %s, \"%(self.filename)+\n",
            "\n",
            "t:  67%|██████▋   | 875/1297 [00:55<00:15, 28.13it/s, now=None]WARNING:py.warnings:/usr/local/lib/python3.10/dist-packages/moviepy/video/io/ffmpeg_reader.py:123: UserWarning: Warning: in file test_videos/lanes_clip.mp4, 2764800 bytes wanted but 0 bytes read,at frame 874/1298, at time 17.48/25.94 sec. Using the last valid frame instead.\n",
            "  warnings.warn(\"Warning: in file %s, \"%(self.filename)+\n",
            "\n",
            "WARNING:py.warnings:/usr/local/lib/python3.10/dist-packages/moviepy/video/io/ffmpeg_reader.py:123: UserWarning: Warning: in file test_videos/lanes_clip.mp4, 2764800 bytes wanted but 0 bytes read,at frame 875/1298, at time 17.50/25.94 sec. Using the last valid frame instead.\n",
            "  warnings.warn(\"Warning: in file %s, \"%(self.filename)+\n",
            "\n"
          ]
        },
        {
          "output_type": "stream",
          "name": "stdout",
          "text": [
            "(0.001, 0) [   1.01350267 -287.03663102]\n",
            "(0.001, 0) [   1.01350267 -287.03663102]\n",
            "(0.001, 0) [   1.01350267 -287.03663102]\n",
            "(0.001, 0) [   1.01350267 -287.03663102]\n",
            "(0.001, 0) [   1.01350267 -287.03663102]\n",
            "(0.001, 0) [   1.01350267 -287.03663102]\n"
          ]
        },
        {
          "output_type": "stream",
          "name": "stderr",
          "text": [
            "WARNING:py.warnings:/usr/local/lib/python3.10/dist-packages/moviepy/video/io/ffmpeg_reader.py:123: UserWarning: Warning: in file test_videos/lanes_clip.mp4, 2764800 bytes wanted but 0 bytes read,at frame 876/1298, at time 17.52/25.94 sec. Using the last valid frame instead.\n",
            "  warnings.warn(\"Warning: in file %s, \"%(self.filename)+\n",
            "\n",
            "t:  68%|██████▊   | 878/1297 [00:55<00:15, 27.92it/s, now=None]WARNING:py.warnings:/usr/local/lib/python3.10/dist-packages/moviepy/video/io/ffmpeg_reader.py:123: UserWarning: Warning: in file test_videos/lanes_clip.mp4, 2764800 bytes wanted but 0 bytes read,at frame 877/1298, at time 17.54/25.94 sec. Using the last valid frame instead.\n",
            "  warnings.warn(\"Warning: in file %s, \"%(self.filename)+\n",
            "\n",
            "WARNING:py.warnings:/usr/local/lib/python3.10/dist-packages/moviepy/video/io/ffmpeg_reader.py:123: UserWarning: Warning: in file test_videos/lanes_clip.mp4, 2764800 bytes wanted but 0 bytes read,at frame 878/1298, at time 17.56/25.94 sec. Using the last valid frame instead.\n",
            "  warnings.warn(\"Warning: in file %s, \"%(self.filename)+\n",
            "\n",
            "WARNING:py.warnings:/usr/local/lib/python3.10/dist-packages/moviepy/video/io/ffmpeg_reader.py:123: UserWarning: Warning: in file test_videos/lanes_clip.mp4, 2764800 bytes wanted but 0 bytes read,at frame 879/1298, at time 17.58/25.94 sec. Using the last valid frame instead.\n",
            "  warnings.warn(\"Warning: in file %s, \"%(self.filename)+\n",
            "\n",
            "t:  68%|██████▊   | 881/1297 [00:55<00:14, 28.15it/s, now=None]WARNING:py.warnings:/usr/local/lib/python3.10/dist-packages/moviepy/video/io/ffmpeg_reader.py:123: UserWarning: Warning: in file test_videos/lanes_clip.mp4, 2764800 bytes wanted but 0 bytes read,at frame 880/1298, at time 17.60/25.94 sec. Using the last valid frame instead.\n",
            "  warnings.warn(\"Warning: in file %s, \"%(self.filename)+\n",
            "\n"
          ]
        },
        {
          "output_type": "stream",
          "name": "stdout",
          "text": [
            "(0.001, 0) [   1.01350267 -287.03663102]\n",
            "(0.001, 0) [   1.01350267 -287.03663102]\n",
            "(0.001, 0) [   1.01350267 -287.03663102]\n",
            "(0.001, 0) [   1.01350267 -287.03663102]\n",
            "(0.001, 0) [   1.01350267 -287.03663102]\n",
            "(0.001, 0) [   1.01350267 -287.03663102]\n"
          ]
        },
        {
          "output_type": "stream",
          "name": "stderr",
          "text": [
            "WARNING:py.warnings:/usr/local/lib/python3.10/dist-packages/moviepy/video/io/ffmpeg_reader.py:123: UserWarning: Warning: in file test_videos/lanes_clip.mp4, 2764800 bytes wanted but 0 bytes read,at frame 881/1298, at time 17.62/25.94 sec. Using the last valid frame instead.\n",
            "  warnings.warn(\"Warning: in file %s, \"%(self.filename)+\n",
            "\n",
            "WARNING:py.warnings:/usr/local/lib/python3.10/dist-packages/moviepy/video/io/ffmpeg_reader.py:123: UserWarning: Warning: in file test_videos/lanes_clip.mp4, 2764800 bytes wanted but 0 bytes read,at frame 882/1298, at time 17.64/25.94 sec. Using the last valid frame instead.\n",
            "  warnings.warn(\"Warning: in file %s, \"%(self.filename)+\n",
            "\n",
            "t:  68%|██████▊   | 884/1297 [00:55<00:15, 26.93it/s, now=None]WARNING:py.warnings:/usr/local/lib/python3.10/dist-packages/moviepy/video/io/ffmpeg_reader.py:123: UserWarning: Warning: in file test_videos/lanes_clip.mp4, 2764800 bytes wanted but 0 bytes read,at frame 883/1298, at time 17.66/25.94 sec. Using the last valid frame instead.\n",
            "  warnings.warn(\"Warning: in file %s, \"%(self.filename)+\n",
            "\n",
            "WARNING:py.warnings:/usr/local/lib/python3.10/dist-packages/moviepy/video/io/ffmpeg_reader.py:123: UserWarning: Warning: in file test_videos/lanes_clip.mp4, 2764800 bytes wanted but 0 bytes read,at frame 884/1298, at time 17.68/25.94 sec. Using the last valid frame instead.\n",
            "  warnings.warn(\"Warning: in file %s, \"%(self.filename)+\n",
            "\n",
            "WARNING:py.warnings:/usr/local/lib/python3.10/dist-packages/moviepy/video/io/ffmpeg_reader.py:123: UserWarning: Warning: in file test_videos/lanes_clip.mp4, 2764800 bytes wanted but 0 bytes read,at frame 885/1298, at time 17.70/25.94 sec. Using the last valid frame instead.\n",
            "  warnings.warn(\"Warning: in file %s, \"%(self.filename)+\n",
            "\n",
            "t:  68%|██████▊   | 887/1297 [00:55<00:15, 27.07it/s, now=None]WARNING:py.warnings:/usr/local/lib/python3.10/dist-packages/moviepy/video/io/ffmpeg_reader.py:123: UserWarning: Warning: in file test_videos/lanes_clip.mp4, 2764800 bytes wanted but 0 bytes read,at frame 886/1298, at time 17.72/25.94 sec. Using the last valid frame instead.\n",
            "  warnings.warn(\"Warning: in file %s, \"%(self.filename)+\n",
            "\n",
            "WARNING:py.warnings:/usr/local/lib/python3.10/dist-packages/moviepy/video/io/ffmpeg_reader.py:123: UserWarning: Warning: in file test_videos/lanes_clip.mp4, 2764800 bytes wanted but 0 bytes read,at frame 887/1298, at time 17.74/25.94 sec. Using the last valid frame instead.\n",
            "  warnings.warn(\"Warning: in file %s, \"%(self.filename)+\n",
            "\n"
          ]
        },
        {
          "output_type": "stream",
          "name": "stdout",
          "text": [
            "(0.001, 0) [   1.01350267 -287.03663102]\n",
            "(0.001, 0) [   1.01350267 -287.03663102]\n",
            "(0.001, 0) [   1.01350267 -287.03663102]\n",
            "(0.001, 0) [   1.01350267 -287.03663102]\n",
            "(0.001, 0) [   1.01350267 -287.03663102]\n",
            "(0.001, 0) [   1.01350267 -287.03663102]\n"
          ]
        },
        {
          "output_type": "stream",
          "name": "stderr",
          "text": [
            "WARNING:py.warnings:/usr/local/lib/python3.10/dist-packages/moviepy/video/io/ffmpeg_reader.py:123: UserWarning: Warning: in file test_videos/lanes_clip.mp4, 2764800 bytes wanted but 0 bytes read,at frame 888/1298, at time 17.76/25.94 sec. Using the last valid frame instead.\n",
            "  warnings.warn(\"Warning: in file %s, \"%(self.filename)+\n",
            "\n",
            "t:  69%|██████▊   | 890/1297 [00:55<00:14, 27.53it/s, now=None]WARNING:py.warnings:/usr/local/lib/python3.10/dist-packages/moviepy/video/io/ffmpeg_reader.py:123: UserWarning: Warning: in file test_videos/lanes_clip.mp4, 2764800 bytes wanted but 0 bytes read,at frame 889/1298, at time 17.78/25.94 sec. Using the last valid frame instead.\n",
            "  warnings.warn(\"Warning: in file %s, \"%(self.filename)+\n",
            "\n",
            "WARNING:py.warnings:/usr/local/lib/python3.10/dist-packages/moviepy/video/io/ffmpeg_reader.py:123: UserWarning: Warning: in file test_videos/lanes_clip.mp4, 2764800 bytes wanted but 0 bytes read,at frame 890/1298, at time 17.80/25.94 sec. Using the last valid frame instead.\n",
            "  warnings.warn(\"Warning: in file %s, \"%(self.filename)+\n",
            "\n",
            "WARNING:py.warnings:/usr/local/lib/python3.10/dist-packages/moviepy/video/io/ffmpeg_reader.py:123: UserWarning: Warning: in file test_videos/lanes_clip.mp4, 2764800 bytes wanted but 0 bytes read,at frame 891/1298, at time 17.82/25.94 sec. Using the last valid frame instead.\n",
            "  warnings.warn(\"Warning: in file %s, \"%(self.filename)+\n",
            "\n",
            "t:  69%|██████▉   | 893/1297 [00:56<00:15, 26.33it/s, now=None]WARNING:py.warnings:/usr/local/lib/python3.10/dist-packages/moviepy/video/io/ffmpeg_reader.py:123: UserWarning: Warning: in file test_videos/lanes_clip.mp4, 2764800 bytes wanted but 0 bytes read,at frame 892/1298, at time 17.84/25.94 sec. Using the last valid frame instead.\n",
            "  warnings.warn(\"Warning: in file %s, \"%(self.filename)+\n",
            "\n"
          ]
        },
        {
          "output_type": "stream",
          "name": "stdout",
          "text": [
            "(0.001, 0) [   1.01350267 -287.03663102]\n",
            "(0.001, 0) [   1.01350267 -287.03663102]\n",
            "(0.001, 0) [   1.01350267 -287.03663102]\n",
            "(0.001, 0) [   1.01350267 -287.03663102]\n",
            "(0.001, 0) [   1.01350267 -287.03663102]\n",
            "(0.001, 0) [   1.01350267 -287.03663102]\n"
          ]
        },
        {
          "output_type": "stream",
          "name": "stderr",
          "text": [
            "WARNING:py.warnings:/usr/local/lib/python3.10/dist-packages/moviepy/video/io/ffmpeg_reader.py:123: UserWarning: Warning: in file test_videos/lanes_clip.mp4, 2764800 bytes wanted but 0 bytes read,at frame 893/1298, at time 17.86/25.94 sec. Using the last valid frame instead.\n",
            "  warnings.warn(\"Warning: in file %s, \"%(self.filename)+\n",
            "\n",
            "WARNING:py.warnings:/usr/local/lib/python3.10/dist-packages/moviepy/video/io/ffmpeg_reader.py:123: UserWarning: Warning: in file test_videos/lanes_clip.mp4, 2764800 bytes wanted but 0 bytes read,at frame 894/1298, at time 17.88/25.94 sec. Using the last valid frame instead.\n",
            "  warnings.warn(\"Warning: in file %s, \"%(self.filename)+\n",
            "\n",
            "t:  69%|██████▉   | 896/1297 [00:56<00:14, 26.93it/s, now=None]WARNING:py.warnings:/usr/local/lib/python3.10/dist-packages/moviepy/video/io/ffmpeg_reader.py:123: UserWarning: Warning: in file test_videos/lanes_clip.mp4, 2764800 bytes wanted but 0 bytes read,at frame 895/1298, at time 17.90/25.94 sec. Using the last valid frame instead.\n",
            "  warnings.warn(\"Warning: in file %s, \"%(self.filename)+\n",
            "\n",
            "WARNING:py.warnings:/usr/local/lib/python3.10/dist-packages/moviepy/video/io/ffmpeg_reader.py:123: UserWarning: Warning: in file test_videos/lanes_clip.mp4, 2764800 bytes wanted but 0 bytes read,at frame 896/1298, at time 17.92/25.94 sec. Using the last valid frame instead.\n",
            "  warnings.warn(\"Warning: in file %s, \"%(self.filename)+\n",
            "\n",
            "WARNING:py.warnings:/usr/local/lib/python3.10/dist-packages/moviepy/video/io/ffmpeg_reader.py:123: UserWarning: Warning: in file test_videos/lanes_clip.mp4, 2764800 bytes wanted but 0 bytes read,at frame 897/1298, at time 17.94/25.94 sec. Using the last valid frame instead.\n",
            "  warnings.warn(\"Warning: in file %s, \"%(self.filename)+\n",
            "\n"
          ]
        },
        {
          "output_type": "stream",
          "name": "stdout",
          "text": [
            "(0.001, 0) [   1.01350267 -287.03663102]\n",
            "(0.001, 0) [   1.01350267 -287.03663102]\n",
            "(0.001, 0) [   1.01350267 -287.03663102]\n",
            "(0.001, 0) [   1.01350267 -287.03663102]\n",
            "(0.001, 0) [   1.01350267 -287.03663102]\n"
          ]
        },
        {
          "output_type": "stream",
          "name": "stderr",
          "text": [
            "\rt:  69%|██████▉   | 899/1297 [00:56<00:14, 27.15it/s, now=None]WARNING:py.warnings:/usr/local/lib/python3.10/dist-packages/moviepy/video/io/ffmpeg_reader.py:123: UserWarning: Warning: in file test_videos/lanes_clip.mp4, 2764800 bytes wanted but 0 bytes read,at frame 898/1298, at time 17.96/25.94 sec. Using the last valid frame instead.\n",
            "  warnings.warn(\"Warning: in file %s, \"%(self.filename)+\n",
            "\n",
            "WARNING:py.warnings:/usr/local/lib/python3.10/dist-packages/moviepy/video/io/ffmpeg_reader.py:123: UserWarning: Warning: in file test_videos/lanes_clip.mp4, 2764800 bytes wanted but 0 bytes read,at frame 899/1298, at time 17.98/25.94 sec. Using the last valid frame instead.\n",
            "  warnings.warn(\"Warning: in file %s, \"%(self.filename)+\n",
            "\n",
            "WARNING:py.warnings:/usr/local/lib/python3.10/dist-packages/moviepy/video/io/ffmpeg_reader.py:123: UserWarning: Warning: in file test_videos/lanes_clip.mp4, 2764800 bytes wanted but 0 bytes read,at frame 900/1298, at time 18.00/25.94 sec. Using the last valid frame instead.\n",
            "  warnings.warn(\"Warning: in file %s, \"%(self.filename)+\n",
            "\n",
            "t:  70%|██████▉   | 902/1297 [00:56<00:14, 27.13it/s, now=None]WARNING:py.warnings:/usr/local/lib/python3.10/dist-packages/moviepy/video/io/ffmpeg_reader.py:123: UserWarning: Warning: in file test_videos/lanes_clip.mp4, 2764800 bytes wanted but 0 bytes read,at frame 901/1298, at time 18.02/25.94 sec. Using the last valid frame instead.\n",
            "  warnings.warn(\"Warning: in file %s, \"%(self.filename)+\n",
            "\n",
            "WARNING:py.warnings:/usr/local/lib/python3.10/dist-packages/moviepy/video/io/ffmpeg_reader.py:123: UserWarning: Warning: in file test_videos/lanes_clip.mp4, 2764800 bytes wanted but 0 bytes read,at frame 902/1298, at time 18.04/25.94 sec. Using the last valid frame instead.\n",
            "  warnings.warn(\"Warning: in file %s, \"%(self.filename)+\n",
            "\n",
            "WARNING:py.warnings:/usr/local/lib/python3.10/dist-packages/moviepy/video/io/ffmpeg_reader.py:123: UserWarning: Warning: in file test_videos/lanes_clip.mp4, 2764800 bytes wanted but 0 bytes read,at frame 903/1298, at time 18.06/25.94 sec. Using the last valid frame instead.\n",
            "  warnings.warn(\"Warning: in file %s, \"%(self.filename)+\n",
            "\n"
          ]
        },
        {
          "output_type": "stream",
          "name": "stdout",
          "text": [
            "(0.001, 0) [   1.01350267 -287.03663102]\n",
            "(0.001, 0) [   1.01350267 -287.03663102]\n",
            "(0.001, 0) [   1.01350267 -287.03663102]\n",
            "(0.001, 0) [   1.01350267 -287.03663102]\n",
            "(0.001, 0) [   1.01350267 -287.03663102]\n",
            "(0.001, 0) [   1.01350267 -287.03663102]\n"
          ]
        },
        {
          "output_type": "stream",
          "name": "stderr",
          "text": [
            "\rt:  70%|██████▉   | 905/1297 [00:56<00:15, 26.01it/s, now=None]WARNING:py.warnings:/usr/local/lib/python3.10/dist-packages/moviepy/video/io/ffmpeg_reader.py:123: UserWarning: Warning: in file test_videos/lanes_clip.mp4, 2764800 bytes wanted but 0 bytes read,at frame 904/1298, at time 18.08/25.94 sec. Using the last valid frame instead.\n",
            "  warnings.warn(\"Warning: in file %s, \"%(self.filename)+\n",
            "\n",
            "WARNING:py.warnings:/usr/local/lib/python3.10/dist-packages/moviepy/video/io/ffmpeg_reader.py:123: UserWarning: Warning: in file test_videos/lanes_clip.mp4, 2764800 bytes wanted but 0 bytes read,at frame 905/1298, at time 18.10/25.94 sec. Using the last valid frame instead.\n",
            "  warnings.warn(\"Warning: in file %s, \"%(self.filename)+\n",
            "\n",
            "WARNING:py.warnings:/usr/local/lib/python3.10/dist-packages/moviepy/video/io/ffmpeg_reader.py:123: UserWarning: Warning: in file test_videos/lanes_clip.mp4, 2764800 bytes wanted but 0 bytes read,at frame 906/1298, at time 18.12/25.94 sec. Using the last valid frame instead.\n",
            "  warnings.warn(\"Warning: in file %s, \"%(self.filename)+\n",
            "\n",
            "t:  70%|███████   | 908/1297 [00:56<00:16, 23.37it/s, now=None]WARNING:py.warnings:/usr/local/lib/python3.10/dist-packages/moviepy/video/io/ffmpeg_reader.py:123: UserWarning: Warning: in file test_videos/lanes_clip.mp4, 2764800 bytes wanted but 0 bytes read,at frame 907/1298, at time 18.14/25.94 sec. Using the last valid frame instead.\n",
            "  warnings.warn(\"Warning: in file %s, \"%(self.filename)+\n",
            "\n",
            "WARNING:py.warnings:/usr/local/lib/python3.10/dist-packages/moviepy/video/io/ffmpeg_reader.py:123: UserWarning: Warning: in file test_videos/lanes_clip.mp4, 2764800 bytes wanted but 0 bytes read,at frame 908/1298, at time 18.16/25.94 sec. Using the last valid frame instead.\n",
            "  warnings.warn(\"Warning: in file %s, \"%(self.filename)+\n",
            "\n"
          ]
        },
        {
          "output_type": "stream",
          "name": "stdout",
          "text": [
            "(0.001, 0) [   1.01350267 -287.03663102]\n",
            "(0.001, 0) [   1.01350267 -287.03663102]\n",
            "(0.001, 0) [   1.01350267 -287.03663102]\n",
            "(0.001, 0) [   1.01350267 -287.03663102]\n",
            "(0.001, 0) [   1.01350267 -287.03663102]\n"
          ]
        },
        {
          "output_type": "stream",
          "name": "stderr",
          "text": [
            "WARNING:py.warnings:/usr/local/lib/python3.10/dist-packages/moviepy/video/io/ffmpeg_reader.py:123: UserWarning: Warning: in file test_videos/lanes_clip.mp4, 2764800 bytes wanted but 0 bytes read,at frame 909/1298, at time 18.18/25.94 sec. Using the last valid frame instead.\n",
            "  warnings.warn(\"Warning: in file %s, \"%(self.filename)+\n",
            "\n",
            "t:  70%|███████   | 911/1297 [00:56<00:17, 21.47it/s, now=None]WARNING:py.warnings:/usr/local/lib/python3.10/dist-packages/moviepy/video/io/ffmpeg_reader.py:123: UserWarning: Warning: in file test_videos/lanes_clip.mp4, 2764800 bytes wanted but 0 bytes read,at frame 910/1298, at time 18.20/25.94 sec. Using the last valid frame instead.\n",
            "  warnings.warn(\"Warning: in file %s, \"%(self.filename)+\n",
            "\n",
            "WARNING:py.warnings:/usr/local/lib/python3.10/dist-packages/moviepy/video/io/ffmpeg_reader.py:123: UserWarning: Warning: in file test_videos/lanes_clip.mp4, 2764800 bytes wanted but 0 bytes read,at frame 911/1298, at time 18.22/25.94 sec. Using the last valid frame instead.\n",
            "  warnings.warn(\"Warning: in file %s, \"%(self.filename)+\n",
            "\n",
            "WARNING:py.warnings:/usr/local/lib/python3.10/dist-packages/moviepy/video/io/ffmpeg_reader.py:123: UserWarning: Warning: in file test_videos/lanes_clip.mp4, 2764800 bytes wanted but 0 bytes read,at frame 912/1298, at time 18.24/25.94 sec. Using the last valid frame instead.\n",
            "  warnings.warn(\"Warning: in file %s, \"%(self.filename)+\n",
            "\n",
            "t:  70%|███████   | 914/1297 [00:56<00:18, 20.94it/s, now=None]WARNING:py.warnings:/usr/local/lib/python3.10/dist-packages/moviepy/video/io/ffmpeg_reader.py:123: UserWarning: Warning: in file test_videos/lanes_clip.mp4, 2764800 bytes wanted but 0 bytes read,at frame 913/1298, at time 18.26/25.94 sec. Using the last valid frame instead.\n",
            "  warnings.warn(\"Warning: in file %s, \"%(self.filename)+\n",
            "\n"
          ]
        },
        {
          "output_type": "stream",
          "name": "stdout",
          "text": [
            "(0.001, 0) [   1.01350267 -287.03663102]\n",
            "(0.001, 0) [   1.01350267 -287.03663102]\n",
            "(0.001, 0) [   1.01350267 -287.03663102]\n",
            "(0.001, 0) [   1.01350267 -287.03663102]\n"
          ]
        },
        {
          "output_type": "stream",
          "name": "stderr",
          "text": [
            "WARNING:py.warnings:/usr/local/lib/python3.10/dist-packages/moviepy/video/io/ffmpeg_reader.py:123: UserWarning: Warning: in file test_videos/lanes_clip.mp4, 2764800 bytes wanted but 0 bytes read,at frame 914/1298, at time 18.28/25.94 sec. Using the last valid frame instead.\n",
            "  warnings.warn(\"Warning: in file %s, \"%(self.filename)+\n",
            "\n",
            "WARNING:py.warnings:/usr/local/lib/python3.10/dist-packages/moviepy/video/io/ffmpeg_reader.py:123: UserWarning: Warning: in file test_videos/lanes_clip.mp4, 2764800 bytes wanted but 0 bytes read,at frame 915/1298, at time 18.30/25.94 sec. Using the last valid frame instead.\n",
            "  warnings.warn(\"Warning: in file %s, \"%(self.filename)+\n",
            "\n",
            "t:  71%|███████   | 917/1297 [00:57<00:17, 21.28it/s, now=None]WARNING:py.warnings:/usr/local/lib/python3.10/dist-packages/moviepy/video/io/ffmpeg_reader.py:123: UserWarning: Warning: in file test_videos/lanes_clip.mp4, 2764800 bytes wanted but 0 bytes read,at frame 916/1298, at time 18.32/25.94 sec. Using the last valid frame instead.\n",
            "  warnings.warn(\"Warning: in file %s, \"%(self.filename)+\n",
            "\n",
            "WARNING:py.warnings:/usr/local/lib/python3.10/dist-packages/moviepy/video/io/ffmpeg_reader.py:123: UserWarning: Warning: in file test_videos/lanes_clip.mp4, 2764800 bytes wanted but 0 bytes read,at frame 917/1298, at time 18.34/25.94 sec. Using the last valid frame instead.\n",
            "  warnings.warn(\"Warning: in file %s, \"%(self.filename)+\n",
            "\n"
          ]
        },
        {
          "output_type": "stream",
          "name": "stdout",
          "text": [
            "(0.001, 0) [   1.01350267 -287.03663102]\n",
            "(0.001, 0) [   1.01350267 -287.03663102]\n",
            "(0.001, 0) [   1.01350267 -287.03663102]\n",
            "(0.001, 0) [   1.01350267 -287.03663102]\n"
          ]
        },
        {
          "output_type": "stream",
          "name": "stderr",
          "text": [
            "WARNING:py.warnings:/usr/local/lib/python3.10/dist-packages/moviepy/video/io/ffmpeg_reader.py:123: UserWarning: Warning: in file test_videos/lanes_clip.mp4, 2764800 bytes wanted but 0 bytes read,at frame 918/1298, at time 18.36/25.94 sec. Using the last valid frame instead.\n",
            "  warnings.warn(\"Warning: in file %s, \"%(self.filename)+\n",
            "\n",
            "t:  71%|███████   | 920/1297 [00:57<00:19, 19.70it/s, now=None]WARNING:py.warnings:/usr/local/lib/python3.10/dist-packages/moviepy/video/io/ffmpeg_reader.py:123: UserWarning: Warning: in file test_videos/lanes_clip.mp4, 2764800 bytes wanted but 0 bytes read,at frame 919/1298, at time 18.38/25.94 sec. Using the last valid frame instead.\n",
            "  warnings.warn(\"Warning: in file %s, \"%(self.filename)+\n",
            "\n",
            "WARNING:py.warnings:/usr/local/lib/python3.10/dist-packages/moviepy/video/io/ffmpeg_reader.py:123: UserWarning: Warning: in file test_videos/lanes_clip.mp4, 2764800 bytes wanted but 0 bytes read,at frame 920/1298, at time 18.40/25.94 sec. Using the last valid frame instead.\n",
            "  warnings.warn(\"Warning: in file %s, \"%(self.filename)+\n",
            "\n",
            "WARNING:py.warnings:/usr/local/lib/python3.10/dist-packages/moviepy/video/io/ffmpeg_reader.py:123: UserWarning: Warning: in file test_videos/lanes_clip.mp4, 2764800 bytes wanted but 0 bytes read,at frame 921/1298, at time 18.42/25.94 sec. Using the last valid frame instead.\n",
            "  warnings.warn(\"Warning: in file %s, \"%(self.filename)+\n",
            "\n"
          ]
        },
        {
          "output_type": "stream",
          "name": "stdout",
          "text": [
            "(0.001, 0) [   1.01350267 -287.03663102]\n",
            "(0.001, 0) [   1.01350267 -287.03663102]\n",
            "(0.001, 0) [   1.01350267 -287.03663102]\n",
            "(0.001, 0) [   1.01350267 -287.03663102]\n",
            "(0.001, 0) [   1.01350267 -287.03663102]\n"
          ]
        },
        {
          "output_type": "stream",
          "name": "stderr",
          "text": [
            "\rt:  71%|███████   | 923/1297 [00:57<00:19, 18.86it/s, now=None]WARNING:py.warnings:/usr/local/lib/python3.10/dist-packages/moviepy/video/io/ffmpeg_reader.py:123: UserWarning: Warning: in file test_videos/lanes_clip.mp4, 2764800 bytes wanted but 0 bytes read,at frame 922/1298, at time 18.44/25.94 sec. Using the last valid frame instead.\n",
            "  warnings.warn(\"Warning: in file %s, \"%(self.filename)+\n",
            "\n",
            "WARNING:py.warnings:/usr/local/lib/python3.10/dist-packages/moviepy/video/io/ffmpeg_reader.py:123: UserWarning: Warning: in file test_videos/lanes_clip.mp4, 2764800 bytes wanted but 0 bytes read,at frame 923/1298, at time 18.46/25.94 sec. Using the last valid frame instead.\n",
            "  warnings.warn(\"Warning: in file %s, \"%(self.filename)+\n",
            "\n",
            "WARNING:py.warnings:/usr/local/lib/python3.10/dist-packages/moviepy/video/io/ffmpeg_reader.py:123: UserWarning: Warning: in file test_videos/lanes_clip.mp4, 2764800 bytes wanted but 0 bytes read,at frame 924/1298, at time 18.48/25.94 sec. Using the last valid frame instead.\n",
            "  warnings.warn(\"Warning: in file %s, \"%(self.filename)+\n",
            "\n",
            "t:  71%|███████▏  | 926/1297 [00:57<00:19, 18.81it/s, now=None]WARNING:py.warnings:/usr/local/lib/python3.10/dist-packages/moviepy/video/io/ffmpeg_reader.py:123: UserWarning: Warning: in file test_videos/lanes_clip.mp4, 2764800 bytes wanted but 0 bytes read,at frame 925/1298, at time 18.50/25.94 sec. Using the last valid frame instead.\n",
            "  warnings.warn(\"Warning: in file %s, \"%(self.filename)+\n",
            "\n",
            "WARNING:py.warnings:/usr/local/lib/python3.10/dist-packages/moviepy/video/io/ffmpeg_reader.py:123: UserWarning: Warning: in file test_videos/lanes_clip.mp4, 2764800 bytes wanted but 0 bytes read,at frame 926/1298, at time 18.52/25.94 sec. Using the last valid frame instead.\n",
            "  warnings.warn(\"Warning: in file %s, \"%(self.filename)+\n",
            "\n",
            "WARNING:py.warnings:/usr/local/lib/python3.10/dist-packages/moviepy/video/io/ffmpeg_reader.py:123: UserWarning: Warning: in file test_videos/lanes_clip.mp4, 2764800 bytes wanted but 0 bytes read,at frame 927/1298, at time 18.54/25.94 sec. Using the last valid frame instead.\n",
            "  warnings.warn(\"Warning: in file %s, \"%(self.filename)+\n",
            "\n"
          ]
        },
        {
          "output_type": "stream",
          "name": "stdout",
          "text": [
            "(0.001, 0) [   1.01350267 -287.03663102]\n",
            "(0.001, 0) [   1.01350267 -287.03663102]\n",
            "(0.001, 0) [   1.01350267 -287.03663102]\n",
            "(0.001, 0) [   1.01350267 -287.03663102]\n",
            "(0.001, 0) [   1.01350267 -287.03663102]\n"
          ]
        },
        {
          "output_type": "stream",
          "name": "stderr",
          "text": [
            "\rt:  72%|███████▏  | 929/1297 [00:57<00:17, 20.83it/s, now=None]WARNING:py.warnings:/usr/local/lib/python3.10/dist-packages/moviepy/video/io/ffmpeg_reader.py:123: UserWarning: Warning: in file test_videos/lanes_clip.mp4, 2764800 bytes wanted but 0 bytes read,at frame 928/1298, at time 18.56/25.94 sec. Using the last valid frame instead.\n",
            "  warnings.warn(\"Warning: in file %s, \"%(self.filename)+\n",
            "\n",
            "WARNING:py.warnings:/usr/local/lib/python3.10/dist-packages/moviepy/video/io/ffmpeg_reader.py:123: UserWarning: Warning: in file test_videos/lanes_clip.mp4, 2764800 bytes wanted but 0 bytes read,at frame 929/1298, at time 18.58/25.94 sec. Using the last valid frame instead.\n",
            "  warnings.warn(\"Warning: in file %s, \"%(self.filename)+\n",
            "\n",
            "WARNING:py.warnings:/usr/local/lib/python3.10/dist-packages/moviepy/video/io/ffmpeg_reader.py:123: UserWarning: Warning: in file test_videos/lanes_clip.mp4, 2764800 bytes wanted but 0 bytes read,at frame 930/1298, at time 18.60/25.94 sec. Using the last valid frame instead.\n",
            "  warnings.warn(\"Warning: in file %s, \"%(self.filename)+\n",
            "\n",
            "t:  72%|███████▏  | 932/1297 [00:57<00:18, 20.26it/s, now=None]WARNING:py.warnings:/usr/local/lib/python3.10/dist-packages/moviepy/video/io/ffmpeg_reader.py:123: UserWarning: Warning: in file test_videos/lanes_clip.mp4, 2764800 bytes wanted but 0 bytes read,at frame 931/1298, at time 18.62/25.94 sec. Using the last valid frame instead.\n",
            "  warnings.warn(\"Warning: in file %s, \"%(self.filename)+\n",
            "\n"
          ]
        },
        {
          "output_type": "stream",
          "name": "stdout",
          "text": [
            "(0.001, 0) [   1.01350267 -287.03663102]\n",
            "(0.001, 0) [   1.01350267 -287.03663102]\n",
            "(0.001, 0) [   1.01350267 -287.03663102]\n",
            "(0.001, 0) [   1.01350267 -287.03663102]\n"
          ]
        },
        {
          "output_type": "stream",
          "name": "stderr",
          "text": [
            "WARNING:py.warnings:/usr/local/lib/python3.10/dist-packages/moviepy/video/io/ffmpeg_reader.py:123: UserWarning: Warning: in file test_videos/lanes_clip.mp4, 2764800 bytes wanted but 0 bytes read,at frame 932/1298, at time 18.64/25.94 sec. Using the last valid frame instead.\n",
            "  warnings.warn(\"Warning: in file %s, \"%(self.filename)+\n",
            "\n",
            "WARNING:py.warnings:/usr/local/lib/python3.10/dist-packages/moviepy/video/io/ffmpeg_reader.py:123: UserWarning: Warning: in file test_videos/lanes_clip.mp4, 2764800 bytes wanted but 0 bytes read,at frame 933/1298, at time 18.66/25.94 sec. Using the last valid frame instead.\n",
            "  warnings.warn(\"Warning: in file %s, \"%(self.filename)+\n",
            "\n",
            "t:  72%|███████▏  | 935/1297 [00:58<00:19, 18.78it/s, now=None]WARNING:py.warnings:/usr/local/lib/python3.10/dist-packages/moviepy/video/io/ffmpeg_reader.py:123: UserWarning: Warning: in file test_videos/lanes_clip.mp4, 2764800 bytes wanted but 0 bytes read,at frame 934/1298, at time 18.68/25.94 sec. Using the last valid frame instead.\n",
            "  warnings.warn(\"Warning: in file %s, \"%(self.filename)+\n",
            "\n"
          ]
        },
        {
          "output_type": "stream",
          "name": "stdout",
          "text": [
            "(0.001, 0) [   1.01350267 -287.03663102]\n",
            "(0.001, 0) [   1.01350267 -287.03663102]\n",
            "(0.001, 0) [   1.01350267 -287.03663102]\n",
            "(0.001, 0) [   1.01350267 -287.03663102]\n"
          ]
        },
        {
          "output_type": "stream",
          "name": "stderr",
          "text": [
            "WARNING:py.warnings:/usr/local/lib/python3.10/dist-packages/moviepy/video/io/ffmpeg_reader.py:123: UserWarning: Warning: in file test_videos/lanes_clip.mp4, 2764800 bytes wanted but 0 bytes read,at frame 935/1298, at time 18.70/25.94 sec. Using the last valid frame instead.\n",
            "  warnings.warn(\"Warning: in file %s, \"%(self.filename)+\n",
            "\n",
            "WARNING:py.warnings:/usr/local/lib/python3.10/dist-packages/moviepy/video/io/ffmpeg_reader.py:123: UserWarning: Warning: in file test_videos/lanes_clip.mp4, 2764800 bytes wanted but 0 bytes read,at frame 936/1298, at time 18.72/25.94 sec. Using the last valid frame instead.\n",
            "  warnings.warn(\"Warning: in file %s, \"%(self.filename)+\n",
            "\n",
            "t:  72%|███████▏  | 938/1297 [00:58<00:19, 18.80it/s, now=None]WARNING:py.warnings:/usr/local/lib/python3.10/dist-packages/moviepy/video/io/ffmpeg_reader.py:123: UserWarning: Warning: in file test_videos/lanes_clip.mp4, 2764800 bytes wanted but 0 bytes read,at frame 937/1298, at time 18.74/25.94 sec. Using the last valid frame instead.\n",
            "  warnings.warn(\"Warning: in file %s, \"%(self.filename)+\n",
            "\n",
            "WARNING:py.warnings:/usr/local/lib/python3.10/dist-packages/moviepy/video/io/ffmpeg_reader.py:123: UserWarning: Warning: in file test_videos/lanes_clip.mp4, 2764800 bytes wanted but 0 bytes read,at frame 938/1298, at time 18.76/25.94 sec. Using the last valid frame instead.\n",
            "  warnings.warn(\"Warning: in file %s, \"%(self.filename)+\n",
            "\n",
            "WARNING:py.warnings:/usr/local/lib/python3.10/dist-packages/moviepy/video/io/ffmpeg_reader.py:123: UserWarning: Warning: in file test_videos/lanes_clip.mp4, 2764800 bytes wanted but 0 bytes read,at frame 939/1298, at time 18.78/25.94 sec. Using the last valid frame instead.\n",
            "  warnings.warn(\"Warning: in file %s, \"%(self.filename)+\n",
            "\n"
          ]
        },
        {
          "output_type": "stream",
          "name": "stdout",
          "text": [
            "(0.001, 0) [   1.01350267 -287.03663102]\n",
            "(0.001, 0) [   1.01350267 -287.03663102]\n",
            "(0.001, 0) [   1.01350267 -287.03663102]\n",
            "(0.001, 0) [   1.01350267 -287.03663102]\n",
            "(0.001, 0) [   1.01350267 -287.03663102]\n"
          ]
        },
        {
          "output_type": "stream",
          "name": "stderr",
          "text": [
            "\rt:  73%|███████▎  | 941/1297 [00:58<00:17, 20.20it/s, now=None]WARNING:py.warnings:/usr/local/lib/python3.10/dist-packages/moviepy/video/io/ffmpeg_reader.py:123: UserWarning: Warning: in file test_videos/lanes_clip.mp4, 2764800 bytes wanted but 0 bytes read,at frame 940/1298, at time 18.80/25.94 sec. Using the last valid frame instead.\n",
            "  warnings.warn(\"Warning: in file %s, \"%(self.filename)+\n",
            "\n",
            "WARNING:py.warnings:/usr/local/lib/python3.10/dist-packages/moviepy/video/io/ffmpeg_reader.py:123: UserWarning: Warning: in file test_videos/lanes_clip.mp4, 2764800 bytes wanted but 0 bytes read,at frame 941/1298, at time 18.82/25.94 sec. Using the last valid frame instead.\n",
            "  warnings.warn(\"Warning: in file %s, \"%(self.filename)+\n",
            "\n",
            "WARNING:py.warnings:/usr/local/lib/python3.10/dist-packages/moviepy/video/io/ffmpeg_reader.py:123: UserWarning: Warning: in file test_videos/lanes_clip.mp4, 2764800 bytes wanted but 0 bytes read,at frame 942/1298, at time 18.84/25.94 sec. Using the last valid frame instead.\n",
            "  warnings.warn(\"Warning: in file %s, \"%(self.filename)+\n",
            "\n",
            "t:  73%|███████▎  | 944/1297 [00:58<00:17, 19.80it/s, now=None]WARNING:py.warnings:/usr/local/lib/python3.10/dist-packages/moviepy/video/io/ffmpeg_reader.py:123: UserWarning: Warning: in file test_videos/lanes_clip.mp4, 2764800 bytes wanted but 0 bytes read,at frame 943/1298, at time 18.86/25.94 sec. Using the last valid frame instead.\n",
            "  warnings.warn(\"Warning: in file %s, \"%(self.filename)+\n",
            "\n",
            "WARNING:py.warnings:/usr/local/lib/python3.10/dist-packages/moviepy/video/io/ffmpeg_reader.py:123: UserWarning: Warning: in file test_videos/lanes_clip.mp4, 2764800 bytes wanted but 0 bytes read,at frame 944/1298, at time 18.88/25.94 sec. Using the last valid frame instead.\n",
            "  warnings.warn(\"Warning: in file %s, \"%(self.filename)+\n",
            "\n"
          ]
        },
        {
          "output_type": "stream",
          "name": "stdout",
          "text": [
            "(0.001, 0) [   1.01350267 -287.03663102]\n",
            "(0.001, 0) [   1.01350267 -287.03663102]\n",
            "(0.001, 0) [   1.01350267 -287.03663102]\n",
            "(0.001, 0) [   1.01350267 -287.03663102]\n"
          ]
        },
        {
          "output_type": "stream",
          "name": "stderr",
          "text": [
            "WARNING:py.warnings:/usr/local/lib/python3.10/dist-packages/moviepy/video/io/ffmpeg_reader.py:123: UserWarning: Warning: in file test_videos/lanes_clip.mp4, 2764800 bytes wanted but 0 bytes read,at frame 945/1298, at time 18.90/25.94 sec. Using the last valid frame instead.\n",
            "  warnings.warn(\"Warning: in file %s, \"%(self.filename)+\n",
            "\n",
            "t:  73%|███████▎  | 947/1297 [00:58<00:18, 18.72it/s, now=None]WARNING:py.warnings:/usr/local/lib/python3.10/dist-packages/moviepy/video/io/ffmpeg_reader.py:123: UserWarning: Warning: in file test_videos/lanes_clip.mp4, 2764800 bytes wanted but 0 bytes read,at frame 946/1298, at time 18.92/25.94 sec. Using the last valid frame instead.\n",
            "  warnings.warn(\"Warning: in file %s, \"%(self.filename)+\n",
            "\n",
            "WARNING:py.warnings:/usr/local/lib/python3.10/dist-packages/moviepy/video/io/ffmpeg_reader.py:123: UserWarning: Warning: in file test_videos/lanes_clip.mp4, 2764800 bytes wanted but 0 bytes read,at frame 947/1298, at time 18.94/25.94 sec. Using the last valid frame instead.\n",
            "  warnings.warn(\"Warning: in file %s, \"%(self.filename)+\n",
            "\n",
            "WARNING:py.warnings:/usr/local/lib/python3.10/dist-packages/moviepy/video/io/ffmpeg_reader.py:123: UserWarning: Warning: in file test_videos/lanes_clip.mp4, 2764800 bytes wanted but 0 bytes read,at frame 948/1298, at time 18.96/25.94 sec. Using the last valid frame instead.\n",
            "  warnings.warn(\"Warning: in file %s, \"%(self.filename)+\n",
            "\n"
          ]
        },
        {
          "output_type": "stream",
          "name": "stdout",
          "text": [
            "(0.001, 0) [   1.01350267 -287.03663102]\n",
            "(0.001, 0) [   1.01350267 -287.03663102]\n",
            "(0.001, 0) [   1.01350267 -287.03663102]\n",
            "(0.001, 0) [   1.01350267 -287.03663102]\n"
          ]
        },
        {
          "output_type": "stream",
          "name": "stderr",
          "text": [
            "\rt:  73%|███████▎  | 950/1297 [00:58<00:18, 18.69it/s, now=None]WARNING:py.warnings:/usr/local/lib/python3.10/dist-packages/moviepy/video/io/ffmpeg_reader.py:123: UserWarning: Warning: in file test_videos/lanes_clip.mp4, 2764800 bytes wanted but 0 bytes read,at frame 949/1298, at time 18.98/25.94 sec. Using the last valid frame instead.\n",
            "  warnings.warn(\"Warning: in file %s, \"%(self.filename)+\n",
            "\n",
            "WARNING:py.warnings:/usr/local/lib/python3.10/dist-packages/moviepy/video/io/ffmpeg_reader.py:123: UserWarning: Warning: in file test_videos/lanes_clip.mp4, 2764800 bytes wanted but 0 bytes read,at frame 950/1298, at time 19.00/25.94 sec. Using the last valid frame instead.\n",
            "  warnings.warn(\"Warning: in file %s, \"%(self.filename)+\n",
            "\n",
            "t:  73%|███████▎  | 952/1297 [00:58<00:18, 18.44it/s, now=None]WARNING:py.warnings:/usr/local/lib/python3.10/dist-packages/moviepy/video/io/ffmpeg_reader.py:123: UserWarning: Warning: in file test_videos/lanes_clip.mp4, 2764800 bytes wanted but 0 bytes read,at frame 951/1298, at time 19.02/25.94 sec. Using the last valid frame instead.\n",
            "  warnings.warn(\"Warning: in file %s, \"%(self.filename)+\n",
            "\n",
            "WARNING:py.warnings:/usr/local/lib/python3.10/dist-packages/moviepy/video/io/ffmpeg_reader.py:123: UserWarning: Warning: in file test_videos/lanes_clip.mp4, 2764800 bytes wanted but 0 bytes read,at frame 952/1298, at time 19.04/25.94 sec. Using the last valid frame instead.\n",
            "  warnings.warn(\"Warning: in file %s, \"%(self.filename)+\n",
            "\n"
          ]
        },
        {
          "output_type": "stream",
          "name": "stdout",
          "text": [
            "(0.001, 0) [   1.01350267 -287.03663102]\n",
            "(0.001, 0) [   1.01350267 -287.03663102]\n",
            "(0.001, 0) [   1.01350267 -287.03663102]\n",
            "(0.001, 0) [   1.01350267 -287.03663102]\n"
          ]
        },
        {
          "output_type": "stream",
          "name": "stderr",
          "text": [
            "WARNING:py.warnings:/usr/local/lib/python3.10/dist-packages/moviepy/video/io/ffmpeg_reader.py:123: UserWarning: Warning: in file test_videos/lanes_clip.mp4, 2764800 bytes wanted but 0 bytes read,at frame 953/1298, at time 19.06/25.94 sec. Using the last valid frame instead.\n",
            "  warnings.warn(\"Warning: in file %s, \"%(self.filename)+\n",
            "\n",
            "t:  74%|███████▎  | 955/1297 [00:59<00:18, 18.11it/s, now=None]WARNING:py.warnings:/usr/local/lib/python3.10/dist-packages/moviepy/video/io/ffmpeg_reader.py:123: UserWarning: Warning: in file test_videos/lanes_clip.mp4, 2764800 bytes wanted but 0 bytes read,at frame 954/1298, at time 19.08/25.94 sec. Using the last valid frame instead.\n",
            "  warnings.warn(\"Warning: in file %s, \"%(self.filename)+\n",
            "\n",
            "WARNING:py.warnings:/usr/local/lib/python3.10/dist-packages/moviepy/video/io/ffmpeg_reader.py:123: UserWarning: Warning: in file test_videos/lanes_clip.mp4, 2764800 bytes wanted but 0 bytes read,at frame 955/1298, at time 19.10/25.94 sec. Using the last valid frame instead.\n",
            "  warnings.warn(\"Warning: in file %s, \"%(self.filename)+\n",
            "\n",
            "WARNING:py.warnings:/usr/local/lib/python3.10/dist-packages/moviepy/video/io/ffmpeg_reader.py:123: UserWarning: Warning: in file test_videos/lanes_clip.mp4, 2764800 bytes wanted but 0 bytes read,at frame 956/1298, at time 19.12/25.94 sec. Using the last valid frame instead.\n",
            "  warnings.warn(\"Warning: in file %s, \"%(self.filename)+\n",
            "\n"
          ]
        },
        {
          "output_type": "stream",
          "name": "stdout",
          "text": [
            "(0.001, 0) [   1.01350267 -287.03663102]\n",
            "(0.001, 0) [   1.01350267 -287.03663102]\n",
            "(0.001, 0) [   1.01350267 -287.03663102]\n",
            "(0.001, 0) [   1.01350267 -287.03663102]\n"
          ]
        },
        {
          "output_type": "stream",
          "name": "stderr",
          "text": [
            "\rt:  74%|███████▍  | 958/1297 [00:59<00:18, 18.06it/s, now=None]WARNING:py.warnings:/usr/local/lib/python3.10/dist-packages/moviepy/video/io/ffmpeg_reader.py:123: UserWarning: Warning: in file test_videos/lanes_clip.mp4, 2764800 bytes wanted but 0 bytes read,at frame 957/1298, at time 19.14/25.94 sec. Using the last valid frame instead.\n",
            "  warnings.warn(\"Warning: in file %s, \"%(self.filename)+\n",
            "\n",
            "WARNING:py.warnings:/usr/local/lib/python3.10/dist-packages/moviepy/video/io/ffmpeg_reader.py:123: UserWarning: Warning: in file test_videos/lanes_clip.mp4, 2764800 bytes wanted but 0 bytes read,at frame 958/1298, at time 19.16/25.94 sec. Using the last valid frame instead.\n",
            "  warnings.warn(\"Warning: in file %s, \"%(self.filename)+\n",
            "\n",
            "WARNING:py.warnings:/usr/local/lib/python3.10/dist-packages/moviepy/video/io/ffmpeg_reader.py:123: UserWarning: Warning: in file test_videos/lanes_clip.mp4, 2764800 bytes wanted but 0 bytes read,at frame 959/1298, at time 19.18/25.94 sec. Using the last valid frame instead.\n",
            "  warnings.warn(\"Warning: in file %s, \"%(self.filename)+\n",
            "\n"
          ]
        },
        {
          "output_type": "stream",
          "name": "stdout",
          "text": [
            "(0.001, 0) [   1.01350267 -287.03663102]\n",
            "(0.001, 0) [   1.01350267 -287.03663102]\n",
            "(0.001, 0) [   1.01350267 -287.03663102]\n",
            "(0.001, 0) [   1.01350267 -287.03663102]\n"
          ]
        },
        {
          "output_type": "stream",
          "name": "stderr",
          "text": [
            "\rt:  74%|███████▍  | 961/1297 [00:59<00:17, 18.81it/s, now=None]WARNING:py.warnings:/usr/local/lib/python3.10/dist-packages/moviepy/video/io/ffmpeg_reader.py:123: UserWarning: Warning: in file test_videos/lanes_clip.mp4, 2764800 bytes wanted but 0 bytes read,at frame 960/1298, at time 19.20/25.94 sec. Using the last valid frame instead.\n",
            "  warnings.warn(\"Warning: in file %s, \"%(self.filename)+\n",
            "\n",
            "WARNING:py.warnings:/usr/local/lib/python3.10/dist-packages/moviepy/video/io/ffmpeg_reader.py:123: UserWarning: Warning: in file test_videos/lanes_clip.mp4, 2764800 bytes wanted but 0 bytes read,at frame 961/1298, at time 19.22/25.94 sec. Using the last valid frame instead.\n",
            "  warnings.warn(\"Warning: in file %s, \"%(self.filename)+\n",
            "\n",
            "t:  74%|███████▍  | 963/1297 [00:59<00:19, 17.50it/s, now=None]WARNING:py.warnings:/usr/local/lib/python3.10/dist-packages/moviepy/video/io/ffmpeg_reader.py:123: UserWarning: Warning: in file test_videos/lanes_clip.mp4, 2764800 bytes wanted but 0 bytes read,at frame 962/1298, at time 19.24/25.94 sec. Using the last valid frame instead.\n",
            "  warnings.warn(\"Warning: in file %s, \"%(self.filename)+\n",
            "\n",
            "WARNING:py.warnings:/usr/local/lib/python3.10/dist-packages/moviepy/video/io/ffmpeg_reader.py:123: UserWarning: Warning: in file test_videos/lanes_clip.mp4, 2764800 bytes wanted but 0 bytes read,at frame 963/1298, at time 19.26/25.94 sec. Using the last valid frame instead.\n",
            "  warnings.warn(\"Warning: in file %s, \"%(self.filename)+\n",
            "\n"
          ]
        },
        {
          "output_type": "stream",
          "name": "stdout",
          "text": [
            "(0.001, 0) [   1.01350267 -287.03663102]\n",
            "(0.001, 0) [   1.01350267 -287.03663102]\n",
            "(0.001, 0) [   1.01350267 -287.03663102]\n",
            "(0.001, 0) [   1.01350267 -287.03663102]\n"
          ]
        },
        {
          "output_type": "stream",
          "name": "stderr",
          "text": [
            "\rt:  74%|███████▍  | 965/1297 [00:59<00:19, 17.24it/s, now=None]WARNING:py.warnings:/usr/local/lib/python3.10/dist-packages/moviepy/video/io/ffmpeg_reader.py:123: UserWarning: Warning: in file test_videos/lanes_clip.mp4, 2764800 bytes wanted but 0 bytes read,at frame 964/1298, at time 19.28/25.94 sec. Using the last valid frame instead.\n",
            "  warnings.warn(\"Warning: in file %s, \"%(self.filename)+\n",
            "\n",
            "WARNING:py.warnings:/usr/local/lib/python3.10/dist-packages/moviepy/video/io/ffmpeg_reader.py:123: UserWarning: Warning: in file test_videos/lanes_clip.mp4, 2764800 bytes wanted but 0 bytes read,at frame 965/1298, at time 19.30/25.94 sec. Using the last valid frame instead.\n",
            "  warnings.warn(\"Warning: in file %s, \"%(self.filename)+\n",
            "\n",
            "t:  75%|███████▍  | 967/1297 [00:59<00:19, 17.04it/s, now=None]WARNING:py.warnings:/usr/local/lib/python3.10/dist-packages/moviepy/video/io/ffmpeg_reader.py:123: UserWarning: Warning: in file test_videos/lanes_clip.mp4, 2764800 bytes wanted but 0 bytes read,at frame 966/1298, at time 19.32/25.94 sec. Using the last valid frame instead.\n",
            "  warnings.warn(\"Warning: in file %s, \"%(self.filename)+\n",
            "\n",
            "WARNING:py.warnings:/usr/local/lib/python3.10/dist-packages/moviepy/video/io/ffmpeg_reader.py:123: UserWarning: Warning: in file test_videos/lanes_clip.mp4, 2764800 bytes wanted but 0 bytes read,at frame 967/1298, at time 19.34/25.94 sec. Using the last valid frame instead.\n",
            "  warnings.warn(\"Warning: in file %s, \"%(self.filename)+\n",
            "\n",
            "WARNING:py.warnings:/usr/local/lib/python3.10/dist-packages/moviepy/video/io/ffmpeg_reader.py:123: UserWarning: Warning: in file test_videos/lanes_clip.mp4, 2764800 bytes wanted but 0 bytes read,at frame 968/1298, at time 19.36/25.94 sec. Using the last valid frame instead.\n",
            "  warnings.warn(\"Warning: in file %s, \"%(self.filename)+\n",
            "\n"
          ]
        },
        {
          "output_type": "stream",
          "name": "stdout",
          "text": [
            "(0.001, 0) [   1.01350267 -287.03663102]\n",
            "(0.001, 0) [   1.01350267 -287.03663102]\n",
            "(0.001, 0) [   1.01350267 -287.03663102]\n",
            "(0.001, 0) [   1.01350267 -287.03663102]\n"
          ]
        },
        {
          "output_type": "stream",
          "name": "stderr",
          "text": [
            "\rt:  75%|███████▍  | 970/1297 [00:59<00:17, 18.62it/s, now=None]WARNING:py.warnings:/usr/local/lib/python3.10/dist-packages/moviepy/video/io/ffmpeg_reader.py:123: UserWarning: Warning: in file test_videos/lanes_clip.mp4, 2764800 bytes wanted but 0 bytes read,at frame 969/1298, at time 19.38/25.94 sec. Using the last valid frame instead.\n",
            "  warnings.warn(\"Warning: in file %s, \"%(self.filename)+\n",
            "\n",
            "WARNING:py.warnings:/usr/local/lib/python3.10/dist-packages/moviepy/video/io/ffmpeg_reader.py:123: UserWarning: Warning: in file test_videos/lanes_clip.mp4, 2764800 bytes wanted but 0 bytes read,at frame 970/1298, at time 19.40/25.94 sec. Using the last valid frame instead.\n",
            "  warnings.warn(\"Warning: in file %s, \"%(self.filename)+\n",
            "\n",
            "t:  75%|███████▍  | 972/1297 [01:00<00:17, 18.41it/s, now=None]WARNING:py.warnings:/usr/local/lib/python3.10/dist-packages/moviepy/video/io/ffmpeg_reader.py:123: UserWarning: Warning: in file test_videos/lanes_clip.mp4, 2764800 bytes wanted but 0 bytes read,at frame 971/1298, at time 19.42/25.94 sec. Using the last valid frame instead.\n",
            "  warnings.warn(\"Warning: in file %s, \"%(self.filename)+\n",
            "\n",
            "WARNING:py.warnings:/usr/local/lib/python3.10/dist-packages/moviepy/video/io/ffmpeg_reader.py:123: UserWarning: Warning: in file test_videos/lanes_clip.mp4, 2764800 bytes wanted but 0 bytes read,at frame 972/1298, at time 19.44/25.94 sec. Using the last valid frame instead.\n",
            "  warnings.warn(\"Warning: in file %s, \"%(self.filename)+\n",
            "\n"
          ]
        },
        {
          "output_type": "stream",
          "name": "stdout",
          "text": [
            "(0.001, 0) [   1.01350267 -287.03663102]\n",
            "(0.001, 0) [   1.01350267 -287.03663102]\n",
            "(0.001, 0) [   1.01350267 -287.03663102]\n",
            "(0.001, 0) [   1.01350267 -287.03663102]\n",
            "(0.001, 0) [   1.01350267 -287.03663102]\n"
          ]
        },
        {
          "output_type": "stream",
          "name": "stderr",
          "text": [
            "WARNING:py.warnings:/usr/local/lib/python3.10/dist-packages/moviepy/video/io/ffmpeg_reader.py:123: UserWarning: Warning: in file test_videos/lanes_clip.mp4, 2764800 bytes wanted but 0 bytes read,at frame 973/1298, at time 19.46/25.94 sec. Using the last valid frame instead.\n",
            "  warnings.warn(\"Warning: in file %s, \"%(self.filename)+\n",
            "\n",
            "t:  75%|███████▌  | 975/1297 [01:00<00:18, 17.77it/s, now=None]WARNING:py.warnings:/usr/local/lib/python3.10/dist-packages/moviepy/video/io/ffmpeg_reader.py:123: UserWarning: Warning: in file test_videos/lanes_clip.mp4, 2764800 bytes wanted but 0 bytes read,at frame 974/1298, at time 19.48/25.94 sec. Using the last valid frame instead.\n",
            "  warnings.warn(\"Warning: in file %s, \"%(self.filename)+\n",
            "\n",
            "WARNING:py.warnings:/usr/local/lib/python3.10/dist-packages/moviepy/video/io/ffmpeg_reader.py:123: UserWarning: Warning: in file test_videos/lanes_clip.mp4, 2764800 bytes wanted but 0 bytes read,at frame 975/1298, at time 19.50/25.94 sec. Using the last valid frame instead.\n",
            "  warnings.warn(\"Warning: in file %s, \"%(self.filename)+\n",
            "\n",
            "WARNING:py.warnings:/usr/local/lib/python3.10/dist-packages/moviepy/video/io/ffmpeg_reader.py:123: UserWarning: Warning: in file test_videos/lanes_clip.mp4, 2764800 bytes wanted but 0 bytes read,at frame 976/1298, at time 19.52/25.94 sec. Using the last valid frame instead.\n",
            "  warnings.warn(\"Warning: in file %s, \"%(self.filename)+\n",
            "\n"
          ]
        },
        {
          "output_type": "stream",
          "name": "stdout",
          "text": [
            "(0.001, 0) [   1.01350267 -287.03663102]\n",
            "(0.001, 0) [   1.01350267 -287.03663102]\n",
            "(0.001, 0) [   1.01350267 -287.03663102]\n",
            "(0.001, 0) [   1.01350267 -287.03663102]\n"
          ]
        },
        {
          "output_type": "stream",
          "name": "stderr",
          "text": [
            "\rt:  75%|███████▌  | 978/1297 [01:00<00:17, 18.08it/s, now=None]WARNING:py.warnings:/usr/local/lib/python3.10/dist-packages/moviepy/video/io/ffmpeg_reader.py:123: UserWarning: Warning: in file test_videos/lanes_clip.mp4, 2764800 bytes wanted but 0 bytes read,at frame 977/1298, at time 19.54/25.94 sec. Using the last valid frame instead.\n",
            "  warnings.warn(\"Warning: in file %s, \"%(self.filename)+\n",
            "\n",
            "WARNING:py.warnings:/usr/local/lib/python3.10/dist-packages/moviepy/video/io/ffmpeg_reader.py:123: UserWarning: Warning: in file test_videos/lanes_clip.mp4, 2764800 bytes wanted but 0 bytes read,at frame 978/1298, at time 19.56/25.94 sec. Using the last valid frame instead.\n",
            "  warnings.warn(\"Warning: in file %s, \"%(self.filename)+\n",
            "\n",
            "t:  76%|███████▌  | 980/1297 [01:00<00:18, 17.53it/s, now=None]WARNING:py.warnings:/usr/local/lib/python3.10/dist-packages/moviepy/video/io/ffmpeg_reader.py:123: UserWarning: Warning: in file test_videos/lanes_clip.mp4, 2764800 bytes wanted but 0 bytes read,at frame 979/1298, at time 19.58/25.94 sec. Using the last valid frame instead.\n",
            "  warnings.warn(\"Warning: in file %s, \"%(self.filename)+\n",
            "\n",
            "WARNING:py.warnings:/usr/local/lib/python3.10/dist-packages/moviepy/video/io/ffmpeg_reader.py:123: UserWarning: Warning: in file test_videos/lanes_clip.mp4, 2764800 bytes wanted but 0 bytes read,at frame 980/1298, at time 19.60/25.94 sec. Using the last valid frame instead.\n",
            "  warnings.warn(\"Warning: in file %s, \"%(self.filename)+\n",
            "\n",
            "WARNING:py.warnings:/usr/local/lib/python3.10/dist-packages/moviepy/video/io/ffmpeg_reader.py:123: UserWarning: Warning: in file test_videos/lanes_clip.mp4, 2764800 bytes wanted but 0 bytes read,at frame 981/1298, at time 19.62/25.94 sec. Using the last valid frame instead.\n",
            "  warnings.warn(\"Warning: in file %s, \"%(self.filename)+\n",
            "\n"
          ]
        },
        {
          "output_type": "stream",
          "name": "stdout",
          "text": [
            "(0.001, 0) [   1.01350267 -287.03663102]\n",
            "(0.001, 0) [   1.01350267 -287.03663102]\n",
            "(0.001, 0) [   1.01350267 -287.03663102]\n",
            "(0.001, 0) [   1.01350267 -287.03663102]\n"
          ]
        },
        {
          "output_type": "stream",
          "name": "stderr",
          "text": [
            "\rt:  76%|███████▌  | 983/1297 [01:00<00:17, 18.21it/s, now=None]WARNING:py.warnings:/usr/local/lib/python3.10/dist-packages/moviepy/video/io/ffmpeg_reader.py:123: UserWarning: Warning: in file test_videos/lanes_clip.mp4, 2764800 bytes wanted but 0 bytes read,at frame 982/1298, at time 19.64/25.94 sec. Using the last valid frame instead.\n",
            "  warnings.warn(\"Warning: in file %s, \"%(self.filename)+\n",
            "\n",
            "WARNING:py.warnings:/usr/local/lib/python3.10/dist-packages/moviepy/video/io/ffmpeg_reader.py:123: UserWarning: Warning: in file test_videos/lanes_clip.mp4, 2764800 bytes wanted but 0 bytes read,at frame 983/1298, at time 19.66/25.94 sec. Using the last valid frame instead.\n",
            "  warnings.warn(\"Warning: in file %s, \"%(self.filename)+\n",
            "\n",
            "WARNING:py.warnings:/usr/local/lib/python3.10/dist-packages/moviepy/video/io/ffmpeg_reader.py:123: UserWarning: Warning: in file test_videos/lanes_clip.mp4, 2764800 bytes wanted but 0 bytes read,at frame 984/1298, at time 19.68/25.94 sec. Using the last valid frame instead.\n",
            "  warnings.warn(\"Warning: in file %s, \"%(self.filename)+\n",
            "\n",
            "t:  76%|███████▌  | 986/1297 [01:00<00:16, 18.89it/s, now=None]WARNING:py.warnings:/usr/local/lib/python3.10/dist-packages/moviepy/video/io/ffmpeg_reader.py:123: UserWarning: Warning: in file test_videos/lanes_clip.mp4, 2764800 bytes wanted but 0 bytes read,at frame 985/1298, at time 19.70/25.94 sec. Using the last valid frame instead.\n",
            "  warnings.warn(\"Warning: in file %s, \"%(self.filename)+\n",
            "\n"
          ]
        },
        {
          "output_type": "stream",
          "name": "stdout",
          "text": [
            "(0.001, 0) [   1.01350267 -287.03663102]\n",
            "(0.001, 0) [   1.01350267 -287.03663102]\n",
            "(0.001, 0) [   1.01350267 -287.03663102]\n",
            "(0.001, 0) [   1.01350267 -287.03663102]\n",
            "(0.001, 0)"
          ]
        },
        {
          "output_type": "stream",
          "name": "stderr",
          "text": [
            "WARNING:py.warnings:/usr/local/lib/python3.10/dist-packages/moviepy/video/io/ffmpeg_reader.py:123: UserWarning: Warning: in file test_videos/lanes_clip.mp4, 2764800 bytes wanted but 0 bytes read,at frame 986/1298, at time 19.72/25.94 sec. Using the last valid frame instead.\n",
            "  warnings.warn(\"Warning: in file %s, \"%(self.filename)+\n",
            "\n",
            "t:  76%|███████▌  | 988/1297 [01:00<00:16, 18.79it/s, now=None]WARNING:py.warnings:/usr/local/lib/python3.10/dist-packages/moviepy/video/io/ffmpeg_reader.py:123: UserWarning: Warning: in file test_videos/lanes_clip.mp4, 2764800 bytes wanted but 0 bytes read,at frame 987/1298, at time 19.74/25.94 sec. Using the last valid frame instead.\n",
            "  warnings.warn(\"Warning: in file %s, \"%(self.filename)+\n",
            "\n",
            "WARNING:py.warnings:/usr/local/lib/python3.10/dist-packages/moviepy/video/io/ffmpeg_reader.py:123: UserWarning: Warning: in file test_videos/lanes_clip.mp4, 2764800 bytes wanted but 0 bytes read,at frame 988/1298, at time 19.76/25.94 sec. Using the last valid frame instead.\n",
            "  warnings.warn(\"Warning: in file %s, \"%(self.filename)+\n",
            "\n",
            "t:  76%|███████▋  | 990/1297 [01:01<00:16, 18.71it/s, now=None]WARNING:py.warnings:/usr/local/lib/python3.10/dist-packages/moviepy/video/io/ffmpeg_reader.py:123: UserWarning: Warning: in file test_videos/lanes_clip.mp4, 2764800 bytes wanted but 0 bytes read,at frame 989/1298, at time 19.78/25.94 sec. Using the last valid frame instead.\n",
            "  warnings.warn(\"Warning: in file %s, \"%(self.filename)+\n",
            "\n"
          ]
        },
        {
          "output_type": "stream",
          "name": "stdout",
          "text": [
            " [   1.01350267 -287.03663102]\n",
            "(0.001, 0) [   1.01350267 -287.03663102]\n",
            "(0.001, 0) [   1.01350267 -287.03663102]\n",
            "(0.001, 0) [   1.01350267 -287.03663102]\n",
            "(0.001, 0)"
          ]
        },
        {
          "output_type": "stream",
          "name": "stderr",
          "text": [
            "WARNING:py.warnings:/usr/local/lib/python3.10/dist-packages/moviepy/video/io/ffmpeg_reader.py:123: UserWarning: Warning: in file test_videos/lanes_clip.mp4, 2764800 bytes wanted but 0 bytes read,at frame 990/1298, at time 19.80/25.94 sec. Using the last valid frame instead.\n",
            "  warnings.warn(\"Warning: in file %s, \"%(self.filename)+\n",
            "\n",
            "t:  76%|███████▋  | 992/1297 [01:01<00:16, 18.33it/s, now=None]WARNING:py.warnings:/usr/local/lib/python3.10/dist-packages/moviepy/video/io/ffmpeg_reader.py:123: UserWarning: Warning: in file test_videos/lanes_clip.mp4, 2764800 bytes wanted but 0 bytes read,at frame 991/1298, at time 19.82/25.94 sec. Using the last valid frame instead.\n",
            "  warnings.warn(\"Warning: in file %s, \"%(self.filename)+\n",
            "\n",
            "WARNING:py.warnings:/usr/local/lib/python3.10/dist-packages/moviepy/video/io/ffmpeg_reader.py:123: UserWarning: Warning: in file test_videos/lanes_clip.mp4, 2764800 bytes wanted but 0 bytes read,at frame 992/1298, at time 19.84/25.94 sec. Using the last valid frame instead.\n",
            "  warnings.warn(\"Warning: in file %s, \"%(self.filename)+\n",
            "\n",
            "t:  77%|███████▋  | 994/1297 [01:01<00:16, 18.19it/s, now=None]WARNING:py.warnings:/usr/local/lib/python3.10/dist-packages/moviepy/video/io/ffmpeg_reader.py:123: UserWarning: Warning: in file test_videos/lanes_clip.mp4, 2764800 bytes wanted but 0 bytes read,at frame 993/1298, at time 19.86/25.94 sec. Using the last valid frame instead.\n",
            "  warnings.warn(\"Warning: in file %s, \"%(self.filename)+\n",
            "\n"
          ]
        },
        {
          "output_type": "stream",
          "name": "stdout",
          "text": [
            " [   1.01350267 -287.03663102]\n",
            "(0.001, 0) [   1.01350267 -287.03663102]\n",
            "(0.001, 0) [   1.01350267 -287.03663102]\n",
            "(0.001, 0) [   1.01350267 -287.03663102]\n"
          ]
        },
        {
          "output_type": "stream",
          "name": "stderr",
          "text": [
            "WARNING:py.warnings:/usr/local/lib/python3.10/dist-packages/moviepy/video/io/ffmpeg_reader.py:123: UserWarning: Warning: in file test_videos/lanes_clip.mp4, 2764800 bytes wanted but 0 bytes read,at frame 994/1298, at time 19.88/25.94 sec. Using the last valid frame instead.\n",
            "  warnings.warn(\"Warning: in file %s, \"%(self.filename)+\n",
            "\n",
            "t:  77%|███████▋  | 996/1297 [01:01<00:16, 18.47it/s, now=None]WARNING:py.warnings:/usr/local/lib/python3.10/dist-packages/moviepy/video/io/ffmpeg_reader.py:123: UserWarning: Warning: in file test_videos/lanes_clip.mp4, 2764800 bytes wanted but 0 bytes read,at frame 995/1298, at time 19.90/25.94 sec. Using the last valid frame instead.\n",
            "  warnings.warn(\"Warning: in file %s, \"%(self.filename)+\n",
            "\n",
            "WARNING:py.warnings:/usr/local/lib/python3.10/dist-packages/moviepy/video/io/ffmpeg_reader.py:123: UserWarning: Warning: in file test_videos/lanes_clip.mp4, 2764800 bytes wanted but 0 bytes read,at frame 996/1298, at time 19.92/25.94 sec. Using the last valid frame instead.\n",
            "  warnings.warn(\"Warning: in file %s, \"%(self.filename)+\n",
            "\n",
            "t:  77%|███████▋  | 998/1297 [01:01<00:16, 17.91it/s, now=None]WARNING:py.warnings:/usr/local/lib/python3.10/dist-packages/moviepy/video/io/ffmpeg_reader.py:123: UserWarning: Warning: in file test_videos/lanes_clip.mp4, 2764800 bytes wanted but 0 bytes read,at frame 997/1298, at time 19.94/25.94 sec. Using the last valid frame instead.\n",
            "  warnings.warn(\"Warning: in file %s, \"%(self.filename)+\n",
            "\n"
          ]
        },
        {
          "output_type": "stream",
          "name": "stdout",
          "text": [
            "(0.001, 0) [   1.01350267 -287.03663102]\n",
            "(0.001, 0) [   1.01350267 -287.03663102]\n",
            "(0.001, 0) [   1.01350267 -287.03663102]\n",
            "(0.001, 0) [   1.01350267 -287.03663102]\n"
          ]
        },
        {
          "output_type": "stream",
          "name": "stderr",
          "text": [
            "WARNING:py.warnings:/usr/local/lib/python3.10/dist-packages/moviepy/video/io/ffmpeg_reader.py:123: UserWarning: Warning: in file test_videos/lanes_clip.mp4, 2764800 bytes wanted but 0 bytes read,at frame 998/1298, at time 19.96/25.94 sec. Using the last valid frame instead.\n",
            "  warnings.warn(\"Warning: in file %s, \"%(self.filename)+\n",
            "\n",
            "WARNING:py.warnings:/usr/local/lib/python3.10/dist-packages/moviepy/video/io/ffmpeg_reader.py:123: UserWarning: Warning: in file test_videos/lanes_clip.mp4, 2764800 bytes wanted but 0 bytes read,at frame 999/1298, at time 19.98/25.94 sec. Using the last valid frame instead.\n",
            "  warnings.warn(\"Warning: in file %s, \"%(self.filename)+\n",
            "\n",
            "t:  77%|███████▋  | 1001/1297 [01:01<00:15, 19.07it/s, now=None]WARNING:py.warnings:/usr/local/lib/python3.10/dist-packages/moviepy/video/io/ffmpeg_reader.py:123: UserWarning: Warning: in file test_videos/lanes_clip.mp4, 2764800 bytes wanted but 0 bytes read,at frame 1000/1298, at time 20.00/25.94 sec. Using the last valid frame instead.\n",
            "  warnings.warn(\"Warning: in file %s, \"%(self.filename)+\n",
            "\n",
            "WARNING:py.warnings:/usr/local/lib/python3.10/dist-packages/moviepy/video/io/ffmpeg_reader.py:123: UserWarning: Warning: in file test_videos/lanes_clip.mp4, 2764800 bytes wanted but 0 bytes read,at frame 1001/1298, at time 20.02/25.94 sec. Using the last valid frame instead.\n",
            "  warnings.warn(\"Warning: in file %s, \"%(self.filename)+\n",
            "\n"
          ]
        },
        {
          "output_type": "stream",
          "name": "stdout",
          "text": [
            "(0.001, 0) [   1.01350267 -287.03663102]\n",
            "(0.001, 0) [   1.01350267 -287.03663102]\n",
            "(0.001, 0) [   1.01350267 -287.03663102]\n",
            "(0.001, 0) [   1.01350267 -287.03663102]\n",
            "(0.001, 0) [   1.01350267 -287.03663102]\n"
          ]
        },
        {
          "output_type": "stream",
          "name": "stderr",
          "text": [
            "\rt:  77%|███████▋  | 1003/1297 [01:01<00:15, 18.43it/s, now=None]WARNING:py.warnings:/usr/local/lib/python3.10/dist-packages/moviepy/video/io/ffmpeg_reader.py:123: UserWarning: Warning: in file test_videos/lanes_clip.mp4, 2764800 bytes wanted but 0 bytes read,at frame 1002/1298, at time 20.04/25.94 sec. Using the last valid frame instead.\n",
            "  warnings.warn(\"Warning: in file %s, \"%(self.filename)+\n",
            "\n",
            "WARNING:py.warnings:/usr/local/lib/python3.10/dist-packages/moviepy/video/io/ffmpeg_reader.py:123: UserWarning: Warning: in file test_videos/lanes_clip.mp4, 2764800 bytes wanted but 0 bytes read,at frame 1003/1298, at time 20.06/25.94 sec. Using the last valid frame instead.\n",
            "  warnings.warn(\"Warning: in file %s, \"%(self.filename)+\n",
            "\n",
            "WARNING:py.warnings:/usr/local/lib/python3.10/dist-packages/moviepy/video/io/ffmpeg_reader.py:123: UserWarning: Warning: in file test_videos/lanes_clip.mp4, 2764800 bytes wanted but 0 bytes read,at frame 1004/1298, at time 20.08/25.94 sec. Using the last valid frame instead.\n",
            "  warnings.warn(\"Warning: in file %s, \"%(self.filename)+\n",
            "\n",
            "t:  78%|███████▊  | 1006/1297 [01:01<00:15, 18.36it/s, now=None]WARNING:py.warnings:/usr/local/lib/python3.10/dist-packages/moviepy/video/io/ffmpeg_reader.py:123: UserWarning: Warning: in file test_videos/lanes_clip.mp4, 2764800 bytes wanted but 0 bytes read,at frame 1005/1298, at time 20.10/25.94 sec. Using the last valid frame instead.\n",
            "  warnings.warn(\"Warning: in file %s, \"%(self.filename)+\n",
            "\n",
            "WARNING:py.warnings:/usr/local/lib/python3.10/dist-packages/moviepy/video/io/ffmpeg_reader.py:123: UserWarning: Warning: in file test_videos/lanes_clip.mp4, 2764800 bytes wanted but 0 bytes read,at frame 1006/1298, at time 20.12/25.94 sec. Using the last valid frame instead.\n",
            "  warnings.warn(\"Warning: in file %s, \"%(self.filename)+\n",
            "\n"
          ]
        },
        {
          "output_type": "stream",
          "name": "stdout",
          "text": [
            "(0.001, 0) [   1.01350267 -287.03663102]\n",
            "(0.001, 0) [   1.01350267 -287.03663102]\n",
            "(0.001, 0) [   1.01350267 -287.03663102]\n",
            "(0.001, 0) [   1.01350267 -287.03663102]\n"
          ]
        },
        {
          "output_type": "stream",
          "name": "stderr",
          "text": [
            "WARNING:py.warnings:/usr/local/lib/python3.10/dist-packages/moviepy/video/io/ffmpeg_reader.py:123: UserWarning: Warning: in file test_videos/lanes_clip.mp4, 2764800 bytes wanted but 0 bytes read,at frame 1007/1298, at time 20.14/25.94 sec. Using the last valid frame instead.\n",
            "  warnings.warn(\"Warning: in file %s, \"%(self.filename)+\n",
            "\n",
            "t:  78%|███████▊  | 1009/1297 [01:02<00:14, 19.67it/s, now=None]WARNING:py.warnings:/usr/local/lib/python3.10/dist-packages/moviepy/video/io/ffmpeg_reader.py:123: UserWarning: Warning: in file test_videos/lanes_clip.mp4, 2764800 bytes wanted but 0 bytes read,at frame 1008/1298, at time 20.16/25.94 sec. Using the last valid frame instead.\n",
            "  warnings.warn(\"Warning: in file %s, \"%(self.filename)+\n",
            "\n",
            "WARNING:py.warnings:/usr/local/lib/python3.10/dist-packages/moviepy/video/io/ffmpeg_reader.py:123: UserWarning: Warning: in file test_videos/lanes_clip.mp4, 2764800 bytes wanted but 0 bytes read,at frame 1009/1298, at time 20.18/25.94 sec. Using the last valid frame instead.\n",
            "  warnings.warn(\"Warning: in file %s, \"%(self.filename)+\n",
            "\n",
            "t:  78%|███████▊  | 1011/1297 [01:02<00:15, 18.31it/s, now=None]WARNING:py.warnings:/usr/local/lib/python3.10/dist-packages/moviepy/video/io/ffmpeg_reader.py:123: UserWarning: Warning: in file test_videos/lanes_clip.mp4, 2764800 bytes wanted but 0 bytes read,at frame 1010/1298, at time 20.20/25.94 sec. Using the last valid frame instead.\n",
            "  warnings.warn(\"Warning: in file %s, \"%(self.filename)+\n",
            "\n"
          ]
        },
        {
          "output_type": "stream",
          "name": "stdout",
          "text": [
            "(0.001, 0) [   1.01350267 -287.03663102]\n",
            "(0.001, 0) [   1.01350267 -287.03663102]\n",
            "(0.001, 0) [   1.01350267 -287.03663102]\n",
            "(0.001, 0) [   1.01350267 -287.03663102]\n"
          ]
        },
        {
          "output_type": "stream",
          "name": "stderr",
          "text": [
            "WARNING:py.warnings:/usr/local/lib/python3.10/dist-packages/moviepy/video/io/ffmpeg_reader.py:123: UserWarning: Warning: in file test_videos/lanes_clip.mp4, 2764800 bytes wanted but 0 bytes read,at frame 1011/1298, at time 20.22/25.94 sec. Using the last valid frame instead.\n",
            "  warnings.warn(\"Warning: in file %s, \"%(self.filename)+\n",
            "\n",
            "t:  78%|███████▊  | 1013/1297 [01:02<00:15, 18.55it/s, now=None]WARNING:py.warnings:/usr/local/lib/python3.10/dist-packages/moviepy/video/io/ffmpeg_reader.py:123: UserWarning: Warning: in file test_videos/lanes_clip.mp4, 2764800 bytes wanted but 0 bytes read,at frame 1012/1298, at time 20.24/25.94 sec. Using the last valid frame instead.\n",
            "  warnings.warn(\"Warning: in file %s, \"%(self.filename)+\n",
            "\n",
            "WARNING:py.warnings:/usr/local/lib/python3.10/dist-packages/moviepy/video/io/ffmpeg_reader.py:123: UserWarning: Warning: in file test_videos/lanes_clip.mp4, 2764800 bytes wanted but 0 bytes read,at frame 1013/1298, at time 20.26/25.94 sec. Using the last valid frame instead.\n",
            "  warnings.warn(\"Warning: in file %s, \"%(self.filename)+\n",
            "\n",
            "WARNING:py.warnings:/usr/local/lib/python3.10/dist-packages/moviepy/video/io/ffmpeg_reader.py:123: UserWarning: Warning: in file test_videos/lanes_clip.mp4, 2764800 bytes wanted but 0 bytes read,at frame 1014/1298, at time 20.28/25.94 sec. Using the last valid frame instead.\n",
            "  warnings.warn(\"Warning: in file %s, \"%(self.filename)+\n",
            "\n"
          ]
        },
        {
          "output_type": "stream",
          "name": "stdout",
          "text": [
            "(0.001, 0) [   1.01350267 -287.03663102]\n",
            "(0.001, 0) [   1.01350267 -287.03663102]\n",
            "(0.001, 0) [   1.01350267 -287.03663102]\n",
            "(0.001, 0) [   1.01350267 -287.03663102]\n",
            "(0.001, 0) [   1.01350267 -287.03663102]\n"
          ]
        },
        {
          "output_type": "stream",
          "name": "stderr",
          "text": [
            "\rt:  78%|███████▊  | 1016/1297 [01:02<00:14, 19.20it/s, now=None]WARNING:py.warnings:/usr/local/lib/python3.10/dist-packages/moviepy/video/io/ffmpeg_reader.py:123: UserWarning: Warning: in file test_videos/lanes_clip.mp4, 2764800 bytes wanted but 0 bytes read,at frame 1015/1298, at time 20.30/25.94 sec. Using the last valid frame instead.\n",
            "  warnings.warn(\"Warning: in file %s, \"%(self.filename)+\n",
            "\n",
            "WARNING:py.warnings:/usr/local/lib/python3.10/dist-packages/moviepy/video/io/ffmpeg_reader.py:123: UserWarning: Warning: in file test_videos/lanes_clip.mp4, 2764800 bytes wanted but 0 bytes read,at frame 1016/1298, at time 20.32/25.94 sec. Using the last valid frame instead.\n",
            "  warnings.warn(\"Warning: in file %s, \"%(self.filename)+\n",
            "\n",
            "t:  78%|███████▊  | 1018/1297 [01:02<00:14, 18.89it/s, now=None]WARNING:py.warnings:/usr/local/lib/python3.10/dist-packages/moviepy/video/io/ffmpeg_reader.py:123: UserWarning: Warning: in file test_videos/lanes_clip.mp4, 2764800 bytes wanted but 0 bytes read,at frame 1017/1298, at time 20.34/25.94 sec. Using the last valid frame instead.\n",
            "  warnings.warn(\"Warning: in file %s, \"%(self.filename)+\n",
            "\n",
            "WARNING:py.warnings:/usr/local/lib/python3.10/dist-packages/moviepy/video/io/ffmpeg_reader.py:123: UserWarning: Warning: in file test_videos/lanes_clip.mp4, 2764800 bytes wanted but 0 bytes read,at frame 1018/1298, at time 20.36/25.94 sec. Using the last valid frame instead.\n",
            "  warnings.warn(\"Warning: in file %s, \"%(self.filename)+\n",
            "\n",
            "WARNING:py.warnings:/usr/local/lib/python3.10/dist-packages/moviepy/video/io/ffmpeg_reader.py:123: UserWarning: Warning: in file test_videos/lanes_clip.mp4, 2764800 bytes wanted but 0 bytes read,at frame 1019/1298, at time 20.38/25.94 sec. Using the last valid frame instead.\n",
            "  warnings.warn(\"Warning: in file %s, \"%(self.filename)+\n",
            "\n"
          ]
        },
        {
          "output_type": "stream",
          "name": "stdout",
          "text": [
            "(0.001, 0) [   1.01350267 -287.03663102]\n",
            "(0.001, 0) [   1.01350267 -287.03663102]\n",
            "(0.001, 0) [   1.01350267 -287.03663102]\n",
            "(0.001, 0) [   1.01350267 -287.03663102]\n",
            "(0.001, 0) [   1.01350267 -287.03663102]\n"
          ]
        },
        {
          "output_type": "stream",
          "name": "stderr",
          "text": [
            "\rt:  79%|███████▊  | 1021/1297 [01:02<00:13, 20.28it/s, now=None]WARNING:py.warnings:/usr/local/lib/python3.10/dist-packages/moviepy/video/io/ffmpeg_reader.py:123: UserWarning: Warning: in file test_videos/lanes_clip.mp4, 2764800 bytes wanted but 0 bytes read,at frame 1020/1298, at time 20.40/25.94 sec. Using the last valid frame instead.\n",
            "  warnings.warn(\"Warning: in file %s, \"%(self.filename)+\n",
            "\n",
            "WARNING:py.warnings:/usr/local/lib/python3.10/dist-packages/moviepy/video/io/ffmpeg_reader.py:123: UserWarning: Warning: in file test_videos/lanes_clip.mp4, 2764800 bytes wanted but 0 bytes read,at frame 1021/1298, at time 20.42/25.94 sec. Using the last valid frame instead.\n",
            "  warnings.warn(\"Warning: in file %s, \"%(self.filename)+\n",
            "\n",
            "WARNING:py.warnings:/usr/local/lib/python3.10/dist-packages/moviepy/video/io/ffmpeg_reader.py:123: UserWarning: Warning: in file test_videos/lanes_clip.mp4, 2764800 bytes wanted but 0 bytes read,at frame 1022/1298, at time 20.44/25.94 sec. Using the last valid frame instead.\n",
            "  warnings.warn(\"Warning: in file %s, \"%(self.filename)+\n",
            "\n",
            "t:  79%|███████▉  | 1024/1297 [01:02<00:14, 18.59it/s, now=None]WARNING:py.warnings:/usr/local/lib/python3.10/dist-packages/moviepy/video/io/ffmpeg_reader.py:123: UserWarning: Warning: in file test_videos/lanes_clip.mp4, 2764800 bytes wanted but 0 bytes read,at frame 1023/1298, at time 20.46/25.94 sec. Using the last valid frame instead.\n",
            "  warnings.warn(\"Warning: in file %s, \"%(self.filename)+\n",
            "\n"
          ]
        },
        {
          "output_type": "stream",
          "name": "stdout",
          "text": [
            "(0.001, 0) [   1.01350267 -287.03663102]\n",
            "(0.001, 0) [   1.01350267 -287.03663102]\n",
            "(0.001, 0) [   1.01350267 -287.03663102]\n",
            "(0.001, 0) [   1.01350267 -287.03663102]\n"
          ]
        },
        {
          "output_type": "stream",
          "name": "stderr",
          "text": [
            "WARNING:py.warnings:/usr/local/lib/python3.10/dist-packages/moviepy/video/io/ffmpeg_reader.py:123: UserWarning: Warning: in file test_videos/lanes_clip.mp4, 2764800 bytes wanted but 0 bytes read,at frame 1024/1298, at time 20.48/25.94 sec. Using the last valid frame instead.\n",
            "  warnings.warn(\"Warning: in file %s, \"%(self.filename)+\n",
            "\n",
            "WARNING:py.warnings:/usr/local/lib/python3.10/dist-packages/moviepy/video/io/ffmpeg_reader.py:123: UserWarning: Warning: in file test_videos/lanes_clip.mp4, 2764800 bytes wanted but 0 bytes read,at frame 1025/1298, at time 20.50/25.94 sec. Using the last valid frame instead.\n",
            "  warnings.warn(\"Warning: in file %s, \"%(self.filename)+\n",
            "\n",
            "t:  79%|███████▉  | 1027/1297 [01:02<00:13, 19.36it/s, now=None]WARNING:py.warnings:/usr/local/lib/python3.10/dist-packages/moviepy/video/io/ffmpeg_reader.py:123: UserWarning: Warning: in file test_videos/lanes_clip.mp4, 2764800 bytes wanted but 0 bytes read,at frame 1026/1298, at time 20.52/25.94 sec. Using the last valid frame instead.\n",
            "  warnings.warn(\"Warning: in file %s, \"%(self.filename)+\n",
            "\n",
            "WARNING:py.warnings:/usr/local/lib/python3.10/dist-packages/moviepy/video/io/ffmpeg_reader.py:123: UserWarning: Warning: in file test_videos/lanes_clip.mp4, 2764800 bytes wanted but 0 bytes read,at frame 1027/1298, at time 20.54/25.94 sec. Using the last valid frame instead.\n",
            "  warnings.warn(\"Warning: in file %s, \"%(self.filename)+\n",
            "\n",
            "WARNING:py.warnings:/usr/local/lib/python3.10/dist-packages/moviepy/video/io/ffmpeg_reader.py:123: UserWarning: Warning: in file test_videos/lanes_clip.mp4, 2764800 bytes wanted but 0 bytes read,at frame 1028/1298, at time 20.56/25.94 sec. Using the last valid frame instead.\n",
            "  warnings.warn(\"Warning: in file %s, \"%(self.filename)+\n",
            "\n"
          ]
        },
        {
          "output_type": "stream",
          "name": "stdout",
          "text": [
            "(0.001, 0) [   1.01350267 -287.03663102]\n",
            "(0.001, 0) [   1.01350267 -287.03663102]\n",
            "(0.001, 0) [   1.01350267 -287.03663102]\n",
            "(0.001, 0) [   1.01350267 -287.03663102]\n",
            "(0.001, 0) [   1.01350267 -287.03663102]\n"
          ]
        },
        {
          "output_type": "stream",
          "name": "stderr",
          "text": [
            "\rt:  79%|███████▉  | 1030/1297 [01:03<00:14, 18.73it/s, now=None]WARNING:py.warnings:/usr/local/lib/python3.10/dist-packages/moviepy/video/io/ffmpeg_reader.py:123: UserWarning: Warning: in file test_videos/lanes_clip.mp4, 2764800 bytes wanted but 0 bytes read,at frame 1029/1298, at time 20.58/25.94 sec. Using the last valid frame instead.\n",
            "  warnings.warn(\"Warning: in file %s, \"%(self.filename)+\n",
            "\n",
            "WARNING:py.warnings:/usr/local/lib/python3.10/dist-packages/moviepy/video/io/ffmpeg_reader.py:123: UserWarning: Warning: in file test_videos/lanes_clip.mp4, 2764800 bytes wanted but 0 bytes read,at frame 1030/1298, at time 20.60/25.94 sec. Using the last valid frame instead.\n",
            "  warnings.warn(\"Warning: in file %s, \"%(self.filename)+\n",
            "\n",
            "WARNING:py.warnings:/usr/local/lib/python3.10/dist-packages/moviepy/video/io/ffmpeg_reader.py:123: UserWarning: Warning: in file test_videos/lanes_clip.mp4, 2764800 bytes wanted but 0 bytes read,at frame 1031/1298, at time 20.62/25.94 sec. Using the last valid frame instead.\n",
            "  warnings.warn(\"Warning: in file %s, \"%(self.filename)+\n",
            "\n",
            "t:  80%|███████▉  | 1033/1297 [01:03<00:13, 19.63it/s, now=None]WARNING:py.warnings:/usr/local/lib/python3.10/dist-packages/moviepy/video/io/ffmpeg_reader.py:123: UserWarning: Warning: in file test_videos/lanes_clip.mp4, 2764800 bytes wanted but 0 bytes read,at frame 1032/1298, at time 20.64/25.94 sec. Using the last valid frame instead.\n",
            "  warnings.warn(\"Warning: in file %s, \"%(self.filename)+\n",
            "\n",
            "WARNING:py.warnings:/usr/local/lib/python3.10/dist-packages/moviepy/video/io/ffmpeg_reader.py:123: UserWarning: Warning: in file test_videos/lanes_clip.mp4, 2764800 bytes wanted but 0 bytes read,at frame 1033/1298, at time 20.66/25.94 sec. Using the last valid frame instead.\n",
            "  warnings.warn(\"Warning: in file %s, \"%(self.filename)+\n",
            "\n"
          ]
        },
        {
          "output_type": "stream",
          "name": "stdout",
          "text": [
            "(0.001, 0) [   1.01350267 -287.03663102]\n",
            "(0.001, 0) [   1.01350267 -287.03663102]\n",
            "(0.001, 0) [   1.01350267 -287.03663102]\n",
            "(0.001, 0) [   1.01350267 -287.03663102]\n"
          ]
        },
        {
          "output_type": "stream",
          "name": "stderr",
          "text": [
            "\rt:  80%|███████▉  | 1035/1297 [01:03<00:14, 18.27it/s, now=None]WARNING:py.warnings:/usr/local/lib/python3.10/dist-packages/moviepy/video/io/ffmpeg_reader.py:123: UserWarning: Warning: in file test_videos/lanes_clip.mp4, 2764800 bytes wanted but 0 bytes read,at frame 1034/1298, at time 20.68/25.94 sec. Using the last valid frame instead.\n",
            "  warnings.warn(\"Warning: in file %s, \"%(self.filename)+\n",
            "\n",
            "WARNING:py.warnings:/usr/local/lib/python3.10/dist-packages/moviepy/video/io/ffmpeg_reader.py:123: UserWarning: Warning: in file test_videos/lanes_clip.mp4, 2764800 bytes wanted but 0 bytes read,at frame 1035/1298, at time 20.70/25.94 sec. Using the last valid frame instead.\n",
            "  warnings.warn(\"Warning: in file %s, \"%(self.filename)+\n",
            "\n",
            "WARNING:py.warnings:/usr/local/lib/python3.10/dist-packages/moviepy/video/io/ffmpeg_reader.py:123: UserWarning: Warning: in file test_videos/lanes_clip.mp4, 2764800 bytes wanted but 0 bytes read,at frame 1036/1298, at time 20.72/25.94 sec. Using the last valid frame instead.\n",
            "  warnings.warn(\"Warning: in file %s, \"%(self.filename)+\n",
            "\n",
            "t:  80%|████████  | 1038/1297 [01:03<00:13, 18.56it/s, now=None]WARNING:py.warnings:/usr/local/lib/python3.10/dist-packages/moviepy/video/io/ffmpeg_reader.py:123: UserWarning: Warning: in file test_videos/lanes_clip.mp4, 2764800 bytes wanted but 0 bytes read,at frame 1037/1298, at time 20.74/25.94 sec. Using the last valid frame instead.\n",
            "  warnings.warn(\"Warning: in file %s, \"%(self.filename)+\n",
            "\n"
          ]
        },
        {
          "output_type": "stream",
          "name": "stdout",
          "text": [
            "(0.001, 0) [   1.01350267 -287.03663102]\n",
            "(0.001, 0) [   1.01350267 -287.03663102]\n",
            "(0.001, 0) [   1.01350267 -287.03663102]\n",
            "(0.001, 0) [   1.01350267 -287.03663102]\n"
          ]
        },
        {
          "output_type": "stream",
          "name": "stderr",
          "text": [
            "WARNING:py.warnings:/usr/local/lib/python3.10/dist-packages/moviepy/video/io/ffmpeg_reader.py:123: UserWarning: Warning: in file test_videos/lanes_clip.mp4, 2764800 bytes wanted but 0 bytes read,at frame 1038/1298, at time 20.76/25.94 sec. Using the last valid frame instead.\n",
            "  warnings.warn(\"Warning: in file %s, \"%(self.filename)+\n",
            "\n",
            "t:  80%|████████  | 1040/1297 [01:03<00:13, 18.82it/s, now=None]WARNING:py.warnings:/usr/local/lib/python3.10/dist-packages/moviepy/video/io/ffmpeg_reader.py:123: UserWarning: Warning: in file test_videos/lanes_clip.mp4, 2764800 bytes wanted but 0 bytes read,at frame 1039/1298, at time 20.78/25.94 sec. Using the last valid frame instead.\n",
            "  warnings.warn(\"Warning: in file %s, \"%(self.filename)+\n",
            "\n",
            "WARNING:py.warnings:/usr/local/lib/python3.10/dist-packages/moviepy/video/io/ffmpeg_reader.py:123: UserWarning: Warning: in file test_videos/lanes_clip.mp4, 2764800 bytes wanted but 0 bytes read,at frame 1040/1298, at time 20.80/25.94 sec. Using the last valid frame instead.\n",
            "  warnings.warn(\"Warning: in file %s, \"%(self.filename)+\n",
            "\n",
            "WARNING:py.warnings:/usr/local/lib/python3.10/dist-packages/moviepy/video/io/ffmpeg_reader.py:123: UserWarning: Warning: in file test_videos/lanes_clip.mp4, 2764800 bytes wanted but 0 bytes read,at frame 1041/1298, at time 20.82/25.94 sec. Using the last valid frame instead.\n",
            "  warnings.warn(\"Warning: in file %s, \"%(self.filename)+\n",
            "\n"
          ]
        },
        {
          "output_type": "stream",
          "name": "stdout",
          "text": [
            "(0.001, 0) [   1.01350267 -287.03663102]\n",
            "(0.001, 0) [   1.01350267 -287.03663102]\n",
            "(0.001, 0) [   1.01350267 -287.03663102]\n",
            "(0.001, 0) [   1.01350267 -287.03663102]\n",
            "(0.001, 0) [   1.01350267 -287.03663102]\n"
          ]
        },
        {
          "output_type": "stream",
          "name": "stderr",
          "text": [
            "\rt:  80%|████████  | 1043/1297 [01:03<00:13, 19.12it/s, now=None]WARNING:py.warnings:/usr/local/lib/python3.10/dist-packages/moviepy/video/io/ffmpeg_reader.py:123: UserWarning: Warning: in file test_videos/lanes_clip.mp4, 2764800 bytes wanted but 0 bytes read,at frame 1042/1298, at time 20.84/25.94 sec. Using the last valid frame instead.\n",
            "  warnings.warn(\"Warning: in file %s, \"%(self.filename)+\n",
            "\n",
            "WARNING:py.warnings:/usr/local/lib/python3.10/dist-packages/moviepy/video/io/ffmpeg_reader.py:123: UserWarning: Warning: in file test_videos/lanes_clip.mp4, 2764800 bytes wanted but 0 bytes read,at frame 1043/1298, at time 20.86/25.94 sec. Using the last valid frame instead.\n",
            "  warnings.warn(\"Warning: in file %s, \"%(self.filename)+\n",
            "\n",
            "t:  81%|████████  | 1045/1297 [01:03<00:14, 16.84it/s, now=None]WARNING:py.warnings:/usr/local/lib/python3.10/dist-packages/moviepy/video/io/ffmpeg_reader.py:123: UserWarning: Warning: in file test_videos/lanes_clip.mp4, 2764800 bytes wanted but 0 bytes read,at frame 1044/1298, at time 20.88/25.94 sec. Using the last valid frame instead.\n",
            "  warnings.warn(\"Warning: in file %s, \"%(self.filename)+\n",
            "\n",
            "WARNING:py.warnings:/usr/local/lib/python3.10/dist-packages/moviepy/video/io/ffmpeg_reader.py:123: UserWarning: Warning: in file test_videos/lanes_clip.mp4, 2764800 bytes wanted but 0 bytes read,at frame 1045/1298, at time 20.90/25.94 sec. Using the last valid frame instead.\n",
            "  warnings.warn(\"Warning: in file %s, \"%(self.filename)+\n",
            "\n"
          ]
        },
        {
          "output_type": "stream",
          "name": "stdout",
          "text": [
            "(0.001, 0) [   1.01350267 -287.03663102]\n",
            "(0.001, 0) [   1.01350267 -287.03663102]\n",
            "(0.001, 0) [   1.01350267 -287.03663102]\n",
            "(0.001, 0) [   1.01350267 -287.03663102]\n"
          ]
        },
        {
          "output_type": "stream",
          "name": "stderr",
          "text": [
            "WARNING:py.warnings:/usr/local/lib/python3.10/dist-packages/moviepy/video/io/ffmpeg_reader.py:123: UserWarning: Warning: in file test_videos/lanes_clip.mp4, 2764800 bytes wanted but 0 bytes read,at frame 1046/1298, at time 20.92/25.94 sec. Using the last valid frame instead.\n",
            "  warnings.warn(\"Warning: in file %s, \"%(self.filename)+\n",
            "\n",
            "t:  81%|████████  | 1048/1297 [01:04<00:13, 19.02it/s, now=None]WARNING:py.warnings:/usr/local/lib/python3.10/dist-packages/moviepy/video/io/ffmpeg_reader.py:123: UserWarning: Warning: in file test_videos/lanes_clip.mp4, 2764800 bytes wanted but 0 bytes read,at frame 1047/1298, at time 20.94/25.94 sec. Using the last valid frame instead.\n",
            "  warnings.warn(\"Warning: in file %s, \"%(self.filename)+\n",
            "\n",
            "WARNING:py.warnings:/usr/local/lib/python3.10/dist-packages/moviepy/video/io/ffmpeg_reader.py:123: UserWarning: Warning: in file test_videos/lanes_clip.mp4, 2764800 bytes wanted but 0 bytes read,at frame 1048/1298, at time 20.96/25.94 sec. Using the last valid frame instead.\n",
            "  warnings.warn(\"Warning: in file %s, \"%(self.filename)+\n",
            "\n"
          ]
        },
        {
          "output_type": "stream",
          "name": "stdout",
          "text": [
            "(0.001, 0) [   1.01350267 -287.03663102]\n",
            "(0.001, 0) [   1.01350267 -287.03663102]\n",
            "(0.001, 0) [   1.01350267 -287.03663102]\n"
          ]
        },
        {
          "output_type": "stream",
          "name": "stderr",
          "text": [
            "\rt:  81%|████████  | 1050/1297 [01:04<00:16, 15.31it/s, now=None]WARNING:py.warnings:/usr/local/lib/python3.10/dist-packages/moviepy/video/io/ffmpeg_reader.py:123: UserWarning: Warning: in file test_videos/lanes_clip.mp4, 2764800 bytes wanted but 0 bytes read,at frame 1049/1298, at time 20.98/25.94 sec. Using the last valid frame instead.\n",
            "  warnings.warn(\"Warning: in file %s, \"%(self.filename)+\n",
            "\n",
            "WARNING:py.warnings:/usr/local/lib/python3.10/dist-packages/moviepy/video/io/ffmpeg_reader.py:123: UserWarning: Warning: in file test_videos/lanes_clip.mp4, 2764800 bytes wanted but 0 bytes read,at frame 1050/1298, at time 21.00/25.94 sec. Using the last valid frame instead.\n",
            "  warnings.warn(\"Warning: in file %s, \"%(self.filename)+\n",
            "\n",
            "WARNING:py.warnings:/usr/local/lib/python3.10/dist-packages/moviepy/video/io/ffmpeg_reader.py:123: UserWarning: Warning: in file test_videos/lanes_clip.mp4, 2764800 bytes wanted but 0 bytes read,at frame 1051/1298, at time 21.02/25.94 sec. Using the last valid frame instead.\n",
            "  warnings.warn(\"Warning: in file %s, \"%(self.filename)+\n",
            "\n",
            "t:  81%|████████  | 1053/1297 [01:04<00:14, 17.08it/s, now=None]WARNING:py.warnings:/usr/local/lib/python3.10/dist-packages/moviepy/video/io/ffmpeg_reader.py:123: UserWarning: Warning: in file test_videos/lanes_clip.mp4, 2764800 bytes wanted but 0 bytes read,at frame 1052/1298, at time 21.04/25.94 sec. Using the last valid frame instead.\n",
            "  warnings.warn(\"Warning: in file %s, \"%(self.filename)+\n",
            "\n",
            "WARNING:py.warnings:/usr/local/lib/python3.10/dist-packages/moviepy/video/io/ffmpeg_reader.py:123: UserWarning: Warning: in file test_videos/lanes_clip.mp4, 2764800 bytes wanted but 0 bytes read,at frame 1053/1298, at time 21.06/25.94 sec. Using the last valid frame instead.\n",
            "  warnings.warn(\"Warning: in file %s, \"%(self.filename)+\n",
            "\n",
            "WARNING:py.warnings:/usr/local/lib/python3.10/dist-packages/moviepy/video/io/ffmpeg_reader.py:123: UserWarning: Warning: in file test_videos/lanes_clip.mp4, 2764800 bytes wanted but 0 bytes read,at frame 1054/1298, at time 21.08/25.94 sec. Using the last valid frame instead.\n",
            "  warnings.warn(\"Warning: in file %s, \"%(self.filename)+\n",
            "\n"
          ]
        },
        {
          "output_type": "stream",
          "name": "stdout",
          "text": [
            "(0.001, 0) [   1.01350267 -287.03663102]\n",
            "(0.001, 0) [   1.01350267 -287.03663102]\n",
            "(0.001, 0) [   1.01350267 -287.03663102]\n",
            "(0.001, 0) [   1.01350267 -287.03663102]\n",
            "(0.001, 0) [   1.01350267 -287.03663102]\n"
          ]
        },
        {
          "output_type": "stream",
          "name": "stderr",
          "text": [
            "\rt:  81%|████████▏ | 1056/1297 [01:04<00:13, 17.82it/s, now=None]WARNING:py.warnings:/usr/local/lib/python3.10/dist-packages/moviepy/video/io/ffmpeg_reader.py:123: UserWarning: Warning: in file test_videos/lanes_clip.mp4, 2764800 bytes wanted but 0 bytes read,at frame 1055/1298, at time 21.10/25.94 sec. Using the last valid frame instead.\n",
            "  warnings.warn(\"Warning: in file %s, \"%(self.filename)+\n",
            "\n",
            "WARNING:py.warnings:/usr/local/lib/python3.10/dist-packages/moviepy/video/io/ffmpeg_reader.py:123: UserWarning: Warning: in file test_videos/lanes_clip.mp4, 2764800 bytes wanted but 0 bytes read,at frame 1056/1298, at time 21.12/25.94 sec. Using the last valid frame instead.\n",
            "  warnings.warn(\"Warning: in file %s, \"%(self.filename)+\n",
            "\n",
            "t:  82%|████████▏ | 1058/1297 [01:04<00:13, 18.25it/s, now=None]WARNING:py.warnings:/usr/local/lib/python3.10/dist-packages/moviepy/video/io/ffmpeg_reader.py:123: UserWarning: Warning: in file test_videos/lanes_clip.mp4, 2764800 bytes wanted but 0 bytes read,at frame 1057/1298, at time 21.14/25.94 sec. Using the last valid frame instead.\n",
            "  warnings.warn(\"Warning: in file %s, \"%(self.filename)+\n",
            "\n",
            "WARNING:py.warnings:/usr/local/lib/python3.10/dist-packages/moviepy/video/io/ffmpeg_reader.py:123: UserWarning: Warning: in file test_videos/lanes_clip.mp4, 2764800 bytes wanted but 0 bytes read,at frame 1058/1298, at time 21.16/25.94 sec. Using the last valid frame instead.\n",
            "  warnings.warn(\"Warning: in file %s, \"%(self.filename)+\n",
            "\n"
          ]
        },
        {
          "output_type": "stream",
          "name": "stdout",
          "text": [
            "(0.001, 0) [   1.01350267 -287.03663102]\n",
            "(0.001, 0) [   1.01350267 -287.03663102]\n",
            "(0.001, 0) [   1.01350267 -287.03663102]\n",
            "(0.001, 0) [   1.01350267 -287.03663102]\n"
          ]
        },
        {
          "output_type": "stream",
          "name": "stderr",
          "text": [
            "\rt:  82%|████████▏ | 1060/1297 [01:04<00:13, 17.83it/s, now=None]WARNING:py.warnings:/usr/local/lib/python3.10/dist-packages/moviepy/video/io/ffmpeg_reader.py:123: UserWarning: Warning: in file test_videos/lanes_clip.mp4, 2764800 bytes wanted but 0 bytes read,at frame 1059/1298, at time 21.18/25.94 sec. Using the last valid frame instead.\n",
            "  warnings.warn(\"Warning: in file %s, \"%(self.filename)+\n",
            "\n",
            "WARNING:py.warnings:/usr/local/lib/python3.10/dist-packages/moviepy/video/io/ffmpeg_reader.py:123: UserWarning: Warning: in file test_videos/lanes_clip.mp4, 2764800 bytes wanted but 0 bytes read,at frame 1060/1298, at time 21.20/25.94 sec. Using the last valid frame instead.\n",
            "  warnings.warn(\"Warning: in file %s, \"%(self.filename)+\n",
            "\n",
            "t:  82%|████████▏ | 1062/1297 [01:04<00:13, 17.59it/s, now=None]WARNING:py.warnings:/usr/local/lib/python3.10/dist-packages/moviepy/video/io/ffmpeg_reader.py:123: UserWarning: Warning: in file test_videos/lanes_clip.mp4, 2764800 bytes wanted but 0 bytes read,at frame 1061/1298, at time 21.22/25.94 sec. Using the last valid frame instead.\n",
            "  warnings.warn(\"Warning: in file %s, \"%(self.filename)+\n",
            "\n"
          ]
        },
        {
          "output_type": "stream",
          "name": "stdout",
          "text": [
            "(0.001, 0) [   1.01350267 -287.03663102]\n",
            "(0.001, 0) [   1.01350267 -287.03663102]\n",
            "(0.001, 0) [   1.01350267 -287.03663102]\n",
            "(0.001, 0) [   1.01350267 -287.03663102]\n"
          ]
        },
        {
          "output_type": "stream",
          "name": "stderr",
          "text": [
            "WARNING:py.warnings:/usr/local/lib/python3.10/dist-packages/moviepy/video/io/ffmpeg_reader.py:123: UserWarning: Warning: in file test_videos/lanes_clip.mp4, 2764800 bytes wanted but 0 bytes read,at frame 1062/1298, at time 21.24/25.94 sec. Using the last valid frame instead.\n",
            "  warnings.warn(\"Warning: in file %s, \"%(self.filename)+\n",
            "\n",
            "WARNING:py.warnings:/usr/local/lib/python3.10/dist-packages/moviepy/video/io/ffmpeg_reader.py:123: UserWarning: Warning: in file test_videos/lanes_clip.mp4, 2764800 bytes wanted but 0 bytes read,at frame 1063/1298, at time 21.26/25.94 sec. Using the last valid frame instead.\n",
            "  warnings.warn(\"Warning: in file %s, \"%(self.filename)+\n",
            "\n",
            "t:  82%|████████▏ | 1065/1297 [01:05<00:12, 17.89it/s, now=None]WARNING:py.warnings:/usr/local/lib/python3.10/dist-packages/moviepy/video/io/ffmpeg_reader.py:123: UserWarning: Warning: in file test_videos/lanes_clip.mp4, 2764800 bytes wanted but 0 bytes read,at frame 1064/1298, at time 21.28/25.94 sec. Using the last valid frame instead.\n",
            "  warnings.warn(\"Warning: in file %s, \"%(self.filename)+\n",
            "\n",
            "WARNING:py.warnings:/usr/local/lib/python3.10/dist-packages/moviepy/video/io/ffmpeg_reader.py:123: UserWarning: Warning: in file test_videos/lanes_clip.mp4, 2764800 bytes wanted but 0 bytes read,at frame 1065/1298, at time 21.30/25.94 sec. Using the last valid frame instead.\n",
            "  warnings.warn(\"Warning: in file %s, \"%(self.filename)+\n",
            "\n",
            "WARNING:py.warnings:/usr/local/lib/python3.10/dist-packages/moviepy/video/io/ffmpeg_reader.py:123: UserWarning: Warning: in file test_videos/lanes_clip.mp4, 2764800 bytes wanted but 0 bytes read,at frame 1066/1298, at time 21.32/25.94 sec. Using the last valid frame instead.\n",
            "  warnings.warn(\"Warning: in file %s, \"%(self.filename)+\n",
            "\n"
          ]
        },
        {
          "output_type": "stream",
          "name": "stdout",
          "text": [
            "(0.001, 0) [   1.01350267 -287.03663102]\n",
            "(0.001, 0) [   1.01350267 -287.03663102]\n",
            "(0.001, 0) [   1.01350267 -287.03663102]\n",
            "(0.001, 0) [   1.01350267 -287.03663102]\n"
          ]
        },
        {
          "output_type": "stream",
          "name": "stderr",
          "text": [
            "\rt:  82%|████████▏ | 1068/1297 [01:05<00:12, 17.69it/s, now=None]WARNING:py.warnings:/usr/local/lib/python3.10/dist-packages/moviepy/video/io/ffmpeg_reader.py:123: UserWarning: Warning: in file test_videos/lanes_clip.mp4, 2764800 bytes wanted but 0 bytes read,at frame 1067/1298, at time 21.34/25.94 sec. Using the last valid frame instead.\n",
            "  warnings.warn(\"Warning: in file %s, \"%(self.filename)+\n",
            "\n",
            "WARNING:py.warnings:/usr/local/lib/python3.10/dist-packages/moviepy/video/io/ffmpeg_reader.py:123: UserWarning: Warning: in file test_videos/lanes_clip.mp4, 2764800 bytes wanted but 0 bytes read,at frame 1068/1298, at time 21.36/25.94 sec. Using the last valid frame instead.\n",
            "  warnings.warn(\"Warning: in file %s, \"%(self.filename)+\n",
            "\n",
            "WARNING:py.warnings:/usr/local/lib/python3.10/dist-packages/moviepy/video/io/ffmpeg_reader.py:123: UserWarning: Warning: in file test_videos/lanes_clip.mp4, 2764800 bytes wanted but 0 bytes read,at frame 1069/1298, at time 21.38/25.94 sec. Using the last valid frame instead.\n",
            "  warnings.warn(\"Warning: in file %s, \"%(self.filename)+\n",
            "\n",
            "t:  83%|████████▎ | 1071/1297 [01:05<00:12, 18.62it/s, now=None]WARNING:py.warnings:/usr/local/lib/python3.10/dist-packages/moviepy/video/io/ffmpeg_reader.py:123: UserWarning: Warning: in file test_videos/lanes_clip.mp4, 2764800 bytes wanted but 0 bytes read,at frame 1070/1298, at time 21.40/25.94 sec. Using the last valid frame instead.\n",
            "  warnings.warn(\"Warning: in file %s, \"%(self.filename)+\n",
            "\n"
          ]
        },
        {
          "output_type": "stream",
          "name": "stdout",
          "text": [
            "(0.001, 0) [   1.01350267 -287.03663102]\n",
            "(0.001, 0) [   1.01350267 -287.03663102]\n",
            "(0.001, 0) [   1.01350267 -287.03663102]\n",
            "(0.001, 0) [   1.01350267 -287.03663102]\n"
          ]
        },
        {
          "output_type": "stream",
          "name": "stderr",
          "text": [
            "WARNING:py.warnings:/usr/local/lib/python3.10/dist-packages/moviepy/video/io/ffmpeg_reader.py:123: UserWarning: Warning: in file test_videos/lanes_clip.mp4, 2764800 bytes wanted but 0 bytes read,at frame 1071/1298, at time 21.42/25.94 sec. Using the last valid frame instead.\n",
            "  warnings.warn(\"Warning: in file %s, \"%(self.filename)+\n",
            "\n",
            "t:  83%|████████▎ | 1073/1297 [01:05<00:12, 17.84it/s, now=None]WARNING:py.warnings:/usr/local/lib/python3.10/dist-packages/moviepy/video/io/ffmpeg_reader.py:123: UserWarning: Warning: in file test_videos/lanes_clip.mp4, 2764800 bytes wanted but 0 bytes read,at frame 1072/1298, at time 21.44/25.94 sec. Using the last valid frame instead.\n",
            "  warnings.warn(\"Warning: in file %s, \"%(self.filename)+\n",
            "\n",
            "WARNING:py.warnings:/usr/local/lib/python3.10/dist-packages/moviepy/video/io/ffmpeg_reader.py:123: UserWarning: Warning: in file test_videos/lanes_clip.mp4, 2764800 bytes wanted but 0 bytes read,at frame 1073/1298, at time 21.46/25.94 sec. Using the last valid frame instead.\n",
            "  warnings.warn(\"Warning: in file %s, \"%(self.filename)+\n",
            "\n"
          ]
        },
        {
          "output_type": "stream",
          "name": "stdout",
          "text": [
            "(0.001, 0) [   1.01350267 -287.03663102]\n",
            "(0.001, 0) [   1.01350267 -287.03663102]\n",
            "(0.001, 0) [   1.01350267 -287.03663102]\n",
            "(0.001, 0) [   1.01350267 -287.03663102]\n"
          ]
        },
        {
          "output_type": "stream",
          "name": "stderr",
          "text": [
            "\rt:  83%|████████▎ | 1075/1297 [01:05<00:12, 18.06it/s, now=None]WARNING:py.warnings:/usr/local/lib/python3.10/dist-packages/moviepy/video/io/ffmpeg_reader.py:123: UserWarning: Warning: in file test_videos/lanes_clip.mp4, 2764800 bytes wanted but 0 bytes read,at frame 1074/1298, at time 21.48/25.94 sec. Using the last valid frame instead.\n",
            "  warnings.warn(\"Warning: in file %s, \"%(self.filename)+\n",
            "\n",
            "WARNING:py.warnings:/usr/local/lib/python3.10/dist-packages/moviepy/video/io/ffmpeg_reader.py:123: UserWarning: Warning: in file test_videos/lanes_clip.mp4, 2764800 bytes wanted but 0 bytes read,at frame 1075/1298, at time 21.50/25.94 sec. Using the last valid frame instead.\n",
            "  warnings.warn(\"Warning: in file %s, \"%(self.filename)+\n",
            "\n",
            "t:  83%|████████▎ | 1077/1297 [01:05<00:12, 17.64it/s, now=None]WARNING:py.warnings:/usr/local/lib/python3.10/dist-packages/moviepy/video/io/ffmpeg_reader.py:123: UserWarning: Warning: in file test_videos/lanes_clip.mp4, 2764800 bytes wanted but 0 bytes read,at frame 1076/1298, at time 21.52/25.94 sec. Using the last valid frame instead.\n",
            "  warnings.warn(\"Warning: in file %s, \"%(self.filename)+\n",
            "\n",
            "WARNING:py.warnings:/usr/local/lib/python3.10/dist-packages/moviepy/video/io/ffmpeg_reader.py:123: UserWarning: Warning: in file test_videos/lanes_clip.mp4, 2764800 bytes wanted but 0 bytes read,at frame 1077/1298, at time 21.54/25.94 sec. Using the last valid frame instead.\n",
            "  warnings.warn(\"Warning: in file %s, \"%(self.filename)+\n",
            "\n",
            "WARNING:py.warnings:/usr/local/lib/python3.10/dist-packages/moviepy/video/io/ffmpeg_reader.py:123: UserWarning: Warning: in file test_videos/lanes_clip.mp4, 2764800 bytes wanted but 0 bytes read,at frame 1078/1298, at time 21.56/25.94 sec. Using the last valid frame instead.\n",
            "  warnings.warn(\"Warning: in file %s, \"%(self.filename)+\n",
            "\n"
          ]
        },
        {
          "output_type": "stream",
          "name": "stdout",
          "text": [
            "(0.001, 0) [   1.01350267 -287.03663102]\n",
            "(0.001, 0) [   1.01350267 -287.03663102]\n",
            "(0.001, 0) [   1.01350267 -287.03663102]\n",
            "(0.001, 0) [   1.01350267 -287.03663102]\n"
          ]
        },
        {
          "output_type": "stream",
          "name": "stderr",
          "text": [
            "\rt:  83%|████████▎ | 1080/1297 [01:05<00:12, 16.90it/s, now=None]WARNING:py.warnings:/usr/local/lib/python3.10/dist-packages/moviepy/video/io/ffmpeg_reader.py:123: UserWarning: Warning: in file test_videos/lanes_clip.mp4, 2764800 bytes wanted but 0 bytes read,at frame 1079/1298, at time 21.58/25.94 sec. Using the last valid frame instead.\n",
            "  warnings.warn(\"Warning: in file %s, \"%(self.filename)+\n",
            "\n",
            "WARNING:py.warnings:/usr/local/lib/python3.10/dist-packages/moviepy/video/io/ffmpeg_reader.py:123: UserWarning: Warning: in file test_videos/lanes_clip.mp4, 2764800 bytes wanted but 0 bytes read,at frame 1080/1298, at time 21.60/25.94 sec. Using the last valid frame instead.\n",
            "  warnings.warn(\"Warning: in file %s, \"%(self.filename)+\n",
            "\n",
            "t:  83%|████████▎ | 1082/1297 [01:06<00:12, 17.32it/s, now=None]WARNING:py.warnings:/usr/local/lib/python3.10/dist-packages/moviepy/video/io/ffmpeg_reader.py:123: UserWarning: Warning: in file test_videos/lanes_clip.mp4, 2764800 bytes wanted but 0 bytes read,at frame 1081/1298, at time 21.62/25.94 sec. Using the last valid frame instead.\n",
            "  warnings.warn(\"Warning: in file %s, \"%(self.filename)+\n",
            "\n"
          ]
        },
        {
          "output_type": "stream",
          "name": "stdout",
          "text": [
            "(0.001, 0) [   1.01350267 -287.03663102]\n",
            "(0.001, 0) [   1.01350267 -287.03663102]\n",
            "(0.001, 0) [   1.01350267 -287.03663102]\n"
          ]
        },
        {
          "output_type": "stream",
          "name": "stderr",
          "text": [
            "WARNING:py.warnings:/usr/local/lib/python3.10/dist-packages/moviepy/video/io/ffmpeg_reader.py:123: UserWarning: Warning: in file test_videos/lanes_clip.mp4, 2764800 bytes wanted but 0 bytes read,at frame 1082/1298, at time 21.64/25.94 sec. Using the last valid frame instead.\n",
            "  warnings.warn(\"Warning: in file %s, \"%(self.filename)+\n",
            "\n",
            "t:  84%|████████▎ | 1084/1297 [01:06<00:12, 16.93it/s, now=None]WARNING:py.warnings:/usr/local/lib/python3.10/dist-packages/moviepy/video/io/ffmpeg_reader.py:123: UserWarning: Warning: in file test_videos/lanes_clip.mp4, 2764800 bytes wanted but 0 bytes read,at frame 1083/1298, at time 21.66/25.94 sec. Using the last valid frame instead.\n",
            "  warnings.warn(\"Warning: in file %s, \"%(self.filename)+\n",
            "\n",
            "WARNING:py.warnings:/usr/local/lib/python3.10/dist-packages/moviepy/video/io/ffmpeg_reader.py:123: UserWarning: Warning: in file test_videos/lanes_clip.mp4, 2764800 bytes wanted but 0 bytes read,at frame 1084/1298, at time 21.68/25.94 sec. Using the last valid frame instead.\n",
            "  warnings.warn(\"Warning: in file %s, \"%(self.filename)+\n",
            "\n",
            "WARNING:py.warnings:/usr/local/lib/python3.10/dist-packages/moviepy/video/io/ffmpeg_reader.py:123: UserWarning: Warning: in file test_videos/lanes_clip.mp4, 2764800 bytes wanted but 0 bytes read,at frame 1085/1298, at time 21.70/25.94 sec. Using the last valid frame instead.\n",
            "  warnings.warn(\"Warning: in file %s, \"%(self.filename)+\n",
            "\n"
          ]
        },
        {
          "output_type": "stream",
          "name": "stdout",
          "text": [
            "(0.001, 0) [   1.01350267 -287.03663102]\n",
            "(0.001, 0) [   1.01350267 -287.03663102]\n",
            "(0.001, 0) [   1.01350267 -287.03663102]\n",
            "(0.001, 0) [   1.01350267 -287.03663102]\n"
          ]
        },
        {
          "output_type": "stream",
          "name": "stderr",
          "text": [
            "\rt:  84%|████████▍ | 1087/1297 [01:06<00:11, 18.71it/s, now=None]WARNING:py.warnings:/usr/local/lib/python3.10/dist-packages/moviepy/video/io/ffmpeg_reader.py:123: UserWarning: Warning: in file test_videos/lanes_clip.mp4, 2764800 bytes wanted but 0 bytes read,at frame 1086/1298, at time 21.72/25.94 sec. Using the last valid frame instead.\n",
            "  warnings.warn(\"Warning: in file %s, \"%(self.filename)+\n",
            "\n",
            "WARNING:py.warnings:/usr/local/lib/python3.10/dist-packages/moviepy/video/io/ffmpeg_reader.py:123: UserWarning: Warning: in file test_videos/lanes_clip.mp4, 2764800 bytes wanted but 0 bytes read,at frame 1087/1298, at time 21.74/25.94 sec. Using the last valid frame instead.\n",
            "  warnings.warn(\"Warning: in file %s, \"%(self.filename)+\n",
            "\n",
            "t:  84%|████████▍ | 1089/1297 [01:06<00:11, 17.54it/s, now=None]WARNING:py.warnings:/usr/local/lib/python3.10/dist-packages/moviepy/video/io/ffmpeg_reader.py:123: UserWarning: Warning: in file test_videos/lanes_clip.mp4, 2764800 bytes wanted but 0 bytes read,at frame 1088/1298, at time 21.76/25.94 sec. Using the last valid frame instead.\n",
            "  warnings.warn(\"Warning: in file %s, \"%(self.filename)+\n",
            "\n",
            "WARNING:py.warnings:/usr/local/lib/python3.10/dist-packages/moviepy/video/io/ffmpeg_reader.py:123: UserWarning: Warning: in file test_videos/lanes_clip.mp4, 2764800 bytes wanted but 0 bytes read,at frame 1089/1298, at time 21.78/25.94 sec. Using the last valid frame instead.\n",
            "  warnings.warn(\"Warning: in file %s, \"%(self.filename)+\n",
            "\n"
          ]
        },
        {
          "output_type": "stream",
          "name": "stdout",
          "text": [
            "(0.001, 0) [   1.01350267 -287.03663102]\n",
            "(0.001, 0) [   1.01350267 -287.03663102]\n",
            "(0.001, 0) [   1.01350267 -287.03663102]\n",
            "(0.001, 0) [   1.01350267 -287.03663102]\n"
          ]
        },
        {
          "output_type": "stream",
          "name": "stderr",
          "text": [
            "WARNING:py.warnings:/usr/local/lib/python3.10/dist-packages/moviepy/video/io/ffmpeg_reader.py:123: UserWarning: Warning: in file test_videos/lanes_clip.mp4, 2764800 bytes wanted but 0 bytes read,at frame 1090/1298, at time 21.80/25.94 sec. Using the last valid frame instead.\n",
            "  warnings.warn(\"Warning: in file %s, \"%(self.filename)+\n",
            "\n",
            "t:  84%|████████▍ | 1092/1297 [01:06<00:11, 17.58it/s, now=None]WARNING:py.warnings:/usr/local/lib/python3.10/dist-packages/moviepy/video/io/ffmpeg_reader.py:123: UserWarning: Warning: in file test_videos/lanes_clip.mp4, 2764800 bytes wanted but 0 bytes read,at frame 1091/1298, at time 21.82/25.94 sec. Using the last valid frame instead.\n",
            "  warnings.warn(\"Warning: in file %s, \"%(self.filename)+\n",
            "\n",
            "WARNING:py.warnings:/usr/local/lib/python3.10/dist-packages/moviepy/video/io/ffmpeg_reader.py:123: UserWarning: Warning: in file test_videos/lanes_clip.mp4, 2764800 bytes wanted but 0 bytes read,at frame 1092/1298, at time 21.84/25.94 sec. Using the last valid frame instead.\n",
            "  warnings.warn(\"Warning: in file %s, \"%(self.filename)+\n",
            "\n",
            "WARNING:py.warnings:/usr/local/lib/python3.10/dist-packages/moviepy/video/io/ffmpeg_reader.py:123: UserWarning: Warning: in file test_videos/lanes_clip.mp4, 2764800 bytes wanted but 0 bytes read,at frame 1093/1298, at time 21.86/25.94 sec. Using the last valid frame instead.\n",
            "  warnings.warn(\"Warning: in file %s, \"%(self.filename)+\n",
            "\n"
          ]
        },
        {
          "output_type": "stream",
          "name": "stdout",
          "text": [
            "(0.001, 0) [   1.01350267 -287.03663102]\n",
            "(0.001, 0) [   1.01350267 -287.03663102]\n",
            "(0.001, 0) [   1.01350267 -287.03663102]\n",
            "(0.001, 0) [   1.01350267 -287.03663102]\n",
            "(0.001, 0) [   1.01350267 -287.03663102]\n"
          ]
        },
        {
          "output_type": "stream",
          "name": "stderr",
          "text": [
            "\rt:  84%|████████▍ | 1095/1297 [01:06<00:10, 19.04it/s, now=None]WARNING:py.warnings:/usr/local/lib/python3.10/dist-packages/moviepy/video/io/ffmpeg_reader.py:123: UserWarning: Warning: in file test_videos/lanes_clip.mp4, 2764800 bytes wanted but 0 bytes read,at frame 1094/1298, at time 21.88/25.94 sec. Using the last valid frame instead.\n",
            "  warnings.warn(\"Warning: in file %s, \"%(self.filename)+\n",
            "\n",
            "WARNING:py.warnings:/usr/local/lib/python3.10/dist-packages/moviepy/video/io/ffmpeg_reader.py:123: UserWarning: Warning: in file test_videos/lanes_clip.mp4, 2764800 bytes wanted but 0 bytes read,at frame 1095/1298, at time 21.90/25.94 sec. Using the last valid frame instead.\n",
            "  warnings.warn(\"Warning: in file %s, \"%(self.filename)+\n",
            "\n",
            "t:  85%|████████▍ | 1097/1297 [01:06<00:10, 18.43it/s, now=None]WARNING:py.warnings:/usr/local/lib/python3.10/dist-packages/moviepy/video/io/ffmpeg_reader.py:123: UserWarning: Warning: in file test_videos/lanes_clip.mp4, 2764800 bytes wanted but 0 bytes read,at frame 1096/1298, at time 21.92/25.94 sec. Using the last valid frame instead.\n",
            "  warnings.warn(\"Warning: in file %s, \"%(self.filename)+\n",
            "\n",
            "WARNING:py.warnings:/usr/local/lib/python3.10/dist-packages/moviepy/video/io/ffmpeg_reader.py:123: UserWarning: Warning: in file test_videos/lanes_clip.mp4, 2764800 bytes wanted but 0 bytes read,at frame 1097/1298, at time 21.94/25.94 sec. Using the last valid frame instead.\n",
            "  warnings.warn(\"Warning: in file %s, \"%(self.filename)+\n",
            "\n",
            "WARNING:py.warnings:/usr/local/lib/python3.10/dist-packages/moviepy/video/io/ffmpeg_reader.py:123: UserWarning: Warning: in file test_videos/lanes_clip.mp4, 2764800 bytes wanted but 0 bytes read,at frame 1098/1298, at time 21.96/25.94 sec. Using the last valid frame instead.\n",
            "  warnings.warn(\"Warning: in file %s, \"%(self.filename)+\n",
            "\n"
          ]
        },
        {
          "output_type": "stream",
          "name": "stdout",
          "text": [
            "(0.001, 0) [   1.01350267 -287.03663102]\n",
            "(0.001, 0) [   1.01350267 -287.03663102]\n",
            "(0.001, 0) [   1.01350267 -287.03663102]\n",
            "(0.001, 0) [   1.01350267 -287.03663102]\n",
            "(0.001, 0) [   1.01350267 -287.03663102]\n"
          ]
        },
        {
          "output_type": "stream",
          "name": "stderr",
          "text": [
            "\rt:  85%|████████▍ | 1100/1297 [01:07<00:09, 20.37it/s, now=None]WARNING:py.warnings:/usr/local/lib/python3.10/dist-packages/moviepy/video/io/ffmpeg_reader.py:123: UserWarning: Warning: in file test_videos/lanes_clip.mp4, 2764800 bytes wanted but 0 bytes read,at frame 1099/1298, at time 21.98/25.94 sec. Using the last valid frame instead.\n",
            "  warnings.warn(\"Warning: in file %s, \"%(self.filename)+\n",
            "\n",
            "WARNING:py.warnings:/usr/local/lib/python3.10/dist-packages/moviepy/video/io/ffmpeg_reader.py:123: UserWarning: Warning: in file test_videos/lanes_clip.mp4, 2764800 bytes wanted but 0 bytes read,at frame 1100/1298, at time 22.00/25.94 sec. Using the last valid frame instead.\n",
            "  warnings.warn(\"Warning: in file %s, \"%(self.filename)+\n",
            "\n",
            "WARNING:py.warnings:/usr/local/lib/python3.10/dist-packages/moviepy/video/io/ffmpeg_reader.py:123: UserWarning: Warning: in file test_videos/lanes_clip.mp4, 2764800 bytes wanted but 0 bytes read,at frame 1101/1298, at time 22.02/25.94 sec. Using the last valid frame instead.\n",
            "  warnings.warn(\"Warning: in file %s, \"%(self.filename)+\n",
            "\n",
            "t:  85%|████████▌ | 1103/1297 [01:07<00:09, 20.24it/s, now=None]WARNING:py.warnings:/usr/local/lib/python3.10/dist-packages/moviepy/video/io/ffmpeg_reader.py:123: UserWarning: Warning: in file test_videos/lanes_clip.mp4, 2764800 bytes wanted but 0 bytes read,at frame 1102/1298, at time 22.04/25.94 sec. Using the last valid frame instead.\n",
            "  warnings.warn(\"Warning: in file %s, \"%(self.filename)+\n",
            "\n",
            "WARNING:py.warnings:/usr/local/lib/python3.10/dist-packages/moviepy/video/io/ffmpeg_reader.py:123: UserWarning: Warning: in file test_videos/lanes_clip.mp4, 2764800 bytes wanted but 0 bytes read,at frame 1103/1298, at time 22.06/25.94 sec. Using the last valid frame instead.\n",
            "  warnings.warn(\"Warning: in file %s, \"%(self.filename)+\n",
            "\n"
          ]
        },
        {
          "output_type": "stream",
          "name": "stdout",
          "text": [
            "(0.001, 0) [   1.01350267 -287.03663102]\n",
            "(0.001, 0) [   1.01350267 -287.03663102]\n",
            "(0.001, 0) [   1.01350267 -287.03663102]\n",
            "(0.001, 0) [   1.01350267 -287.03663102]\n"
          ]
        },
        {
          "output_type": "stream",
          "name": "stderr",
          "text": [
            "WARNING:py.warnings:/usr/local/lib/python3.10/dist-packages/moviepy/video/io/ffmpeg_reader.py:123: UserWarning: Warning: in file test_videos/lanes_clip.mp4, 2764800 bytes wanted but 0 bytes read,at frame 1104/1298, at time 22.08/25.94 sec. Using the last valid frame instead.\n",
            "  warnings.warn(\"Warning: in file %s, \"%(self.filename)+\n",
            "\n",
            "t:  85%|████████▌ | 1106/1297 [01:07<00:09, 19.43it/s, now=None]WARNING:py.warnings:/usr/local/lib/python3.10/dist-packages/moviepy/video/io/ffmpeg_reader.py:123: UserWarning: Warning: in file test_videos/lanes_clip.mp4, 2764800 bytes wanted but 0 bytes read,at frame 1105/1298, at time 22.10/25.94 sec. Using the last valid frame instead.\n",
            "  warnings.warn(\"Warning: in file %s, \"%(self.filename)+\n",
            "\n",
            "WARNING:py.warnings:/usr/local/lib/python3.10/dist-packages/moviepy/video/io/ffmpeg_reader.py:123: UserWarning: Warning: in file test_videos/lanes_clip.mp4, 2764800 bytes wanted but 0 bytes read,at frame 1106/1298, at time 22.12/25.94 sec. Using the last valid frame instead.\n",
            "  warnings.warn(\"Warning: in file %s, \"%(self.filename)+\n",
            "\n",
            "WARNING:py.warnings:/usr/local/lib/python3.10/dist-packages/moviepy/video/io/ffmpeg_reader.py:123: UserWarning: Warning: in file test_videos/lanes_clip.mp4, 2764800 bytes wanted but 0 bytes read,at frame 1107/1298, at time 22.14/25.94 sec. Using the last valid frame instead.\n",
            "  warnings.warn(\"Warning: in file %s, \"%(self.filename)+\n",
            "\n",
            "t:  86%|████████▌ | 1109/1297 [01:07<00:09, 19.86it/s, now=None]"
          ]
        },
        {
          "output_type": "stream",
          "name": "stdout",
          "text": [
            "(0.001, 0) [   1.01350267 -287.03663102]\n",
            "(0.001, 0) [   1.01350267 -287.03663102]\n",
            "(0.001, 0) [   1.01350267 -287.03663102]\n",
            "(0.001, 0) [   1.01350267 -287.03663102]\n",
            "(0.001, 0) [   1.01350267 -287.03663102]\n"
          ]
        },
        {
          "output_type": "stream",
          "name": "stderr",
          "text": [
            "WARNING:py.warnings:/usr/local/lib/python3.10/dist-packages/moviepy/video/io/ffmpeg_reader.py:123: UserWarning: Warning: in file test_videos/lanes_clip.mp4, 2764800 bytes wanted but 0 bytes read,at frame 1108/1298, at time 22.16/25.94 sec. Using the last valid frame instead.\n",
            "  warnings.warn(\"Warning: in file %s, \"%(self.filename)+\n",
            "\n",
            "WARNING:py.warnings:/usr/local/lib/python3.10/dist-packages/moviepy/video/io/ffmpeg_reader.py:123: UserWarning: Warning: in file test_videos/lanes_clip.mp4, 2764800 bytes wanted but 0 bytes read,at frame 1109/1298, at time 22.18/25.94 sec. Using the last valid frame instead.\n",
            "  warnings.warn(\"Warning: in file %s, \"%(self.filename)+\n",
            "\n",
            "WARNING:py.warnings:/usr/local/lib/python3.10/dist-packages/moviepy/video/io/ffmpeg_reader.py:123: UserWarning: Warning: in file test_videos/lanes_clip.mp4, 2764800 bytes wanted but 0 bytes read,at frame 1110/1298, at time 22.20/25.94 sec. Using the last valid frame instead.\n",
            "  warnings.warn(\"Warning: in file %s, \"%(self.filename)+\n",
            "\n",
            "t:  86%|████████▌ | 1112/1297 [01:07<00:08, 21.95it/s, now=None]WARNING:py.warnings:/usr/local/lib/python3.10/dist-packages/moviepy/video/io/ffmpeg_reader.py:123: UserWarning: Warning: in file test_videos/lanes_clip.mp4, 2764800 bytes wanted but 0 bytes read,at frame 1111/1298, at time 22.22/25.94 sec. Using the last valid frame instead.\n",
            "  warnings.warn(\"Warning: in file %s, \"%(self.filename)+\n",
            "\n",
            "WARNING:py.warnings:/usr/local/lib/python3.10/dist-packages/moviepy/video/io/ffmpeg_reader.py:123: UserWarning: Warning: in file test_videos/lanes_clip.mp4, 2764800 bytes wanted but 0 bytes read,at frame 1112/1298, at time 22.24/25.94 sec. Using the last valid frame instead.\n",
            "  warnings.warn(\"Warning: in file %s, \"%(self.filename)+\n",
            "\n",
            "WARNING:py.warnings:/usr/local/lib/python3.10/dist-packages/moviepy/video/io/ffmpeg_reader.py:123: UserWarning: Warning: in file test_videos/lanes_clip.mp4, 2764800 bytes wanted but 0 bytes read,at frame 1113/1298, at time 22.26/25.94 sec. Using the last valid frame instead.\n",
            "  warnings.warn(\"Warning: in file %s, \"%(self.filename)+\n",
            "\n"
          ]
        },
        {
          "output_type": "stream",
          "name": "stdout",
          "text": [
            "(0.001, 0) [   1.01350267 -287.03663102]\n",
            "(0.001, 0) [   1.01350267 -287.03663102]\n",
            "(0.001, 0) [   1.01350267 -287.03663102]\n",
            "(0.001, 0) [   1.01350267 -287.03663102]\n",
            "(0.001, 0) [   1.01350267 -287.03663102]\n",
            "(0.001, 0) [   1.01350267 -287.03663102]\n"
          ]
        },
        {
          "output_type": "stream",
          "name": "stderr",
          "text": [
            "\rt:  86%|████████▌ | 1115/1297 [01:07<00:08, 22.68it/s, now=None]WARNING:py.warnings:/usr/local/lib/python3.10/dist-packages/moviepy/video/io/ffmpeg_reader.py:123: UserWarning: Warning: in file test_videos/lanes_clip.mp4, 2764800 bytes wanted but 0 bytes read,at frame 1114/1298, at time 22.28/25.94 sec. Using the last valid frame instead.\n",
            "  warnings.warn(\"Warning: in file %s, \"%(self.filename)+\n",
            "\n",
            "WARNING:py.warnings:/usr/local/lib/python3.10/dist-packages/moviepy/video/io/ffmpeg_reader.py:123: UserWarning: Warning: in file test_videos/lanes_clip.mp4, 2764800 bytes wanted but 0 bytes read,at frame 1115/1298, at time 22.30/25.94 sec. Using the last valid frame instead.\n",
            "  warnings.warn(\"Warning: in file %s, \"%(self.filename)+\n",
            "\n",
            "WARNING:py.warnings:/usr/local/lib/python3.10/dist-packages/moviepy/video/io/ffmpeg_reader.py:123: UserWarning: Warning: in file test_videos/lanes_clip.mp4, 2764800 bytes wanted but 0 bytes read,at frame 1116/1298, at time 22.32/25.94 sec. Using the last valid frame instead.\n",
            "  warnings.warn(\"Warning: in file %s, \"%(self.filename)+\n",
            "\n",
            "t:  86%|████████▌ | 1118/1297 [01:07<00:07, 22.61it/s, now=None]WARNING:py.warnings:/usr/local/lib/python3.10/dist-packages/moviepy/video/io/ffmpeg_reader.py:123: UserWarning: Warning: in file test_videos/lanes_clip.mp4, 2764800 bytes wanted but 0 bytes read,at frame 1117/1298, at time 22.34/25.94 sec. Using the last valid frame instead.\n",
            "  warnings.warn(\"Warning: in file %s, \"%(self.filename)+\n",
            "\n",
            "WARNING:py.warnings:/usr/local/lib/python3.10/dist-packages/moviepy/video/io/ffmpeg_reader.py:123: UserWarning: Warning: in file test_videos/lanes_clip.mp4, 2764800 bytes wanted but 0 bytes read,at frame 1118/1298, at time 22.36/25.94 sec. Using the last valid frame instead.\n",
            "  warnings.warn(\"Warning: in file %s, \"%(self.filename)+\n",
            "\n",
            "WARNING:py.warnings:/usr/local/lib/python3.10/dist-packages/moviepy/video/io/ffmpeg_reader.py:123: UserWarning: Warning: in file test_videos/lanes_clip.mp4, 2764800 bytes wanted but 0 bytes read,at frame 1119/1298, at time 22.38/25.94 sec. Using the last valid frame instead.\n",
            "  warnings.warn(\"Warning: in file %s, \"%(self.filename)+\n",
            "\n"
          ]
        },
        {
          "output_type": "stream",
          "name": "stdout",
          "text": [
            "(0.001, 0) [   1.01350267 -287.03663102]\n",
            "(0.001, 0) [   1.01350267 -287.03663102]\n",
            "(0.001, 0) [   1.01350267 -287.03663102]\n",
            "(0.001, 0) [   1.01350267 -287.03663102]\n",
            "(0.001, 0) [   1.01350267 -287.03663102]\n",
            "(0.001, 0) [   1.01350267 -287.03663102]\n"
          ]
        },
        {
          "output_type": "stream",
          "name": "stderr",
          "text": [
            "WARNING:py.warnings:/usr/local/lib/python3.10/dist-packages/moviepy/video/io/ffmpeg_reader.py:123: UserWarning: Warning: in file test_videos/lanes_clip.mp4, 2764800 bytes wanted but 0 bytes read,at frame 1120/1298, at time 22.40/25.94 sec. Using the last valid frame instead.\n",
            "  warnings.warn(\"Warning: in file %s, \"%(self.filename)+\n",
            "\n",
            "t:  87%|████████▋ | 1122/1297 [01:07<00:07, 23.76it/s, now=None]WARNING:py.warnings:/usr/local/lib/python3.10/dist-packages/moviepy/video/io/ffmpeg_reader.py:123: UserWarning: Warning: in file test_videos/lanes_clip.mp4, 2764800 bytes wanted but 0 bytes read,at frame 1121/1298, at time 22.42/25.94 sec. Using the last valid frame instead.\n",
            "  warnings.warn(\"Warning: in file %s, \"%(self.filename)+\n",
            "\n",
            "WARNING:py.warnings:/usr/local/lib/python3.10/dist-packages/moviepy/video/io/ffmpeg_reader.py:123: UserWarning: Warning: in file test_videos/lanes_clip.mp4, 2764800 bytes wanted but 0 bytes read,at frame 1122/1298, at time 22.44/25.94 sec. Using the last valid frame instead.\n",
            "  warnings.warn(\"Warning: in file %s, \"%(self.filename)+\n",
            "\n",
            "WARNING:py.warnings:/usr/local/lib/python3.10/dist-packages/moviepy/video/io/ffmpeg_reader.py:123: UserWarning: Warning: in file test_videos/lanes_clip.mp4, 2764800 bytes wanted but 0 bytes read,at frame 1123/1298, at time 22.46/25.94 sec. Using the last valid frame instead.\n",
            "  warnings.warn(\"Warning: in file %s, \"%(self.filename)+\n",
            "\n",
            "t:  87%|████████▋ | 1125/1297 [01:08<00:07, 24.23it/s, now=None]WARNING:py.warnings:/usr/local/lib/python3.10/dist-packages/moviepy/video/io/ffmpeg_reader.py:123: UserWarning: Warning: in file test_videos/lanes_clip.mp4, 2764800 bytes wanted but 0 bytes read,at frame 1124/1298, at time 22.48/25.94 sec. Using the last valid frame instead.\n",
            "  warnings.warn(\"Warning: in file %s, \"%(self.filename)+\n",
            "\n",
            "WARNING:py.warnings:/usr/local/lib/python3.10/dist-packages/moviepy/video/io/ffmpeg_reader.py:123: UserWarning: Warning: in file test_videos/lanes_clip.mp4, 2764800 bytes wanted but 0 bytes read,at frame 1125/1298, at time 22.50/25.94 sec. Using the last valid frame instead.\n",
            "  warnings.warn(\"Warning: in file %s, \"%(self.filename)+\n",
            "\n"
          ]
        },
        {
          "output_type": "stream",
          "name": "stdout",
          "text": [
            "(0.001, 0) [   1.01350267 -287.03663102]\n",
            "(0.001, 0) [   1.01350267 -287.03663102]\n",
            "(0.001, 0) [   1.01350267 -287.03663102]\n",
            "(0.001, 0) [   1.01350267 -287.03663102]\n",
            "(0.001, 0) [   1.01350267 -287.03663102]\n",
            "(0.001, 0) [   1.01350267 -287.03663102]\n"
          ]
        },
        {
          "output_type": "stream",
          "name": "stderr",
          "text": [
            "WARNING:py.warnings:/usr/local/lib/python3.10/dist-packages/moviepy/video/io/ffmpeg_reader.py:123: UserWarning: Warning: in file test_videos/lanes_clip.mp4, 2764800 bytes wanted but 0 bytes read,at frame 1126/1298, at time 22.52/25.94 sec. Using the last valid frame instead.\n",
            "  warnings.warn(\"Warning: in file %s, \"%(self.filename)+\n",
            "\n",
            "t:  87%|████████▋ | 1128/1297 [01:08<00:06, 24.92it/s, now=None]WARNING:py.warnings:/usr/local/lib/python3.10/dist-packages/moviepy/video/io/ffmpeg_reader.py:123: UserWarning: Warning: in file test_videos/lanes_clip.mp4, 2764800 bytes wanted but 0 bytes read,at frame 1127/1298, at time 22.54/25.94 sec. Using the last valid frame instead.\n",
            "  warnings.warn(\"Warning: in file %s, \"%(self.filename)+\n",
            "\n",
            "WARNING:py.warnings:/usr/local/lib/python3.10/dist-packages/moviepy/video/io/ffmpeg_reader.py:123: UserWarning: Warning: in file test_videos/lanes_clip.mp4, 2764800 bytes wanted but 0 bytes read,at frame 1128/1298, at time 22.56/25.94 sec. Using the last valid frame instead.\n",
            "  warnings.warn(\"Warning: in file %s, \"%(self.filename)+\n",
            "\n",
            "WARNING:py.warnings:/usr/local/lib/python3.10/dist-packages/moviepy/video/io/ffmpeg_reader.py:123: UserWarning: Warning: in file test_videos/lanes_clip.mp4, 2764800 bytes wanted but 0 bytes read,at frame 1129/1298, at time 22.58/25.94 sec. Using the last valid frame instead.\n",
            "  warnings.warn(\"Warning: in file %s, \"%(self.filename)+\n",
            "\n",
            "WARNING:py.warnings:/usr/local/lib/python3.10/dist-packages/moviepy/video/io/ffmpeg_reader.py:123: UserWarning: Warning: in file test_videos/lanes_clip.mp4, 2764800 bytes wanted but 0 bytes read,at frame 1130/1298, at time 22.60/25.94 sec. Using the last valid frame instead.\n",
            "  warnings.warn(\"Warning: in file %s, \"%(self.filename)+\n",
            "\n",
            "t:  87%|████████▋ | 1132/1297 [01:08<00:06, 26.62it/s, now=None]WARNING:py.warnings:/usr/local/lib/python3.10/dist-packages/moviepy/video/io/ffmpeg_reader.py:123: UserWarning: Warning: in file test_videos/lanes_clip.mp4, 2764800 bytes wanted but 0 bytes read,at frame 1131/1298, at time 22.62/25.94 sec. Using the last valid frame instead.\n",
            "  warnings.warn(\"Warning: in file %s, \"%(self.filename)+\n",
            "\n"
          ]
        },
        {
          "output_type": "stream",
          "name": "stdout",
          "text": [
            "(0.001, 0) [   1.01350267 -287.03663102]\n",
            "(0.001, 0) [   1.01350267 -287.03663102]\n",
            "(0.001, 0) [   1.01350267 -287.03663102]\n",
            "(0.001, 0) [   1.01350267 -287.03663102]\n",
            "(0.001, 0) [   1.01350267 -287.03663102]\n",
            "(0.001, 0) [   1.01350267 -287.03663102]\n"
          ]
        },
        {
          "output_type": "stream",
          "name": "stderr",
          "text": [
            "WARNING:py.warnings:/usr/local/lib/python3.10/dist-packages/moviepy/video/io/ffmpeg_reader.py:123: UserWarning: Warning: in file test_videos/lanes_clip.mp4, 2764800 bytes wanted but 0 bytes read,at frame 1132/1298, at time 22.64/25.94 sec. Using the last valid frame instead.\n",
            "  warnings.warn(\"Warning: in file %s, \"%(self.filename)+\n",
            "\n",
            "WARNING:py.warnings:/usr/local/lib/python3.10/dist-packages/moviepy/video/io/ffmpeg_reader.py:123: UserWarning: Warning: in file test_videos/lanes_clip.mp4, 2764800 bytes wanted but 0 bytes read,at frame 1133/1298, at time 22.66/25.94 sec. Using the last valid frame instead.\n",
            "  warnings.warn(\"Warning: in file %s, \"%(self.filename)+\n",
            "\n",
            "t:  88%|████████▊ | 1135/1297 [01:08<00:06, 25.02it/s, now=None]WARNING:py.warnings:/usr/local/lib/python3.10/dist-packages/moviepy/video/io/ffmpeg_reader.py:123: UserWarning: Warning: in file test_videos/lanes_clip.mp4, 2764800 bytes wanted but 0 bytes read,at frame 1134/1298, at time 22.68/25.94 sec. Using the last valid frame instead.\n",
            "  warnings.warn(\"Warning: in file %s, \"%(self.filename)+\n",
            "\n",
            "WARNING:py.warnings:/usr/local/lib/python3.10/dist-packages/moviepy/video/io/ffmpeg_reader.py:123: UserWarning: Warning: in file test_videos/lanes_clip.mp4, 2764800 bytes wanted but 0 bytes read,at frame 1135/1298, at time 22.70/25.94 sec. Using the last valid frame instead.\n",
            "  warnings.warn(\"Warning: in file %s, \"%(self.filename)+\n",
            "\n",
            "WARNING:py.warnings:/usr/local/lib/python3.10/dist-packages/moviepy/video/io/ffmpeg_reader.py:123: UserWarning: Warning: in file test_videos/lanes_clip.mp4, 2764800 bytes wanted but 0 bytes read,at frame 1136/1298, at time 22.72/25.94 sec. Using the last valid frame instead.\n",
            "  warnings.warn(\"Warning: in file %s, \"%(self.filename)+\n",
            "\n",
            "t:  88%|████████▊ | 1138/1297 [01:08<00:06, 25.83it/s, now=None]WARNING:py.warnings:/usr/local/lib/python3.10/dist-packages/moviepy/video/io/ffmpeg_reader.py:123: UserWarning: Warning: in file test_videos/lanes_clip.mp4, 2764800 bytes wanted but 0 bytes read,at frame 1137/1298, at time 22.74/25.94 sec. Using the last valid frame instead.\n",
            "  warnings.warn(\"Warning: in file %s, \"%(self.filename)+\n",
            "\n",
            "WARNING:py.warnings:/usr/local/lib/python3.10/dist-packages/moviepy/video/io/ffmpeg_reader.py:123: UserWarning: Warning: in file test_videos/lanes_clip.mp4, 2764800 bytes wanted but 0 bytes read,at frame 1138/1298, at time 22.76/25.94 sec. Using the last valid frame instead.\n",
            "  warnings.warn(\"Warning: in file %s, \"%(self.filename)+\n",
            "\n"
          ]
        },
        {
          "output_type": "stream",
          "name": "stdout",
          "text": [
            "(0.001, 0) [   1.01350267 -287.03663102]\n",
            "(0.001, 0) [   1.01350267 -287.03663102]\n",
            "(0.001, 0) [   1.01350267 -287.03663102]\n",
            "(0.001, 0) [   1.01350267 -287.03663102]\n",
            "(0.001, 0) [   1.01350267 -287.03663102]\n",
            "(0.001, 0) [   1.01350267 -287.03663102]\n"
          ]
        },
        {
          "output_type": "stream",
          "name": "stderr",
          "text": [
            "WARNING:py.warnings:/usr/local/lib/python3.10/dist-packages/moviepy/video/io/ffmpeg_reader.py:123: UserWarning: Warning: in file test_videos/lanes_clip.mp4, 2764800 bytes wanted but 0 bytes read,at frame 1139/1298, at time 22.78/25.94 sec. Using the last valid frame instead.\n",
            "  warnings.warn(\"Warning: in file %s, \"%(self.filename)+\n",
            "\n",
            "t:  88%|████████▊ | 1141/1297 [01:08<00:06, 24.62it/s, now=None]WARNING:py.warnings:/usr/local/lib/python3.10/dist-packages/moviepy/video/io/ffmpeg_reader.py:123: UserWarning: Warning: in file test_videos/lanes_clip.mp4, 2764800 bytes wanted but 0 bytes read,at frame 1140/1298, at time 22.80/25.94 sec. Using the last valid frame instead.\n",
            "  warnings.warn(\"Warning: in file %s, \"%(self.filename)+\n",
            "\n",
            "WARNING:py.warnings:/usr/local/lib/python3.10/dist-packages/moviepy/video/io/ffmpeg_reader.py:123: UserWarning: Warning: in file test_videos/lanes_clip.mp4, 2764800 bytes wanted but 0 bytes read,at frame 1141/1298, at time 22.82/25.94 sec. Using the last valid frame instead.\n",
            "  warnings.warn(\"Warning: in file %s, \"%(self.filename)+\n",
            "\n",
            "WARNING:py.warnings:/usr/local/lib/python3.10/dist-packages/moviepy/video/io/ffmpeg_reader.py:123: UserWarning: Warning: in file test_videos/lanes_clip.mp4, 2764800 bytes wanted but 0 bytes read,at frame 1142/1298, at time 22.84/25.94 sec. Using the last valid frame instead.\n",
            "  warnings.warn(\"Warning: in file %s, \"%(self.filename)+\n",
            "\n",
            "t:  88%|████████▊ | 1144/1297 [01:08<00:06, 25.09it/s, now=None]WARNING:py.warnings:/usr/local/lib/python3.10/dist-packages/moviepy/video/io/ffmpeg_reader.py:123: UserWarning: Warning: in file test_videos/lanes_clip.mp4, 2764800 bytes wanted but 0 bytes read,at frame 1143/1298, at time 22.86/25.94 sec. Using the last valid frame instead.\n",
            "  warnings.warn(\"Warning: in file %s, \"%(self.filename)+\n",
            "\n"
          ]
        },
        {
          "output_type": "stream",
          "name": "stdout",
          "text": [
            "(0.001, 0) [   1.01350267 -287.03663102]\n",
            "(0.001, 0) [   1.01350267 -287.03663102]\n",
            "(0.001, 0) [   1.01350267 -287.03663102]\n",
            "(0.001, 0) [   1.01350267 -287.03663102]\n",
            "(0.001, 0) [   1.01350267 -287.03663102]\n"
          ]
        },
        {
          "output_type": "stream",
          "name": "stderr",
          "text": [
            "WARNING:py.warnings:/usr/local/lib/python3.10/dist-packages/moviepy/video/io/ffmpeg_reader.py:123: UserWarning: Warning: in file test_videos/lanes_clip.mp4, 2764800 bytes wanted but 0 bytes read,at frame 1144/1298, at time 22.88/25.94 sec. Using the last valid frame instead.\n",
            "  warnings.warn(\"Warning: in file %s, \"%(self.filename)+\n",
            "\n",
            "WARNING:py.warnings:/usr/local/lib/python3.10/dist-packages/moviepy/video/io/ffmpeg_reader.py:123: UserWarning: Warning: in file test_videos/lanes_clip.mp4, 2764800 bytes wanted but 0 bytes read,at frame 1145/1298, at time 22.90/25.94 sec. Using the last valid frame instead.\n",
            "  warnings.warn(\"Warning: in file %s, \"%(self.filename)+\n",
            "\n",
            "t:  88%|████████▊ | 1147/1297 [01:08<00:05, 25.67it/s, now=None]WARNING:py.warnings:/usr/local/lib/python3.10/dist-packages/moviepy/video/io/ffmpeg_reader.py:123: UserWarning: Warning: in file test_videos/lanes_clip.mp4, 2764800 bytes wanted but 0 bytes read,at frame 1146/1298, at time 22.92/25.94 sec. Using the last valid frame instead.\n",
            "  warnings.warn(\"Warning: in file %s, \"%(self.filename)+\n",
            "\n",
            "WARNING:py.warnings:/usr/local/lib/python3.10/dist-packages/moviepy/video/io/ffmpeg_reader.py:123: UserWarning: Warning: in file test_videos/lanes_clip.mp4, 2764800 bytes wanted but 0 bytes read,at frame 1147/1298, at time 22.94/25.94 sec. Using the last valid frame instead.\n",
            "  warnings.warn(\"Warning: in file %s, \"%(self.filename)+\n",
            "\n",
            "WARNING:py.warnings:/usr/local/lib/python3.10/dist-packages/moviepy/video/io/ffmpeg_reader.py:123: UserWarning: Warning: in file test_videos/lanes_clip.mp4, 2764800 bytes wanted but 0 bytes read,at frame 1148/1298, at time 22.96/25.94 sec. Using the last valid frame instead.\n",
            "  warnings.warn(\"Warning: in file %s, \"%(self.filename)+\n",
            "\n"
          ]
        },
        {
          "output_type": "stream",
          "name": "stdout",
          "text": [
            "(0.001, 0) [   1.01350267 -287.03663102]\n",
            "(0.001, 0) [   1.01350267 -287.03663102]\n",
            "(0.001, 0) [   1.01350267 -287.03663102]\n",
            "(0.001, 0) [   1.01350267 -287.03663102]\n",
            "(0.001, 0) [   1.01350267 -287.03663102]\n",
            "(0.001, 0) [   1.01350267 -287.03663102]\n"
          ]
        },
        {
          "output_type": "stream",
          "name": "stderr",
          "text": [
            "\rt:  89%|████████▊ | 1150/1297 [01:09<00:05, 25.52it/s, now=None]WARNING:py.warnings:/usr/local/lib/python3.10/dist-packages/moviepy/video/io/ffmpeg_reader.py:123: UserWarning: Warning: in file test_videos/lanes_clip.mp4, 2764800 bytes wanted but 0 bytes read,at frame 1149/1298, at time 22.98/25.94 sec. Using the last valid frame instead.\n",
            "  warnings.warn(\"Warning: in file %s, \"%(self.filename)+\n",
            "\n",
            "WARNING:py.warnings:/usr/local/lib/python3.10/dist-packages/moviepy/video/io/ffmpeg_reader.py:123: UserWarning: Warning: in file test_videos/lanes_clip.mp4, 2764800 bytes wanted but 0 bytes read,at frame 1150/1298, at time 23.00/25.94 sec. Using the last valid frame instead.\n",
            "  warnings.warn(\"Warning: in file %s, \"%(self.filename)+\n",
            "\n",
            "WARNING:py.warnings:/usr/local/lib/python3.10/dist-packages/moviepy/video/io/ffmpeg_reader.py:123: UserWarning: Warning: in file test_videos/lanes_clip.mp4, 2764800 bytes wanted but 0 bytes read,at frame 1151/1298, at time 23.02/25.94 sec. Using the last valid frame instead.\n",
            "  warnings.warn(\"Warning: in file %s, \"%(self.filename)+\n",
            "\n",
            "t:  89%|████████▉ | 1153/1297 [01:09<00:05, 25.35it/s, now=None]WARNING:py.warnings:/usr/local/lib/python3.10/dist-packages/moviepy/video/io/ffmpeg_reader.py:123: UserWarning: Warning: in file test_videos/lanes_clip.mp4, 2764800 bytes wanted but 0 bytes read,at frame 1152/1298, at time 23.04/25.94 sec. Using the last valid frame instead.\n",
            "  warnings.warn(\"Warning: in file %s, \"%(self.filename)+\n",
            "\n",
            "WARNING:py.warnings:/usr/local/lib/python3.10/dist-packages/moviepy/video/io/ffmpeg_reader.py:123: UserWarning: Warning: in file test_videos/lanes_clip.mp4, 2764800 bytes wanted but 0 bytes read,at frame 1153/1298, at time 23.06/25.94 sec. Using the last valid frame instead.\n",
            "  warnings.warn(\"Warning: in file %s, \"%(self.filename)+\n",
            "\n",
            "WARNING:py.warnings:/usr/local/lib/python3.10/dist-packages/moviepy/video/io/ffmpeg_reader.py:123: UserWarning: Warning: in file test_videos/lanes_clip.mp4, 2764800 bytes wanted but 0 bytes read,at frame 1154/1298, at time 23.08/25.94 sec. Using the last valid frame instead.\n",
            "  warnings.warn(\"Warning: in file %s, \"%(self.filename)+\n",
            "\n",
            "WARNING:py.warnings:/usr/local/lib/python3.10/dist-packages/moviepy/video/io/ffmpeg_reader.py:123: UserWarning: Warning: in file test_videos/lanes_clip.mp4, 2764800 bytes wanted but 0 bytes read,at frame 1155/1298, at time 23.10/25.94 sec. Using the last valid frame instead.\n",
            "  warnings.warn(\"Warning: in file %s, \"%(self.filename)+\n",
            "\n"
          ]
        },
        {
          "output_type": "stream",
          "name": "stdout",
          "text": [
            "(0.001, 0) [   1.01350267 -287.03663102]\n",
            "(0.001, 0) [   1.01350267 -287.03663102]\n",
            "(0.001, 0) [   1.01350267 -287.03663102]\n",
            "(0.001, 0) [   1.01350267 -287.03663102]\n",
            "(0.001, 0) [   1.01350267 -287.03663102]\n",
            "(0.001, 0) [   1.01350267 -287.03663102]\n"
          ]
        },
        {
          "output_type": "stream",
          "name": "stderr",
          "text": [
            "\rt:  89%|████████▉ | 1157/1297 [01:09<00:05, 25.94it/s, now=None]WARNING:py.warnings:/usr/local/lib/python3.10/dist-packages/moviepy/video/io/ffmpeg_reader.py:123: UserWarning: Warning: in file test_videos/lanes_clip.mp4, 2764800 bytes wanted but 0 bytes read,at frame 1156/1298, at time 23.12/25.94 sec. Using the last valid frame instead.\n",
            "  warnings.warn(\"Warning: in file %s, \"%(self.filename)+\n",
            "\n",
            "WARNING:py.warnings:/usr/local/lib/python3.10/dist-packages/moviepy/video/io/ffmpeg_reader.py:123: UserWarning: Warning: in file test_videos/lanes_clip.mp4, 2764800 bytes wanted but 0 bytes read,at frame 1157/1298, at time 23.14/25.94 sec. Using the last valid frame instead.\n",
            "  warnings.warn(\"Warning: in file %s, \"%(self.filename)+\n",
            "\n",
            "WARNING:py.warnings:/usr/local/lib/python3.10/dist-packages/moviepy/video/io/ffmpeg_reader.py:123: UserWarning: Warning: in file test_videos/lanes_clip.mp4, 2764800 bytes wanted but 0 bytes read,at frame 1158/1298, at time 23.16/25.94 sec. Using the last valid frame instead.\n",
            "  warnings.warn(\"Warning: in file %s, \"%(self.filename)+\n",
            "\n",
            "t:  89%|████████▉ | 1160/1297 [01:09<00:05, 26.28it/s, now=None]WARNING:py.warnings:/usr/local/lib/python3.10/dist-packages/moviepy/video/io/ffmpeg_reader.py:123: UserWarning: Warning: in file test_videos/lanes_clip.mp4, 2764800 bytes wanted but 0 bytes read,at frame 1159/1298, at time 23.18/25.94 sec. Using the last valid frame instead.\n",
            "  warnings.warn(\"Warning: in file %s, \"%(self.filename)+\n",
            "\n",
            "WARNING:py.warnings:/usr/local/lib/python3.10/dist-packages/moviepy/video/io/ffmpeg_reader.py:123: UserWarning: Warning: in file test_videos/lanes_clip.mp4, 2764800 bytes wanted but 0 bytes read,at frame 1160/1298, at time 23.20/25.94 sec. Using the last valid frame instead.\n",
            "  warnings.warn(\"Warning: in file %s, \"%(self.filename)+\n",
            "\n"
          ]
        },
        {
          "output_type": "stream",
          "name": "stdout",
          "text": [
            "(0.001, 0) [   1.01350267 -287.03663102]\n",
            "(0.001, 0) [   1.01350267 -287.03663102]\n",
            "(0.001, 0) [   1.01350267 -287.03663102]\n",
            "(0.001, 0) [   1.01350267 -287.03663102]\n",
            "(0.001, 0) [   1.01350267 -287.03663102]\n",
            "(0.001, 0) [   1.01350267 -287.03663102]"
          ]
        },
        {
          "output_type": "stream",
          "name": "stderr",
          "text": [
            "WARNING:py.warnings:/usr/local/lib/python3.10/dist-packages/moviepy/video/io/ffmpeg_reader.py:123: UserWarning: Warning: in file test_videos/lanes_clip.mp4, 2764800 bytes wanted but 0 bytes read,at frame 1161/1298, at time 23.22/25.94 sec. Using the last valid frame instead.\n",
            "  warnings.warn(\"Warning: in file %s, \"%(self.filename)+\n",
            "\n",
            "t:  90%|████████▉ | 1163/1297 [01:09<00:05, 25.48it/s, now=None]WARNING:py.warnings:/usr/local/lib/python3.10/dist-packages/moviepy/video/io/ffmpeg_reader.py:123: UserWarning: Warning: in file test_videos/lanes_clip.mp4, 2764800 bytes wanted but 0 bytes read,at frame 1162/1298, at time 23.24/25.94 sec. Using the last valid frame instead.\n",
            "  warnings.warn(\"Warning: in file %s, \"%(self.filename)+\n",
            "\n",
            "WARNING:py.warnings:/usr/local/lib/python3.10/dist-packages/moviepy/video/io/ffmpeg_reader.py:123: UserWarning: Warning: in file test_videos/lanes_clip.mp4, 2764800 bytes wanted but 0 bytes read,at frame 1163/1298, at time 23.26/25.94 sec. Using the last valid frame instead.\n",
            "  warnings.warn(\"Warning: in file %s, \"%(self.filename)+\n",
            "\n",
            "WARNING:py.warnings:/usr/local/lib/python3.10/dist-packages/moviepy/video/io/ffmpeg_reader.py:123: UserWarning: Warning: in file test_videos/lanes_clip.mp4, 2764800 bytes wanted but 0 bytes read,at frame 1164/1298, at time 23.28/25.94 sec. Using the last valid frame instead.\n",
            "  warnings.warn(\"Warning: in file %s, \"%(self.filename)+\n",
            "\n",
            "t:  90%|████████▉ | 1166/1297 [01:09<00:05, 26.04it/s, now=None]WARNING:py.warnings:/usr/local/lib/python3.10/dist-packages/moviepy/video/io/ffmpeg_reader.py:123: UserWarning: Warning: in file test_videos/lanes_clip.mp4, 2764800 bytes wanted but 0 bytes read,at frame 1165/1298, at time 23.30/25.94 sec. Using the last valid frame instead.\n",
            "  warnings.warn(\"Warning: in file %s, \"%(self.filename)+\n",
            "\n"
          ]
        },
        {
          "output_type": "stream",
          "name": "stdout",
          "text": [
            "\n",
            "(0.001, 0) [   1.01350267 -287.03663102]\n",
            "(0.001, 0) [   1.01350267 -287.03663102]\n",
            "(0.001, 0) [   1.01350267 -287.03663102]\n",
            "(0.001, 0) [   1.01350267 -287.03663102]\n",
            "(0.001, 0) [   1.01350267 -287.03663102]\n"
          ]
        },
        {
          "output_type": "stream",
          "name": "stderr",
          "text": [
            "WARNING:py.warnings:/usr/local/lib/python3.10/dist-packages/moviepy/video/io/ffmpeg_reader.py:123: UserWarning: Warning: in file test_videos/lanes_clip.mp4, 2764800 bytes wanted but 0 bytes read,at frame 1166/1298, at time 23.32/25.94 sec. Using the last valid frame instead.\n",
            "  warnings.warn(\"Warning: in file %s, \"%(self.filename)+\n",
            "\n",
            "WARNING:py.warnings:/usr/local/lib/python3.10/dist-packages/moviepy/video/io/ffmpeg_reader.py:123: UserWarning: Warning: in file test_videos/lanes_clip.mp4, 2764800 bytes wanted but 0 bytes read,at frame 1167/1298, at time 23.34/25.94 sec. Using the last valid frame instead.\n",
            "  warnings.warn(\"Warning: in file %s, \"%(self.filename)+\n",
            "\n",
            "t:  90%|█████████ | 1169/1297 [01:09<00:05, 25.38it/s, now=None]WARNING:py.warnings:/usr/local/lib/python3.10/dist-packages/moviepy/video/io/ffmpeg_reader.py:123: UserWarning: Warning: in file test_videos/lanes_clip.mp4, 2764800 bytes wanted but 0 bytes read,at frame 1168/1298, at time 23.36/25.94 sec. Using the last valid frame instead.\n",
            "  warnings.warn(\"Warning: in file %s, \"%(self.filename)+\n",
            "\n",
            "WARNING:py.warnings:/usr/local/lib/python3.10/dist-packages/moviepy/video/io/ffmpeg_reader.py:123: UserWarning: Warning: in file test_videos/lanes_clip.mp4, 2764800 bytes wanted but 0 bytes read,at frame 1169/1298, at time 23.38/25.94 sec. Using the last valid frame instead.\n",
            "  warnings.warn(\"Warning: in file %s, \"%(self.filename)+\n",
            "\n",
            "WARNING:py.warnings:/usr/local/lib/python3.10/dist-packages/moviepy/video/io/ffmpeg_reader.py:123: UserWarning: Warning: in file test_videos/lanes_clip.mp4, 2764800 bytes wanted but 0 bytes read,at frame 1170/1298, at time 23.40/25.94 sec. Using the last valid frame instead.\n",
            "  warnings.warn(\"Warning: in file %s, \"%(self.filename)+\n",
            "\n",
            "WARNING:py.warnings:/usr/local/lib/python3.10/dist-packages/moviepy/video/io/ffmpeg_reader.py:123: UserWarning: Warning: in file test_videos/lanes_clip.mp4, 2764800 bytes wanted but 0 bytes read,at frame 1171/1298, at time 23.42/25.94 sec. Using the last valid frame instead.\n",
            "  warnings.warn(\"Warning: in file %s, \"%(self.filename)+\n",
            "\n"
          ]
        },
        {
          "output_type": "stream",
          "name": "stdout",
          "text": [
            "(0.001, 0) [   1.01350267 -287.03663102]\n",
            "(0.001, 0) [   1.01350267 -287.03663102]\n",
            "(0.001, 0) [   1.01350267 -287.03663102]\n",
            "(0.001, 0) [   1.01350267 -287.03663102]\n",
            "(0.001, 0) [   1.01350267 -287.03663102]\n"
          ]
        },
        {
          "output_type": "stream",
          "name": "stderr",
          "text": [
            "\rt:  90%|█████████ | 1173/1297 [01:09<00:04, 25.67it/s, now=None]WARNING:py.warnings:/usr/local/lib/python3.10/dist-packages/moviepy/video/io/ffmpeg_reader.py:123: UserWarning: Warning: in file test_videos/lanes_clip.mp4, 2764800 bytes wanted but 0 bytes read,at frame 1172/1298, at time 23.44/25.94 sec. Using the last valid frame instead.\n",
            "  warnings.warn(\"Warning: in file %s, \"%(self.filename)+\n",
            "\n",
            "WARNING:py.warnings:/usr/local/lib/python3.10/dist-packages/moviepy/video/io/ffmpeg_reader.py:123: UserWarning: Warning: in file test_videos/lanes_clip.mp4, 2764800 bytes wanted but 0 bytes read,at frame 1173/1298, at time 23.46/25.94 sec. Using the last valid frame instead.\n",
            "  warnings.warn(\"Warning: in file %s, \"%(self.filename)+\n",
            "\n",
            "WARNING:py.warnings:/usr/local/lib/python3.10/dist-packages/moviepy/video/io/ffmpeg_reader.py:123: UserWarning: Warning: in file test_videos/lanes_clip.mp4, 2764800 bytes wanted but 0 bytes read,at frame 1174/1298, at time 23.48/25.94 sec. Using the last valid frame instead.\n",
            "  warnings.warn(\"Warning: in file %s, \"%(self.filename)+\n",
            "\n",
            "t:  91%|█████████ | 1176/1297 [01:10<00:04, 26.62it/s, now=None]WARNING:py.warnings:/usr/local/lib/python3.10/dist-packages/moviepy/video/io/ffmpeg_reader.py:123: UserWarning: Warning: in file test_videos/lanes_clip.mp4, 2764800 bytes wanted but 0 bytes read,at frame 1175/1298, at time 23.50/25.94 sec. Using the last valid frame instead.\n",
            "  warnings.warn(\"Warning: in file %s, \"%(self.filename)+\n",
            "\n",
            "WARNING:py.warnings:/usr/local/lib/python3.10/dist-packages/moviepy/video/io/ffmpeg_reader.py:123: UserWarning: Warning: in file test_videos/lanes_clip.mp4, 2764800 bytes wanted but 0 bytes read,at frame 1176/1298, at time 23.52/25.94 sec. Using the last valid frame instead.\n",
            "  warnings.warn(\"Warning: in file %s, \"%(self.filename)+\n",
            "\n"
          ]
        },
        {
          "output_type": "stream",
          "name": "stdout",
          "text": [
            "(0.001, 0) [   1.01350267 -287.03663102]\n",
            "(0.001, 0) [   1.01350267 -287.03663102]\n",
            "(0.001, 0) [   1.01350267 -287.03663102]\n",
            "(0.001, 0) [   1.01350267 -287.03663102]\n",
            "(0.001, 0) [   1.01350267 -287.03663102]\n",
            "(0.001, 0) [   1.01350267 -287.03663102]\n"
          ]
        },
        {
          "output_type": "stream",
          "name": "stderr",
          "text": [
            "WARNING:py.warnings:/usr/local/lib/python3.10/dist-packages/moviepy/video/io/ffmpeg_reader.py:123: UserWarning: Warning: in file test_videos/lanes_clip.mp4, 2764800 bytes wanted but 0 bytes read,at frame 1177/1298, at time 23.54/25.94 sec. Using the last valid frame instead.\n",
            "  warnings.warn(\"Warning: in file %s, \"%(self.filename)+\n",
            "\n",
            "t:  91%|█████████ | 1179/1297 [01:10<00:04, 26.11it/s, now=None]WARNING:py.warnings:/usr/local/lib/python3.10/dist-packages/moviepy/video/io/ffmpeg_reader.py:123: UserWarning: Warning: in file test_videos/lanes_clip.mp4, 2764800 bytes wanted but 0 bytes read,at frame 1178/1298, at time 23.56/25.94 sec. Using the last valid frame instead.\n",
            "  warnings.warn(\"Warning: in file %s, \"%(self.filename)+\n",
            "\n",
            "WARNING:py.warnings:/usr/local/lib/python3.10/dist-packages/moviepy/video/io/ffmpeg_reader.py:123: UserWarning: Warning: in file test_videos/lanes_clip.mp4, 2764800 bytes wanted but 0 bytes read,at frame 1179/1298, at time 23.58/25.94 sec. Using the last valid frame instead.\n",
            "  warnings.warn(\"Warning: in file %s, \"%(self.filename)+\n",
            "\n",
            "WARNING:py.warnings:/usr/local/lib/python3.10/dist-packages/moviepy/video/io/ffmpeg_reader.py:123: UserWarning: Warning: in file test_videos/lanes_clip.mp4, 2764800 bytes wanted but 0 bytes read,at frame 1180/1298, at time 23.60/25.94 sec. Using the last valid frame instead.\n",
            "  warnings.warn(\"Warning: in file %s, \"%(self.filename)+\n",
            "\n",
            "t:  91%|█████████ | 1182/1297 [01:10<00:04, 26.47it/s, now=None]WARNING:py.warnings:/usr/local/lib/python3.10/dist-packages/moviepy/video/io/ffmpeg_reader.py:123: UserWarning: Warning: in file test_videos/lanes_clip.mp4, 2764800 bytes wanted but 0 bytes read,at frame 1181/1298, at time 23.62/25.94 sec. Using the last valid frame instead.\n",
            "  warnings.warn(\"Warning: in file %s, \"%(self.filename)+\n",
            "\n",
            "WARNING:py.warnings:/usr/local/lib/python3.10/dist-packages/moviepy/video/io/ffmpeg_reader.py:123: UserWarning: Warning: in file test_videos/lanes_clip.mp4, 2764800 bytes wanted but 0 bytes read,at frame 1182/1298, at time 23.64/25.94 sec. Using the last valid frame instead.\n",
            "  warnings.warn(\"Warning: in file %s, \"%(self.filename)+\n",
            "\n",
            "WARNING:py.warnings:/usr/local/lib/python3.10/dist-packages/moviepy/video/io/ffmpeg_reader.py:123: UserWarning: Warning: in file test_videos/lanes_clip.mp4, 2764800 bytes wanted but 0 bytes read,at frame 1183/1298, at time 23.66/25.94 sec. Using the last valid frame instead.\n",
            "  warnings.warn(\"Warning: in file %s, \"%(self.filename)+\n",
            "\n"
          ]
        },
        {
          "output_type": "stream",
          "name": "stdout",
          "text": [
            "(0.001, 0) [   1.01350267 -287.03663102]\n",
            "(0.001, 0) [   1.01350267 -287.03663102]\n",
            "(0.001, 0) [   1.01350267 -287.03663102]\n",
            "(0.001, 0) [   1.01350267 -287.03663102]\n",
            "(0.001, 0) [   1.01350267 -287.03663102]\n",
            "(0.001, 0) [   1.01350267 -287.03663102]\n"
          ]
        },
        {
          "output_type": "stream",
          "name": "stderr",
          "text": [
            "\rt:  91%|█████████▏| 1185/1297 [01:10<00:04, 24.80it/s, now=None]WARNING:py.warnings:/usr/local/lib/python3.10/dist-packages/moviepy/video/io/ffmpeg_reader.py:123: UserWarning: Warning: in file test_videos/lanes_clip.mp4, 2764800 bytes wanted but 0 bytes read,at frame 1184/1298, at time 23.68/25.94 sec. Using the last valid frame instead.\n",
            "  warnings.warn(\"Warning: in file %s, \"%(self.filename)+\n",
            "\n",
            "WARNING:py.warnings:/usr/local/lib/python3.10/dist-packages/moviepy/video/io/ffmpeg_reader.py:123: UserWarning: Warning: in file test_videos/lanes_clip.mp4, 2764800 bytes wanted but 0 bytes read,at frame 1185/1298, at time 23.70/25.94 sec. Using the last valid frame instead.\n",
            "  warnings.warn(\"Warning: in file %s, \"%(self.filename)+\n",
            "\n",
            "WARNING:py.warnings:/usr/local/lib/python3.10/dist-packages/moviepy/video/io/ffmpeg_reader.py:123: UserWarning: Warning: in file test_videos/lanes_clip.mp4, 2764800 bytes wanted but 0 bytes read,at frame 1186/1298, at time 23.72/25.94 sec. Using the last valid frame instead.\n",
            "  warnings.warn(\"Warning: in file %s, \"%(self.filename)+\n",
            "\n",
            "t:  92%|█████████▏| 1188/1297 [01:10<00:04, 24.62it/s, now=None]WARNING:py.warnings:/usr/local/lib/python3.10/dist-packages/moviepy/video/io/ffmpeg_reader.py:123: UserWarning: Warning: in file test_videos/lanes_clip.mp4, 2764800 bytes wanted but 0 bytes read,at frame 1187/1298, at time 23.74/25.94 sec. Using the last valid frame instead.\n",
            "  warnings.warn(\"Warning: in file %s, \"%(self.filename)+\n",
            "\n",
            "WARNING:py.warnings:/usr/local/lib/python3.10/dist-packages/moviepy/video/io/ffmpeg_reader.py:123: UserWarning: Warning: in file test_videos/lanes_clip.mp4, 2764800 bytes wanted but 0 bytes read,at frame 1188/1298, at time 23.76/25.94 sec. Using the last valid frame instead.\n",
            "  warnings.warn(\"Warning: in file %s, \"%(self.filename)+\n",
            "\n"
          ]
        },
        {
          "output_type": "stream",
          "name": "stdout",
          "text": [
            "(0.001, 0) [   1.01350267 -287.03663102]\n",
            "(0.001, 0) [   1.01350267 -287.03663102]\n",
            "(0.001, 0) [   1.01350267 -287.03663102]\n",
            "(0.001, 0) [   1.01350267 -287.03663102]\n",
            "(0.001, 0) [   1.01350267 -287.03663102]\n"
          ]
        },
        {
          "output_type": "stream",
          "name": "stderr",
          "text": [
            "WARNING:py.warnings:/usr/local/lib/python3.10/dist-packages/moviepy/video/io/ffmpeg_reader.py:123: UserWarning: Warning: in file test_videos/lanes_clip.mp4, 2764800 bytes wanted but 0 bytes read,at frame 1189/1298, at time 23.78/25.94 sec. Using the last valid frame instead.\n",
            "  warnings.warn(\"Warning: in file %s, \"%(self.filename)+\n",
            "\n",
            "t:  92%|█████████▏| 1191/1297 [01:10<00:04, 24.55it/s, now=None]WARNING:py.warnings:/usr/local/lib/python3.10/dist-packages/moviepy/video/io/ffmpeg_reader.py:123: UserWarning: Warning: in file test_videos/lanes_clip.mp4, 2764800 bytes wanted but 0 bytes read,at frame 1190/1298, at time 23.80/25.94 sec. Using the last valid frame instead.\n",
            "  warnings.warn(\"Warning: in file %s, \"%(self.filename)+\n",
            "\n",
            "WARNING:py.warnings:/usr/local/lib/python3.10/dist-packages/moviepy/video/io/ffmpeg_reader.py:123: UserWarning: Warning: in file test_videos/lanes_clip.mp4, 2764800 bytes wanted but 0 bytes read,at frame 1191/1298, at time 23.82/25.94 sec. Using the last valid frame instead.\n",
            "  warnings.warn(\"Warning: in file %s, \"%(self.filename)+\n",
            "\n",
            "WARNING:py.warnings:/usr/local/lib/python3.10/dist-packages/moviepy/video/io/ffmpeg_reader.py:123: UserWarning: Warning: in file test_videos/lanes_clip.mp4, 2764800 bytes wanted but 0 bytes read,at frame 1192/1298, at time 23.84/25.94 sec. Using the last valid frame instead.\n",
            "  warnings.warn(\"Warning: in file %s, \"%(self.filename)+\n",
            "\n",
            "t:  92%|█████████▏| 1194/1297 [01:10<00:04, 24.96it/s, now=None]WARNING:py.warnings:/usr/local/lib/python3.10/dist-packages/moviepy/video/io/ffmpeg_reader.py:123: UserWarning: Warning: in file test_videos/lanes_clip.mp4, 2764800 bytes wanted but 0 bytes read,at frame 1193/1298, at time 23.86/25.94 sec. Using the last valid frame instead.\n",
            "  warnings.warn(\"Warning: in file %s, \"%(self.filename)+\n",
            "\n"
          ]
        },
        {
          "output_type": "stream",
          "name": "stdout",
          "text": [
            "(0.001, 0) [   1.01350267 -287.03663102]\n",
            "(0.001, 0) [   1.01350267 -287.03663102]\n",
            "(0.001, 0) [   1.01350267 -287.03663102]\n",
            "(0.001, 0) [   1.01350267 -287.03663102]\n",
            "(0.001, 0) [   1.01350267 -287.03663102]\n",
            "(0.001, 0) [   1.01350267 -287.03663102]\n"
          ]
        },
        {
          "output_type": "stream",
          "name": "stderr",
          "text": [
            "WARNING:py.warnings:/usr/local/lib/python3.10/dist-packages/moviepy/video/io/ffmpeg_reader.py:123: UserWarning: Warning: in file test_videos/lanes_clip.mp4, 2764800 bytes wanted but 0 bytes read,at frame 1194/1298, at time 23.88/25.94 sec. Using the last valid frame instead.\n",
            "  warnings.warn(\"Warning: in file %s, \"%(self.filename)+\n",
            "\n",
            "WARNING:py.warnings:/usr/local/lib/python3.10/dist-packages/moviepy/video/io/ffmpeg_reader.py:123: UserWarning: Warning: in file test_videos/lanes_clip.mp4, 2764800 bytes wanted but 0 bytes read,at frame 1195/1298, at time 23.90/25.94 sec. Using the last valid frame instead.\n",
            "  warnings.warn(\"Warning: in file %s, \"%(self.filename)+\n",
            "\n",
            "t:  92%|█████████▏| 1197/1297 [01:10<00:03, 25.43it/s, now=None]WARNING:py.warnings:/usr/local/lib/python3.10/dist-packages/moviepy/video/io/ffmpeg_reader.py:123: UserWarning: Warning: in file test_videos/lanes_clip.mp4, 2764800 bytes wanted but 0 bytes read,at frame 1196/1298, at time 23.92/25.94 sec. Using the last valid frame instead.\n",
            "  warnings.warn(\"Warning: in file %s, \"%(self.filename)+\n",
            "\n",
            "WARNING:py.warnings:/usr/local/lib/python3.10/dist-packages/moviepy/video/io/ffmpeg_reader.py:123: UserWarning: Warning: in file test_videos/lanes_clip.mp4, 2764800 bytes wanted but 0 bytes read,at frame 1197/1298, at time 23.94/25.94 sec. Using the last valid frame instead.\n",
            "  warnings.warn(\"Warning: in file %s, \"%(self.filename)+\n",
            "\n",
            "WARNING:py.warnings:/usr/local/lib/python3.10/dist-packages/moviepy/video/io/ffmpeg_reader.py:123: UserWarning: Warning: in file test_videos/lanes_clip.mp4, 2764800 bytes wanted but 0 bytes read,at frame 1198/1298, at time 23.96/25.94 sec. Using the last valid frame instead.\n",
            "  warnings.warn(\"Warning: in file %s, \"%(self.filename)+\n",
            "\n",
            "t:  93%|█████████▎| 1200/1297 [01:11<00:03, 25.78it/s, now=None]WARNING:py.warnings:/usr/local/lib/python3.10/dist-packages/moviepy/video/io/ffmpeg_reader.py:123: UserWarning: Warning: in file test_videos/lanes_clip.mp4, 2764800 bytes wanted but 0 bytes read,at frame 1199/1298, at time 23.98/25.94 sec. Using the last valid frame instead.\n",
            "  warnings.warn(\"Warning: in file %s, \"%(self.filename)+\n",
            "\n"
          ]
        },
        {
          "output_type": "stream",
          "name": "stdout",
          "text": [
            "(0.001, 0) [   1.01350267 -287.03663102]\n",
            "(0.001, 0) [   1.01350267 -287.03663102]\n",
            "(0.001, 0) [   1.01350267 -287.03663102]\n",
            "(0.001, 0) [   1.01350267 -287.03663102]\n",
            "(0.001, 0) [   1.01350267 -287.03663102]\n"
          ]
        },
        {
          "output_type": "stream",
          "name": "stderr",
          "text": [
            "WARNING:py.warnings:/usr/local/lib/python3.10/dist-packages/moviepy/video/io/ffmpeg_reader.py:123: UserWarning: Warning: in file test_videos/lanes_clip.mp4, 2764800 bytes wanted but 0 bytes read,at frame 1200/1298, at time 24.00/25.94 sec. Using the last valid frame instead.\n",
            "  warnings.warn(\"Warning: in file %s, \"%(self.filename)+\n",
            "\n",
            "WARNING:py.warnings:/usr/local/lib/python3.10/dist-packages/moviepy/video/io/ffmpeg_reader.py:123: UserWarning: Warning: in file test_videos/lanes_clip.mp4, 2764800 bytes wanted but 0 bytes read,at frame 1201/1298, at time 24.02/25.94 sec. Using the last valid frame instead.\n",
            "  warnings.warn(\"Warning: in file %s, \"%(self.filename)+\n",
            "\n",
            "t:  93%|█████████▎| 1203/1297 [01:11<00:03, 25.86it/s, now=None]WARNING:py.warnings:/usr/local/lib/python3.10/dist-packages/moviepy/video/io/ffmpeg_reader.py:123: UserWarning: Warning: in file test_videos/lanes_clip.mp4, 2764800 bytes wanted but 0 bytes read,at frame 1202/1298, at time 24.04/25.94 sec. Using the last valid frame instead.\n",
            "  warnings.warn(\"Warning: in file %s, \"%(self.filename)+\n",
            "\n",
            "WARNING:py.warnings:/usr/local/lib/python3.10/dist-packages/moviepy/video/io/ffmpeg_reader.py:123: UserWarning: Warning: in file test_videos/lanes_clip.mp4, 2764800 bytes wanted but 0 bytes read,at frame 1203/1298, at time 24.06/25.94 sec. Using the last valid frame instead.\n",
            "  warnings.warn(\"Warning: in file %s, \"%(self.filename)+\n",
            "\n",
            "WARNING:py.warnings:/usr/local/lib/python3.10/dist-packages/moviepy/video/io/ffmpeg_reader.py:123: UserWarning: Warning: in file test_videos/lanes_clip.mp4, 2764800 bytes wanted but 0 bytes read,at frame 1204/1298, at time 24.08/25.94 sec. Using the last valid frame instead.\n",
            "  warnings.warn(\"Warning: in file %s, \"%(self.filename)+\n",
            "\n"
          ]
        },
        {
          "output_type": "stream",
          "name": "stdout",
          "text": [
            "(0.001, 0) [   1.01350267 -287.03663102]\n",
            "(0.001, 0) [   1.01350267 -287.03663102]\n",
            "(0.001, 0) [   1.01350267 -287.03663102]\n",
            "(0.001, 0) [   1.01350267 -287.03663102]\n",
            "(0.001, 0) [   1.01350267 -287.03663102]\n",
            "(0.001, 0) [   1.01350267 -287.03663102]\n"
          ]
        },
        {
          "output_type": "stream",
          "name": "stderr",
          "text": [
            "\rt:  93%|█████████▎| 1206/1297 [01:11<00:03, 25.32it/s, now=None]WARNING:py.warnings:/usr/local/lib/python3.10/dist-packages/moviepy/video/io/ffmpeg_reader.py:123: UserWarning: Warning: in file test_videos/lanes_clip.mp4, 2764800 bytes wanted but 0 bytes read,at frame 1205/1298, at time 24.10/25.94 sec. Using the last valid frame instead.\n",
            "  warnings.warn(\"Warning: in file %s, \"%(self.filename)+\n",
            "\n",
            "WARNING:py.warnings:/usr/local/lib/python3.10/dist-packages/moviepy/video/io/ffmpeg_reader.py:123: UserWarning: Warning: in file test_videos/lanes_clip.mp4, 2764800 bytes wanted but 0 bytes read,at frame 1206/1298, at time 24.12/25.94 sec. Using the last valid frame instead.\n",
            "  warnings.warn(\"Warning: in file %s, \"%(self.filename)+\n",
            "\n",
            "WARNING:py.warnings:/usr/local/lib/python3.10/dist-packages/moviepy/video/io/ffmpeg_reader.py:123: UserWarning: Warning: in file test_videos/lanes_clip.mp4, 2764800 bytes wanted but 0 bytes read,at frame 1207/1298, at time 24.14/25.94 sec. Using the last valid frame instead.\n",
            "  warnings.warn(\"Warning: in file %s, \"%(self.filename)+\n",
            "\n",
            "t:  93%|█████████▎| 1209/1297 [01:11<00:03, 25.88it/s, now=None]WARNING:py.warnings:/usr/local/lib/python3.10/dist-packages/moviepy/video/io/ffmpeg_reader.py:123: UserWarning: Warning: in file test_videos/lanes_clip.mp4, 2764800 bytes wanted but 0 bytes read,at frame 1208/1298, at time 24.16/25.94 sec. Using the last valid frame instead.\n",
            "  warnings.warn(\"Warning: in file %s, \"%(self.filename)+\n",
            "\n",
            "WARNING:py.warnings:/usr/local/lib/python3.10/dist-packages/moviepy/video/io/ffmpeg_reader.py:123: UserWarning: Warning: in file test_videos/lanes_clip.mp4, 2764800 bytes wanted but 0 bytes read,at frame 1209/1298, at time 24.18/25.94 sec. Using the last valid frame instead.\n",
            "  warnings.warn(\"Warning: in file %s, \"%(self.filename)+\n",
            "\n",
            "WARNING:py.warnings:/usr/local/lib/python3.10/dist-packages/moviepy/video/io/ffmpeg_reader.py:123: UserWarning: Warning: in file test_videos/lanes_clip.mp4, 2764800 bytes wanted but 0 bytes read,at frame 1210/1298, at time 24.20/25.94 sec. Using the last valid frame instead.\n",
            "  warnings.warn(\"Warning: in file %s, \"%(self.filename)+\n",
            "\n"
          ]
        },
        {
          "output_type": "stream",
          "name": "stdout",
          "text": [
            "(0.001, 0) [   1.01350267 -287.03663102]\n",
            "(0.001, 0) [   1.01350267 -287.03663102]\n",
            "(0.001, 0) [   1.01350267 -287.03663102]\n",
            "(0.001, 0) [   1.01350267 -287.03663102]\n",
            "(0.001, 0) [   1.01350267 -287.03663102]\n",
            "(0.001, 0) [   1.01350267 -287.03663102]\n"
          ]
        },
        {
          "output_type": "stream",
          "name": "stderr",
          "text": [
            "\rt:  93%|█████████▎| 1212/1297 [01:11<00:03, 25.27it/s, now=None]WARNING:py.warnings:/usr/local/lib/python3.10/dist-packages/moviepy/video/io/ffmpeg_reader.py:123: UserWarning: Warning: in file test_videos/lanes_clip.mp4, 2764800 bytes wanted but 0 bytes read,at frame 1211/1298, at time 24.22/25.94 sec. Using the last valid frame instead.\n",
            "  warnings.warn(\"Warning: in file %s, \"%(self.filename)+\n",
            "\n",
            "WARNING:py.warnings:/usr/local/lib/python3.10/dist-packages/moviepy/video/io/ffmpeg_reader.py:123: UserWarning: Warning: in file test_videos/lanes_clip.mp4, 2764800 bytes wanted but 0 bytes read,at frame 1212/1298, at time 24.24/25.94 sec. Using the last valid frame instead.\n",
            "  warnings.warn(\"Warning: in file %s, \"%(self.filename)+\n",
            "\n",
            "WARNING:py.warnings:/usr/local/lib/python3.10/dist-packages/moviepy/video/io/ffmpeg_reader.py:123: UserWarning: Warning: in file test_videos/lanes_clip.mp4, 2764800 bytes wanted but 0 bytes read,at frame 1213/1298, at time 24.26/25.94 sec. Using the last valid frame instead.\n",
            "  warnings.warn(\"Warning: in file %s, \"%(self.filename)+\n",
            "\n",
            "t:  94%|█████████▎| 1215/1297 [01:11<00:03, 24.32it/s, now=None]WARNING:py.warnings:/usr/local/lib/python3.10/dist-packages/moviepy/video/io/ffmpeg_reader.py:123: UserWarning: Warning: in file test_videos/lanes_clip.mp4, 2764800 bytes wanted but 0 bytes read,at frame 1214/1298, at time 24.28/25.94 sec. Using the last valid frame instead.\n",
            "  warnings.warn(\"Warning: in file %s, \"%(self.filename)+\n",
            "\n",
            "WARNING:py.warnings:/usr/local/lib/python3.10/dist-packages/moviepy/video/io/ffmpeg_reader.py:123: UserWarning: Warning: in file test_videos/lanes_clip.mp4, 2764800 bytes wanted but 0 bytes read,at frame 1215/1298, at time 24.30/25.94 sec. Using the last valid frame instead.\n",
            "  warnings.warn(\"Warning: in file %s, \"%(self.filename)+\n",
            "\n",
            "WARNING:py.warnings:/usr/local/lib/python3.10/dist-packages/moviepy/video/io/ffmpeg_reader.py:123: UserWarning: Warning: in file test_videos/lanes_clip.mp4, 2764800 bytes wanted but 0 bytes read,at frame 1216/1298, at time 24.32/25.94 sec. Using the last valid frame instead.\n",
            "  warnings.warn(\"Warning: in file %s, \"%(self.filename)+\n",
            "\n"
          ]
        },
        {
          "output_type": "stream",
          "name": "stdout",
          "text": [
            "(0.001, 0) [   1.01350267 -287.03663102]\n",
            "(0.001, 0) [   1.01350267 -287.03663102]\n",
            "(0.001, 0) [   1.01350267 -287.03663102]\n",
            "(0.001, 0) [   1.01350267 -287.03663102]\n",
            "(0.001, 0) [   1.01350267 -287.03663102]\n",
            "(0.001, 0) [   1.01350267 -287.03663102]\n"
          ]
        },
        {
          "output_type": "stream",
          "name": "stderr",
          "text": [
            "\rt:  94%|█████████▍| 1218/1297 [01:11<00:03, 24.98it/s, now=None]WARNING:py.warnings:/usr/local/lib/python3.10/dist-packages/moviepy/video/io/ffmpeg_reader.py:123: UserWarning: Warning: in file test_videos/lanes_clip.mp4, 2764800 bytes wanted but 0 bytes read,at frame 1217/1298, at time 24.34/25.94 sec. Using the last valid frame instead.\n",
            "  warnings.warn(\"Warning: in file %s, \"%(self.filename)+\n",
            "\n",
            "WARNING:py.warnings:/usr/local/lib/python3.10/dist-packages/moviepy/video/io/ffmpeg_reader.py:123: UserWarning: Warning: in file test_videos/lanes_clip.mp4, 2764800 bytes wanted but 0 bytes read,at frame 1218/1298, at time 24.36/25.94 sec. Using the last valid frame instead.\n",
            "  warnings.warn(\"Warning: in file %s, \"%(self.filename)+\n",
            "\n",
            "WARNING:py.warnings:/usr/local/lib/python3.10/dist-packages/moviepy/video/io/ffmpeg_reader.py:123: UserWarning: Warning: in file test_videos/lanes_clip.mp4, 2764800 bytes wanted but 0 bytes read,at frame 1219/1298, at time 24.38/25.94 sec. Using the last valid frame instead.\n",
            "  warnings.warn(\"Warning: in file %s, \"%(self.filename)+\n",
            "\n",
            "t:  94%|█████████▍| 1221/1297 [01:11<00:03, 24.96it/s, now=None]WARNING:py.warnings:/usr/local/lib/python3.10/dist-packages/moviepy/video/io/ffmpeg_reader.py:123: UserWarning: Warning: in file test_videos/lanes_clip.mp4, 2764800 bytes wanted but 0 bytes read,at frame 1220/1298, at time 24.40/25.94 sec. Using the last valid frame instead.\n",
            "  warnings.warn(\"Warning: in file %s, \"%(self.filename)+\n",
            "\n",
            "WARNING:py.warnings:/usr/local/lib/python3.10/dist-packages/moviepy/video/io/ffmpeg_reader.py:123: UserWarning: Warning: in file test_videos/lanes_clip.mp4, 2764800 bytes wanted but 0 bytes read,at frame 1221/1298, at time 24.42/25.94 sec. Using the last valid frame instead.\n",
            "  warnings.warn(\"Warning: in file %s, \"%(self.filename)+\n",
            "\n",
            "WARNING:py.warnings:/usr/local/lib/python3.10/dist-packages/moviepy/video/io/ffmpeg_reader.py:123: UserWarning: Warning: in file test_videos/lanes_clip.mp4, 2764800 bytes wanted but 0 bytes read,at frame 1222/1298, at time 24.44/25.94 sec. Using the last valid frame instead.\n",
            "  warnings.warn(\"Warning: in file %s, \"%(self.filename)+\n",
            "\n"
          ]
        },
        {
          "output_type": "stream",
          "name": "stdout",
          "text": [
            "(0.001, 0) [   1.01350267 -287.03663102]\n",
            "(0.001, 0) [   1.01350267 -287.03663102]\n",
            "(0.001, 0) [   1.01350267 -287.03663102]\n",
            "(0.001, 0) [   1.01350267 -287.03663102]\n",
            "(0.001, 0) [   1.01350267 -287.03663102]\n"
          ]
        },
        {
          "output_type": "stream",
          "name": "stderr",
          "text": [
            "\rt:  94%|█████████▍| 1224/1297 [01:11<00:02, 24.68it/s, now=None]WARNING:py.warnings:/usr/local/lib/python3.10/dist-packages/moviepy/video/io/ffmpeg_reader.py:123: UserWarning: Warning: in file test_videos/lanes_clip.mp4, 2764800 bytes wanted but 0 bytes read,at frame 1223/1298, at time 24.46/25.94 sec. Using the last valid frame instead.\n",
            "  warnings.warn(\"Warning: in file %s, \"%(self.filename)+\n",
            "\n",
            "WARNING:py.warnings:/usr/local/lib/python3.10/dist-packages/moviepy/video/io/ffmpeg_reader.py:123: UserWarning: Warning: in file test_videos/lanes_clip.mp4, 2764800 bytes wanted but 0 bytes read,at frame 1224/1298, at time 24.48/25.94 sec. Using the last valid frame instead.\n",
            "  warnings.warn(\"Warning: in file %s, \"%(self.filename)+\n",
            "\n",
            "WARNING:py.warnings:/usr/local/lib/python3.10/dist-packages/moviepy/video/io/ffmpeg_reader.py:123: UserWarning: Warning: in file test_videos/lanes_clip.mp4, 2764800 bytes wanted but 0 bytes read,at frame 1225/1298, at time 24.50/25.94 sec. Using the last valid frame instead.\n",
            "  warnings.warn(\"Warning: in file %s, \"%(self.filename)+\n",
            "\n",
            "t:  95%|█████████▍| 1227/1297 [01:12<00:02, 24.79it/s, now=None]WARNING:py.warnings:/usr/local/lib/python3.10/dist-packages/moviepy/video/io/ffmpeg_reader.py:123: UserWarning: Warning: in file test_videos/lanes_clip.mp4, 2764800 bytes wanted but 0 bytes read,at frame 1226/1298, at time 24.52/25.94 sec. Using the last valid frame instead.\n",
            "  warnings.warn(\"Warning: in file %s, \"%(self.filename)+\n",
            "\n",
            "WARNING:py.warnings:/usr/local/lib/python3.10/dist-packages/moviepy/video/io/ffmpeg_reader.py:123: UserWarning: Warning: in file test_videos/lanes_clip.mp4, 2764800 bytes wanted but 0 bytes read,at frame 1227/1298, at time 24.54/25.94 sec. Using the last valid frame instead.\n",
            "  warnings.warn(\"Warning: in file %s, \"%(self.filename)+\n",
            "\n",
            "WARNING:py.warnings:/usr/local/lib/python3.10/dist-packages/moviepy/video/io/ffmpeg_reader.py:123: UserWarning: Warning: in file test_videos/lanes_clip.mp4, 2764800 bytes wanted but 0 bytes read,at frame 1228/1298, at time 24.56/25.94 sec. Using the last valid frame instead.\n",
            "  warnings.warn(\"Warning: in file %s, \"%(self.filename)+\n",
            "\n"
          ]
        },
        {
          "output_type": "stream",
          "name": "stdout",
          "text": [
            "(0.001, 0) [   1.01350267 -287.03663102]\n",
            "(0.001, 0) [   1.01350267 -287.03663102]\n",
            "(0.001, 0) [   1.01350267 -287.03663102]\n",
            "(0.001, 0) [   1.01350267 -287.03663102]\n",
            "(0.001, 0) [   1.01350267 -287.03663102]\n",
            "(0.001, 0) [   1.01350267 -287.03663102]\n"
          ]
        },
        {
          "output_type": "stream",
          "name": "stderr",
          "text": [
            "WARNING:py.warnings:/usr/local/lib/python3.10/dist-packages/moviepy/video/io/ffmpeg_reader.py:123: UserWarning: Warning: in file test_videos/lanes_clip.mp4, 2764800 bytes wanted but 0 bytes read,at frame 1229/1298, at time 24.58/25.94 sec. Using the last valid frame instead.\n",
            "  warnings.warn(\"Warning: in file %s, \"%(self.filename)+\n",
            "\n",
            "t:  95%|█████████▍| 1231/1297 [01:12<00:02, 26.54it/s, now=None]WARNING:py.warnings:/usr/local/lib/python3.10/dist-packages/moviepy/video/io/ffmpeg_reader.py:123: UserWarning: Warning: in file test_videos/lanes_clip.mp4, 2764800 bytes wanted but 0 bytes read,at frame 1230/1298, at time 24.60/25.94 sec. Using the last valid frame instead.\n",
            "  warnings.warn(\"Warning: in file %s, \"%(self.filename)+\n",
            "\n",
            "WARNING:py.warnings:/usr/local/lib/python3.10/dist-packages/moviepy/video/io/ffmpeg_reader.py:123: UserWarning: Warning: in file test_videos/lanes_clip.mp4, 2764800 bytes wanted but 0 bytes read,at frame 1231/1298, at time 24.62/25.94 sec. Using the last valid frame instead.\n",
            "  warnings.warn(\"Warning: in file %s, \"%(self.filename)+\n",
            "\n",
            "WARNING:py.warnings:/usr/local/lib/python3.10/dist-packages/moviepy/video/io/ffmpeg_reader.py:123: UserWarning: Warning: in file test_videos/lanes_clip.mp4, 2764800 bytes wanted but 0 bytes read,at frame 1232/1298, at time 24.64/25.94 sec. Using the last valid frame instead.\n",
            "  warnings.warn(\"Warning: in file %s, \"%(self.filename)+\n",
            "\n",
            "t:  95%|█████████▌| 1234/1297 [01:12<00:02, 24.65it/s, now=None]WARNING:py.warnings:/usr/local/lib/python3.10/dist-packages/moviepy/video/io/ffmpeg_reader.py:123: UserWarning: Warning: in file test_videos/lanes_clip.mp4, 2764800 bytes wanted but 0 bytes read,at frame 1233/1298, at time 24.66/25.94 sec. Using the last valid frame instead.\n",
            "  warnings.warn(\"Warning: in file %s, \"%(self.filename)+\n",
            "\n"
          ]
        },
        {
          "output_type": "stream",
          "name": "stdout",
          "text": [
            "(0.001, 0) [   1.01350267 -287.03663102]\n",
            "(0.001, 0) [   1.01350267 -287.03663102]\n",
            "(0.001, 0) [   1.01350267 -287.03663102]\n",
            "(0.001, 0) [   1.01350267 -287.03663102]\n",
            "(0.001, 0) [   1.01350267 -287.03663102]\n",
            "(0.001, 0) [   1.01350267 -287.03663102]\n"
          ]
        },
        {
          "output_type": "stream",
          "name": "stderr",
          "text": [
            "WARNING:py.warnings:/usr/local/lib/python3.10/dist-packages/moviepy/video/io/ffmpeg_reader.py:123: UserWarning: Warning: in file test_videos/lanes_clip.mp4, 2764800 bytes wanted but 0 bytes read,at frame 1234/1298, at time 24.68/25.94 sec. Using the last valid frame instead.\n",
            "  warnings.warn(\"Warning: in file %s, \"%(self.filename)+\n",
            "\n",
            "WARNING:py.warnings:/usr/local/lib/python3.10/dist-packages/moviepy/video/io/ffmpeg_reader.py:123: UserWarning: Warning: in file test_videos/lanes_clip.mp4, 2764800 bytes wanted but 0 bytes read,at frame 1235/1298, at time 24.70/25.94 sec. Using the last valid frame instead.\n",
            "  warnings.warn(\"Warning: in file %s, \"%(self.filename)+\n",
            "\n",
            "t:  95%|█████████▌| 1237/1297 [01:12<00:02, 25.51it/s, now=None]WARNING:py.warnings:/usr/local/lib/python3.10/dist-packages/moviepy/video/io/ffmpeg_reader.py:123: UserWarning: Warning: in file test_videos/lanes_clip.mp4, 2764800 bytes wanted but 0 bytes read,at frame 1236/1298, at time 24.72/25.94 sec. Using the last valid frame instead.\n",
            "  warnings.warn(\"Warning: in file %s, \"%(self.filename)+\n",
            "\n",
            "WARNING:py.warnings:/usr/local/lib/python3.10/dist-packages/moviepy/video/io/ffmpeg_reader.py:123: UserWarning: Warning: in file test_videos/lanes_clip.mp4, 2764800 bytes wanted but 0 bytes read,at frame 1237/1298, at time 24.74/25.94 sec. Using the last valid frame instead.\n",
            "  warnings.warn(\"Warning: in file %s, \"%(self.filename)+\n",
            "\n",
            "WARNING:py.warnings:/usr/local/lib/python3.10/dist-packages/moviepy/video/io/ffmpeg_reader.py:123: UserWarning: Warning: in file test_videos/lanes_clip.mp4, 2764800 bytes wanted but 0 bytes read,at frame 1238/1298, at time 24.76/25.94 sec. Using the last valid frame instead.\n",
            "  warnings.warn(\"Warning: in file %s, \"%(self.filename)+\n",
            "\n",
            "t:  96%|█████████▌| 1240/1297 [01:12<00:02, 24.64it/s, now=None]WARNING:py.warnings:/usr/local/lib/python3.10/dist-packages/moviepy/video/io/ffmpeg_reader.py:123: UserWarning: Warning: in file test_videos/lanes_clip.mp4, 2764800 bytes wanted but 0 bytes read,at frame 1239/1298, at time 24.78/25.94 sec. Using the last valid frame instead.\n",
            "  warnings.warn(\"Warning: in file %s, \"%(self.filename)+\n",
            "\n"
          ]
        },
        {
          "output_type": "stream",
          "name": "stdout",
          "text": [
            "(0.001, 0) [   1.01350267 -287.03663102]\n",
            "(0.001, 0) [   1.01350267 -287.03663102]\n",
            "(0.001, 0) [   1.01350267 -287.03663102]\n",
            "(0.001, 0) [   1.01350267 -287.03663102]\n",
            "(0.001, 0) [   1.01350267 -287.03663102]\n",
            "(0.001, 0) [   1.01350267 -287.03663102]\n"
          ]
        },
        {
          "output_type": "stream",
          "name": "stderr",
          "text": [
            "WARNING:py.warnings:/usr/local/lib/python3.10/dist-packages/moviepy/video/io/ffmpeg_reader.py:123: UserWarning: Warning: in file test_videos/lanes_clip.mp4, 2764800 bytes wanted but 0 bytes read,at frame 1240/1298, at time 24.80/25.94 sec. Using the last valid frame instead.\n",
            "  warnings.warn(\"Warning: in file %s, \"%(self.filename)+\n",
            "\n",
            "WARNING:py.warnings:/usr/local/lib/python3.10/dist-packages/moviepy/video/io/ffmpeg_reader.py:123: UserWarning: Warning: in file test_videos/lanes_clip.mp4, 2764800 bytes wanted but 0 bytes read,at frame 1241/1298, at time 24.82/25.94 sec. Using the last valid frame instead.\n",
            "  warnings.warn(\"Warning: in file %s, \"%(self.filename)+\n",
            "\n",
            "t:  96%|█████████▌| 1243/1297 [01:12<00:02, 24.65it/s, now=None]WARNING:py.warnings:/usr/local/lib/python3.10/dist-packages/moviepy/video/io/ffmpeg_reader.py:123: UserWarning: Warning: in file test_videos/lanes_clip.mp4, 2764800 bytes wanted but 0 bytes read,at frame 1242/1298, at time 24.84/25.94 sec. Using the last valid frame instead.\n",
            "  warnings.warn(\"Warning: in file %s, \"%(self.filename)+\n",
            "\n",
            "WARNING:py.warnings:/usr/local/lib/python3.10/dist-packages/moviepy/video/io/ffmpeg_reader.py:123: UserWarning: Warning: in file test_videos/lanes_clip.mp4, 2764800 bytes wanted but 0 bytes read,at frame 1243/1298, at time 24.86/25.94 sec. Using the last valid frame instead.\n",
            "  warnings.warn(\"Warning: in file %s, \"%(self.filename)+\n",
            "\n",
            "WARNING:py.warnings:/usr/local/lib/python3.10/dist-packages/moviepy/video/io/ffmpeg_reader.py:123: UserWarning: Warning: in file test_videos/lanes_clip.mp4, 2764800 bytes wanted but 0 bytes read,at frame 1244/1298, at time 24.88/25.94 sec. Using the last valid frame instead.\n",
            "  warnings.warn(\"Warning: in file %s, \"%(self.filename)+\n",
            "\n",
            "t:  96%|█████████▌| 1246/1297 [01:12<00:02, 24.81it/s, now=None]WARNING:py.warnings:/usr/local/lib/python3.10/dist-packages/moviepy/video/io/ffmpeg_reader.py:123: UserWarning: Warning: in file test_videos/lanes_clip.mp4, 2764800 bytes wanted but 0 bytes read,at frame 1245/1298, at time 24.90/25.94 sec. Using the last valid frame instead.\n",
            "  warnings.warn(\"Warning: in file %s, \"%(self.filename)+\n",
            "\n",
            "WARNING:py.warnings:/usr/local/lib/python3.10/dist-packages/moviepy/video/io/ffmpeg_reader.py:123: UserWarning: Warning: in file test_videos/lanes_clip.mp4, 2764800 bytes wanted but 0 bytes read,at frame 1246/1298, at time 24.92/25.94 sec. Using the last valid frame instead.\n",
            "  warnings.warn(\"Warning: in file %s, \"%(self.filename)+\n",
            "\n"
          ]
        },
        {
          "output_type": "stream",
          "name": "stdout",
          "text": [
            "(0.001, 0) [   1.01350267 -287.03663102]\n",
            "(0.001, 0) [   1.01350267 -287.03663102]\n",
            "(0.001, 0) [   1.01350267 -287.03663102]\n",
            "(0.001, 0) [   1.01350267 -287.03663102]\n",
            "(0.001, 0) [   1.01350267 -287.03663102]\n",
            "(0.001, 0) [   1.01350267 -287.03663102]\n"
          ]
        },
        {
          "output_type": "stream",
          "name": "stderr",
          "text": [
            "WARNING:py.warnings:/usr/local/lib/python3.10/dist-packages/moviepy/video/io/ffmpeg_reader.py:123: UserWarning: Warning: in file test_videos/lanes_clip.mp4, 2764800 bytes wanted but 0 bytes read,at frame 1247/1298, at time 24.94/25.94 sec. Using the last valid frame instead.\n",
            "  warnings.warn(\"Warning: in file %s, \"%(self.filename)+\n",
            "\n",
            "t:  96%|█████████▋| 1249/1297 [01:12<00:01, 25.62it/s, now=None]WARNING:py.warnings:/usr/local/lib/python3.10/dist-packages/moviepy/video/io/ffmpeg_reader.py:123: UserWarning: Warning: in file test_videos/lanes_clip.mp4, 2764800 bytes wanted but 0 bytes read,at frame 1248/1298, at time 24.96/25.94 sec. Using the last valid frame instead.\n",
            "  warnings.warn(\"Warning: in file %s, \"%(self.filename)+\n",
            "\n",
            "WARNING:py.warnings:/usr/local/lib/python3.10/dist-packages/moviepy/video/io/ffmpeg_reader.py:123: UserWarning: Warning: in file test_videos/lanes_clip.mp4, 2764800 bytes wanted but 0 bytes read,at frame 1249/1298, at time 24.98/25.94 sec. Using the last valid frame instead.\n",
            "  warnings.warn(\"Warning: in file %s, \"%(self.filename)+\n",
            "\n",
            "WARNING:py.warnings:/usr/local/lib/python3.10/dist-packages/moviepy/video/io/ffmpeg_reader.py:123: UserWarning: Warning: in file test_videos/lanes_clip.mp4, 2764800 bytes wanted but 0 bytes read,at frame 1250/1298, at time 25.00/25.94 sec. Using the last valid frame instead.\n",
            "  warnings.warn(\"Warning: in file %s, \"%(self.filename)+\n",
            "\n",
            "t:  97%|█████████▋| 1252/1297 [01:13<00:01, 26.31it/s, now=None]WARNING:py.warnings:/usr/local/lib/python3.10/dist-packages/moviepy/video/io/ffmpeg_reader.py:123: UserWarning: Warning: in file test_videos/lanes_clip.mp4, 2764800 bytes wanted but 0 bytes read,at frame 1251/1298, at time 25.02/25.94 sec. Using the last valid frame instead.\n",
            "  warnings.warn(\"Warning: in file %s, \"%(self.filename)+\n",
            "\n",
            "WARNING:py.warnings:/usr/local/lib/python3.10/dist-packages/moviepy/video/io/ffmpeg_reader.py:123: UserWarning: Warning: in file test_videos/lanes_clip.mp4, 2764800 bytes wanted but 0 bytes read,at frame 1252/1298, at time 25.04/25.94 sec. Using the last valid frame instead.\n",
            "  warnings.warn(\"Warning: in file %s, \"%(self.filename)+\n",
            "\n"
          ]
        },
        {
          "output_type": "stream",
          "name": "stdout",
          "text": [
            "(0.001, 0) [   1.01350267 -287.03663102]\n",
            "(0.001, 0) [   1.01350267 -287.03663102]\n",
            "(0.001, 0) [   1.01350267 -287.03663102]\n",
            "(0.001, 0) [   1.01350267 -287.03663102]\n",
            "(0.001, 0) [   1.01350267 -287.03663102]\n",
            "(0.001, 0) [   1.01350267 -287.03663102]\n"
          ]
        },
        {
          "output_type": "stream",
          "name": "stderr",
          "text": [
            "WARNING:py.warnings:/usr/local/lib/python3.10/dist-packages/moviepy/video/io/ffmpeg_reader.py:123: UserWarning: Warning: in file test_videos/lanes_clip.mp4, 2764800 bytes wanted but 0 bytes read,at frame 1253/1298, at time 25.06/25.94 sec. Using the last valid frame instead.\n",
            "  warnings.warn(\"Warning: in file %s, \"%(self.filename)+\n",
            "\n",
            "WARNING:py.warnings:/usr/local/lib/python3.10/dist-packages/moviepy/video/io/ffmpeg_reader.py:123: UserWarning: Warning: in file test_videos/lanes_clip.mp4, 2764800 bytes wanted but 0 bytes read,at frame 1254/1298, at time 25.08/25.94 sec. Using the last valid frame instead.\n",
            "  warnings.warn(\"Warning: in file %s, \"%(self.filename)+\n",
            "\n",
            "t:  97%|█████████▋| 1256/1297 [01:13<00:01, 26.68it/s, now=None]WARNING:py.warnings:/usr/local/lib/python3.10/dist-packages/moviepy/video/io/ffmpeg_reader.py:123: UserWarning: Warning: in file test_videos/lanes_clip.mp4, 2764800 bytes wanted but 0 bytes read,at frame 1255/1298, at time 25.10/25.94 sec. Using the last valid frame instead.\n",
            "  warnings.warn(\"Warning: in file %s, \"%(self.filename)+\n",
            "\n",
            "WARNING:py.warnings:/usr/local/lib/python3.10/dist-packages/moviepy/video/io/ffmpeg_reader.py:123: UserWarning: Warning: in file test_videos/lanes_clip.mp4, 2764800 bytes wanted but 0 bytes read,at frame 1256/1298, at time 25.12/25.94 sec. Using the last valid frame instead.\n",
            "  warnings.warn(\"Warning: in file %s, \"%(self.filename)+\n",
            "\n",
            "WARNING:py.warnings:/usr/local/lib/python3.10/dist-packages/moviepy/video/io/ffmpeg_reader.py:123: UserWarning: Warning: in file test_videos/lanes_clip.mp4, 2764800 bytes wanted but 0 bytes read,at frame 1257/1298, at time 25.14/25.94 sec. Using the last valid frame instead.\n",
            "  warnings.warn(\"Warning: in file %s, \"%(self.filename)+\n",
            "\n"
          ]
        },
        {
          "output_type": "stream",
          "name": "stdout",
          "text": [
            "(0.001, 0) [   1.01350267 -287.03663102]\n",
            "(0.001, 0) [   1.01350267 -287.03663102]\n",
            "(0.001, 0) [   1.01350267 -287.03663102]\n",
            "(0.001, 0) [   1.01350267 -287.03663102]\n",
            "(0.001, 0) [   1.01350267 -287.03663102]\n",
            "(0.001, 0) [   1.01350267 -287.03663102]\n"
          ]
        },
        {
          "output_type": "stream",
          "name": "stderr",
          "text": [
            "\rt:  97%|█████████▋| 1259/1297 [01:13<00:01, 25.69it/s, now=None]WARNING:py.warnings:/usr/local/lib/python3.10/dist-packages/moviepy/video/io/ffmpeg_reader.py:123: UserWarning: Warning: in file test_videos/lanes_clip.mp4, 2764800 bytes wanted but 0 bytes read,at frame 1258/1298, at time 25.16/25.94 sec. Using the last valid frame instead.\n",
            "  warnings.warn(\"Warning: in file %s, \"%(self.filename)+\n",
            "\n",
            "WARNING:py.warnings:/usr/local/lib/python3.10/dist-packages/moviepy/video/io/ffmpeg_reader.py:123: UserWarning: Warning: in file test_videos/lanes_clip.mp4, 2764800 bytes wanted but 0 bytes read,at frame 1259/1298, at time 25.18/25.94 sec. Using the last valid frame instead.\n",
            "  warnings.warn(\"Warning: in file %s, \"%(self.filename)+\n",
            "\n",
            "WARNING:py.warnings:/usr/local/lib/python3.10/dist-packages/moviepy/video/io/ffmpeg_reader.py:123: UserWarning: Warning: in file test_videos/lanes_clip.mp4, 2764800 bytes wanted but 0 bytes read,at frame 1260/1298, at time 25.20/25.94 sec. Using the last valid frame instead.\n",
            "  warnings.warn(\"Warning: in file %s, \"%(self.filename)+\n",
            "\n",
            "t:  97%|█████████▋| 1262/1297 [01:13<00:01, 26.09it/s, now=None]WARNING:py.warnings:/usr/local/lib/python3.10/dist-packages/moviepy/video/io/ffmpeg_reader.py:123: UserWarning: Warning: in file test_videos/lanes_clip.mp4, 2764800 bytes wanted but 0 bytes read,at frame 1261/1298, at time 25.22/25.94 sec. Using the last valid frame instead.\n",
            "  warnings.warn(\"Warning: in file %s, \"%(self.filename)+\n",
            "\n",
            "WARNING:py.warnings:/usr/local/lib/python3.10/dist-packages/moviepy/video/io/ffmpeg_reader.py:123: UserWarning: Warning: in file test_videos/lanes_clip.mp4, 2764800 bytes wanted but 0 bytes read,at frame 1262/1298, at time 25.24/25.94 sec. Using the last valid frame instead.\n",
            "  warnings.warn(\"Warning: in file %s, \"%(self.filename)+\n",
            "\n",
            "WARNING:py.warnings:/usr/local/lib/python3.10/dist-packages/moviepy/video/io/ffmpeg_reader.py:123: UserWarning: Warning: in file test_videos/lanes_clip.mp4, 2764800 bytes wanted but 0 bytes read,at frame 1263/1298, at time 25.26/25.94 sec. Using the last valid frame instead.\n",
            "  warnings.warn(\"Warning: in file %s, \"%(self.filename)+\n",
            "\n"
          ]
        },
        {
          "output_type": "stream",
          "name": "stdout",
          "text": [
            "(0.001, 0) [   1.01350267 -287.03663102]\n",
            "(0.001, 0) [   1.01350267 -287.03663102]\n",
            "(0.001, 0) [   1.01350267 -287.03663102]\n",
            "(0.001, 0) [   1.01350267 -287.03663102]\n",
            "(0.001, 0) [   1.01350267 -287.03663102]\n",
            "(0.001, 0) [   1.01350267 -287.03663102]\n"
          ]
        },
        {
          "output_type": "stream",
          "name": "stderr",
          "text": [
            "\rt:  98%|█████████▊| 1265/1297 [01:13<00:01, 25.42it/s, now=None]WARNING:py.warnings:/usr/local/lib/python3.10/dist-packages/moviepy/video/io/ffmpeg_reader.py:123: UserWarning: Warning: in file test_videos/lanes_clip.mp4, 2764800 bytes wanted but 0 bytes read,at frame 1264/1298, at time 25.28/25.94 sec. Using the last valid frame instead.\n",
            "  warnings.warn(\"Warning: in file %s, \"%(self.filename)+\n",
            "\n",
            "WARNING:py.warnings:/usr/local/lib/python3.10/dist-packages/moviepy/video/io/ffmpeg_reader.py:123: UserWarning: Warning: in file test_videos/lanes_clip.mp4, 2764800 bytes wanted but 0 bytes read,at frame 1265/1298, at time 25.30/25.94 sec. Using the last valid frame instead.\n",
            "  warnings.warn(\"Warning: in file %s, \"%(self.filename)+\n",
            "\n",
            "WARNING:py.warnings:/usr/local/lib/python3.10/dist-packages/moviepy/video/io/ffmpeg_reader.py:123: UserWarning: Warning: in file test_videos/lanes_clip.mp4, 2764800 bytes wanted but 0 bytes read,at frame 1266/1298, at time 25.32/25.94 sec. Using the last valid frame instead.\n",
            "  warnings.warn(\"Warning: in file %s, \"%(self.filename)+\n",
            "\n",
            "t:  98%|█████████▊| 1268/1297 [01:13<00:01, 25.79it/s, now=None]WARNING:py.warnings:/usr/local/lib/python3.10/dist-packages/moviepy/video/io/ffmpeg_reader.py:123: UserWarning: Warning: in file test_videos/lanes_clip.mp4, 2764800 bytes wanted but 0 bytes read,at frame 1267/1298, at time 25.34/25.94 sec. Using the last valid frame instead.\n",
            "  warnings.warn(\"Warning: in file %s, \"%(self.filename)+\n",
            "\n",
            "WARNING:py.warnings:/usr/local/lib/python3.10/dist-packages/moviepy/video/io/ffmpeg_reader.py:123: UserWarning: Warning: in file test_videos/lanes_clip.mp4, 2764800 bytes wanted but 0 bytes read,at frame 1268/1298, at time 25.36/25.94 sec. Using the last valid frame instead.\n",
            "  warnings.warn(\"Warning: in file %s, \"%(self.filename)+\n",
            "\n",
            "WARNING:py.warnings:/usr/local/lib/python3.10/dist-packages/moviepy/video/io/ffmpeg_reader.py:123: UserWarning: Warning: in file test_videos/lanes_clip.mp4, 2764800 bytes wanted but 0 bytes read,at frame 1269/1298, at time 25.38/25.94 sec. Using the last valid frame instead.\n",
            "  warnings.warn(\"Warning: in file %s, \"%(self.filename)+\n",
            "\n"
          ]
        },
        {
          "output_type": "stream",
          "name": "stdout",
          "text": [
            "(0.001, 0) [   1.01350267 -287.03663102]\n",
            "(0.001, 0) [   1.01350267 -287.03663102]\n",
            "(0.001, 0) [   1.01350267 -287.03663102]\n",
            "(0.001, 0) [   1.01350267 -287.03663102]\n",
            "(0.001, 0) [   1.01350267 -287.03663102]\n",
            "(0.001, 0) [   1.01350267 -287.03663102]\n"
          ]
        },
        {
          "output_type": "stream",
          "name": "stderr",
          "text": [
            "\rt:  98%|█████████▊| 1271/1297 [01:13<00:01, 25.25it/s, now=None]WARNING:py.warnings:/usr/local/lib/python3.10/dist-packages/moviepy/video/io/ffmpeg_reader.py:123: UserWarning: Warning: in file test_videos/lanes_clip.mp4, 2764800 bytes wanted but 0 bytes read,at frame 1270/1298, at time 25.40/25.94 sec. Using the last valid frame instead.\n",
            "  warnings.warn(\"Warning: in file %s, \"%(self.filename)+\n",
            "\n",
            "WARNING:py.warnings:/usr/local/lib/python3.10/dist-packages/moviepy/video/io/ffmpeg_reader.py:123: UserWarning: Warning: in file test_videos/lanes_clip.mp4, 2764800 bytes wanted but 0 bytes read,at frame 1271/1298, at time 25.42/25.94 sec. Using the last valid frame instead.\n",
            "  warnings.warn(\"Warning: in file %s, \"%(self.filename)+\n",
            "\n",
            "WARNING:py.warnings:/usr/local/lib/python3.10/dist-packages/moviepy/video/io/ffmpeg_reader.py:123: UserWarning: Warning: in file test_videos/lanes_clip.mp4, 2764800 bytes wanted but 0 bytes read,at frame 1272/1298, at time 25.44/25.94 sec. Using the last valid frame instead.\n",
            "  warnings.warn(\"Warning: in file %s, \"%(self.filename)+\n",
            "\n",
            "t:  98%|█████████▊| 1274/1297 [01:13<00:00, 24.62it/s, now=None]WARNING:py.warnings:/usr/local/lib/python3.10/dist-packages/moviepy/video/io/ffmpeg_reader.py:123: UserWarning: Warning: in file test_videos/lanes_clip.mp4, 2764800 bytes wanted but 0 bytes read,at frame 1273/1298, at time 25.46/25.94 sec. Using the last valid frame instead.\n",
            "  warnings.warn(\"Warning: in file %s, \"%(self.filename)+\n",
            "\n",
            "WARNING:py.warnings:/usr/local/lib/python3.10/dist-packages/moviepy/video/io/ffmpeg_reader.py:123: UserWarning: Warning: in file test_videos/lanes_clip.mp4, 2764800 bytes wanted but 0 bytes read,at frame 1274/1298, at time 25.48/25.94 sec. Using the last valid frame instead.\n",
            "  warnings.warn(\"Warning: in file %s, \"%(self.filename)+\n",
            "\n",
            "WARNING:py.warnings:/usr/local/lib/python3.10/dist-packages/moviepy/video/io/ffmpeg_reader.py:123: UserWarning: Warning: in file test_videos/lanes_clip.mp4, 2764800 bytes wanted but 0 bytes read,at frame 1275/1298, at time 25.50/25.94 sec. Using the last valid frame instead.\n",
            "  warnings.warn(\"Warning: in file %s, \"%(self.filename)+\n",
            "\n"
          ]
        },
        {
          "output_type": "stream",
          "name": "stdout",
          "text": [
            "(0.001, 0) [   1.01350267 -287.03663102]\n",
            "(0.001, 0) [   1.01350267 -287.03663102]\n",
            "(0.001, 0) [   1.01350267 -287.03663102]\n",
            "(0.001, 0) [   1.01350267 -287.03663102]\n",
            "(0.001, 0) [   1.01350267 -287.03663102]\n",
            "(0.001, 0) [   1.01350267 -287.03663102]\n"
          ]
        },
        {
          "output_type": "stream",
          "name": "stderr",
          "text": [
            "\rt:  98%|█████████▊| 1277/1297 [01:14<00:00, 24.95it/s, now=None]WARNING:py.warnings:/usr/local/lib/python3.10/dist-packages/moviepy/video/io/ffmpeg_reader.py:123: UserWarning: Warning: in file test_videos/lanes_clip.mp4, 2764800 bytes wanted but 0 bytes read,at frame 1276/1298, at time 25.52/25.94 sec. Using the last valid frame instead.\n",
            "  warnings.warn(\"Warning: in file %s, \"%(self.filename)+\n",
            "\n",
            "WARNING:py.warnings:/usr/local/lib/python3.10/dist-packages/moviepy/video/io/ffmpeg_reader.py:123: UserWarning: Warning: in file test_videos/lanes_clip.mp4, 2764800 bytes wanted but 0 bytes read,at frame 1277/1298, at time 25.54/25.94 sec. Using the last valid frame instead.\n",
            "  warnings.warn(\"Warning: in file %s, \"%(self.filename)+\n",
            "\n",
            "WARNING:py.warnings:/usr/local/lib/python3.10/dist-packages/moviepy/video/io/ffmpeg_reader.py:123: UserWarning: Warning: in file test_videos/lanes_clip.mp4, 2764800 bytes wanted but 0 bytes read,at frame 1278/1298, at time 25.56/25.94 sec. Using the last valid frame instead.\n",
            "  warnings.warn(\"Warning: in file %s, \"%(self.filename)+\n",
            "\n",
            "WARNING:py.warnings:/usr/local/lib/python3.10/dist-packages/moviepy/video/io/ffmpeg_reader.py:123: UserWarning: Warning: in file test_videos/lanes_clip.mp4, 2764800 bytes wanted but 0 bytes read,at frame 1279/1298, at time 25.58/25.94 sec. Using the last valid frame instead.\n",
            "  warnings.warn(\"Warning: in file %s, \"%(self.filename)+\n",
            "\n",
            "t:  99%|█████████▉| 1281/1297 [01:14<00:00, 25.92it/s, now=None]WARNING:py.warnings:/usr/local/lib/python3.10/dist-packages/moviepy/video/io/ffmpeg_reader.py:123: UserWarning: Warning: in file test_videos/lanes_clip.mp4, 2764800 bytes wanted but 0 bytes read,at frame 1280/1298, at time 25.60/25.94 sec. Using the last valid frame instead.\n",
            "  warnings.warn(\"Warning: in file %s, \"%(self.filename)+\n",
            "\n",
            "WARNING:py.warnings:/usr/local/lib/python3.10/dist-packages/moviepy/video/io/ffmpeg_reader.py:123: UserWarning: Warning: in file test_videos/lanes_clip.mp4, 2764800 bytes wanted but 0 bytes read,at frame 1281/1298, at time 25.62/25.94 sec. Using the last valid frame instead.\n",
            "  warnings.warn(\"Warning: in file %s, \"%(self.filename)+\n",
            "\n",
            "WARNING:py.warnings:/usr/local/lib/python3.10/dist-packages/moviepy/video/io/ffmpeg_reader.py:123: UserWarning: Warning: in file test_videos/lanes_clip.mp4, 2764800 bytes wanted but 0 bytes read,at frame 1282/1298, at time 25.64/25.94 sec. Using the last valid frame instead.\n",
            "  warnings.warn(\"Warning: in file %s, \"%(self.filename)+\n",
            "\n"
          ]
        },
        {
          "output_type": "stream",
          "name": "stdout",
          "text": [
            "(0.001, 0) [   1.01350267 -287.03663102]\n",
            "(0.001, 0) [   1.01350267 -287.03663102]\n",
            "(0.001, 0) [   1.01350267 -287.03663102]\n",
            "(0.001, 0) [   1.01350267 -287.03663102]\n",
            "(0.001, 0) [   1.01350267 -287.03663102]\n",
            "(0.001, 0) [   1.01350267 -287.03663102]\n",
            "(0.001, 0) [   1.01350267 -287.03663102]\n"
          ]
        },
        {
          "output_type": "stream",
          "name": "stderr",
          "text": [
            "WARNING:py.warnings:/usr/local/lib/python3.10/dist-packages/moviepy/video/io/ffmpeg_reader.py:123: UserWarning: Warning: in file test_videos/lanes_clip.mp4, 2764800 bytes wanted but 0 bytes read,at frame 1283/1298, at time 25.66/25.94 sec. Using the last valid frame instead.\n",
            "  warnings.warn(\"Warning: in file %s, \"%(self.filename)+\n",
            "\n",
            "t:  99%|█████████▉| 1285/1297 [01:14<00:00, 26.24it/s, now=None]WARNING:py.warnings:/usr/local/lib/python3.10/dist-packages/moviepy/video/io/ffmpeg_reader.py:123: UserWarning: Warning: in file test_videos/lanes_clip.mp4, 2764800 bytes wanted but 0 bytes read,at frame 1284/1298, at time 25.68/25.94 sec. Using the last valid frame instead.\n",
            "  warnings.warn(\"Warning: in file %s, \"%(self.filename)+\n",
            "\n",
            "WARNING:py.warnings:/usr/local/lib/python3.10/dist-packages/moviepy/video/io/ffmpeg_reader.py:123: UserWarning: Warning: in file test_videos/lanes_clip.mp4, 2764800 bytes wanted but 0 bytes read,at frame 1285/1298, at time 25.70/25.94 sec. Using the last valid frame instead.\n",
            "  warnings.warn(\"Warning: in file %s, \"%(self.filename)+\n",
            "\n",
            "WARNING:py.warnings:/usr/local/lib/python3.10/dist-packages/moviepy/video/io/ffmpeg_reader.py:123: UserWarning: Warning: in file test_videos/lanes_clip.mp4, 2764800 bytes wanted but 0 bytes read,at frame 1286/1298, at time 25.72/25.94 sec. Using the last valid frame instead.\n",
            "  warnings.warn(\"Warning: in file %s, \"%(self.filename)+\n",
            "\n",
            "t:  99%|█████████▉| 1288/1297 [01:14<00:00, 25.79it/s, now=None]WARNING:py.warnings:/usr/local/lib/python3.10/dist-packages/moviepy/video/io/ffmpeg_reader.py:123: UserWarning: Warning: in file test_videos/lanes_clip.mp4, 2764800 bytes wanted but 0 bytes read,at frame 1287/1298, at time 25.74/25.94 sec. Using the last valid frame instead.\n",
            "  warnings.warn(\"Warning: in file %s, \"%(self.filename)+\n",
            "\n",
            "WARNING:py.warnings:/usr/local/lib/python3.10/dist-packages/moviepy/video/io/ffmpeg_reader.py:123: UserWarning: Warning: in file test_videos/lanes_clip.mp4, 2764800 bytes wanted but 0 bytes read,at frame 1288/1298, at time 25.76/25.94 sec. Using the last valid frame instead.\n",
            "  warnings.warn(\"Warning: in file %s, \"%(self.filename)+\n",
            "\n"
          ]
        },
        {
          "output_type": "stream",
          "name": "stdout",
          "text": [
            "(0.001, 0) [   1.01350267 -287.03663102]\n",
            "(0.001, 0) [   1.01350267 -287.03663102]\n",
            "(0.001, 0) [   1.01350267 -287.03663102]\n",
            "(0.001, 0) [   1.01350267 -287.03663102]\n",
            "(0.001, 0) [   1.01350267 -287.03663102]\n"
          ]
        },
        {
          "output_type": "stream",
          "name": "stderr",
          "text": [
            "WARNING:py.warnings:/usr/local/lib/python3.10/dist-packages/moviepy/video/io/ffmpeg_reader.py:123: UserWarning: Warning: in file test_videos/lanes_clip.mp4, 2764800 bytes wanted but 0 bytes read,at frame 1289/1298, at time 25.78/25.94 sec. Using the last valid frame instead.\n",
            "  warnings.warn(\"Warning: in file %s, \"%(self.filename)+\n",
            "\n",
            "t: 100%|█████████▉| 1291/1297 [01:14<00:00, 26.26it/s, now=None]WARNING:py.warnings:/usr/local/lib/python3.10/dist-packages/moviepy/video/io/ffmpeg_reader.py:123: UserWarning: Warning: in file test_videos/lanes_clip.mp4, 2764800 bytes wanted but 0 bytes read,at frame 1290/1298, at time 25.80/25.94 sec. Using the last valid frame instead.\n",
            "  warnings.warn(\"Warning: in file %s, \"%(self.filename)+\n",
            "\n",
            "WARNING:py.warnings:/usr/local/lib/python3.10/dist-packages/moviepy/video/io/ffmpeg_reader.py:123: UserWarning: Warning: in file test_videos/lanes_clip.mp4, 2764800 bytes wanted but 0 bytes read,at frame 1291/1298, at time 25.82/25.94 sec. Using the last valid frame instead.\n",
            "  warnings.warn(\"Warning: in file %s, \"%(self.filename)+\n",
            "\n",
            "WARNING:py.warnings:/usr/local/lib/python3.10/dist-packages/moviepy/video/io/ffmpeg_reader.py:123: UserWarning: Warning: in file test_videos/lanes_clip.mp4, 2764800 bytes wanted but 0 bytes read,at frame 1292/1298, at time 25.84/25.94 sec. Using the last valid frame instead.\n",
            "  warnings.warn(\"Warning: in file %s, \"%(self.filename)+\n",
            "\n",
            "t: 100%|█████████▉| 1294/1297 [01:14<00:00, 23.99it/s, now=None]WARNING:py.warnings:/usr/local/lib/python3.10/dist-packages/moviepy/video/io/ffmpeg_reader.py:123: UserWarning: Warning: in file test_videos/lanes_clip.mp4, 2764800 bytes wanted but 0 bytes read,at frame 1293/1298, at time 25.86/25.94 sec. Using the last valid frame instead.\n",
            "  warnings.warn(\"Warning: in file %s, \"%(self.filename)+\n",
            "\n"
          ]
        },
        {
          "output_type": "stream",
          "name": "stdout",
          "text": [
            "(0.001, 0) [   1.01350267 -287.03663102]\n",
            "(0.001, 0) [   1.01350267 -287.03663102]\n",
            "(0.001, 0) [   1.01350267 -287.03663102]\n",
            "(0.001, 0) [   1.01350267 -287.03663102]\n",
            "(0.001, 0) [   1.01350267 -287.03663102]\n"
          ]
        },
        {
          "output_type": "stream",
          "name": "stderr",
          "text": [
            "WARNING:py.warnings:/usr/local/lib/python3.10/dist-packages/moviepy/video/io/ffmpeg_reader.py:123: UserWarning: Warning: in file test_videos/lanes_clip.mp4, 2764800 bytes wanted but 0 bytes read,at frame 1294/1298, at time 25.88/25.94 sec. Using the last valid frame instead.\n",
            "  warnings.warn(\"Warning: in file %s, \"%(self.filename)+\n",
            "\n",
            "WARNING:py.warnings:/usr/local/lib/python3.10/dist-packages/moviepy/video/io/ffmpeg_reader.py:123: UserWarning: Warning: in file test_videos/lanes_clip.mp4, 2764800 bytes wanted but 0 bytes read,at frame 1295/1298, at time 25.90/25.94 sec. Using the last valid frame instead.\n",
            "  warnings.warn(\"Warning: in file %s, \"%(self.filename)+\n",
            "\n",
            "t: 100%|██████████| 1297/1297 [01:14<00:00, 23.87it/s, now=None]WARNING:py.warnings:/usr/local/lib/python3.10/dist-packages/moviepy/video/io/ffmpeg_reader.py:123: UserWarning: Warning: in file test_videos/lanes_clip.mp4, 2764800 bytes wanted but 0 bytes read,at frame 1296/1298, at time 25.92/25.94 sec. Using the last valid frame instead.\n",
            "  warnings.warn(\"Warning: in file %s, \"%(self.filename)+\n",
            "\n"
          ]
        },
        {
          "output_type": "stream",
          "name": "stdout",
          "text": [
            "(0.001, 0) [   1.01350267 -287.03663102]\n",
            "(0.001, 0) [   1.01350267 -287.03663102]\n",
            "(0.001, 0) [   1.01350267 -287.03663102]\n",
            "(0.001, 0) [   1.01350267 -287.03663102]\n"
          ]
        },
        {
          "output_type": "stream",
          "name": "stderr",
          "text": [
            "\n",
            "\u001b[A\n",
            "t:  16%|█▋        | 79/485 [05:46<00:34, 11.75it/s, now=None]\u001b[A\n",
            "\u001b[A\n",
            "t:  16%|█▋        | 79/485 [05:46<00:34, 11.75it/s, now=None]\u001b[A"
          ]
        },
        {
          "output_type": "stream",
          "name": "stdout",
          "text": [
            "Moviepy - Done !\n",
            "Moviepy - video ready ./lanes_clip.mp4\n",
            "CPU times: user 24.6 s, sys: 4.66 s, total: 29.2 s\n",
            "Wall time: 1min 15s\n"
          ]
        }
      ]
    },
    {
      "cell_type": "code",
      "source": [],
      "metadata": {
        "id": "gXa0gXSIryEp"
      },
      "execution_count": 34,
      "outputs": []
    },
    {
      "cell_type": "code",
      "source": [],
      "metadata": {
        "id": "lNlZmuPAryGd"
      },
      "execution_count": 34,
      "outputs": []
    }
  ]
}